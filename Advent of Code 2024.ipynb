{
 "cells": [
  {
   "cell_type": "markdown",
   "id": "6b7a2f2c",
   "metadata": {},
   "source": [
    "# Advent of Code 2024\n",
    "\n",
    "Let's try out ocaml this year!  I read a book about Standard ML like 20 years ago, but remember very little.  So there will be a learning curve, but it shouldn't be as bad as APL.\n",
    "\n",
    "Is this thing on?"
   ]
  },
  {
   "cell_type": "code",
   "execution_count": 1,
   "id": "c2f2e1ed",
   "metadata": {},
   "outputs": [
    {
     "data": {
      "text/plain": [
       "- : int = 4\n"
      ]
     },
     "execution_count": 1,
     "metadata": {},
     "output_type": "execute_result"
    }
   ],
   "source": [
    "2+2;;"
   ]
  },
  {
   "cell_type": "markdown",
   "id": "6a8a00b6",
   "metadata": {},
   "source": [
    "## Reusable utilities\n",
    "\n",
    "This section is for stuff I get tired of copying and pasting."
   ]
  },
  {
   "cell_type": "markdown",
   "id": "0217a667",
   "metadata": {},
   "source": [
    "### Ok, what is \"core\"?\n",
    "\n",
    "On Day 3, while looking for basic I/O utilities again (is there really no \"read entire file\" library?), I learned there's an entire alternative standard library written by Jane Street.  This feels weird, but whatever."
   ]
  },
  {
   "cell_type": "code",
   "execution_count": 2,
   "id": "421bb163",
   "metadata": {},
   "outputs": [
    {
     "name": "stdout",
     "output_type": "stream",
     "text": [
      "- : unit = ()\n",
      "Findlib has been successfully loaded. Additional directives:\n",
      "  #require \"package\";;      to load a package\n",
      "  #list;;                   to list the available packages\n",
      "  #camlp4o;;                to load camlp4 (standard syntax)\n",
      "  #camlp4r;;                to load camlp4 (revised syntax)\n",
      "  #predicates \"p,q,...\";;   to set these predicates\n",
      "  Topfind.reset();;         to force that packages will be reloaded\n",
      "  #thread;;                 to enable threads\n",
      "\n",
      "- : unit = ()\n"
     ]
    }
   ],
   "source": [
    "#use \"topfind\" ;;"
   ]
  },
  {
   "cell_type": "code",
   "execution_count": 3,
   "id": "59fb60c1",
   "metadata": {},
   "outputs": [
    {
     "name": "stderr",
     "output_type": "stream",
     "text": [
      "/Users/jered/.opam/4.12.0/lib/base/base_internalhash_types: added to search path\n",
      "/Users/jered/.opam/4.12.0/lib/base/base_internalhash_types/base_internalhash_types.cma: loaded\n",
      "/Users/jered/.opam/4.12.0/lib/base/caml: added to search path\n",
      "/Users/jered/.opam/4.12.0/lib/base/caml/caml.cma: loaded\n",
      "/Users/jered/.opam/4.12.0/lib/base/shadow_stdlib: added to search path\n",
      "/Users/jered/.opam/4.12.0/lib/base/shadow_stdlib/shadow_stdlib.cma: loaded\n",
      "/Users/jered/.opam/4.12.0/lib/sexplib0: added to search path\n",
      "/Users/jered/.opam/4.12.0/lib/sexplib0/sexplib0.cma: loaded\n",
      "/Users/jered/.opam/4.12.0/lib/base: added to search path\n",
      "/Users/jered/.opam/4.12.0/lib/base/base.cma: loaded\n",
      "/Users/jered/.opam/4.12.0/lib/fieldslib: added to search path\n",
      "/Users/jered/.opam/4.12.0/lib/fieldslib/fieldslib.cma: loaded\n",
      "/Users/jered/.opam/4.12.0/lib/ppx_compare/runtime-lib: added to search path\n",
      "/Users/jered/.opam/4.12.0/lib/ppx_compare/runtime-lib/ppx_compare_lib.cma: loaded\n",
      "/Users/jered/.opam/4.12.0/lib/ppx_enumerate/runtime-lib: added to search path\n",
      "/Users/jered/.opam/4.12.0/lib/ppx_enumerate/runtime-lib/ppx_enumerate_lib.cma: loaded\n",
      "/Users/jered/.opam/4.12.0/lib/ppx_sexp_conv/runtime-lib: added to search path\n",
      "/Users/jered/.opam/4.12.0/lib/ppx_sexp_conv/runtime-lib/ppx_sexp_conv_lib.cma: loaded\n",
      "/Users/jered/.opam/4.12.0/lib/ppx_hash/runtime-lib: added to search path\n",
      "/Users/jered/.opam/4.12.0/lib/ppx_hash/runtime-lib/ppx_hash_lib.cma: loaded\n",
      "/Users/jered/.opam/4.12.0/lib/ppx_here/runtime-lib: added to search path\n",
      "/Users/jered/.opam/4.12.0/lib/ppx_here/runtime-lib/ppx_here_lib.cma: loaded\n",
      "/Users/jered/.opam/4.12.0/lib/ppx_assert/runtime-lib: added to search path\n",
      "/Users/jered/.opam/4.12.0/lib/ppx_assert/runtime-lib/ppx_assert_lib.cma: loaded\n",
      "/Users/jered/.opam/4.12.0/lib/ppx_bench/runtime-lib: added to search path\n",
      "/Users/jered/.opam/4.12.0/lib/ppx_bench/runtime-lib/ppx_bench_lib.cma: loaded\n",
      "/Users/jered/.opam/4.12.0/lib/ppx_inline_test/config: added to search path\n",
      "/Users/jered/.opam/4.12.0/lib/ppx_inline_test/config/inline_test_config.cma: loaded\n",
      "/Users/jered/.opam/4.12.0/lib/jane-street-headers: added to search path\n",
      "/Users/jered/.opam/4.12.0/lib/jane-street-headers/jane_street_headers.cma: loaded\n",
      "/Users/jered/.opam/4.12.0/lib/time_now: added to search path\n",
      "/Users/jered/.opam/4.12.0/lib/time_now/time_now.cma: loaded\n",
      "/Users/jered/.opam/4.12.0/lib/ppx_inline_test/runtime-lib: added to search path\n",
      "/Users/jered/.opam/4.12.0/lib/ppx_inline_test/runtime-lib/ppx_inline_test_lib.cma: loaded\n",
      "/Users/jered/.opam/4.12.0/lib/splittable_random: added to search path\n",
      "/Users/jered/.opam/4.12.0/lib/splittable_random/splittable_random.cma: loaded\n",
      "/Users/jered/.opam/4.12.0/lib/base_quickcheck: added to search path\n",
      "/Users/jered/.opam/4.12.0/lib/base_quickcheck/base_quickcheck.cma: loaded\n",
      "/Users/jered/.opam/4.12.0/lib/base/md5: added to search path\n",
      "/Users/jered/.opam/4.12.0/lib/base/md5/md5_lib.cma: loaded\n",
      "/Users/jered/.opam/4.12.0/lib/ocaml/unix.cma: loaded\n",
      "/Users/jered/.opam/4.12.0/lib/ocaml/bigarray.cma: loaded\n",
      "/Users/jered/.opam/4.12.0/lib/variantslib: added to search path\n",
      "/Users/jered/.opam/4.12.0/lib/variantslib/variantslib.cma: loaded\n",
      "/Users/jered/.opam/4.12.0/lib/bin_prot/shape: added to search path\n",
      "/Users/jered/.opam/4.12.0/lib/bin_prot/shape/bin_shape_lib.cma: loaded\n",
      "/Users/jered/.opam/4.12.0/lib/bin_prot: added to search path\n",
      "/Users/jered/.opam/4.12.0/lib/bin_prot/bin_prot.cma: loaded\n",
      "/Users/jered/.opam/4.12.0/lib/ppx_expect/common: added to search path\n",
      "/Users/jered/.opam/4.12.0/lib/ppx_expect/common/expect_test_common.cma: loaded\n",
      "/Users/jered/.opam/4.12.0/lib/ppx_expect/config_types: added to search path\n",
      "/Users/jered/.opam/4.12.0/lib/ppx_expect/config_types/expect_test_config_types.cma: loaded\n",
      "/Users/jered/.opam/4.12.0/lib/ppx_expect/collector: added to search path\n",
      "/Users/jered/.opam/4.12.0/lib/ppx_expect/collector/expect_test_collector.cma: loaded\n",
      "/Users/jered/.opam/4.12.0/lib/ppx_expect/config: added to search path\n",
      "/Users/jered/.opam/4.12.0/lib/ppx_expect/config/expect_test_config.cma: loaded\n",
      "/Users/jered/.opam/4.12.0/lib/stdio: added to search path\n",
      "/Users/jered/.opam/4.12.0/lib/stdio/stdio.cma: loaded\n",
      "/Users/jered/.opam/4.12.0/lib/ppx_module_timer/runtime: added to search path\n",
      "/Users/jered/.opam/4.12.0/lib/ppx_module_timer/runtime/ppx_module_timer_runtime.cma: loaded\n",
      "/Users/jered/.opam/4.12.0/lib/typerep: added to search path\n",
      "/Users/jered/.opam/4.12.0/lib/typerep/typerep_lib.cma: loaded\n",
      "/Users/jered/.opam/4.12.0/lib/base_bigstring: added to search path\n",
      "/Users/jered/.opam/4.12.0/lib/base_bigstring/base_bigstring.cma: loaded\n",
      "/Users/jered/.opam/4.12.0/lib/core_kernel/base_for_tests: added to search path\n",
      "/Users/jered/.opam/4.12.0/lib/core_kernel/base_for_tests/base_for_tests.cma: loaded\n",
      "/Users/jered/.opam/4.12.0/lib/parsexp: added to search path\n",
      "/Users/jered/.opam/4.12.0/lib/parsexp/parsexp.cma: loaded\n",
      "/Users/jered/.opam/4.12.0/lib/sexplib: added to search path\n",
      "/Users/jered/.opam/4.12.0/lib/sexplib/sexplib.cma: loaded\n",
      "/Users/jered/.opam/4.12.0/lib/core_kernel: added to search path\n",
      "/Users/jered/.opam/4.12.0/lib/core_kernel/core_kernel.cma: loaded\n",
      "/Users/jered/.opam/4.12.0/lib/core/error_checking_mutex: added to search path\n",
      "/Users/jered/.opam/4.12.0/lib/core/error_checking_mutex/error_checking_mutex.cma: loaded\n",
      "/Users/jered/.opam/4.12.0/lib/core_kernel/caml_unix: added to search path\n",
      "/Users/jered/.opam/4.12.0/lib/core_kernel/caml_unix/caml_unix.cma: loaded\n",
      "/Users/jered/.opam/4.12.0/lib/core_kernel/flags: added to search path\n",
      "/Users/jered/.opam/4.12.0/lib/core_kernel/flags/flags.cma: loaded\n",
      "/Users/jered/.opam/4.12.0/lib/core_kernel/version_util: added to search path\n",
      "/Users/jered/.opam/4.12.0/lib/core_kernel/version_util/version_util.cma: loaded\n",
      "/Users/jered/.opam/4.12.0/lib/sexplib/unix: added to search path\n",
      "/Users/jered/.opam/4.12.0/lib/sexplib/unix/sexplib_unix.cma: loaded\n",
      "/Users/jered/.opam/4.12.0/lib/spawn: added to search path\n",
      "/Users/jered/.opam/4.12.0/lib/spawn/spawn.cma: loaded\n",
      "/Users/jered/.opam/4.12.0/lib/timezone: added to search path\n",
      "/Users/jered/.opam/4.12.0/lib/timezone/timezone.cma: loaded\n",
      "/Users/jered/.opam/4.12.0/lib/core: added to search path\n",
      "/Users/jered/.opam/4.12.0/lib/core/core.cma: loaded\n"
     ]
    }
   ],
   "source": [
    "#require \"core\" ;;"
   ]
  },
  {
   "cell_type": "code",
   "execution_count": 4,
   "id": "01f6c106",
   "metadata": {},
   "outputs": [],
   "source": [
    "open Core"
   ]
  },
  {
   "cell_type": "markdown",
   "id": "3eec1c00",
   "metadata": {},
   "source": [
    "### Oh God, what have I done\n",
    "\n",
    "Apparently this is an overlay library, and just blows away much of the core language.  Now my `List.map` function is backwards!  That's... incredibly antisocial, actually.  I guess what did I expect from a quantitative finance company."
   ]
  },
  {
   "cell_type": "code",
   "execution_count": 5,
   "id": "5cd43800",
   "metadata": {},
   "outputs": [
    {
     "name": "stderr",
     "output_type": "stream",
     "text": [
      "File \"[5]\", line 1, characters 9-16:\n",
      "1 | List.map ((+) 0) [1;2;3]\n",
      "             ^^^^^^^\n",
      "Warning 5 [ignored-partial-application]: this function application is partial,\n",
      "maybe some arguments are missing.\n"
     ]
    },
    {
     "ename": "error",
     "evalue": "compile_error",
     "output_type": "error",
     "traceback": [
      "File \"[5]\", line 1, characters 9-16:\n1 | List.map ((+) 0) [1;2;3]\n             ^^^^^^^\nError: This expression has type int -> int\n       but an expression was expected of type 'a list\n"
     ]
    }
   ],
   "source": [
    "List.map ((+) 0) [1;2;3]"
   ]
  },
  {
   "cell_type": "code",
   "execution_count": 6,
   "id": "f8959d19",
   "metadata": {},
   "outputs": [
    {
     "data": {
      "text/plain": [
       "- : int list = [1; 2; 3]\n"
      ]
     },
     "execution_count": 6,
     "metadata": {},
     "output_type": "execute_result"
    }
   ],
   "source": [
    "List.map [1;2;3] ((+) 0)"
   ]
  },
  {
   "cell_type": "markdown",
   "id": "6e5f7bde",
   "metadata": {},
   "source": [
    "Hang on, let me just rewrite everything now."
   ]
  },
  {
   "cell_type": "code",
   "execution_count": 7,
   "id": "b38168c0",
   "metadata": {},
   "outputs": [],
   "source": [
    "open Core.List"
   ]
  },
  {
   "cell_type": "markdown",
   "id": "441c9594",
   "metadata": {},
   "source": [
    "Apparently I need this too.  Have I mentioned it's impossible to Google search for punctuation?  Ugh."
   ]
  },
  {
   "cell_type": "markdown",
   "id": "8f66098a",
   "metadata": {},
   "source": [
    "### Reading stuff from files\n",
    "\n",
    "We seem to have to read stuff from files a lot."
   ]
  },
  {
   "cell_type": "code",
   "execution_count": 8,
   "id": "9ae86cb9",
   "metadata": {},
   "outputs": [
    {
     "data": {
      "text/plain": [
       "- : Base.string Base.list =\n",
       "[\"3   4\"; \"4   3\"; \"2   5\"; \"1   3\"; \"3   9\"; \"3   3\"]\n"
      ]
     },
     "execution_count": 8,
     "metadata": {},
     "output_type": "execute_result"
    }
   ],
   "source": [
    "(* Core has a way to do this *)\n",
    "In_channel.read_lines \"day1_example.txt\""
   ]
  },
  {
   "cell_type": "markdown",
   "id": "cd4aeffe",
   "metadata": {},
   "source": [
    "Now there are different combinators, too.  How do these work?"
   ]
  },
  {
   "cell_type": "code",
   "execution_count": 9,
   "id": "c3ca9d12",
   "metadata": {},
   "outputs": [
    {
     "data": {
      "text/plain": [
       "- : int list = [2; 3; 4]\n"
      ]
     },
     "execution_count": 9,
     "metadata": {},
     "output_type": "execute_result"
    }
   ],
   "source": [
    "[1;2;3] >>| ((+) 1)"
   ]
  },
  {
   "cell_type": "code",
   "execution_count": 10,
   "id": "ef978b00",
   "metadata": {},
   "outputs": [
    {
     "data": {
      "text/plain": [
       "val read_numbers_from_file : Base.string -> int list list = <fun>\n"
      ]
     },
     "execution_count": 10,
     "metadata": {},
     "output_type": "execute_result"
    }
   ],
   "source": [
    "(*let read_numbers_from_file file_name =\n",
    "  let file = open_in file_name in\n",
    "  let output = ref [] in\n",
    "  try\n",
    "    while true do\n",
    "      let line = input_line file\n",
    "               |> Str.split (Str.regexp \" +\")\n",
    "               |> List.map int_of_string in\n",
    "      output := line :: !output\n",
    "    done;\n",
    "    assert false\n",
    "  with\n",
    "    End_of_file -> List.rev !output *)\n",
    "\n",
    "let read_numbers_from_file file_name =\n",
    "  let parse line =\n",
    "    line |> Str.split (Str.regexp \" +\") >>| int_of_string in\n",
    "  In_channel.read_lines file_name >>| parse"
   ]
  },
  {
   "cell_type": "markdown",
   "id": "d60ae717",
   "metadata": {},
   "source": [
    "### This keeps coming up"
   ]
  },
  {
   "cell_type": "code",
   "execution_count": 11,
   "id": "91f9e4a2",
   "metadata": {},
   "outputs": [
    {
     "data": {
      "text/plain": [
       "val pair_of_list : 'a list -> 'a * 'a = <fun>\n"
      ]
     },
     "execution_count": 11,
     "metadata": {},
     "output_type": "execute_result"
    }
   ],
   "source": [
    "let pair_of_list xs =\n",
    "  match xs with\n",
    "  | [x; y] -> (x, y)\n",
    "  | _ -> failwith \"expecting pair\""
   ]
  },
  {
   "cell_type": "markdown",
   "id": "af978c06",
   "metadata": {},
   "source": [
    "## Day 1\n",
    "\n",
    "[Link](https://adventofcode.com/2024/day/1)\n",
    "\n",
    "### Part 1\n",
    "\n",
    "They want me to read two columns from a file, sort them, and sum the differences."
   ]
  },
  {
   "cell_type": "code",
   "execution_count": 12,
   "id": "54e0c15a",
   "metadata": {},
   "outputs": [
    {
     "data": {
      "text/plain": [
       "val read_pairs_from_file : Base.string -> (int * int) list = <fun>\n"
      ]
     },
     "execution_count": 12,
     "metadata": {},
     "output_type": "execute_result"
    }
   ],
   "source": [
    "let read_pairs_from_file file_name =\n",
    "  read_numbers_from_file file_name\n",
    "  >>| pair_of_list"
   ]
  },
  {
   "cell_type": "code",
   "execution_count": 13,
   "id": "0a57cf9e",
   "metadata": {},
   "outputs": [
    {
     "data": {
      "text/plain": [
       "- : (int * int) list = [(3, 4); (4, 3); (2, 5); (1, 3); (3, 9); (3, 3)]\n"
      ]
     },
     "execution_count": 13,
     "metadata": {},
     "output_type": "execute_result"
    }
   ],
   "source": [
    "read_pairs_from_file \"day1_example.txt\""
   ]
  },
  {
   "cell_type": "markdown",
   "id": "4260bb09",
   "metadata": {},
   "source": [
    "Ok, that was a little ugly, but it could be worse.  Let's use some of this great type matching stuff."
   ]
  },
  {
   "cell_type": "code",
   "execution_count": 14,
   "id": "572e4fa5",
   "metadata": {},
   "outputs": [
    {
     "data": {
      "text/plain": [
       "val unzip : ('a * 'b) list -> 'a list * 'b list = <fun>\n"
      ]
     },
     "execution_count": 14,
     "metadata": {},
     "output_type": "execute_result"
    }
   ],
   "source": [
    "let rec unzip pairs =\n",
    "  match pairs with\n",
    "  | [] -> ([], [])\n",
    "  | (x, y) :: rest ->\n",
    "    let (xs, ys) = unzip rest in\n",
    "      (x::xs, y::ys)"
   ]
  },
  {
   "cell_type": "code",
   "execution_count": 15,
   "id": "a0d6c605",
   "metadata": {},
   "outputs": [
    {
     "data": {
      "text/plain": [
       "- : int list * int list = ([1; 3; 5], [2; 4; 6])\n"
      ]
     },
     "execution_count": 15,
     "metadata": {},
     "output_type": "execute_result"
    }
   ],
   "source": [
    "unzip([(1,2); (3,4); (5,6)])"
   ]
  },
  {
   "cell_type": "markdown",
   "id": "a733de63",
   "metadata": {},
   "source": [
    "That was fun.  ~But there's a library for this.~  Update: Ok, core seems to actually call this `zip` and `unzip`..."
   ]
  },
  {
   "cell_type": "code",
   "execution_count": 16,
   "id": "7f3a5e08",
   "metadata": {},
   "outputs": [
    {
     "data": {
      "text/plain": [
       "- : int list * int list = ([1; 3; 5], [2; 4; 6])\n"
      ]
     },
     "execution_count": 16,
     "metadata": {},
     "output_type": "execute_result"
    }
   ],
   "source": [
    "List.unzip [(1,2); (3,4); (5,6)]"
   ]
  },
  {
   "cell_type": "code",
   "execution_count": 17,
   "id": "09a61b2e",
   "metadata": {},
   "outputs": [
    {
     "data": {
      "text/plain": [
       "- : (int * int) list Core.List.Or_unequal_lengths.t =\n",
       "Core.List.Or_unequal_lengths.Ok [(1, 2); (3, 4); (5, 6)]\n"
      ]
     },
     "execution_count": 17,
     "metadata": {},
     "output_type": "execute_result"
    }
   ],
   "source": [
    "zip [1;3;5] [2;4;6]"
   ]
  },
  {
   "cell_type": "markdown",
   "id": "5ccc5059",
   "metadata": {},
   "source": [
    "Oh no, I overwrote `compare` when I did `open Core.List` to try to get the list combinators.  What a mess."
   ]
  },
  {
   "cell_type": "code",
   "execution_count": 18,
   "id": "a204a47e",
   "metadata": {},
   "outputs": [
    {
     "data": {
      "text/plain": [
       "- : ('a -> 'a -> int) -> 'a list -> 'a list -> int = <fun>\n"
      ]
     },
     "execution_count": 18,
     "metadata": {},
     "output_type": "execute_result"
    }
   ],
   "source": [
    "compare"
   ]
  },
  {
   "cell_type": "code",
   "execution_count": 19,
   "id": "13d5722d",
   "metadata": {},
   "outputs": [
    {
     "data": {
      "text/plain": [
       "- : 'a -> 'a -> int = <fun>\n"
      ]
     },
     "execution_count": 19,
     "metadata": {},
     "output_type": "execute_result"
    }
   ],
   "source": [
    "Stdlib.compare"
   ]
  },
  {
   "cell_type": "markdown",
   "id": "5d1b3087",
   "metadata": {},
   "source": [
    "Hmm, post `zip`ping, my list type is infected with `Core.List.Or_unequal_lengths.t` and I can't do unsanctioned list stuff with it.  I guess I have to use `zip_exn` to fail hard."
   ]
  },
  {
   "cell_type": "code",
   "execution_count": 20,
   "id": "ee62666b",
   "metadata": {},
   "outputs": [
    {
     "data": {
      "text/plain": [
       "val day1_part1 : (int * int) list -> int = <fun>\n"
      ]
     },
     "execution_count": 20,
     "metadata": {},
     "output_type": "execute_result"
    }
   ],
   "source": [
    "let day1_part1 pairs =\n",
    "  let (xs, ys) = unzip pairs in\n",
    "  (zip_exn (sort xs Stdlib.compare) (sort ys Stdlib.compare)\n",
    "    >>| fun (x, y) -> abs(x - y))\n",
    "  |> List.fold ~f:(+) ~init:0"
   ]
  },
  {
   "cell_type": "markdown",
   "id": "95dd58da",
   "metadata": {},
   "source": [
    "~That is actually kind of pretty, although the syntax is meh.~  Let's be real, this is an ugly way to write a simple program."
   ]
  },
  {
   "cell_type": "code",
   "execution_count": 21,
   "id": "6d0b433d",
   "metadata": {},
   "outputs": [
    {
     "data": {
      "text/plain": [
       "- : int = 11\n"
      ]
     },
     "execution_count": 21,
     "metadata": {},
     "output_type": "execute_result"
    }
   ],
   "source": [
    "read_pairs_from_file \"day1_example.txt\" |> day1_part1"
   ]
  },
  {
   "cell_type": "code",
   "execution_count": 22,
   "id": "1be76250",
   "metadata": {},
   "outputs": [
    {
     "data": {
      "text/plain": [
       "- : int = 1666427\n"
      ]
     },
     "execution_count": 22,
     "metadata": {},
     "output_type": "execute_result"
    }
   ],
   "source": [
    "read_pairs_from_file \"day1_input.txt\" |> day1_part1"
   ]
  },
  {
   "cell_type": "markdown",
   "id": "99f9a5da",
   "metadata": {},
   "source": [
    "### Part 2\n",
    "\n",
    "Now we've got to count stuff.  There is no need to be especially clever about this."
   ]
  },
  {
   "cell_type": "code",
   "execution_count": 23,
   "id": "a2a921dc",
   "metadata": {},
   "outputs": [
    {
     "data": {
      "text/plain": [
       "val day1_part2 : (Core_kernel.Int.t * Core_kernel.Int.t) list -> int = <fun>\n"
      ]
     },
     "execution_count": 23,
     "metadata": {},
     "output_type": "execute_result"
    }
   ],
   "source": [
    "let day1_part2 pairs =\n",
    "  let (xs, ys) = unzip pairs in\n",
    "  let count x = List.count ys ((=) x) in\n",
    "    xs\n",
    "    >>| (fun x -> x * (count x))\n",
    "    |> List.fold ~f:(+) ~init:0"
   ]
  },
  {
   "cell_type": "code",
   "execution_count": 24,
   "id": "5231946c",
   "metadata": {},
   "outputs": [
    {
     "data": {
      "text/plain": [
       "- : int = 24316233\n"
      ]
     },
     "execution_count": 24,
     "metadata": {},
     "output_type": "execute_result"
    }
   ],
   "source": [
    "read_pairs_from_file \"day1_input.txt\" |> day1_part2"
   ]
  },
  {
   "cell_type": "markdown",
   "id": "bd282a03",
   "metadata": {},
   "source": [
    "## Day 2\n",
    "\n",
    "[Link](https://adventofcode.com/2024/day/2)\n",
    "\n",
    "### Part 1\n",
    "\n",
    "Today we have to take adjacent differences of things."
   ]
  },
  {
   "cell_type": "code",
   "execution_count": 25,
   "id": "cde4afd5",
   "metadata": {},
   "outputs": [
    {
     "data": {
      "text/plain": [
       "val differences : int list -> int list = <fun>\n"
      ]
     },
     "execution_count": 25,
     "metadata": {},
     "output_type": "execute_result"
    }
   ],
   "source": [
    "let rec differences list =\n",
    "  match list with\n",
    "  | [] -> []\n",
    "  | [x] -> [] \n",
    "  | x :: y :: rest -> x - y :: differences (y :: rest)"
   ]
  },
  {
   "cell_type": "code",
   "execution_count": 26,
   "id": "aabe966c",
   "metadata": {},
   "outputs": [
    {
     "data": {
      "text/plain": [
       "- : int list = [1; 2; 2; 1]\n"
      ]
     },
     "execution_count": 26,
     "metadata": {},
     "output_type": "execute_result"
    }
   ],
   "source": [
    "differences [7; 6; 4; 2; 1]"
   ]
  },
  {
   "cell_type": "markdown",
   "id": "142b151f",
   "metadata": {},
   "source": [
    "I kind of wish this were point free?  Like I wanted to write `increasing || decreasing`.  Oh well."
   ]
  },
  {
   "cell_type": "code",
   "execution_count": 27,
   "id": "39714d9f",
   "metadata": {},
   "outputs": [
    {
     "data": {
      "text/plain": [
       "val safe : int list -> bool = <fun>\n"
      ]
     },
     "execution_count": 27,
     "metadata": {},
     "output_type": "execute_result"
    },
    {
     "data": {
      "text/plain": [
       "val count : ('a -> bool) -> 'a list -> int = <fun>\n"
      ]
     },
     "execution_count": 27,
     "metadata": {},
     "output_type": "execute_result"
    }
   ],
   "source": [
    "let safe levels =\n",
    "  let decreasing = List.for_all ~f:(fun(x) -> x < 0) in\n",
    "  let increasing = List.for_all ~f:(fun(x) -> x > 0) in\n",
    "  let in_range = List.for_all ~f:(fun(x) -> abs(x) >= 1 && abs(x) <= 3) in\n",
    "  let check xs = (increasing xs || decreasing xs) && in_range xs in\n",
    "    check (differences levels)\n",
    "\n",
    "let count safety_check data =\n",
    "  data\n",
    "  |> List.filter ~f:safety_check\n",
    "  |> List.length"
   ]
  },
  {
   "cell_type": "code",
   "execution_count": 28,
   "id": "b6e96e1f",
   "metadata": {},
   "outputs": [
    {
     "data": {
      "text/plain": [
       "- : int = 2\n"
      ]
     },
     "execution_count": 28,
     "metadata": {},
     "output_type": "execute_result"
    }
   ],
   "source": [
    "read_numbers_from_file \"day2_example.txt\" |> count safe"
   ]
  },
  {
   "cell_type": "code",
   "execution_count": 29,
   "id": "587b3ce8",
   "metadata": {},
   "outputs": [
    {
     "data": {
      "text/plain": [
       "- : int = 442\n"
      ]
     },
     "execution_count": 29,
     "metadata": {},
     "output_type": "execute_result"
    }
   ],
   "source": [
    "read_numbers_from_file \"day2_input.txt\" |> count safe"
   ]
  },
  {
   "cell_type": "markdown",
   "id": "fcc1b9b6",
   "metadata": {},
   "source": [
    "### Part 2\n",
    "\n",
    "Now we have to try fudging the data, I guess."
   ]
  },
  {
   "cell_type": "code",
   "execution_count": 30,
   "id": "54b72f8f",
   "metadata": {},
   "outputs": [
    {
     "data": {
      "text/plain": [
       "val ablate : 'a list -> 'a list list = <fun>\n"
      ]
     },
     "execution_count": 30,
     "metadata": {},
     "output_type": "execute_result"
    }
   ],
   "source": [
    "let rec ablate xs =\n",
    "  match xs with\n",
    "  | [] -> []\n",
    "  | x :: rest -> rest :: (List.map ~f:(fun(xs) -> x :: xs)) (ablate rest)"
   ]
  },
  {
   "cell_type": "code",
   "execution_count": 31,
   "id": "0393ab5c",
   "metadata": {},
   "outputs": [
    {
     "data": {
      "text/plain": [
       "- : int list list = [[2; 3; 4]; [1; 3; 4]; [1; 2; 4]; [1; 2; 3]]\n"
      ]
     },
     "execution_count": 31,
     "metadata": {},
     "output_type": "execute_result"
    }
   ],
   "source": [
    "ablate [1;2;3;4]"
   ]
  },
  {
   "cell_type": "code",
   "execution_count": 32,
   "id": "7860f799",
   "metadata": {},
   "outputs": [
    {
     "data": {
      "text/plain": [
       "val safeish : int list -> bool = <fun>\n"
      ]
     },
     "execution_count": 32,
     "metadata": {},
     "output_type": "execute_result"
    }
   ],
   "source": [
    "let safeish levels =\n",
    "  safe levels ||\n",
    "  (ablate levels |> List.exists ~f:safe)"
   ]
  },
  {
   "cell_type": "code",
   "execution_count": 33,
   "id": "6e1af15c",
   "metadata": {},
   "outputs": [
    {
     "data": {
      "text/plain": [
       "- : int = 4\n"
      ]
     },
     "execution_count": 33,
     "metadata": {},
     "output_type": "execute_result"
    }
   ],
   "source": [
    "read_numbers_from_file \"day2_example.txt\" |> count safeish"
   ]
  },
  {
   "cell_type": "code",
   "execution_count": 34,
   "id": "cbf0f264",
   "metadata": {},
   "outputs": [
    {
     "data": {
      "text/plain": [
       "- : int = 493\n"
      ]
     },
     "execution_count": 34,
     "metadata": {},
     "output_type": "execute_result"
    }
   ],
   "source": [
    "read_numbers_from_file \"day2_input.txt\" |> count safeish"
   ]
  },
  {
   "cell_type": "markdown",
   "id": "c9f5ee9f",
   "metadata": {},
   "source": [
    "## Day 3\n",
    "\n",
    "### Part 1\n",
    "\n",
    "Today we are parsing instructions from strings full of junk.  There is a builtin regex library from, like, the 90s.  Since we're already doing this core stuff, I guess we may as well just use re2 and unlock the _sheer power_ of NFAs.  Stand back."
   ]
  },
  {
   "cell_type": "code",
   "execution_count": 35,
   "id": "aec97298",
   "metadata": {},
   "outputs": [
    {
     "name": "stderr",
     "output_type": "stream",
     "text": [
      "/Users/jered/.opam/4.12.0/lib/core_kernel/rope: added to search path\n",
      "/Users/jered/.opam/4.12.0/lib/core_kernel/rope/rope.cma: loaded\n",
      "/Users/jered/.opam/4.12.0/lib/re2/c: added to search path\n",
      "/Users/jered/.opam/4.12.0/lib/re2/c/re2_c.cma: loaded\n",
      "/Users/jered/.opam/4.12.0/lib/re2: added to search path\n",
      "/Users/jered/.opam/4.12.0/lib/re2/re2.cma: loaded\n"
     ]
    }
   ],
   "source": [
    "#require \"re2\" ;;"
   ]
  },
  {
   "cell_type": "code",
   "execution_count": 36,
   "id": "6936ce83",
   "metadata": {},
   "outputs": [
    {
     "data": {
      "text/plain": [
       "val find_day3_instructions : string -> (int * int) list = <fun>\n"
      ]
     },
     "execution_count": 36,
     "metadata": {},
     "output_type": "execute_result"
    }
   ],
   "source": [
    "let find_day3_instructions s =\n",
    "  let mul = Re2.create_exn {|mul\\((\\d+,\\d+)\\)|} in\n",
    "  Re2.find_all_exn ~sub:(`Index 1) mul s\n",
    "  >>| fun (xs) -> (String.split ~on:',' xs\n",
    "                   >>| int_of_string\n",
    "                   |> pair_of_list)"
   ]
  },
  {
   "cell_type": "code",
   "execution_count": 37,
   "id": "8f73f305",
   "metadata": {},
   "outputs": [
    {
     "data": {
      "text/plain": [
       "- : (int * int) list = [(2, 4); (5, 5); (11, 8); (8, 5)]\n"
      ]
     },
     "execution_count": 37,
     "metadata": {},
     "output_type": "execute_result"
    }
   ],
   "source": [
    "find_day3_instructions \"xmul(2,4)%&mul[3,7]!@^do_not_mul(5,5)+mul(32,64]then(mul(11,8)mul(8,5))\""
   ]
  },
  {
   "cell_type": "code",
   "execution_count": 50,
   "id": "e7c5937f",
   "metadata": {},
   "outputs": [
    {
     "data": {
      "text/plain": [
       "val day3_part1 : string -> int = <fun>\n"
      ]
     },
     "execution_count": 50,
     "metadata": {},
     "output_type": "execute_result"
    }
   ],
   "source": [
    "let day3_part1 s =\n",
    "  find_day3_instructions s\n",
    "  >>| (fun ((a, b)) -> a * b)\n",
    "   |> fold ~init:0 ~f:(+)"
   ]
  },
  {
   "cell_type": "code",
   "execution_count": 39,
   "id": "e357724c",
   "metadata": {},
   "outputs": [
    {
     "data": {
      "text/plain": [
       "- : int = 161\n"
      ]
     },
     "execution_count": 39,
     "metadata": {},
     "output_type": "execute_result"
    }
   ],
   "source": [
    "In_channel.read_all \"day3_example.txt\" |> day3_part1"
   ]
  },
  {
   "cell_type": "code",
   "execution_count": 40,
   "id": "4896d0c6",
   "metadata": {},
   "outputs": [
    {
     "data": {
      "text/plain": [
       "- : int = 170778545\n"
      ]
     },
     "execution_count": 40,
     "metadata": {},
     "output_type": "execute_result"
    }
   ],
   "source": [
    "In_channel.read_all \"day3_input.txt\" |> day3_part1"
   ]
  },
  {
   "cell_type": "markdown",
   "id": "028f2b8a",
   "metadata": {},
   "source": [
    "### Part 2\n",
    "\n",
    "Oh good, now we get to parse more instructions - we can turn multiplying on and off, how convenient.  Let's use a type thing."
   ]
  },
  {
   "cell_type": "code",
   "execution_count": 41,
   "id": "003722e9",
   "metadata": {},
   "outputs": [
    {
     "data": {
      "text/plain": [
       "type day3_instruction = Day3Mul of int * int | Day3Do | Day3Dont\n"
      ]
     },
     "execution_count": 41,
     "metadata": {},
     "output_type": "execute_result"
    }
   ],
   "source": [
    "type day3_instruction =\n",
    "  Day3Mul of int * int\n",
    "  | Day3Do\n",
    "  | Day3Dont"
   ]
  },
  {
   "cell_type": "code",
   "execution_count": 42,
   "id": "c52dd5c9",
   "metadata": {},
   "outputs": [
    {
     "data": {
      "text/plain": [
       "val parse_day3_program : string -> day3_instruction list = <fun>\n"
      ]
     },
     "execution_count": 42,
     "metadata": {},
     "output_type": "execute_result"
    }
   ],
   "source": [
    "let parse_day3_program s =\n",
    "  let opcode = Re2.create_exn {|(don't\\(\\)|do\\(\\)|mul\\(\\d+,\\d+\\))|} in\n",
    "  let parse_opcode args =\n",
    "    match args with\n",
    "    | \"mul\" :: x :: y :: rest -> Day3Mul (int_of_string x, int_of_string y)\n",
    "    | \"do\" :: rest -> Day3Do\n",
    "    | \"don't\" :: rest -> Day3Dont\n",
    "    | _ -> failwith \"unknown instruction\" in\n",
    "  Re2.find_all_exn ~sub:(`Index 1) opcode s\n",
    "  >>| String.split_on_chars ~on:[','; '('; ')']\n",
    "  >>| parse_opcode"
   ]
  },
  {
   "cell_type": "code",
   "execution_count": 43,
   "id": "493b1362",
   "metadata": {},
   "outputs": [
    {
     "data": {
      "text/plain": [
       "- : day3_instruction list =\n",
       "[Day3Mul (2, 4); Day3Dont; Day3Mul (5, 5); Day3Mul (11, 8); Day3Do;\n",
       " Day3Mul (8, 5)]\n"
      ]
     },
     "execution_count": 43,
     "metadata": {},
     "output_type": "execute_result"
    }
   ],
   "source": [
    "parse_day3_program \"xmul(2,4)&mul[3,7]!^don't()_mul(5,5)+mul(32,64](mul(11,8)undo()?mul(8,5))\""
   ]
  },
  {
   "cell_type": "markdown",
   "id": "d5c3f195",
   "metadata": {},
   "source": [
    "Let's shake things up and evaluate this imperatively.  Mwahaha, purists, take that."
   ]
  },
  {
   "cell_type": "code",
   "execution_count": 44,
   "id": "ea79297c",
   "metadata": {},
   "outputs": [
    {
     "data": {
      "text/plain": [
       "val eval_day3_program : string -> int = <fun>\n"
      ]
     },
     "execution_count": 44,
     "metadata": {},
     "output_type": "execute_result"
    }
   ],
   "source": [
    "let eval_day3_program s =\n",
    "  let mul_enabled = ref true in\n",
    "  let eval instruction =\n",
    "    match instruction with\n",
    "    | Day3Do -> mul_enabled := true; 0\n",
    "    | Day3Dont -> mul_enabled := false; 0\n",
    "    | Day3Mul (x, y) -> if !mul_enabled then x * y else 0 in\n",
    "  parse_day3_program s\n",
    "  >>| eval\n",
    "  |> fold ~init:0 ~f:(+)"
   ]
  },
  {
   "cell_type": "code",
   "execution_count": 45,
   "id": "947d8922",
   "metadata": {},
   "outputs": [
    {
     "data": {
      "text/plain": [
       "- : int = 48\n"
      ]
     },
     "execution_count": 45,
     "metadata": {},
     "output_type": "execute_result"
    }
   ],
   "source": [
    "eval_day3_program \"xmul(2,4)&mul[3,7]!^don't()_mul(5,5)+mul(32,64](mul(11,8)undo()?mul(8,5))\""
   ]
  },
  {
   "cell_type": "code",
   "execution_count": 46,
   "id": "2fd9a20e",
   "metadata": {},
   "outputs": [
    {
     "data": {
      "text/plain": [
       "- : int = 82868252\n"
      ]
     },
     "execution_count": 46,
     "metadata": {},
     "output_type": "execute_result"
    }
   ],
   "source": [
    "In_channel.read_all \"day3_input.txt\" |> eval_day3_program"
   ]
  },
  {
   "cell_type": "markdown",
   "id": "0742d8d8",
   "metadata": {},
   "source": [
    "## Day 4\n",
    "\n",
    "### Part 1\n",
    "\n",
    "Today we are doing word searches, which I guess means we need arrays.  Let's see how this works."
   ]
  },
  {
   "cell_type": "code",
   "execution_count": 73,
   "id": "3d0840c8",
   "metadata": {},
   "outputs": [
    {
     "data": {
      "text/plain": [
       "val read_wordsearch : Base.string -> char Core.Array.t Core.Array.t = <fun>\n"
      ]
     },
     "execution_count": 73,
     "metadata": {},
     "output_type": "execute_result"
    }
   ],
   "source": [
    "let read_wordsearch file_name =\n",
    "  let lines = In_channel.read_lines file_name in\n",
    "  let rows = length lines in\n",
    "  let cols = String.length (nth_exn lines 0) in\n",
    "  let grid = Array.make_matrix rows cols '.' in\n",
    "  for i = 0 to rows-1 do\n",
    "    for j = 0 to cols-1 do\n",
    "      grid.(i).(j) <- String.get (nth_exn lines i) j\n",
    "    done\n",
    "  done;\n",
    "  grid"
   ]
  },
  {
   "cell_type": "code",
   "execution_count": 74,
   "id": "52e2a5bb",
   "metadata": {},
   "outputs": [
    {
     "data": {
      "text/plain": [
       "- : char Core.Array.t Core.Array.t =\n",
       "[|[|'M'; 'M'; 'M'; 'S'; 'X'; 'X'; 'M'; 'A'; 'S'; 'M'|];\n",
       "  [|'M'; 'S'; 'A'; 'M'; 'X'; 'M'; 'S'; 'M'; 'S'; 'A'|];\n",
       "  [|'A'; 'M'; 'X'; 'S'; 'X'; 'M'; 'A'; 'A'; 'M'; 'M'|];\n",
       "  [|'M'; 'S'; 'A'; 'M'; 'A'; 'S'; 'M'; 'S'; 'M'; 'X'|];\n",
       "  [|'X'; 'M'; 'A'; 'S'; 'A'; 'M'; 'X'; 'A'; 'M'; 'M'|];\n",
       "  [|'X'; 'X'; 'A'; 'M'; 'M'; 'X'; 'X'; 'A'; 'M'; 'A'|];\n",
       "  [|'S'; 'M'; 'S'; 'M'; 'S'; 'A'; 'S'; 'X'; 'S'; 'S'|];\n",
       "  [|'S'; 'A'; 'X'; 'A'; 'M'; 'A'; 'S'; 'A'; 'A'; 'A'|];\n",
       "  [|'M'; 'A'; 'M'; 'M'; 'M'; 'X'; 'M'; 'M'; 'M'; 'M'|];\n",
       "  [|'M'; 'X'; 'M'; 'X'; 'A'; 'X'; 'M'; 'A'; 'S'; 'X'|]|]\n"
      ]
     },
     "execution_count": 74,
     "metadata": {},
     "output_type": "execute_result"
    }
   ],
   "source": [
    "read_wordsearch \"day4_example.txt\""
   ]
  },
  {
   "cell_type": "code",
   "execution_count": 107,
   "id": "bde81b30",
   "metadata": {},
   "outputs": [
    {
     "data": {
      "text/plain": [
       "val count_matches : string -> Core.Char.t Core.Array.t Core.Array.t -> int =\n",
       "  <fun>\n"
      ]
     },
     "execution_count": 107,
     "metadata": {},
     "output_type": "execute_result"
    }
   ],
   "source": [
    "let count_matches word grid =\n",
    "  let count_matches_at i j di dj =\n",
    "    let len = String.length word in\n",
    "    let found = ref 1 in\n",
    "    for n = 0 to len-1 do\n",
    "      try\n",
    "        let word_char = String.get word n in\n",
    "        let grid_char = grid.(i + di * n).(j + dj * n) in\n",
    "          if Char.(<>) word_char grid_char then found := 0\n",
    "      with\n",
    "        Invalid_argument _ -> found := 0\n",
    "    done; !found in\n",
    "  let matches = ref 0 in\n",
    "    let rows = Array.length grid in\n",
    "    let cols = Array.length grid.(0) in\n",
    "    let dirs = [(-1, -1); (0, -1); (1, -1);\n",
    "                (-1,  0);          (1,  0);\n",
    "                (-1,  1); (0,  1); (1,  1)] in\n",
    "    for i = 0 to rows-1 do\n",
    "      for j = 0 to cols-1 do\n",
    "        let matches_here = dirs\n",
    "          >>| (fun((di, dj)) -> count_matches_at i j di dj)\n",
    "          |> fold ~init:0 ~f:(+) in\n",
    "          matches := !matches + matches_here\n",
    "      done\n",
    "    done; !matches"
   ]
  },
  {
   "cell_type": "markdown",
   "id": "dc60c2f6",
   "metadata": {},
   "source": [
    "Why doesn't the inequality operator `<>` work right for characters?  That's weird.  This Jane Street library is banana pancakes."
   ]
  },
  {
   "cell_type": "code",
   "execution_count": 108,
   "id": "e1a8c58f",
   "metadata": {},
   "outputs": [
    {
     "data": {
      "text/plain": [
       "- : int = 18\n"
      ]
     },
     "execution_count": 108,
     "metadata": {},
     "output_type": "execute_result"
    }
   ],
   "source": [
    "read_wordsearch \"day4_example.txt\" |> count_matches \"XMAS\""
   ]
  },
  {
   "cell_type": "code",
   "execution_count": 109,
   "id": "09ec39eb",
   "metadata": {},
   "outputs": [
    {
     "data": {
      "text/plain": [
       "- : int = 2524\n"
      ]
     },
     "execution_count": 109,
     "metadata": {},
     "output_type": "execute_result"
    }
   ],
   "source": [
    "read_wordsearch \"day4_input.txt\" |> count_matches \"XMAS\""
   ]
  },
  {
   "cell_type": "markdown",
   "id": "14afe030",
   "metadata": {},
   "source": [
    "### Part 2\n",
    "\n",
    "Oh good we have to search a different way.  Let's see..."
   ]
  },
  {
   "cell_type": "code",
   "execution_count": 125,
   "id": "0e0ef068",
   "metadata": {},
   "outputs": [
    {
     "data": {
      "text/plain": [
       "val count_x_mas : Core.Char.t Core.Array.t Core.Array.t -> int = <fun>\n"
      ]
     },
     "execution_count": 125,
     "metadata": {},
     "output_type": "execute_result"
    }
   ],
   "source": [
    "let count_x_mas grid =\n",
    "  let count_crossing_matches_at i j =\n",
    "    try\n",
    "      let ul = grid.(i-1).(j-1) in\n",
    "      let ur = grid.(i-1).(j+1) in\n",
    "      let dl = grid.(i+1).(j-1) in\n",
    "      let dr = grid.(i+1).(j+1) in\n",
    "      if Char.(grid.(i).(j) = 'A') &&\n",
    "        (Char.(ul = 'M') && Char.(dr = 'S') ||\n",
    "         Char.(ul = 'S') && Char.(dr = 'M')) &&\n",
    "        (Char.(ur = 'M') && Char.(dl = 'S') ||\n",
    "         Char.(ur = 'S') && Char.(dl = 'M')) then 1\n",
    "      else 0\n",
    "    with\n",
    "      Invalid_argument _ -> 0 in\n",
    "  let matches = ref 0 in\n",
    "    let rows = Array.length grid in\n",
    "    let cols = Array.length grid.(0) in\n",
    "    for i = 0 to rows-1 do\n",
    "      for j = 0 to cols-1 do\n",
    "        let matches_here = count_crossing_matches_at i j in\n",
    "          matches := !matches + matches_here\n",
    "      done\n",
    "    done; !matches"
   ]
  },
  {
   "cell_type": "code",
   "execution_count": 121,
   "id": "016c087d",
   "metadata": {},
   "outputs": [
    {
     "data": {
      "text/plain": [
       "- : bool = false\n"
      ]
     },
     "execution_count": 121,
     "metadata": {},
     "output_type": "execute_result"
    }
   ],
   "source": [
    "count_x_max"
   ]
  }
 ],
 "metadata": {
  "kernelspec": {
   "display_name": "OCaml 4.12.0",
   "language": "OCaml",
   "name": "ocaml-jupyter"
  },
  "language_info": {
   "codemirror_mode": "text/x-ocaml",
   "file_extension": ".ml",
   "mimetype": "text/x-ocaml",
   "name": "OCaml",
   "nbconverter_exporter": null,
   "pygments_lexer": "OCaml",
   "version": "4.12.0"
  }
 },
 "nbformat": 4,
 "nbformat_minor": 5
}
