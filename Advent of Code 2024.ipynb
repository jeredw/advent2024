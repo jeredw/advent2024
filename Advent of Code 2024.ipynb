{
 "cells": [
  {
   "cell_type": "markdown",
   "id": "6b7a2f2c",
   "metadata": {},
   "source": [
    "# Advent of Code 2024\n",
    "\n",
    "Let's try out ocaml this year!  I read a book about Standard ML like 20 years ago, but remember very little.  So there will be a learning curve, but it shouldn't be as bad as APL.\n",
    "\n",
    "Is this thing on?"
   ]
  },
  {
   "cell_type": "code",
   "execution_count": 1,
   "id": "c2f2e1ed",
   "metadata": {},
   "outputs": [
    {
     "data": {
      "text/plain": [
       "- : int = 4\n"
      ]
     },
     "execution_count": 1,
     "metadata": {},
     "output_type": "execute_result"
    }
   ],
   "source": [
    "2+2;;"
   ]
  },
  {
   "cell_type": "markdown",
   "id": "f36df18b",
   "metadata": {},
   "source": [
    "## Reusable utilities\n",
    "\n",
    "This section is for stuff I get tired of copying and pasting.\n",
    "\n",
    "### Reading stuff from files\n",
    "\n",
    "We seem to have to read stuff from files a lot."
   ]
  },
  {
   "cell_type": "code",
   "execution_count": 2,
   "id": "533f761d",
   "metadata": {},
   "outputs": [
    {
     "data": {
      "text/plain": [
       "val read_numbers_from_file : string -> int list list = <fun>\n"
      ]
     },
     "execution_count": 2,
     "metadata": {},
     "output_type": "execute_result"
    }
   ],
   "source": [
    "let read_numbers_from_file file_name =\n",
    "  let file = open_in file_name in\n",
    "  let output = ref [] in\n",
    "  try\n",
    "    while true do\n",
    "      let line = input_line file\n",
    "               |> Str.split (Str.regexp \" +\")\n",
    "               |> List.map int_of_string in\n",
    "      output := line :: !output\n",
    "    done;\n",
    "    assert false\n",
    "  with\n",
    "    End_of_file -> List.rev !output"
   ]
  },
  {
   "cell_type": "markdown",
   "id": "af978c06",
   "metadata": {},
   "source": [
    "## Day 1\n",
    "\n",
    "[Link](https://adventofcode.com/2024/day/1)\n",
    "\n",
    "### Part 1\n",
    "\n",
    "They want me to read two columns from a file, sort them, and sum the differences."
   ]
  },
  {
   "cell_type": "code",
   "execution_count": 3,
   "id": "54e0c15a",
   "metadata": {},
   "outputs": [
    {
     "data": {
      "text/plain": [
       "val read_pairs_from_file : string -> (int * int) list = <fun>\n"
      ]
     },
     "execution_count": 3,
     "metadata": {},
     "output_type": "execute_result"
    }
   ],
   "source": [
    "let read_pairs_from_file file_name =\n",
    "  read_numbers_from_file file_name\n",
    "  |> List.map (fun (numbers) -> match numbers with\n",
    "               | [x; y] -> (x, y)\n",
    "               | _ -> failwith \"expecting pair\")"
   ]
  },
  {
   "cell_type": "code",
   "execution_count": 4,
   "id": "86a78b54",
   "metadata": {},
   "outputs": [
    {
     "data": {
      "text/plain": [
       "- : (int * int) list = [(3, 4); (4, 3); (2, 5); (1, 3); (3, 9); (3, 3)]\n"
      ]
     },
     "execution_count": 4,
     "metadata": {},
     "output_type": "execute_result"
    }
   ],
   "source": [
    "read_pairs_from_file \"day1_example.txt\""
   ]
  },
  {
   "cell_type": "markdown",
   "id": "c6a24945",
   "metadata": {},
   "source": [
    "Ok, that was a little ugly, but it could be worse.  Let's use some of this great type matching stuff."
   ]
  },
  {
   "cell_type": "code",
   "execution_count": 5,
   "id": "d63caa99",
   "metadata": {},
   "outputs": [
    {
     "data": {
      "text/plain": [
       "val unzip : ('a * 'b) list -> 'a list * 'b list = <fun>\n"
      ]
     },
     "execution_count": 5,
     "metadata": {},
     "output_type": "execute_result"
    }
   ],
   "source": [
    "let rec unzip pairs =\n",
    "  match pairs with\n",
    "  | [] -> ([], [])\n",
    "  | (x, y) :: rest ->\n",
    "    let (xs, ys) = unzip rest in\n",
    "      (x::xs, y::ys)"
   ]
  },
  {
   "cell_type": "code",
   "execution_count": 6,
   "id": "4c976d73",
   "metadata": {},
   "outputs": [
    {
     "data": {
      "text/plain": [
       "- : int list * int list = ([1; 3; 5], [2; 4; 6])\n"
      ]
     },
     "execution_count": 6,
     "metadata": {},
     "output_type": "execute_result"
    }
   ],
   "source": [
    "unzip([(1,2); (3,4); (5,6)])"
   ]
  },
  {
   "cell_type": "markdown",
   "id": "8d66cb9a",
   "metadata": {},
   "source": [
    "That was fun.  But there's a library for this."
   ]
  },
  {
   "cell_type": "code",
   "execution_count": 7,
   "id": "6932d696",
   "metadata": {},
   "outputs": [
    {
     "data": {
      "text/plain": [
       "- : int list * int list = ([1; 3; 5], [2; 4; 6])\n"
      ]
     },
     "execution_count": 7,
     "metadata": {},
     "output_type": "execute_result"
    }
   ],
   "source": [
    "List.split [(1,2); (3,4); (5, 6)]"
   ]
  },
  {
   "cell_type": "code",
   "execution_count": 8,
   "id": "3d7303b4",
   "metadata": {},
   "outputs": [
    {
     "data": {
      "text/plain": [
       "val day1_part1 : (int * int) list -> int = <fun>\n"
      ]
     },
     "execution_count": 8,
     "metadata": {},
     "output_type": "execute_result"
    }
   ],
   "source": [
    "let day1_part1 pairs =\n",
    "  let (xs, ys) = List.split pairs in\n",
    "  List.combine (List.sort compare xs) (List.sort compare ys)\n",
    "  |> List.map (fun (x, y) -> abs(x - y))\n",
    "  |> List.fold_left (+) 0"
   ]
  },
  {
   "cell_type": "markdown",
   "id": "e0c18ba5",
   "metadata": {},
   "source": [
    "That is actually kind of pretty, although the syntax is meh."
   ]
  },
  {
   "cell_type": "code",
   "execution_count": 9,
   "id": "3b3b558e",
   "metadata": {},
   "outputs": [
    {
     "data": {
      "text/plain": [
       "- : int = 11\n"
      ]
     },
     "execution_count": 9,
     "metadata": {},
     "output_type": "execute_result"
    }
   ],
   "source": [
    "read_pairs_from_file \"day1_example.txt\" |> day1_part1"
   ]
  },
  {
   "cell_type": "code",
   "execution_count": 10,
   "id": "b4152118",
   "metadata": {},
   "outputs": [
    {
     "data": {
      "text/plain": [
       "- : int = 1666427\n"
      ]
     },
     "execution_count": 10,
     "metadata": {},
     "output_type": "execute_result"
    }
   ],
   "source": [
    "read_pairs_from_file \"day1_input.txt\" |> day1_part1"
   ]
  },
  {
   "cell_type": "markdown",
   "id": "99401d6b",
   "metadata": {},
   "source": [
    "### Part 2\n",
    "\n",
    "Now we've got to count stuff.  There is no need to be especially clever about this."
   ]
  },
  {
   "cell_type": "code",
   "execution_count": 11,
   "id": "6c701710",
   "metadata": {},
   "outputs": [
    {
     "data": {
      "text/plain": [
       "val day1_part2 : (int * int) list -> int = <fun>\n"
      ]
     },
     "execution_count": 11,
     "metadata": {},
     "output_type": "execute_result"
    }
   ],
   "source": [
    "let day1_part2 pairs =\n",
    "  let (xs, ys) = List.split pairs in\n",
    "  let count x = List.filter ((=) x) ys |> List.length in\n",
    "    xs\n",
    "    |> List.map (fun x -> x * (count x))\n",
    "    |> List.fold_left (+) 0"
   ]
  },
  {
   "cell_type": "code",
   "execution_count": 12,
   "id": "967b689c",
   "metadata": {},
   "outputs": [
    {
     "data": {
      "text/plain": [
       "- : int = 24316233\n"
      ]
     },
     "execution_count": 12,
     "metadata": {},
     "output_type": "execute_result"
    }
   ],
   "source": [
    "read_pairs_from_file \"day1_input.txt\" |> day1_part2"
   ]
  },
  {
   "cell_type": "markdown",
   "id": "7223eb76",
   "metadata": {},
   "source": [
    "## Day 2\n",
    "\n",
    "[Link](https://adventofcode.com/2024/day/2)\n",
    "\n",
    "### Part 1\n",
    "\n",
    "Today we have to take adjacent differences of things."
   ]
  },
  {
   "cell_type": "code",
   "execution_count": 13,
   "id": "16b8a3b3",
   "metadata": {},
   "outputs": [
    {
     "data": {
      "text/plain": [
       "val differences : int list -> int list = <fun>\n"
      ]
     },
     "execution_count": 13,
     "metadata": {},
     "output_type": "execute_result"
    }
   ],
   "source": [
    "let rec differences list =\n",
    "  match list with\n",
    "  | [] -> []\n",
    "  | [x] -> [] \n",
    "  | x :: y :: rest -> x - y :: differences (y :: rest)"
   ]
  },
  {
   "cell_type": "code",
   "execution_count": 14,
   "id": "dc9ef4c4",
   "metadata": {},
   "outputs": [
    {
     "data": {
      "text/plain": [
       "- : int list = [1; 2; 2; 1]\n"
      ]
     },
     "execution_count": 14,
     "metadata": {},
     "output_type": "execute_result"
    }
   ],
   "source": [
    "differences [7; 6; 4; 2; 1]"
   ]
  },
  {
   "cell_type": "markdown",
   "id": "fd336de1",
   "metadata": {},
   "source": [
    "I kind of wish this were point free?  Like I wanted to write `increasing || decreasing`.  Oh well."
   ]
  },
  {
   "cell_type": "code",
   "execution_count": 15,
   "id": "b56ce461",
   "metadata": {},
   "outputs": [
    {
     "data": {
      "text/plain": [
       "val safe : int list -> bool = <fun>\n"
      ]
     },
     "execution_count": 15,
     "metadata": {},
     "output_type": "execute_result"
    },
    {
     "data": {
      "text/plain": [
       "val count : ('a -> bool) -> 'a list -> int = <fun>\n"
      ]
     },
     "execution_count": 15,
     "metadata": {},
     "output_type": "execute_result"
    }
   ],
   "source": [
    "let safe levels =\n",
    "  let decreasing = List.for_all (fun(x) -> x < 0) in\n",
    "  let increasing = List.for_all (fun(x) -> x > 0) in\n",
    "  let in_range = List.for_all (fun(x) -> abs(x) >= 1 && abs(x) <= 3) in\n",
    "  let check xs = (increasing xs || decreasing xs) && in_range xs in\n",
    "    check (differences levels)\n",
    "\n",
    "let count safety_check data =\n",
    "  data\n",
    "  |> List.filter safety_check\n",
    "  |> List.length"
   ]
  },
  {
   "cell_type": "code",
   "execution_count": 16,
   "id": "31684a40",
   "metadata": {},
   "outputs": [
    {
     "data": {
      "text/plain": [
       "- : int = 2\n"
      ]
     },
     "execution_count": 16,
     "metadata": {},
     "output_type": "execute_result"
    }
   ],
   "source": [
    "read_numbers_from_file \"day2_example.txt\" |> count safe"
   ]
  },
  {
   "cell_type": "code",
   "execution_count": 17,
   "id": "4c1ea30b",
   "metadata": {},
   "outputs": [
    {
     "data": {
      "text/plain": [
       "- : int = 442\n"
      ]
     },
     "execution_count": 17,
     "metadata": {},
     "output_type": "execute_result"
    }
   ],
   "source": [
    "read_numbers_from_file \"day2_input.txt\" |> count safe"
   ]
  },
  {
   "cell_type": "markdown",
   "id": "868e38d0",
   "metadata": {},
   "source": [
    "### Part 2\n",
    "\n",
    "Now we have to try fudging the data, I guess."
   ]
  },
  {
   "cell_type": "code",
   "execution_count": 18,
   "id": "2a9cba2b",
   "metadata": {},
   "outputs": [
    {
     "data": {
      "text/plain": [
       "val ablate : 'a list -> 'a list list = <fun>\n"
      ]
     },
     "execution_count": 18,
     "metadata": {},
     "output_type": "execute_result"
    }
   ],
   "source": [
    "let rec ablate xs =\n",
    "  match xs with\n",
    "  | [] -> []\n",
    "  | x :: rest -> rest :: (List.map (fun(xs) -> x :: xs)) (ablate rest)"
   ]
  },
  {
   "cell_type": "code",
   "execution_count": 19,
   "id": "a793e235",
   "metadata": {},
   "outputs": [
    {
     "data": {
      "text/plain": [
       "- : int list list = [[2; 3; 4]; [1; 3; 4]; [1; 2; 4]; [1; 2; 3]]\n"
      ]
     },
     "execution_count": 19,
     "metadata": {},
     "output_type": "execute_result"
    }
   ],
   "source": [
    "ablate [1;2;3;4]"
   ]
  },
  {
   "cell_type": "code",
   "execution_count": 20,
   "id": "387612f6",
   "metadata": {},
   "outputs": [
    {
     "data": {
      "text/plain": [
       "val safeish : int list -> bool = <fun>\n"
      ]
     },
     "execution_count": 20,
     "metadata": {},
     "output_type": "execute_result"
    }
   ],
   "source": [
    "let safeish levels =\n",
    "  safe levels ||\n",
    "  (ablate levels |> List.exists safe)"
   ]
  },
  {
   "cell_type": "code",
   "execution_count": 21,
   "id": "852e15ce",
   "metadata": {},
   "outputs": [
    {
     "data": {
      "text/plain": [
       "- : int = 4\n"
      ]
     },
     "execution_count": 21,
     "metadata": {},
     "output_type": "execute_result"
    }
   ],
   "source": [
    "read_numbers_from_file \"day2_example.txt\" |> count safeish"
   ]
  },
  {
   "cell_type": "code",
   "execution_count": 22,
   "id": "9fbf2019",
   "metadata": {},
   "outputs": [
    {
     "data": {
      "text/plain": [
       "- : int = 493\n"
      ]
     },
     "execution_count": 22,
     "metadata": {},
     "output_type": "execute_result"
    }
   ],
   "source": [
    "read_numbers_from_file \"day2_input.txt\" |> count safeish"
   ]
  }
 ],
 "metadata": {
  "kernelspec": {
   "display_name": "OCaml 4.12.0",
   "language": "OCaml",
   "name": "ocaml-jupyter"
  },
  "language_info": {
   "codemirror_mode": "text/x-ocaml",
   "file_extension": ".ml",
   "mimetype": "text/x-ocaml",
   "name": "OCaml",
   "nbconverter_exporter": null,
   "pygments_lexer": "OCaml",
   "version": "4.12.0"
  }
 },
 "nbformat": 4,
 "nbformat_minor": 5
}
