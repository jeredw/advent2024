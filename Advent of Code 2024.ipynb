{
 "cells": [
  {
   "cell_type": "markdown",
   "id": "6b7a2f2c",
   "metadata": {},
   "source": [
    "# Advent of Code 2024\n",
    "\n",
    "Let's try out [ocaml](https://ocaml.org/) this year!  I read a book about Standard ML like 20 years ago, but remember very little.  So there will be a learning curve, but it shouldn't be as bad as [the Advent of APL](https://github.com/jeredw/advent2021/blob/main/Advent%20of%20Code%202021.ipynb).\n",
    "\n",
    "Is this thing on?"
   ]
  },
  {
   "cell_type": "code",
   "execution_count": 1,
   "id": "c2f2e1ed",
   "metadata": {},
   "outputs": [
    {
     "data": {
      "text/plain": [
       "- : int = 4\n"
      ]
     },
     "execution_count": 1,
     "metadata": {},
     "output_type": "execute_result"
    }
   ],
   "source": [
    "2+2;;"
   ]
  },
  {
   "cell_type": "markdown",
   "id": "28ba9e05",
   "metadata": {},
   "source": [
    "## Table of Contents\n",
    "\n",
    "| Su | Mo | Tu | We | Th | Fr | Sa |\n",
    "| -- | -- | -- | -- | -- | -- | -- |\n",
    "| [1](#day1) | [2](#day2) | [3](#day3) | [4](#day4) | [5](#day5) | [6](#day6) | [7](#day7) |\n",
    "| [8](#day8) | [9](#day9) | [10](#day10) | [11](#day11) | [12](#day12) | [13](#day13) | [14](#day14) |\n",
    "| [15](#day15) | [16](#day16) | 17 | 18 | 19 | 20 | 21 |\n",
    "| 22 | 23 | 24 | 25 | 26 | 27 | 28 |\n",
    "| 29 | 30 | 31 |    |    |    |    |"
   ]
  },
  {
   "cell_type": "markdown",
   "id": "4472838f",
   "metadata": {},
   "source": [
    "\n",
    "## Reusable utilities\n",
    "\n",
    "This section is for stuff I get tired of copying and pasting."
   ]
  },
  {
   "cell_type": "markdown",
   "id": "efe641c2",
   "metadata": {},
   "source": [
    "### Ok, what is \"core\"?\n",
    "\n",
    "On Day 3, while looking for basic I/O utilities again (is there really no \"read entire file\" library?), I learned there's an entire alternative standard library written by Jane Street.  This feels weird, but whatever."
   ]
  },
  {
   "cell_type": "code",
   "execution_count": 2,
   "id": "e8ffc146",
   "metadata": {},
   "outputs": [
    {
     "name": "stdout",
     "output_type": "stream",
     "text": [
      "- : unit = ()\n",
      "Findlib has been successfully loaded. Additional directives:\n",
      "  #require \"package\";;      to load a package\n",
      "  #list;;                   to list the available packages\n",
      "  #camlp4o;;                to load camlp4 (standard syntax)\n",
      "  #camlp4r;;                to load camlp4 (revised syntax)\n",
      "  #predicates \"p,q,...\";;   to set these predicates\n",
      "  Topfind.reset();;         to force that packages will be reloaded\n",
      "  #thread;;                 to enable threads\n",
      "\n",
      "- : unit = ()\n"
     ]
    }
   ],
   "source": [
    "#use \"topfind\" ;;"
   ]
  },
  {
   "cell_type": "code",
   "execution_count": 3,
   "id": "ad447847",
   "metadata": {},
   "outputs": [
    {
     "name": "stderr",
     "output_type": "stream",
     "text": [
      "/Users/jered/.opam/4.12.0/lib/base/base_internalhash_types: added to search path\n",
      "/Users/jered/.opam/4.12.0/lib/base/base_internalhash_types/base_internalhash_types.cma: loaded\n",
      "/Users/jered/.opam/4.12.0/lib/base/caml: added to search path\n",
      "/Users/jered/.opam/4.12.0/lib/base/caml/caml.cma: loaded\n",
      "/Users/jered/.opam/4.12.0/lib/base/shadow_stdlib: added to search path\n",
      "/Users/jered/.opam/4.12.0/lib/base/shadow_stdlib/shadow_stdlib.cma: loaded\n",
      "/Users/jered/.opam/4.12.0/lib/sexplib0: added to search path\n",
      "/Users/jered/.opam/4.12.0/lib/sexplib0/sexplib0.cma: loaded\n",
      "/Users/jered/.opam/4.12.0/lib/base: added to search path\n",
      "/Users/jered/.opam/4.12.0/lib/base/base.cma: loaded\n",
      "/Users/jered/.opam/4.12.0/lib/fieldslib: added to search path\n",
      "/Users/jered/.opam/4.12.0/lib/fieldslib/fieldslib.cma: loaded\n",
      "/Users/jered/.opam/4.12.0/lib/ppx_compare/runtime-lib: added to search path\n",
      "/Users/jered/.opam/4.12.0/lib/ppx_compare/runtime-lib/ppx_compare_lib.cma: loaded\n",
      "/Users/jered/.opam/4.12.0/lib/ppx_enumerate/runtime-lib: added to search path\n",
      "/Users/jered/.opam/4.12.0/lib/ppx_enumerate/runtime-lib/ppx_enumerate_lib.cma: loaded\n",
      "/Users/jered/.opam/4.12.0/lib/ppx_sexp_conv/runtime-lib: added to search path\n",
      "/Users/jered/.opam/4.12.0/lib/ppx_sexp_conv/runtime-lib/ppx_sexp_conv_lib.cma: loaded\n",
      "/Users/jered/.opam/4.12.0/lib/ppx_hash/runtime-lib: added to search path\n",
      "/Users/jered/.opam/4.12.0/lib/ppx_hash/runtime-lib/ppx_hash_lib.cma: loaded\n",
      "/Users/jered/.opam/4.12.0/lib/ppx_here/runtime-lib: added to search path\n",
      "/Users/jered/.opam/4.12.0/lib/ppx_here/runtime-lib/ppx_here_lib.cma: loaded\n",
      "/Users/jered/.opam/4.12.0/lib/ppx_assert/runtime-lib: added to search path\n",
      "/Users/jered/.opam/4.12.0/lib/ppx_assert/runtime-lib/ppx_assert_lib.cma: loaded\n",
      "/Users/jered/.opam/4.12.0/lib/ppx_bench/runtime-lib: added to search path\n",
      "/Users/jered/.opam/4.12.0/lib/ppx_bench/runtime-lib/ppx_bench_lib.cma: loaded\n",
      "/Users/jered/.opam/4.12.0/lib/ppx_inline_test/config: added to search path\n",
      "/Users/jered/.opam/4.12.0/lib/ppx_inline_test/config/inline_test_config.cma: loaded\n",
      "/Users/jered/.opam/4.12.0/lib/jane-street-headers: added to search path\n",
      "/Users/jered/.opam/4.12.0/lib/jane-street-headers/jane_street_headers.cma: loaded\n",
      "/Users/jered/.opam/4.12.0/lib/time_now: added to search path\n",
      "/Users/jered/.opam/4.12.0/lib/time_now/time_now.cma: loaded\n",
      "/Users/jered/.opam/4.12.0/lib/ppx_inline_test/runtime-lib: added to search path\n",
      "/Users/jered/.opam/4.12.0/lib/ppx_inline_test/runtime-lib/ppx_inline_test_lib.cma: loaded\n",
      "/Users/jered/.opam/4.12.0/lib/splittable_random: added to search path\n",
      "/Users/jered/.opam/4.12.0/lib/splittable_random/splittable_random.cma: loaded\n",
      "/Users/jered/.opam/4.12.0/lib/base_quickcheck: added to search path\n",
      "/Users/jered/.opam/4.12.0/lib/base_quickcheck/base_quickcheck.cma: loaded\n",
      "/Users/jered/.opam/4.12.0/lib/base/md5: added to search path\n",
      "/Users/jered/.opam/4.12.0/lib/base/md5/md5_lib.cma: loaded\n",
      "/Users/jered/.opam/4.12.0/lib/ocaml/unix.cma: loaded\n",
      "/Users/jered/.opam/4.12.0/lib/ocaml/bigarray.cma: loaded\n",
      "/Users/jered/.opam/4.12.0/lib/variantslib: added to search path\n",
      "/Users/jered/.opam/4.12.0/lib/variantslib/variantslib.cma: loaded\n",
      "/Users/jered/.opam/4.12.0/lib/bin_prot/shape: added to search path\n",
      "/Users/jered/.opam/4.12.0/lib/bin_prot/shape/bin_shape_lib.cma: loaded\n",
      "/Users/jered/.opam/4.12.0/lib/bin_prot: added to search path\n",
      "/Users/jered/.opam/4.12.0/lib/bin_prot/bin_prot.cma: loaded\n",
      "/Users/jered/.opam/4.12.0/lib/ppx_expect/common: added to search path\n",
      "/Users/jered/.opam/4.12.0/lib/ppx_expect/common/expect_test_common.cma: loaded\n",
      "/Users/jered/.opam/4.12.0/lib/ppx_expect/config_types: added to search path\n",
      "/Users/jered/.opam/4.12.0/lib/ppx_expect/config_types/expect_test_config_types.cma: loaded\n",
      "/Users/jered/.opam/4.12.0/lib/ppx_expect/collector: added to search path\n",
      "/Users/jered/.opam/4.12.0/lib/ppx_expect/collector/expect_test_collector.cma: loaded\n",
      "/Users/jered/.opam/4.12.0/lib/ppx_expect/config: added to search path\n",
      "/Users/jered/.opam/4.12.0/lib/ppx_expect/config/expect_test_config.cma: loaded\n",
      "/Users/jered/.opam/4.12.0/lib/stdio: added to search path\n",
      "/Users/jered/.opam/4.12.0/lib/stdio/stdio.cma: loaded\n",
      "/Users/jered/.opam/4.12.0/lib/ppx_module_timer/runtime: added to search path\n",
      "/Users/jered/.opam/4.12.0/lib/ppx_module_timer/runtime/ppx_module_timer_runtime.cma: loaded\n",
      "/Users/jered/.opam/4.12.0/lib/typerep: added to search path\n",
      "/Users/jered/.opam/4.12.0/lib/typerep/typerep_lib.cma: loaded\n",
      "/Users/jered/.opam/4.12.0/lib/base_bigstring: added to search path\n",
      "/Users/jered/.opam/4.12.0/lib/base_bigstring/base_bigstring.cma: loaded\n",
      "/Users/jered/.opam/4.12.0/lib/core_kernel/base_for_tests: added to search path\n",
      "/Users/jered/.opam/4.12.0/lib/core_kernel/base_for_tests/base_for_tests.cma: loaded\n",
      "/Users/jered/.opam/4.12.0/lib/parsexp: added to search path\n",
      "/Users/jered/.opam/4.12.0/lib/parsexp/parsexp.cma: loaded\n",
      "/Users/jered/.opam/4.12.0/lib/sexplib: added to search path\n",
      "/Users/jered/.opam/4.12.0/lib/sexplib/sexplib.cma: loaded\n",
      "/Users/jered/.opam/4.12.0/lib/core_kernel: added to search path\n",
      "/Users/jered/.opam/4.12.0/lib/core_kernel/core_kernel.cma: loaded\n",
      "/Users/jered/.opam/4.12.0/lib/core/error_checking_mutex: added to search path\n",
      "/Users/jered/.opam/4.12.0/lib/core/error_checking_mutex/error_checking_mutex.cma: loaded\n",
      "/Users/jered/.opam/4.12.0/lib/core_kernel/caml_unix: added to search path\n",
      "/Users/jered/.opam/4.12.0/lib/core_kernel/caml_unix/caml_unix.cma: loaded\n",
      "/Users/jered/.opam/4.12.0/lib/core_kernel/flags: added to search path\n",
      "/Users/jered/.opam/4.12.0/lib/core_kernel/flags/flags.cma: loaded\n",
      "/Users/jered/.opam/4.12.0/lib/core_kernel/version_util: added to search path\n",
      "/Users/jered/.opam/4.12.0/lib/core_kernel/version_util/version_util.cma: loaded\n",
      "/Users/jered/.opam/4.12.0/lib/sexplib/unix: added to search path\n",
      "/Users/jered/.opam/4.12.0/lib/sexplib/unix/sexplib_unix.cma: loaded\n",
      "/Users/jered/.opam/4.12.0/lib/spawn: added to search path\n",
      "/Users/jered/.opam/4.12.0/lib/spawn/spawn.cma: loaded\n",
      "/Users/jered/.opam/4.12.0/lib/timezone: added to search path\n",
      "/Users/jered/.opam/4.12.0/lib/timezone/timezone.cma: loaded\n",
      "/Users/jered/.opam/4.12.0/lib/core: added to search path\n",
      "/Users/jered/.opam/4.12.0/lib/core/core.cma: loaded\n"
     ]
    }
   ],
   "source": [
    "#require \"core\" ;;"
   ]
  },
  {
   "cell_type": "code",
   "execution_count": 4,
   "id": "b8180421",
   "metadata": {},
   "outputs": [],
   "source": [
    "open Core"
   ]
  },
  {
   "cell_type": "markdown",
   "id": "0e06d6af",
   "metadata": {},
   "source": [
    "### Oh God, what have I done\n",
    "\n",
    "Apparently this is an overlay library, and just blows away much of the core language.  Now my `List.map` function is backwards!  That's... incredibly antisocial, actually.  I guess what did I expect from a quantitative finance company."
   ]
  },
  {
   "cell_type": "code",
   "execution_count": 5,
   "id": "ec9a4830",
   "metadata": {},
   "outputs": [
    {
     "name": "stderr",
     "output_type": "stream",
     "text": [
      "File \"[5]\", line 1, characters 9-16:\n",
      "1 | List.map ((+) 0) [1;2;3]\n",
      "             ^^^^^^^\n",
      "Warning 5 [ignored-partial-application]: this function application is partial,\n",
      "maybe some arguments are missing.\n"
     ]
    },
    {
     "ename": "error",
     "evalue": "compile_error",
     "output_type": "error",
     "traceback": [
      "File \"[5]\", line 1, characters 9-16:\n1 | List.map ((+) 0) [1;2;3]\n             ^^^^^^^\nError: This expression has type int -> int\n       but an expression was expected of type 'a list\n"
     ]
    }
   ],
   "source": [
    "List.map ((+) 0) [1;2;3]"
   ]
  },
  {
   "cell_type": "code",
   "execution_count": 6,
   "id": "204beff3",
   "metadata": {},
   "outputs": [
    {
     "data": {
      "text/plain": [
       "- : int list = [1; 2; 3]\n"
      ]
     },
     "execution_count": 6,
     "metadata": {},
     "output_type": "execute_result"
    }
   ],
   "source": [
    "List.map [1;2;3] ((+) 0)"
   ]
  },
  {
   "cell_type": "markdown",
   "id": "4c12f271",
   "metadata": {},
   "source": [
    "Hang on, let me just rewrite everything now."
   ]
  },
  {
   "cell_type": "code",
   "execution_count": 7,
   "id": "e33a8011",
   "metadata": {},
   "outputs": [],
   "source": [
    "open Core.List"
   ]
  },
  {
   "cell_type": "markdown",
   "id": "f26f0437",
   "metadata": {},
   "source": [
    "Apparently I need this too.  Have I mentioned it's impossible to Google search for punctuation?  Ugh."
   ]
  },
  {
   "cell_type": "markdown",
   "id": "5d7adcb1",
   "metadata": {},
   "source": [
    "### Reading stuff from files\n",
    "\n",
    "We seem to have to read stuff from files a lot."
   ]
  },
  {
   "cell_type": "code",
   "execution_count": 8,
   "id": "78802257",
   "metadata": {},
   "outputs": [
    {
     "data": {
      "text/plain": [
       "- : Base.string Base.list =\n",
       "[\"3   4\"; \"4   3\"; \"2   5\"; \"1   3\"; \"3   9\"; \"3   3\"]\n"
      ]
     },
     "execution_count": 8,
     "metadata": {},
     "output_type": "execute_result"
    }
   ],
   "source": [
    "(* Core has a way to do this *)\n",
    "In_channel.read_lines \"day1_example.txt\""
   ]
  },
  {
   "cell_type": "markdown",
   "id": "50d14e0c",
   "metadata": {},
   "source": [
    "Now there are different combinators, too.  How do these work?"
   ]
  },
  {
   "cell_type": "code",
   "execution_count": 9,
   "id": "70d77ac9",
   "metadata": {},
   "outputs": [
    {
     "data": {
      "text/plain": [
       "- : int list = [2; 3; 4]\n"
      ]
     },
     "execution_count": 9,
     "metadata": {},
     "output_type": "execute_result"
    }
   ],
   "source": [
    "[1;2;3] >>| ((+) 1)"
   ]
  },
  {
   "cell_type": "code",
   "execution_count": 10,
   "id": "d5c3569b",
   "metadata": {},
   "outputs": [
    {
     "data": {
      "text/plain": [
       "val read_numbers_from_file : Base.string -> int list list = <fun>\n"
      ]
     },
     "execution_count": 10,
     "metadata": {},
     "output_type": "execute_result"
    }
   ],
   "source": [
    "(*let read_numbers_from_file file_name =\n",
    "  let file = open_in file_name in\n",
    "  let output = ref [] in\n",
    "  try\n",
    "    while true do\n",
    "      let line = input_line file\n",
    "               |> Str.split (Str.regexp \" +\")\n",
    "               |> List.map int_of_string in\n",
    "      output := line :: !output\n",
    "    done;\n",
    "    assert false\n",
    "  with\n",
    "    End_of_file -> List.rev !output *)\n",
    "\n",
    "let read_numbers_from_file file_name =\n",
    "  let parse line =\n",
    "    line |> Str.split (Str.regexp \" +\") >>| int_of_string in\n",
    "  In_channel.read_lines file_name >>| parse"
   ]
  },
  {
   "cell_type": "markdown",
   "id": "72cb68f9",
   "metadata": {},
   "source": [
    "### This keeps coming up"
   ]
  },
  {
   "cell_type": "code",
   "execution_count": 11,
   "id": "075f9c9d",
   "metadata": {},
   "outputs": [
    {
     "data": {
      "text/plain": [
       "val pair_of_list : 'a list -> 'a * 'a = <fun>\n"
      ]
     },
     "execution_count": 11,
     "metadata": {},
     "output_type": "execute_result"
    }
   ],
   "source": [
    "let pair_of_list xs =\n",
    "  match xs with\n",
    "  | [x; y] -> (x, y)\n",
    "  | _ -> failwith \"expecting pair\""
   ]
  },
  {
   "cell_type": "markdown",
   "id": "f3ff29e7",
   "metadata": {},
   "source": [
    "### Reading grids"
   ]
  },
  {
   "cell_type": "code",
   "execution_count": 12,
   "id": "e49425c2",
   "metadata": {},
   "outputs": [
    {
     "data": {
      "text/plain": [
       "val read_grid_from_file : Base.string -> char Core.Array.t Core.Array.t =\n",
       "  <fun>\n"
      ]
     },
     "execution_count": 12,
     "metadata": {},
     "output_type": "execute_result"
    }
   ],
   "source": [
    "let read_grid_from_file file_name =\n",
    "  let lines = In_channel.read_lines file_name in\n",
    "  let rows = length lines in\n",
    "  let cols = String.length (nth_exn lines 0) in\n",
    "  let grid = Array.make_matrix rows cols '.' in\n",
    "  for i = 0 to rows-1 do\n",
    "    for j = 0 to cols-1 do\n",
    "      grid.(i).(j) <- String.get (nth_exn lines i) j\n",
    "    done\n",
    "  done;\n",
    "  grid"
   ]
  },
  {
   "cell_type": "markdown",
   "id": "ee54d0f4",
   "metadata": {},
   "source": [
    "### Cartesian product without the diagonal"
   ]
  },
  {
   "cell_type": "code",
   "execution_count": 13,
   "id": "b2c6a916",
   "metadata": {},
   "outputs": [
    {
     "data": {
      "text/plain": [
       "val pairs : 'a list -> ('a * 'a) Base.List.t = <fun>\n"
      ]
     },
     "execution_count": 13,
     "metadata": {},
     "output_type": "execute_result"
    }
   ],
   "source": [
    "let rec pairs xs = \n",
    "  match xs with\n",
    "  | [] -> []\n",
    "  | [x] -> []\n",
    "  | x::rest -> (rest>>|(fun y -> (x,y))) @ pairs rest"
   ]
  },
  {
   "cell_type": "code",
   "execution_count": 14,
   "id": "9a002305",
   "metadata": {},
   "outputs": [
    {
     "data": {
      "text/plain": [
       "- : (int * int) Base.List.t =\n",
       "[(1, 2); (1, 3); (1, 4); (1, 5); (1, 6); (2, 3); (2, 4); (2, 5); (2, 6);\n",
       " (3, 4); (3, 5); (3, 6); (4, 5); (4, 6); (5, 6)]\n"
      ]
     },
     "execution_count": 14,
     "metadata": {},
     "output_type": "execute_result"
    }
   ],
   "source": [
    "pairs [1;2;3;4;5;6]"
   ]
  },
  {
   "cell_type": "markdown",
   "id": "af978c06",
   "metadata": {},
   "source": [
    "## <a name=day1>Day 1</a>\n",
    "\n",
    "[Link](https://adventofcode.com/2024/day/1)\n",
    "\n",
    "### Part 1\n",
    "\n",
    "They want me to read two columns from a file, sort them, and sum the differences."
   ]
  },
  {
   "cell_type": "code",
   "execution_count": 15,
   "id": "54e0c15a",
   "metadata": {},
   "outputs": [
    {
     "data": {
      "text/plain": [
       "val read_pairs_from_file : Base.string -> (int * int) list = <fun>\n"
      ]
     },
     "execution_count": 15,
     "metadata": {},
     "output_type": "execute_result"
    }
   ],
   "source": [
    "let read_pairs_from_file file_name =\n",
    "  read_numbers_from_file file_name\n",
    "  >>| pair_of_list"
   ]
  },
  {
   "cell_type": "code",
   "execution_count": 16,
   "id": "fcf8eb17",
   "metadata": {},
   "outputs": [
    {
     "data": {
      "text/plain": [
       "- : (int * int) list = [(3, 4); (4, 3); (2, 5); (1, 3); (3, 9); (3, 3)]\n"
      ]
     },
     "execution_count": 16,
     "metadata": {},
     "output_type": "execute_result"
    }
   ],
   "source": [
    "read_pairs_from_file \"day1_example.txt\""
   ]
  },
  {
   "cell_type": "markdown",
   "id": "74a200d5",
   "metadata": {},
   "source": [
    "Ok, that was a little ugly, but it could be worse.  Let's use some of this great type matching stuff."
   ]
  },
  {
   "cell_type": "code",
   "execution_count": 17,
   "id": "77aee232",
   "metadata": {},
   "outputs": [
    {
     "data": {
      "text/plain": [
       "val unzip : ('a * 'b) list -> 'a list * 'b list = <fun>\n"
      ]
     },
     "execution_count": 17,
     "metadata": {},
     "output_type": "execute_result"
    }
   ],
   "source": [
    "let rec unzip pairs =\n",
    "  match pairs with\n",
    "  | [] -> ([], [])\n",
    "  | (x, y) :: rest ->\n",
    "    let (xs, ys) = unzip rest in\n",
    "      (x::xs, y::ys)"
   ]
  },
  {
   "cell_type": "code",
   "execution_count": 18,
   "id": "60ba2d7e",
   "metadata": {},
   "outputs": [
    {
     "data": {
      "text/plain": [
       "- : int list * int list = ([1; 3; 5], [2; 4; 6])\n"
      ]
     },
     "execution_count": 18,
     "metadata": {},
     "output_type": "execute_result"
    }
   ],
   "source": [
    "unzip([(1,2); (3,4); (5,6)])"
   ]
  },
  {
   "cell_type": "markdown",
   "id": "0cbeed64",
   "metadata": {},
   "source": [
    "That was fun.  ~But there's a library for this.~  Update: Ok, core seems to actually call this `zip` and `unzip`..."
   ]
  },
  {
   "cell_type": "code",
   "execution_count": 19,
   "id": "9d197a70",
   "metadata": {},
   "outputs": [
    {
     "data": {
      "text/plain": [
       "- : int list * int list = ([1; 3; 5], [2; 4; 6])\n"
      ]
     },
     "execution_count": 19,
     "metadata": {},
     "output_type": "execute_result"
    }
   ],
   "source": [
    "List.unzip [(1,2); (3,4); (5,6)]"
   ]
  },
  {
   "cell_type": "code",
   "execution_count": 20,
   "id": "6a0c6bc4",
   "metadata": {},
   "outputs": [
    {
     "data": {
      "text/plain": [
       "- : (int * int) list Core.List.Or_unequal_lengths.t =\n",
       "Core.List.Or_unequal_lengths.Ok [(1, 2); (3, 4); (5, 6)]\n"
      ]
     },
     "execution_count": 20,
     "metadata": {},
     "output_type": "execute_result"
    }
   ],
   "source": [
    "zip [1;3;5] [2;4;6]"
   ]
  },
  {
   "cell_type": "markdown",
   "id": "b92c7d5f",
   "metadata": {},
   "source": [
    "Oh no, I overwrote `compare` when I did `open Core.List` to try to get the list combinators.  What a mess."
   ]
  },
  {
   "cell_type": "code",
   "execution_count": 21,
   "id": "a75f84e3",
   "metadata": {},
   "outputs": [
    {
     "data": {
      "text/plain": [
       "- : ('a -> 'a -> int) -> 'a list -> 'a list -> int = <fun>\n"
      ]
     },
     "execution_count": 21,
     "metadata": {},
     "output_type": "execute_result"
    }
   ],
   "source": [
    "compare"
   ]
  },
  {
   "cell_type": "code",
   "execution_count": 22,
   "id": "16ef6847",
   "metadata": {},
   "outputs": [
    {
     "data": {
      "text/plain": [
       "- : 'a -> 'a -> int = <fun>\n"
      ]
     },
     "execution_count": 22,
     "metadata": {},
     "output_type": "execute_result"
    }
   ],
   "source": [
    "Stdlib.compare"
   ]
  },
  {
   "cell_type": "markdown",
   "id": "a194ca5c",
   "metadata": {},
   "source": [
    "Hmm, post `zip`ping, my list type is infected with `Core.List.Or_unequal_lengths.t` and I can't do unsanctioned list stuff with it.  I guess I have to use `zip_exn` to fail hard."
   ]
  },
  {
   "cell_type": "code",
   "execution_count": 23,
   "id": "60934933",
   "metadata": {},
   "outputs": [
    {
     "data": {
      "text/plain": [
       "val day1_part1 : (int * int) list -> int = <fun>\n"
      ]
     },
     "execution_count": 23,
     "metadata": {},
     "output_type": "execute_result"
    }
   ],
   "source": [
    "let day1_part1 pairs =\n",
    "  let (xs, ys) = unzip pairs in\n",
    "  (zip_exn (sort xs Stdlib.compare) (sort ys Stdlib.compare)\n",
    "    >>| fun (x, y) -> abs(x - y))\n",
    "  |> List.fold ~f:(+) ~init:0"
   ]
  },
  {
   "cell_type": "markdown",
   "id": "61da9d4f",
   "metadata": {},
   "source": [
    "~That is actually kind of pretty, although the syntax is meh.~  Let's be real, this is an ugly way to write a simple program."
   ]
  },
  {
   "cell_type": "code",
   "execution_count": 24,
   "id": "31706af3",
   "metadata": {},
   "outputs": [
    {
     "data": {
      "text/plain": [
       "- : int = 11\n"
      ]
     },
     "execution_count": 24,
     "metadata": {},
     "output_type": "execute_result"
    }
   ],
   "source": [
    "read_pairs_from_file \"day1_example.txt\" |> day1_part1"
   ]
  },
  {
   "cell_type": "code",
   "execution_count": 25,
   "id": "58e773ad",
   "metadata": {},
   "outputs": [
    {
     "data": {
      "text/plain": [
       "- : int = 1666427\n"
      ]
     },
     "execution_count": 25,
     "metadata": {},
     "output_type": "execute_result"
    }
   ],
   "source": [
    "read_pairs_from_file \"day1_input.txt\" |> day1_part1"
   ]
  },
  {
   "cell_type": "markdown",
   "id": "296393c8",
   "metadata": {},
   "source": [
    "### Part 2\n",
    "\n",
    "Now we've got to count stuff.  There is no need to be especially clever about this."
   ]
  },
  {
   "cell_type": "code",
   "execution_count": 26,
   "id": "9eb89a64",
   "metadata": {},
   "outputs": [
    {
     "data": {
      "text/plain": [
       "val day1_part2 : (Core_kernel.Int.t * Core_kernel.Int.t) list -> int = <fun>\n"
      ]
     },
     "execution_count": 26,
     "metadata": {},
     "output_type": "execute_result"
    }
   ],
   "source": [
    "let day1_part2 pairs =\n",
    "  let (xs, ys) = unzip pairs in\n",
    "  let count x = List.count ys ((=) x) in\n",
    "    xs\n",
    "    >>| (fun x -> x * (count x))\n",
    "    |> List.fold ~f:(+) ~init:0"
   ]
  },
  {
   "cell_type": "code",
   "execution_count": 27,
   "id": "396566b8",
   "metadata": {},
   "outputs": [
    {
     "data": {
      "text/plain": [
       "- : int = 24316233\n"
      ]
     },
     "execution_count": 27,
     "metadata": {},
     "output_type": "execute_result"
    }
   ],
   "source": [
    "read_pairs_from_file \"day1_input.txt\" |> day1_part2"
   ]
  },
  {
   "cell_type": "markdown",
   "id": "770afe2d",
   "metadata": {},
   "source": [
    "## <a name=\"day2\">Day 2</a>\n",
    "\n",
    "[Link](https://adventofcode.com/2024/day/2)\n",
    "\n",
    "### Part 1\n",
    "\n",
    "Today we have to take adjacent differences of things."
   ]
  },
  {
   "cell_type": "code",
   "execution_count": 28,
   "id": "409ecf47",
   "metadata": {},
   "outputs": [
    {
     "data": {
      "text/plain": [
       "val differences : int list -> int list = <fun>\n"
      ]
     },
     "execution_count": 28,
     "metadata": {},
     "output_type": "execute_result"
    }
   ],
   "source": [
    "let rec differences list =\n",
    "  match list with\n",
    "  | [] -> []\n",
    "  | [x] -> [] \n",
    "  | x :: y :: rest -> x - y :: differences (y :: rest)"
   ]
  },
  {
   "cell_type": "code",
   "execution_count": 29,
   "id": "b354bb1a",
   "metadata": {},
   "outputs": [
    {
     "data": {
      "text/plain": [
       "- : int list = [1; 2; 2; 1]\n"
      ]
     },
     "execution_count": 29,
     "metadata": {},
     "output_type": "execute_result"
    }
   ],
   "source": [
    "differences [7; 6; 4; 2; 1]"
   ]
  },
  {
   "cell_type": "markdown",
   "id": "45098361",
   "metadata": {},
   "source": [
    "I kind of wish this were point free?  Like I wanted to write `increasing || decreasing`.  Oh well."
   ]
  },
  {
   "cell_type": "code",
   "execution_count": 30,
   "id": "c2a9aa7f",
   "metadata": {},
   "outputs": [
    {
     "data": {
      "text/plain": [
       "val safe : int list -> bool = <fun>\n"
      ]
     },
     "execution_count": 30,
     "metadata": {},
     "output_type": "execute_result"
    },
    {
     "data": {
      "text/plain": [
       "val count : ('a -> bool) -> 'a list -> int = <fun>\n"
      ]
     },
     "execution_count": 30,
     "metadata": {},
     "output_type": "execute_result"
    }
   ],
   "source": [
    "let safe levels =\n",
    "  let decreasing = List.for_all ~f:(fun(x) -> x < 0) in\n",
    "  let increasing = List.for_all ~f:(fun(x) -> x > 0) in\n",
    "  let in_range = List.for_all ~f:(fun(x) -> abs(x) >= 1 && abs(x) <= 3) in\n",
    "  let check xs = (increasing xs || decreasing xs) && in_range xs in\n",
    "    check (differences levels)\n",
    "\n",
    "let count safety_check data =\n",
    "  data\n",
    "  |> List.filter ~f:safety_check\n",
    "  |> List.length"
   ]
  },
  {
   "cell_type": "code",
   "execution_count": 31,
   "id": "03378041",
   "metadata": {},
   "outputs": [
    {
     "data": {
      "text/plain": [
       "- : int = 2\n"
      ]
     },
     "execution_count": 31,
     "metadata": {},
     "output_type": "execute_result"
    }
   ],
   "source": [
    "read_numbers_from_file \"day2_example.txt\" |> count safe"
   ]
  },
  {
   "cell_type": "code",
   "execution_count": 32,
   "id": "d9752478",
   "metadata": {},
   "outputs": [
    {
     "data": {
      "text/plain": [
       "- : int = 442\n"
      ]
     },
     "execution_count": 32,
     "metadata": {},
     "output_type": "execute_result"
    }
   ],
   "source": [
    "read_numbers_from_file \"day2_input.txt\" |> count safe"
   ]
  },
  {
   "cell_type": "markdown",
   "id": "a993f2a4",
   "metadata": {},
   "source": [
    "### Part 2\n",
    "\n",
    "Now we have to try fudging the data, I guess."
   ]
  },
  {
   "cell_type": "code",
   "execution_count": 33,
   "id": "ebeae126",
   "metadata": {},
   "outputs": [
    {
     "data": {
      "text/plain": [
       "val ablate : 'a list -> 'a list list = <fun>\n"
      ]
     },
     "execution_count": 33,
     "metadata": {},
     "output_type": "execute_result"
    }
   ],
   "source": [
    "let rec ablate xs =\n",
    "  match xs with\n",
    "  | [] -> []\n",
    "  | x :: rest -> rest :: (List.map ~f:(fun(xs) -> x :: xs)) (ablate rest)"
   ]
  },
  {
   "cell_type": "code",
   "execution_count": 34,
   "id": "f9a3b058",
   "metadata": {},
   "outputs": [
    {
     "data": {
      "text/plain": [
       "- : int list list = [[2; 3; 4]; [1; 3; 4]; [1; 2; 4]; [1; 2; 3]]\n"
      ]
     },
     "execution_count": 34,
     "metadata": {},
     "output_type": "execute_result"
    }
   ],
   "source": [
    "ablate [1;2;3;4]"
   ]
  },
  {
   "cell_type": "code",
   "execution_count": 35,
   "id": "d4c53e9e",
   "metadata": {},
   "outputs": [
    {
     "data": {
      "text/plain": [
       "val safeish : int list -> bool = <fun>\n"
      ]
     },
     "execution_count": 35,
     "metadata": {},
     "output_type": "execute_result"
    }
   ],
   "source": [
    "let safeish levels =\n",
    "  safe levels ||\n",
    "  (ablate levels |> List.exists ~f:safe)"
   ]
  },
  {
   "cell_type": "code",
   "execution_count": 36,
   "id": "0c11089c",
   "metadata": {},
   "outputs": [
    {
     "data": {
      "text/plain": [
       "- : int = 4\n"
      ]
     },
     "execution_count": 36,
     "metadata": {},
     "output_type": "execute_result"
    }
   ],
   "source": [
    "read_numbers_from_file \"day2_example.txt\" |> count safeish"
   ]
  },
  {
   "cell_type": "code",
   "execution_count": 37,
   "id": "aee5acd0",
   "metadata": {},
   "outputs": [
    {
     "data": {
      "text/plain": [
       "- : int = 493\n"
      ]
     },
     "execution_count": 37,
     "metadata": {},
     "output_type": "execute_result"
    }
   ],
   "source": [
    "read_numbers_from_file \"day2_input.txt\" |> count safeish"
   ]
  },
  {
   "cell_type": "markdown",
   "id": "f070e5df",
   "metadata": {},
   "source": [
    "## <a name=\"day3\">Day 3</a>\n",
    "\n",
    "### Part 1\n",
    "\n",
    "Today we are parsing instructions from strings full of junk.  There is a builtin regex library from, like, the 90s.  Since we're already doing this core stuff, I guess we may as well just use re2 and unlock the _sheer power_ of NFAs.  Stand back."
   ]
  },
  {
   "cell_type": "code",
   "execution_count": 38,
   "id": "71482679",
   "metadata": {},
   "outputs": [
    {
     "name": "stderr",
     "output_type": "stream",
     "text": [
      "/Users/jered/.opam/4.12.0/lib/core_kernel/rope: added to search path\n",
      "/Users/jered/.opam/4.12.0/lib/core_kernel/rope/rope.cma: loaded\n",
      "/Users/jered/.opam/4.12.0/lib/re2/c: added to search path\n",
      "/Users/jered/.opam/4.12.0/lib/re2/c/re2_c.cma: loaded\n",
      "/Users/jered/.opam/4.12.0/lib/re2: added to search path\n",
      "/Users/jered/.opam/4.12.0/lib/re2/re2.cma: loaded\n"
     ]
    }
   ],
   "source": [
    "#require \"re2\" ;;"
   ]
  },
  {
   "cell_type": "code",
   "execution_count": 39,
   "id": "c1ed4bda",
   "metadata": {},
   "outputs": [
    {
     "data": {
      "text/plain": [
       "val find_day3_instructions : string -> (int * int) list = <fun>\n"
      ]
     },
     "execution_count": 39,
     "metadata": {},
     "output_type": "execute_result"
    }
   ],
   "source": [
    "let find_day3_instructions s =\n",
    "  let mul = Re2.create_exn {|mul\\((\\d+,\\d+)\\)|} in\n",
    "  Re2.find_all_exn ~sub:(`Index 1) mul s\n",
    "  >>| fun (xs) -> (String.split ~on:',' xs\n",
    "                   >>| int_of_string\n",
    "                   |> pair_of_list)"
   ]
  },
  {
   "cell_type": "code",
   "execution_count": 40,
   "id": "d4a24a5b",
   "metadata": {},
   "outputs": [
    {
     "data": {
      "text/plain": [
       "- : (int * int) list = [(2, 4); (5, 5); (11, 8); (8, 5)]\n"
      ]
     },
     "execution_count": 40,
     "metadata": {},
     "output_type": "execute_result"
    }
   ],
   "source": [
    "find_day3_instructions \"xmul(2,4)%&mul[3,7]!@^do_not_mul(5,5)+mul(32,64]then(mul(11,8)mul(8,5))\""
   ]
  },
  {
   "cell_type": "code",
   "execution_count": 41,
   "id": "d59ca4c9",
   "metadata": {},
   "outputs": [
    {
     "data": {
      "text/plain": [
       "val day3_part1 : string -> int = <fun>\n"
      ]
     },
     "execution_count": 41,
     "metadata": {},
     "output_type": "execute_result"
    }
   ],
   "source": [
    "let day3_part1 s =\n",
    "  find_day3_instructions s\n",
    "  >>| (fun ((a, b)) -> a * b)\n",
    "   |> fold ~init:0 ~f:(+)"
   ]
  },
  {
   "cell_type": "code",
   "execution_count": 42,
   "id": "df51118a",
   "metadata": {},
   "outputs": [
    {
     "data": {
      "text/plain": [
       "- : int = 161\n"
      ]
     },
     "execution_count": 42,
     "metadata": {},
     "output_type": "execute_result"
    }
   ],
   "source": [
    "In_channel.read_all \"day3_example.txt\" |> day3_part1"
   ]
  },
  {
   "cell_type": "code",
   "execution_count": 43,
   "id": "99e3581a",
   "metadata": {},
   "outputs": [
    {
     "data": {
      "text/plain": [
       "- : int = 170778545\n"
      ]
     },
     "execution_count": 43,
     "metadata": {},
     "output_type": "execute_result"
    }
   ],
   "source": [
    "In_channel.read_all \"day3_input.txt\" |> day3_part1"
   ]
  },
  {
   "cell_type": "markdown",
   "id": "f46635c7",
   "metadata": {},
   "source": [
    "### Part 2\n",
    "\n",
    "Oh good, now we get to parse more instructions - we can turn multiplying on and off, how convenient.  Let's use a type thing."
   ]
  },
  {
   "cell_type": "code",
   "execution_count": 44,
   "id": "91c9c6ef",
   "metadata": {},
   "outputs": [
    {
     "data": {
      "text/plain": [
       "type day3_instruction = Day3Mul of int * int | Day3Do | Day3Dont\n"
      ]
     },
     "execution_count": 44,
     "metadata": {},
     "output_type": "execute_result"
    }
   ],
   "source": [
    "type day3_instruction =\n",
    "  Day3Mul of int * int\n",
    "  | Day3Do\n",
    "  | Day3Dont"
   ]
  },
  {
   "cell_type": "code",
   "execution_count": 45,
   "id": "8488b3f2",
   "metadata": {},
   "outputs": [
    {
     "data": {
      "text/plain": [
       "val parse_day3_program : string -> day3_instruction list = <fun>\n"
      ]
     },
     "execution_count": 45,
     "metadata": {},
     "output_type": "execute_result"
    }
   ],
   "source": [
    "let parse_day3_program s =\n",
    "  let opcode = Re2.create_exn {|(don't\\(\\)|do\\(\\)|mul\\(\\d+,\\d+\\))|} in\n",
    "  let parse_opcode args =\n",
    "    match args with\n",
    "    | \"mul\" :: x :: y :: rest -> Day3Mul (int_of_string x, int_of_string y)\n",
    "    | \"do\" :: rest -> Day3Do\n",
    "    | \"don't\" :: rest -> Day3Dont\n",
    "    | _ -> failwith \"unknown instruction\" in\n",
    "  Re2.find_all_exn ~sub:(`Index 1) opcode s\n",
    "  >>| String.split_on_chars ~on:[','; '('; ')']\n",
    "  >>| parse_opcode"
   ]
  },
  {
   "cell_type": "code",
   "execution_count": 46,
   "id": "ab5fd72d",
   "metadata": {},
   "outputs": [
    {
     "data": {
      "text/plain": [
       "- : day3_instruction list =\n",
       "[Day3Mul (2, 4); Day3Dont; Day3Mul (5, 5); Day3Mul (11, 8); Day3Do;\n",
       " Day3Mul (8, 5)]\n"
      ]
     },
     "execution_count": 46,
     "metadata": {},
     "output_type": "execute_result"
    }
   ],
   "source": [
    "parse_day3_program \"xmul(2,4)&mul[3,7]!^don't()_mul(5,5)+mul(32,64](mul(11,8)undo()?mul(8,5))\""
   ]
  },
  {
   "cell_type": "markdown",
   "id": "fd6d67de",
   "metadata": {},
   "source": [
    "Let's shake things up and evaluate this imperatively.  Mwahaha, purists, take that."
   ]
  },
  {
   "cell_type": "code",
   "execution_count": 47,
   "id": "8aa4a053",
   "metadata": {},
   "outputs": [
    {
     "data": {
      "text/plain": [
       "val eval_day3_program : string -> int = <fun>\n"
      ]
     },
     "execution_count": 47,
     "metadata": {},
     "output_type": "execute_result"
    }
   ],
   "source": [
    "let eval_day3_program s =\n",
    "  let mul_enabled = ref true in\n",
    "  let eval instruction =\n",
    "    match instruction with\n",
    "    | Day3Do -> mul_enabled := true; 0\n",
    "    | Day3Dont -> mul_enabled := false; 0\n",
    "    | Day3Mul (x, y) -> if !mul_enabled then x * y else 0 in\n",
    "  parse_day3_program s\n",
    "  >>| eval\n",
    "  |> fold ~init:0 ~f:(+)"
   ]
  },
  {
   "cell_type": "code",
   "execution_count": 48,
   "id": "daad1a4c",
   "metadata": {},
   "outputs": [
    {
     "data": {
      "text/plain": [
       "- : int = 48\n"
      ]
     },
     "execution_count": 48,
     "metadata": {},
     "output_type": "execute_result"
    }
   ],
   "source": [
    "eval_day3_program \"xmul(2,4)&mul[3,7]!^don't()_mul(5,5)+mul(32,64](mul(11,8)undo()?mul(8,5))\""
   ]
  },
  {
   "cell_type": "code",
   "execution_count": 49,
   "id": "38f47994",
   "metadata": {},
   "outputs": [
    {
     "data": {
      "text/plain": [
       "- : int = 82868252\n"
      ]
     },
     "execution_count": 49,
     "metadata": {},
     "output_type": "execute_result"
    }
   ],
   "source": [
    "In_channel.read_all \"day3_input.txt\" |> eval_day3_program"
   ]
  },
  {
   "cell_type": "markdown",
   "id": "8bd59c91",
   "metadata": {},
   "source": [
    "## <a name=\"day4\">Day 4</a>\n",
    "\n",
    "### Part 1\n",
    "\n",
    "Today we are doing word searches, which I guess means we need arrays.  Let's see how this works."
   ]
  },
  {
   "cell_type": "code",
   "execution_count": 50,
   "id": "8af490f5",
   "metadata": {},
   "outputs": [
    {
     "data": {
      "text/plain": [
       "val read_wordsearch : Base.string -> char Core.Array.t Core.Array.t = <fun>\n"
      ]
     },
     "execution_count": 50,
     "metadata": {},
     "output_type": "execute_result"
    }
   ],
   "source": [
    "let read_wordsearch file_name = read_grid_from_file file_name"
   ]
  },
  {
   "cell_type": "code",
   "execution_count": 51,
   "id": "29206b9b",
   "metadata": {},
   "outputs": [
    {
     "data": {
      "text/plain": [
       "- : char Core.Array.t Core.Array.t =\n",
       "[|[|'M'; 'M'; 'M'; 'S'; 'X'; 'X'; 'M'; 'A'; 'S'; 'M'|];\n",
       "  [|'M'; 'S'; 'A'; 'M'; 'X'; 'M'; 'S'; 'M'; 'S'; 'A'|];\n",
       "  [|'A'; 'M'; 'X'; 'S'; 'X'; 'M'; 'A'; 'A'; 'M'; 'M'|];\n",
       "  [|'M'; 'S'; 'A'; 'M'; 'A'; 'S'; 'M'; 'S'; 'M'; 'X'|];\n",
       "  [|'X'; 'M'; 'A'; 'S'; 'A'; 'M'; 'X'; 'A'; 'M'; 'M'|];\n",
       "  [|'X'; 'X'; 'A'; 'M'; 'M'; 'X'; 'X'; 'A'; 'M'; 'A'|];\n",
       "  [|'S'; 'M'; 'S'; 'M'; 'S'; 'A'; 'S'; 'X'; 'S'; 'S'|];\n",
       "  [|'S'; 'A'; 'X'; 'A'; 'M'; 'A'; 'S'; 'A'; 'A'; 'A'|];\n",
       "  [|'M'; 'A'; 'M'; 'M'; 'M'; 'X'; 'M'; 'M'; 'M'; 'M'|];\n",
       "  [|'M'; 'X'; 'M'; 'X'; 'A'; 'X'; 'M'; 'A'; 'S'; 'X'|]|]\n"
      ]
     },
     "execution_count": 51,
     "metadata": {},
     "output_type": "execute_result"
    }
   ],
   "source": [
    "read_wordsearch \"day4_example.txt\""
   ]
  },
  {
   "cell_type": "code",
   "execution_count": 52,
   "id": "d12b8685",
   "metadata": {},
   "outputs": [
    {
     "data": {
      "text/plain": [
       "val count_matches : string -> Core.Char.t Core.Array.t Core.Array.t -> int =\n",
       "  <fun>\n"
      ]
     },
     "execution_count": 52,
     "metadata": {},
     "output_type": "execute_result"
    }
   ],
   "source": [
    "let count_matches word grid =\n",
    "  let count_matches_at i j di dj =\n",
    "    let len = String.length word in\n",
    "    let found = ref 1 in\n",
    "    for n = 0 to len-1 do\n",
    "      try\n",
    "        let word_char = String.get word n in\n",
    "        let grid_char = grid.(i + di * n).(j + dj * n) in\n",
    "          if Char.(<>) word_char grid_char then found := 0\n",
    "      with\n",
    "        Invalid_argument _ -> found := 0\n",
    "    done; !found in\n",
    "  let matches = ref 0 in\n",
    "    let rows = Array.length grid in\n",
    "    let cols = Array.length grid.(0) in\n",
    "    let dirs = [(-1, -1); (0, -1); (1, -1);\n",
    "                (-1,  0);          (1,  0);\n",
    "                (-1,  1); (0,  1); (1,  1)] in\n",
    "    for i = 0 to rows-1 do\n",
    "      for j = 0 to cols-1 do\n",
    "        let matches_here = dirs\n",
    "          >>| (fun((di, dj)) -> count_matches_at i j di dj)\n",
    "          |> fold ~init:0 ~f:(+) in\n",
    "          matches := !matches + matches_here\n",
    "      done\n",
    "    done; !matches"
   ]
  },
  {
   "cell_type": "markdown",
   "id": "fddb732c",
   "metadata": {},
   "source": [
    "Why doesn't the inequality operator `<>` work right for characters?  That's weird.  This Jane Street library is banana pancakes."
   ]
  },
  {
   "cell_type": "code",
   "execution_count": 53,
   "id": "ae061893",
   "metadata": {},
   "outputs": [
    {
     "data": {
      "text/plain": [
       "- : int = 18\n"
      ]
     },
     "execution_count": 53,
     "metadata": {},
     "output_type": "execute_result"
    }
   ],
   "source": [
    "read_wordsearch \"day4_example.txt\" |> count_matches \"XMAS\""
   ]
  },
  {
   "cell_type": "code",
   "execution_count": 54,
   "id": "646ba630",
   "metadata": {},
   "outputs": [
    {
     "data": {
      "text/plain": [
       "- : int = 2524\n"
      ]
     },
     "execution_count": 54,
     "metadata": {},
     "output_type": "execute_result"
    }
   ],
   "source": [
    "read_wordsearch \"day4_input.txt\" |> count_matches \"XMAS\""
   ]
  },
  {
   "cell_type": "markdown",
   "id": "87181cd3",
   "metadata": {},
   "source": [
    "### Part 2\n",
    "\n",
    "Oh good we have to search a different way.  Let's see..."
   ]
  },
  {
   "cell_type": "code",
   "execution_count": 55,
   "id": "ab0036b5",
   "metadata": {},
   "outputs": [
    {
     "data": {
      "text/plain": [
       "val count_x_mas : Core.Char.t Core.Array.t Core.Array.t -> int = <fun>\n"
      ]
     },
     "execution_count": 55,
     "metadata": {},
     "output_type": "execute_result"
    }
   ],
   "source": [
    "let count_x_mas grid =\n",
    "  let count_crossing_matches_at i j =\n",
    "    try\n",
    "      let ul = grid.(i-1).(j-1) in\n",
    "      let ur = grid.(i-1).(j+1) in\n",
    "      let dl = grid.(i+1).(j-1) in\n",
    "      let dr = grid.(i+1).(j+1) in\n",
    "      if Char.(grid.(i).(j) = 'A') &&\n",
    "        (Char.(ul = 'M') && Char.(dr = 'S') ||\n",
    "         Char.(ul = 'S') && Char.(dr = 'M')) &&\n",
    "        (Char.(ur = 'M') && Char.(dl = 'S') ||\n",
    "         Char.(ur = 'S') && Char.(dl = 'M')) then 1\n",
    "      else 0\n",
    "    with\n",
    "      Invalid_argument _ -> 0 in\n",
    "  let matches = ref 0 in\n",
    "    let rows = Array.length grid in\n",
    "    let cols = Array.length grid.(0) in\n",
    "    for i = 0 to rows-1 do\n",
    "      for j = 0 to cols-1 do\n",
    "        let matches_here = count_crossing_matches_at i j in\n",
    "          matches := !matches + matches_here\n",
    "      done\n",
    "    done; !matches"
   ]
  },
  {
   "cell_type": "code",
   "execution_count": 56,
   "id": "e7a79dd5",
   "metadata": {},
   "outputs": [
    {
     "data": {
      "text/plain": [
       "- : int = 1873\n"
      ]
     },
     "execution_count": 56,
     "metadata": {},
     "output_type": "execute_result"
    }
   ],
   "source": [
    "read_wordsearch \"day4_input.txt\" |>  count_x_mas"
   ]
  },
  {
   "cell_type": "markdown",
   "id": "704e1aad",
   "metadata": {},
   "source": [
    "## <a name=\"day5\">Day 5</a>\n",
    "\n",
    "### Part 1\n",
    "\n",
    "We're given a ~partial~ (seemingly total?) order as a bunch of pairs `x|y` which means x < y, and then a bunch of strings.  We have to check whether the strings are in order.  We'll just build an adjacency matrix in a hash table to store the ordering."
   ]
  },
  {
   "cell_type": "code",
   "execution_count": 57,
   "id": "be420c4c",
   "metadata": {},
   "outputs": [
    {
     "data": {
      "text/plain": [
       "- : (Core.Int.t, int list) Core.Hashtbl.t = <abstr>\n"
      ]
     },
     "execution_count": 57,
     "metadata": {},
     "output_type": "execute_result"
    }
   ],
   "source": [
    "Hashtbl.of_alist_multi (module Int) [(47, 53); (97, 13); (97, 61); (97, 47)]"
   ]
  },
  {
   "cell_type": "code",
   "execution_count": 58,
   "id": "38a26f85",
   "metadata": {},
   "outputs": [
    {
     "data": {
      "text/plain": [
       "type day5_problem = {\n",
       "  order : (Core.Int.t, int list) Core.Hashtbl.t;\n",
       "  test_cases : int list list;\n",
       "}\n"
      ]
     },
     "execution_count": 58,
     "metadata": {},
     "output_type": "execute_result"
    }
   ],
   "source": [
    "type day5_problem = {order: (Core.Int.t, int list) Core.Hashtbl.t; test_cases: int list list}"
   ]
  },
  {
   "cell_type": "code",
   "execution_count": 59,
   "id": "219aee24",
   "metadata": {},
   "outputs": [
    {
     "data": {
      "text/plain": [
       "val read_day5_problem : Base.string -> day5_problem = <fun>\n"
      ]
     },
     "execution_count": 59,
     "metadata": {},
     "output_type": "execute_result"
    }
   ],
   "source": [
    "let read_day5_problem filename =\n",
    "  let lines = In_channel.read_lines filename in\n",
    "  let select char = filter ~f:(fun (line) -> String.contains line char) in\n",
    "  let order =\n",
    "    let parse line = String.split ~on:'|' line >>| int_of_string |> pair_of_list in\n",
    "    lines |> select '|' >>| parse in\n",
    "  let tests =\n",
    "    let parse line = String.split ~on:',' line >>| int_of_string in\n",
    "    lines |> select ',' >>| parse in\n",
    "  {order = Hashtbl.of_alist_multi (module Int) order;\n",
    "   test_cases = tests}"
   ]
  },
  {
   "cell_type": "code",
   "execution_count": 60,
   "id": "9e39d023",
   "metadata": {},
   "outputs": [
    {
     "data": {
      "text/plain": [
       "- : day5_problem =\n",
       "{order = <abstr>;\n",
       " test_cases =\n",
       "  [[75; 47; 61; 53; 29]; [97; 61; 53; 29; 13]; [75; 29; 13];\n",
       "   [75; 97; 47; 61; 53]; [61; 13; 29]; [97; 13; 75; 29; 47]]}\n"
      ]
     },
     "execution_count": 60,
     "metadata": {},
     "output_type": "execute_result"
    }
   ],
   "source": [
    "read_day5_problem \"day5_example.txt\""
   ]
  },
  {
   "cell_type": "code",
   "execution_count": 61,
   "id": "7ffadc73",
   "metadata": {},
   "outputs": [
    {
     "data": {
      "text/plain": [
       "val order_lookup :\n",
       "  ('a, Core_kernel.Int.t list) Core.Hashtbl.t ->\n",
       "  'a Core.Hashtbl.key -> Core_kernel.Int.t -> bool = <fun>\n"
      ]
     },
     "execution_count": 61,
     "metadata": {},
     "output_type": "execute_result"
    }
   ],
   "source": [
    "let order_lookup order x y =\n",
    "  try\n",
    "    Hashtbl.find_exn order x\n",
    "    |> List.exists ~f:((=) y)\n",
    "  with\n",
    "  | Stdlib.Not_found | Not_found_s _ -> false"
   ]
  },
  {
   "cell_type": "code",
   "execution_count": 62,
   "id": "66641481",
   "metadata": {},
   "outputs": [
    {
     "data": {
      "text/plain": [
       "val day5_compare :\n",
       "  (Core_kernel.Int.t, Core_kernel.Int.t list) Core.Hashtbl.t ->\n",
       "  Core_kernel.Int.t Core.Hashtbl.key -> Core_kernel.Int.t -> int = <fun>\n"
      ]
     },
     "execution_count": 62,
     "metadata": {},
     "output_type": "execute_result"
    }
   ],
   "source": [
    "let day5_compare order x y =\n",
    "  if order_lookup order x y then -1\n",
    "  else if order_lookup order y x then +1\n",
    "  else 0"
   ]
  },
  {
   "cell_type": "code",
   "execution_count": 63,
   "id": "0e41b7c6",
   "metadata": {},
   "outputs": [
    {
     "data": {
      "text/plain": [
       "val in_order :\n",
       "  (Core_kernel.Int.t, Core_kernel.Int.t list) Core.Hashtbl.t ->\n",
       "  Core_kernel.Int.t Core.Hashtbl.key list -> bool = <fun>\n"
      ]
     },
     "execution_count": 63,
     "metadata": {},
     "output_type": "execute_result"
    }
   ],
   "source": [
    "let in_order order xs =\n",
    "  let len = length xs in\n",
    "  let valid = ref true in\n",
    "  (* It would be nicer to write this with a cartesian product that doesn't repeat pairs *)\n",
    "  for i = 0 to len-2 do\n",
    "    for j = i+1 to len-1 do\n",
    "      if day5_compare order (nth_exn xs i) (nth_exn xs j) > 0 then\n",
    "        valid := false\n",
    "    done\n",
    "  done; !valid"
   ]
  },
  {
   "cell_type": "code",
   "execution_count": 64,
   "id": "3035c312",
   "metadata": {},
   "outputs": [
    {
     "data": {
      "text/plain": [
       "val day5_part1 : Base.string -> int = <fun>\n"
      ]
     },
     "execution_count": 64,
     "metadata": {},
     "output_type": "execute_result"
    }
   ],
   "source": [
    "let day5_part1 filename =\n",
    "  let problem = read_day5_problem filename in\n",
    "  let middle xs = nth_exn xs ((length xs) / 2) in\n",
    "  let correctly_ordered = problem.test_cases\n",
    "                        |> filter ~f:(in_order problem.order) in\n",
    "  correctly_ordered >>| middle |> fold ~init:0 ~f:(+)"
   ]
  },
  {
   "cell_type": "code",
   "execution_count": 65,
   "id": "dcc33d02",
   "metadata": {},
   "outputs": [
    {
     "data": {
      "text/plain": [
       "- : int = 143\n"
      ]
     },
     "execution_count": 65,
     "metadata": {},
     "output_type": "execute_result"
    }
   ],
   "source": [
    "day5_part1 \"day5_example.txt\""
   ]
  },
  {
   "cell_type": "code",
   "execution_count": 66,
   "id": "02289e06",
   "metadata": {},
   "outputs": [
    {
     "data": {
      "text/plain": [
       "- : int = 6242\n"
      ]
     },
     "execution_count": 66,
     "metadata": {},
     "output_type": "execute_result"
    }
   ],
   "source": [
    "day5_part1 \"day5_input.txt\""
   ]
  },
  {
   "cell_type": "markdown",
   "id": "157d56d2",
   "metadata": {},
   "source": [
    "### Part 2\n",
    "\n",
    "Now we have to sort stuff."
   ]
  },
  {
   "cell_type": "code",
   "execution_count": 67,
   "id": "fcc9b68c",
   "metadata": {},
   "outputs": [
    {
     "data": {
      "text/plain": [
       "val day5_part2 : Base.string -> int = <fun>\n"
      ]
     },
     "execution_count": 67,
     "metadata": {},
     "output_type": "execute_result"
    }
   ],
   "source": [
    "let day5_part2 filename =\n",
    "  let problem = read_day5_problem filename in\n",
    "  let middle xs = nth_exn xs ((length xs) / 2) in\n",
    "  let incorrectly_ordered = problem.test_cases\n",
    "                          |> filter ~f:(fun(xs) -> not (in_order problem.order xs)) in\n",
    "  let compare x y = day5_compare problem.order x y in\n",
    "  let sort xs = List.sort ~compare:compare xs in\n",
    "  incorrectly_ordered >>| sort >>| middle |> fold ~init:0 ~f:(+)"
   ]
  },
  {
   "cell_type": "code",
   "execution_count": 68,
   "id": "5febbf8b",
   "metadata": {},
   "outputs": [
    {
     "data": {
      "text/plain": [
       "- : int = 123\n"
      ]
     },
     "execution_count": 68,
     "metadata": {},
     "output_type": "execute_result"
    }
   ],
   "source": [
    "day5_part2 \"day5_example.txt\""
   ]
  },
  {
   "cell_type": "code",
   "execution_count": 69,
   "id": "5c9c8ae7",
   "metadata": {},
   "outputs": [
    {
     "data": {
      "text/plain": [
       "- : int = 5169\n"
      ]
     },
     "execution_count": 69,
     "metadata": {},
     "output_type": "execute_result"
    }
   ],
   "source": [
    "day5_part2 \"day5_input.txt\""
   ]
  },
  {
   "cell_type": "markdown",
   "id": "8eaa3b45",
   "metadata": {},
   "source": [
    "## <a name=\"day6\">Day 6</a>\n",
    "\n",
    "### Part 1\n",
    "\n",
    "Today we are plotting lines in a grid I guess.  Haven't we already read grids from files?  Maybe I will go factor out a helper function for that."
   ]
  },
  {
   "cell_type": "code",
   "execution_count": 70,
   "id": "6d9fc85c",
   "metadata": {},
   "outputs": [
    {
     "data": {
      "text/plain": [
       "val read_map : Base.string -> char Core.Array.t Core.Array.t = <fun>\n"
      ]
     },
     "execution_count": 70,
     "metadata": {},
     "output_type": "execute_result"
    }
   ],
   "source": [
    "let read_map file_name = read_grid_from_file file_name"
   ]
  },
  {
   "cell_type": "code",
   "execution_count": 71,
   "id": "d04fe557",
   "metadata": {},
   "outputs": [
    {
     "data": {
      "text/plain": [
       "- : char Core.Array.t Core.Array.t =\n",
       "[|[|'.'; '.'; '.'; '.'; '#'; '.'; '.'; '.'; '.'; '.'|];\n",
       "  [|'.'; '.'; '.'; '.'; '.'; '.'; '.'; '.'; '.'; '#'|];\n",
       "  [|'.'; '.'; '.'; '.'; '.'; '.'; '.'; '.'; '.'; '.'|];\n",
       "  [|'.'; '.'; '#'; '.'; '.'; '.'; '.'; '.'; '.'; '.'|];\n",
       "  [|'.'; '.'; '.'; '.'; '.'; '.'; '.'; '#'; '.'; '.'|];\n",
       "  [|'.'; '.'; '.'; '.'; '.'; '.'; '.'; '.'; '.'; '.'|];\n",
       "  [|'.'; '#'; '.'; '.'; '^'; '.'; '.'; '.'; '.'; '.'|];\n",
       "  [|'.'; '.'; '.'; '.'; '.'; '.'; '.'; '.'; '#'; '.'|];\n",
       "  [|'#'; '.'; '.'; '.'; '.'; '.'; '.'; '.'; '.'; '.'|];\n",
       "  [|'.'; '.'; '.'; '.'; '.'; '.'; '#'; '.'; '.'; '.'|]|]\n"
      ]
     },
     "execution_count": 71,
     "metadata": {},
     "output_type": "execute_result"
    }
   ],
   "source": [
    "read_map \"day6_example.txt\""
   ]
  },
  {
   "cell_type": "markdown",
   "id": "959afa68",
   "metadata": {},
   "source": [
    "Now we need to simulate a guard walking around.  Wow, ocaml's array library is really stilted for fp, or I am just not getting it.  I guess I will just keep it simple and use dumb imperative code."
   ]
  },
  {
   "cell_type": "code",
   "execution_count": 72,
   "id": "33209c6f",
   "metadata": {},
   "outputs": [
    {
     "data": {
      "text/plain": [
       "val find_in_grid : ('a -> bool) -> 'a Core.Array.t Core.Array.t -> int * int =\n",
       "  <fun>\n"
      ]
     },
     "execution_count": 72,
     "metadata": {},
     "output_type": "execute_result"
    }
   ],
   "source": [
    "let find_in_grid p grid =\n",
    "  let pos = ref (-1, -1)\n",
    "  and rows = Array.length grid\n",
    "  and cols = Array.length grid.(0) in\n",
    "  for i = 0 to rows-1 do\n",
    "    for j = 0 to cols-1 do\n",
    "      if p grid.(i).(j) then pos := (i, j)\n",
    "    done\n",
    "  done; !pos"
   ]
  },
  {
   "cell_type": "code",
   "execution_count": 73,
   "id": "8ab7e014",
   "metadata": {},
   "outputs": [
    {
     "data": {
      "text/plain": [
       "- : int * int = (6, 4)\n"
      ]
     },
     "execution_count": 73,
     "metadata": {},
     "output_type": "execute_result"
    }
   ],
   "source": [
    "read_map \"day6_example.txt\" |> find_in_grid (Char.(=) '^')"
   ]
  },
  {
   "cell_type": "markdown",
   "id": "4869425c",
   "metadata": {},
   "source": [
    "I am going to have a whole terrible grid library by the end of the month..."
   ]
  },
  {
   "cell_type": "code",
   "execution_count": 74,
   "id": "69c615d8",
   "metadata": {},
   "outputs": [
    {
     "data": {
      "text/plain": [
       "val simulate_guard : Core.Char.t Core.Array.t Core.Array.t -> int = <fun>\n"
      ]
     },
     "execution_count": 74,
     "metadata": {},
     "output_type": "execute_result"
    }
   ],
   "source": [
    "let simulate_guard grid =\n",
    "  let start = find_in_grid (Char.(=) '^') grid\n",
    "  and turn dir = (snd dir, - fst dir)\n",
    "  (* I guess Core kept the highly useful polymorphic stuff, but put it in \"Poly\" libraries... *)\n",
    "  and count_distinct_positions path =\n",
    "    Hash_set.Poly.of_list (path >>| fst) |> Hash_set.length in\n",
    "  let rec move pos dir path =\n",
    "    let forward = (fst pos + fst dir, snd pos + snd dir) in\n",
    "    try\n",
    "      match find path (Poly.(=) (forward, dir)) with\n",
    "      | Some _ -> path\n",
    "      | None ->\n",
    "        match grid.(fst forward).(snd forward) with\n",
    "        | '#' -> move pos (turn dir) ((pos, turn dir) :: path)\n",
    "        | _ -> move forward dir ((forward, dir) :: path)\n",
    "    with\n",
    "      Invalid_argument _ -> path in\n",
    "  let guard_path = move start (-1, 0) [(start, (-1, 0))] in\n",
    "  count_distinct_positions guard_path"
   ]
  },
  {
   "cell_type": "code",
   "execution_count": 75,
   "id": "79273099",
   "metadata": {},
   "outputs": [
    {
     "data": {
      "text/plain": [
       "- : int = 41\n"
      ]
     },
     "execution_count": 75,
     "metadata": {},
     "output_type": "execute_result"
    }
   ],
   "source": [
    "read_map \"day6_example.txt\" |> simulate_guard"
   ]
  },
  {
   "cell_type": "code",
   "execution_count": 76,
   "id": "a5b2585c",
   "metadata": {},
   "outputs": [
    {
     "data": {
      "text/plain": [
       "- : int = 4663\n"
      ]
     },
     "execution_count": 76,
     "metadata": {},
     "output_type": "execute_result"
    }
   ],
   "source": [
    "read_map \"day6_input.txt\" |> simulate_guard"
   ]
  },
  {
   "cell_type": "markdown",
   "id": "1c6f6c54",
   "metadata": {},
   "source": [
    "### Part 2\n",
    "\n",
    "Now we have to place obstacles to make the guard loop.  The grid is only 130 x 130 so we do not need to be especially clever - we'll just try all the possibilities.  But we should probably use a hash set directly to detect loops now."
   ]
  },
  {
   "cell_type": "code",
   "execution_count": 77,
   "id": "e370e0e8",
   "metadata": {},
   "outputs": [
    {
     "data": {
      "text/plain": [
       "val count_ways_to_loop_guard : Core.Char.t Core.Array.t Core.Array.t -> int =\n",
       "  <fun>\n"
      ]
     },
     "execution_count": 77,
     "metadata": {},
     "output_type": "execute_result"
    }
   ],
   "source": [
    "let count_ways_to_loop_guard grid =\n",
    "  let start = find_in_grid (Char.(=) '^') grid\n",
    "  and turn dir = (snd dir, - fst dir)\n",
    "  and rows = Array.length grid\n",
    "  and cols = Array.length grid.(0) in\n",
    "  let make_history pos = Hash_set.Poly.of_list [(pos, (-1, 0))] in\n",
    "  let rec detect_loop obstacle pos dir history =\n",
    "    let forward = (fst pos + fst dir, snd pos + snd dir) in\n",
    "    try\n",
    "      match Hash_set.mem history (forward, dir) with\n",
    "      | true -> true\n",
    "      | false ->\n",
    "        match grid.(fst forward).(snd forward) with\n",
    "        | '#' ->\n",
    "          Hash_set.add history (pos, turn dir);\n",
    "          detect_loop obstacle pos (turn dir) history\n",
    "        | _ when Poly.(=) forward obstacle -> \n",
    "          Hash_set.add history (pos, turn dir);\n",
    "          detect_loop obstacle pos (turn dir) history\n",
    "        | _ ->\n",
    "          Hash_set.add history (forward, dir);\n",
    "          detect_loop obstacle forward dir history\n",
    "    with\n",
    "      Invalid_argument _ -> false in\n",
    "  let ways = ref 0 in\n",
    "  for i = 0 to rows-1 do\n",
    "    for j = 0 to cols-1 do\n",
    "      if (Poly.(<>) (i, j) start) && detect_loop (i,j) start (-1, 0) (make_history start) then incr ways\n",
    "    done\n",
    "  done; !ways"
   ]
  },
  {
   "cell_type": "code",
   "execution_count": 78,
   "id": "a2d1acef",
   "metadata": {},
   "outputs": [
    {
     "data": {
      "text/plain": [
       "- : int = 6\n"
      ]
     },
     "execution_count": 78,
     "metadata": {},
     "output_type": "execute_result"
    }
   ],
   "source": [
    "read_map \"day6_example.txt\" |> count_ways_to_loop_guard"
   ]
  },
  {
   "cell_type": "code",
   "execution_count": 79,
   "id": "d787b850",
   "metadata": {},
   "outputs": [
    {
     "data": {
      "text/plain": [
       "- : int = 1530\n"
      ]
     },
     "execution_count": 79,
     "metadata": {},
     "output_type": "execute_result"
    }
   ],
   "source": [
    "read_map \"day6_input.txt\" |> count_ways_to_loop_guard"
   ]
  },
  {
   "cell_type": "markdown",
   "id": "495ff578",
   "metadata": {},
   "source": [
    "## <a name=\"day7\">Day 7</a>\n",
    "\n",
    "### Part 1\n",
    "\n",
    "Today we're reading ... possible equations I guess?"
   ]
  },
  {
   "cell_type": "code",
   "execution_count": 80,
   "id": "d0a57ade",
   "metadata": {},
   "outputs": [
    {
     "data": {
      "text/plain": [
       "val read_equations : Base.string -> int list list = <fun>\n"
      ]
     },
     "execution_count": 80,
     "metadata": {},
     "output_type": "execute_result"
    }
   ],
   "source": [
    "let read_equations filename =\n",
    "  let parse line = String.split_on_chars ~on:[' '; ':'] line\n",
    "                 |> filter ~f:(fun(s) -> not (String.is_empty s))\n",
    "                 >>| int_of_string in\n",
    "  In_channel.read_lines filename >>| parse"
   ]
  },
  {
   "cell_type": "code",
   "execution_count": 81,
   "id": "c694f849",
   "metadata": {},
   "outputs": [
    {
     "data": {
      "text/plain": [
       "- : int list list =\n",
       "[[190; 10; 19]; [3267; 81; 40; 27]; [83; 17; 5]; [156; 15; 6];\n",
       " [7290; 6; 8; 6; 15]; [161011; 16; 10; 13]; [192; 17; 8; 14];\n",
       " [21037; 9; 7; 18; 13]; [292; 11; 6; 16; 20]]\n"
      ]
     },
     "execution_count": 81,
     "metadata": {},
     "output_type": "execute_result"
    }
   ],
   "source": [
    "read_equations \"day7_example.txt\""
   ]
  },
  {
   "cell_type": "markdown",
   "id": "2cdd97ab",
   "metadata": {},
   "source": [
    "We have to try inserting + and * operators and evaluating them left-to-right to make the equation work.  We'll use a bitmask to select which operator to insert at each position.  We need to use foldi to apply the operators, but I can't tell from the documentation which parameter is which in the function..."
   ]
  },
  {
   "cell_type": "code",
   "execution_count": 82,
   "id": "1ac42a35",
   "metadata": {},
   "outputs": [
    {
     "data": {
      "text/plain": [
       "- : int = 6\n"
      ]
     },
     "execution_count": 82,
     "metadata": {},
     "output_type": "execute_result"
    }
   ],
   "source": [
    "foldi [0; 0; 0; 0] ~init:0 ~f:(fun i result term -> result + i)"
   ]
  },
  {
   "cell_type": "code",
   "execution_count": 83,
   "id": "a2ed30b3",
   "metadata": {},
   "outputs": [
    {
     "data": {
      "text/plain": [
       "val day7_part1 : Core_kernel.Int.t list list -> int = <fun>\n"
      ]
     },
     "execution_count": 83,
     "metadata": {},
     "output_type": "execute_result"
    }
   ],
   "source": [
    "let day7_part1 equations =\n",
    "  let eval terms ops_mask =\n",
    "    foldi (tl_exn terms)\n",
    "      ~init:(hd_exn terms)\n",
    "      ~f:(fun i result term ->\n",
    "          match (Int.shift_left 1 i) land ops_mask with\n",
    "          | 0 -> result + term\n",
    "          | _ -> result * term) in\n",
    "  let trial equation =\n",
    "    let total = hd_exn equation in\n",
    "    let terms = tl_exn equation in\n",
    "    let num_operations = (length terms) - 1 in\n",
    "    let result = ref 0 in\n",
    "    for ops_mask=0 to (Int.shift_left 1 num_operations)-1 do\n",
    "      if eval terms ops_mask = total then\n",
    "        result := total\n",
    "    done; !result in\n",
    "  equations >>| trial |> fold ~init:0 ~f:(+)"
   ]
  },
  {
   "cell_type": "code",
   "execution_count": 84,
   "id": "adab0bb6",
   "metadata": {},
   "outputs": [
    {
     "data": {
      "text/plain": [
       "- : int = 3749\n"
      ]
     },
     "execution_count": 84,
     "metadata": {},
     "output_type": "execute_result"
    }
   ],
   "source": [
    "read_equations \"day7_example.txt\" |> day7_part1"
   ]
  },
  {
   "cell_type": "code",
   "execution_count": 85,
   "id": "52ba1d4e",
   "metadata": {},
   "outputs": [
    {
     "data": {
      "text/plain": [
       "- : Core.Int.t = 2305843009213693952\n"
      ]
     },
     "execution_count": 85,
     "metadata": {},
     "output_type": "execute_result"
    }
   ],
   "source": [
    "Int.shift_left 1 61 (* ok, I guess we probably have enough precision *)"
   ]
  },
  {
   "cell_type": "code",
   "execution_count": 86,
   "id": "4ebfe6f2",
   "metadata": {},
   "outputs": [
    {
     "data": {
      "text/plain": [
       "- : int = 303876485655\n"
      ]
     },
     "execution_count": 86,
     "metadata": {},
     "output_type": "execute_result"
    }
   ],
   "source": [
    "read_equations \"day7_input.txt\" |> day7_part1"
   ]
  },
  {
   "cell_type": "markdown",
   "id": "862d20a4",
   "metadata": {},
   "source": [
    "### Part 2\n",
    "\n",
    "Now we have to support a third type of operator that does digit concatenation.  This could make for some absurdly large numbers... the largest result in our data has 15 digits, so we'll just bail on anything larger."
   ]
  },
  {
   "cell_type": "code",
   "execution_count": 87,
   "id": "76583f81",
   "metadata": {},
   "outputs": [
    {
     "data": {
      "text/plain": [
       "val day7_part2 : Core_kernel.Int.t list list -> int = <fun>\n"
      ]
     },
     "execution_count": 87,
     "metadata": {},
     "output_type": "execute_result"
    }
   ],
   "source": [
    "let day7_part2 equations =\n",
    "  let digit_cat a b =\n",
    "    let sa = string_of_int a and sb = string_of_int b in\n",
    "    if (String.length sa) + (String.length sb) > 15 then a + b\n",
    "    else int_of_string (sa ^ sb) in\n",
    "  let eval terms ops_mask =\n",
    "    foldi (tl_exn terms)\n",
    "      ~init:(hd_exn terms)\n",
    "      ~f:(fun i result term ->\n",
    "          match (ops_mask / (Int.pow 3 i)) mod 3 with\n",
    "          | 2 -> digit_cat result term \n",
    "          | 1 -> result + term\n",
    "          | _ -> result * term) in\n",
    "  let trial equation =\n",
    "    let total = hd_exn equation in\n",
    "    let terms = tl_exn equation in\n",
    "    let num_operations = (length terms) - 1 in\n",
    "    let result = ref 0 in\n",
    "    for ops_mask=0 to (Int.pow 3 num_operations)-1 do\n",
    "      if eval terms ops_mask = total then\n",
    "        result := total\n",
    "    done; !result in\n",
    "  equations >>| trial |> fold ~init:0 ~f:(+)"
   ]
  },
  {
   "cell_type": "code",
   "execution_count": 88,
   "id": "6c7d34d1",
   "metadata": {},
   "outputs": [
    {
     "data": {
      "text/plain": [
       "- : int = 11387\n"
      ]
     },
     "execution_count": 88,
     "metadata": {},
     "output_type": "execute_result"
    }
   ],
   "source": [
    "read_equations \"day7_example.txt\" |> day7_part2"
   ]
  },
  {
   "cell_type": "code",
   "execution_count": 89,
   "id": "d15a5413",
   "metadata": {},
   "outputs": [
    {
     "data": {
      "text/plain": [
       "- : int = 146111650210682\n"
      ]
     },
     "execution_count": 89,
     "metadata": {},
     "output_type": "execute_result"
    }
   ],
   "source": [
    "read_equations \"day7_input.txt\" |> day7_part2"
   ]
  },
  {
   "cell_type": "markdown",
   "id": "1be90298",
   "metadata": {},
   "source": [
    "## <a name=\"day8\">Day 8</a>\n",
    "\n",
    "### Part 1\n",
    "\n",
    "Today we're trying to map out \"antinodes\", points which are colinear with two others.  The input is given as a grid, but it seems like we really just want some points."
   ]
  },
  {
   "cell_type": "code",
   "execution_count": 90,
   "id": "2533b1cf",
   "metadata": {},
   "outputs": [
    {
     "data": {
      "text/plain": [
       "type day8_antennas = {\n",
       "  size : int;\n",
       "  positions : (char, (int * int) list) Core.Hashtbl.Poly.t;\n",
       "}\n"
      ]
     },
     "execution_count": 90,
     "metadata": {},
     "output_type": "execute_result"
    }
   ],
   "source": [
    "type day8_antennas =\n",
    "  {size: int;\n",
    "   positions: (char, (int * int) list) Core.Hashtbl.Poly.t}"
   ]
  },
  {
   "cell_type": "code",
   "execution_count": 91,
   "id": "b5e236a9",
   "metadata": {},
   "outputs": [
    {
     "data": {
      "text/plain": [
       "val read_antennas : Base.string -> day8_antennas = <fun>\n"
      ]
     },
     "execution_count": 91,
     "metadata": {},
     "output_type": "execute_result"
    }
   ],
   "source": [
    "let read_antennas filename =\n",
    "  let grid = read_grid_from_file filename in\n",
    "  let size = Array.length grid in\n",
    "  let chars_and_points = ref [] in\n",
    "    for i=0 to size-1 do\n",
    "      for j=0 to size-1 do\n",
    "        let here = grid.(i).(j) in\n",
    "        if Char.(here <> '.') then\n",
    "          chars_and_points := (here, (i, j)) :: !chars_and_points\n",
    "      done\n",
    "    done;\n",
    "    {size=size;\n",
    "     positions=Hashtbl.Poly.of_alist_multi !chars_and_points}"
   ]
  },
  {
   "cell_type": "code",
   "execution_count": 92,
   "id": "e6bc0cf6",
   "metadata": {},
   "outputs": [
    {
     "data": {
      "text/plain": [
       "- : (int * int) list list =\n",
       "[[(1, 8); (2, 5); (3, 7); (4, 4)]; [(5, 6); (8, 8); (9, 9)]]\n"
      ]
     },
     "execution_count": 92,
     "metadata": {},
     "output_type": "execute_result"
    }
   ],
   "source": [
    "let test_ant = read_antennas \"day8_example.txt\" in\n",
    "  Hashtbl.data test_ant.positions"
   ]
  },
  {
   "cell_type": "markdown",
   "id": "bb7cd564",
   "metadata": {},
   "source": [
    "We're going to want to look at pairs of points... this is the second time we've wanted a `cartesian_product` of distinct items, so let's just write that (I made a `pairs` helper up above)."
   ]
  },
  {
   "cell_type": "code",
   "execution_count": 93,
   "id": "25b07d06",
   "metadata": {},
   "outputs": [
    {
     "data": {
      "text/plain": [
       "val find_antinodes : day8_antennas -> int = <fun>\n"
      ]
     },
     "execution_count": 93,
     "metadata": {},
     "output_type": "execute_result"
    }
   ],
   "source": [
    "let find_antinodes antennas =\n",
    "  let size = antennas.size in\n",
    "  let in_bounds (x1, y1) = x1 >= 0 && y1 >= 0 && x1 < size && y1 < size in\n",
    "  let delta (x1, y1) (x2, y2) = (x1 - x2, y1 - y2) in\n",
    "  let antinodes_for_points ((x1, y1), (x2, y2)) =\n",
    "    let (dx, dy) = delta (x1, y1) (x2, y2) in\n",
    "    [(x1 + dx, y1 + dy); (x2 - dx, y2 - dy)] in\n",
    "  Hashtbl.data antennas.positions >>| pairs\n",
    "  >>| concat_map ~f:antinodes_for_points |> concat\n",
    "  |> filter ~f:in_bounds\n",
    "  |> Hash_set.Poly.of_list |> Hash_set.length"
   ]
  },
  {
   "cell_type": "code",
   "execution_count": 94,
   "id": "f0b794a1",
   "metadata": {},
   "outputs": [
    {
     "data": {
      "text/plain": [
       "- : int = 14\n"
      ]
     },
     "execution_count": 94,
     "metadata": {},
     "output_type": "execute_result"
    }
   ],
   "source": [
    "read_antennas \"day8_example.txt\" |> find_antinodes"
   ]
  },
  {
   "cell_type": "code",
   "execution_count": 95,
   "id": "c6123f63",
   "metadata": {},
   "outputs": [
    {
     "data": {
      "text/plain": [
       "- : int = 252\n"
      ]
     },
     "execution_count": 95,
     "metadata": {},
     "output_type": "execute_result"
    }
   ],
   "source": [
    "read_antennas \"day8_input.txt\" |> find_antinodes"
   ]
  },
  {
   "cell_type": "markdown",
   "id": "e80211dd",
   "metadata": {},
   "source": [
    "### Part 2\n",
    "\n",
    "Now we have to find even more colinear points.  List comprehensions might be kind of nice... I guess I will use this crummy iota thing instead."
   ]
  },
  {
   "cell_type": "code",
   "execution_count": 96,
   "id": "e2926366",
   "metadata": {},
   "outputs": [
    {
     "data": {
      "text/plain": [
       "- : int list = [-5; -4; -3; -2; -1; 0; 1; 2; 3; 4]\n"
      ]
     },
     "execution_count": 96,
     "metadata": {},
     "output_type": "execute_result"
    }
   ],
   "source": [
    "range (-5) 5"
   ]
  },
  {
   "cell_type": "code",
   "execution_count": 97,
   "id": "c7feddb4",
   "metadata": {},
   "outputs": [
    {
     "data": {
      "text/plain": [
       "val find_more_antinodes : day8_antennas -> int = <fun>\n"
      ]
     },
     "execution_count": 97,
     "metadata": {},
     "output_type": "execute_result"
    }
   ],
   "source": [
    "let find_more_antinodes antennas =\n",
    "  let size = antennas.size in\n",
    "  let in_bounds (x1, y1) = x1 >= 0 && y1 >= 0 && x1 < size && y1 < size in\n",
    "  let delta (x1, y1) (x2, y2) = (x1 - x2, y1 - y2) in\n",
    "  let antinodes_for_points ((x1, y1), (x2, y2)) =\n",
    "    let (dx, dy) = delta (x1, y1) (x2, y2) in\n",
    "      (range (-size) size >>| fun d -> (x1 + d * dx, y1 + d * dy))\n",
    "      |> filter ~f:in_bounds in\n",
    "  Hashtbl.data antennas.positions >>| pairs\n",
    "  >>| concat_map ~f:antinodes_for_points |> concat\n",
    "  |> Hash_set.Poly.of_list |> Hash_set.length"
   ]
  },
  {
   "cell_type": "code",
   "execution_count": 98,
   "id": "728530f3",
   "metadata": {},
   "outputs": [
    {
     "data": {
      "text/plain": [
       "- : int = 34\n"
      ]
     },
     "execution_count": 98,
     "metadata": {},
     "output_type": "execute_result"
    }
   ],
   "source": [
    "read_antennas \"day8_example.txt\" |> find_more_antinodes"
   ]
  },
  {
   "cell_type": "code",
   "execution_count": 99,
   "id": "55b1b607",
   "metadata": {},
   "outputs": [
    {
     "data": {
      "text/plain": [
       "- : int = 839\n"
      ]
     },
     "execution_count": 99,
     "metadata": {},
     "output_type": "execute_result"
    }
   ],
   "source": [
    "read_antennas \"day8_input.txt\" |> find_more_antinodes"
   ]
  },
  {
   "cell_type": "markdown",
   "id": "0e7ed164",
   "metadata": {},
   "source": [
    "## <a name=\"day9\">Day 9</a>\n",
    "\n",
    "### Part 1\n",
    "\n",
    "We're defragging a hard drive today.  Man, it has been a few years."
   ]
  },
  {
   "cell_type": "code",
   "execution_count": 100,
   "id": "b87140a7",
   "metadata": {},
   "outputs": [
    {
     "data": {
      "text/plain": [
       "type hd_block = Day9File of int | Day9FreeSpace\n"
      ]
     },
     "execution_count": 100,
     "metadata": {},
     "output_type": "execute_result"
    }
   ],
   "source": [
    "type hd_block =\n",
    "  | Day9File of int\n",
    "  | Day9FreeSpace"
   ]
  },
  {
   "cell_type": "code",
   "execution_count": 101,
   "id": "8d027a45",
   "metadata": {},
   "outputs": [
    {
     "data": {
      "text/plain": [
       "val read_hd_map : Base.string -> hd_block Core.Array.t = <fun>\n"
      ]
     },
     "execution_count": 101,
     "metadata": {},
     "output_type": "execute_result"
    }
   ],
   "source": [
    "let read_hd_map filename =\n",
    "  let digit c = int_of_char c - int_of_char '0' in\n",
    "  let unpack index size =\n",
    "    List.init size ~f:(fun _ ->\n",
    "      if index mod 2 = 0 then Day9File (index / 2)\n",
    "      else Day9FreeSpace) in\n",
    "  In_channel.read_all filename\n",
    "  |> String.to_list\n",
    "  >>| digit\n",
    "  |> concat_mapi ~f:unpack\n",
    "  |> Array.of_list"
   ]
  },
  {
   "cell_type": "code",
   "execution_count": 102,
   "id": "be3a7234",
   "metadata": {},
   "outputs": [
    {
     "data": {
      "text/plain": [
       "- : hd_block Core.Array.t =\n",
       "[|Day9File 0; Day9File 0; Day9FreeSpace; Day9FreeSpace; Day9FreeSpace;\n",
       "  Day9File 1; Day9File 1; Day9File 1; Day9FreeSpace; Day9FreeSpace;\n",
       "  Day9FreeSpace; Day9File 2; Day9FreeSpace; Day9FreeSpace; Day9FreeSpace;\n",
       "  Day9File 3; Day9File 3; Day9File 3; Day9FreeSpace; Day9File 4; Day9File 4;\n",
       "  Day9FreeSpace; Day9File 5; Day9File 5; Day9File 5; Day9File 5;\n",
       "  Day9FreeSpace; Day9File 6; Day9File 6; Day9File 6; Day9File 6;\n",
       "  Day9FreeSpace; Day9File 7; Day9File 7; Day9File 7; Day9FreeSpace;\n",
       "  Day9File 8; Day9File 8; Day9File 8; Day9File 8; Day9File 9; Day9File 9|]\n"
      ]
     },
     "execution_count": 102,
     "metadata": {},
     "output_type": "execute_result"
    }
   ],
   "source": [
    "read_hd_map \"day9_example.txt\""
   ]
  },
  {
   "cell_type": "code",
   "execution_count": 103,
   "id": "9998b125",
   "metadata": {},
   "outputs": [
    {
     "data": {
      "text/plain": [
       "val defrag : hd_block Core.Array.t -> hd_block Core.Array.t = <fun>\n"
      ]
     },
     "execution_count": 103,
     "metadata": {},
     "output_type": "execute_result"
    }
   ],
   "source": [
    "let defrag hd =\n",
    "  let len = Array.length hd in\n",
    "  let i = ref 0 in\n",
    "  let j = ref (len-1) in\n",
    "  while !i < !j do\n",
    "    match hd.(!i), hd.(!j) with\n",
    "    | Day9File _, _ -> incr i\n",
    "    | _, Day9FreeSpace -> decr j\n",
    "    | Day9FreeSpace, Day9File _ -> begin\n",
    "        hd.(!i) <- hd.(!j);\n",
    "        hd.(!j) <- Day9FreeSpace;\n",
    "        incr i; decr j\n",
    "      end\n",
    "  done; hd"
   ]
  },
  {
   "cell_type": "code",
   "execution_count": 104,
   "id": "105eca2c",
   "metadata": {},
   "outputs": [
    {
     "data": {
      "text/plain": [
       "- : hd_block Core.Array.t =\n",
       "[|Day9File 0; Day9File 0; Day9File 9; Day9File 9; Day9File 8; Day9File 1;\n",
       "  Day9File 1; Day9File 1; Day9File 8; Day9File 8; Day9File 8; Day9File 2;\n",
       "  Day9File 7; Day9File 7; Day9File 7; Day9File 3; Day9File 3; Day9File 3;\n",
       "  Day9File 6; Day9File 4; Day9File 4; Day9File 6; Day9File 5; Day9File 5;\n",
       "  Day9File 5; Day9File 5; Day9File 6; Day9File 6; Day9FreeSpace;\n",
       "  Day9FreeSpace; Day9FreeSpace; Day9FreeSpace; Day9FreeSpace; Day9FreeSpace;\n",
       "  Day9FreeSpace; Day9FreeSpace; Day9FreeSpace; Day9FreeSpace; Day9FreeSpace;\n",
       "  Day9FreeSpace; Day9FreeSpace; Day9FreeSpace|]\n"
      ]
     },
     "execution_count": 104,
     "metadata": {},
     "output_type": "execute_result"
    }
   ],
   "source": [
    "read_hd_map \"day9_example.txt\" |> defrag"
   ]
  },
  {
   "cell_type": "code",
   "execution_count": 105,
   "id": "aaf2b654",
   "metadata": {},
   "outputs": [
    {
     "data": {
      "text/plain": [
       "val checksum : hd_block Core.Array.t -> int = <fun>\n"
      ]
     },
     "execution_count": 105,
     "metadata": {},
     "output_type": "execute_result"
    }
   ],
   "source": [
    "let checksum hd_map =\n",
    "  Array.foldi hd_map ~init:0 ~f:(fun i total contents ->\n",
    "    match contents with\n",
    "    | Day9File num -> total + i * num\n",
    "    | _ -> total)"
   ]
  },
  {
   "cell_type": "code",
   "execution_count": 106,
   "id": "124f6814",
   "metadata": {},
   "outputs": [
    {
     "data": {
      "text/plain": [
       "- : int = 1928\n"
      ]
     },
     "execution_count": 106,
     "metadata": {},
     "output_type": "execute_result"
    }
   ],
   "source": [
    "read_hd_map \"day9_example.txt\" |> defrag |> checksum"
   ]
  },
  {
   "cell_type": "code",
   "execution_count": 107,
   "id": "447966fb",
   "metadata": {},
   "outputs": [
    {
     "data": {
      "text/plain": [
       "- : int = 6360094256423\n"
      ]
     },
     "execution_count": 107,
     "metadata": {},
     "output_type": "execute_result"
    }
   ],
   "source": [
    "read_hd_map \"day9_input.txt\" |> defrag |> checksum"
   ]
  },
  {
   "cell_type": "markdown",
   "id": "06a079ff",
   "metadata": {},
   "source": [
    "### Part 2\n",
    "\n",
    "Now we need to defrag not quite as badly I guess?  We need to keep track of a few auxiliary data structures for this part, and it is simpler to build them when reading the file, so we'll start over."
   ]
  },
  {
   "cell_type": "code",
   "execution_count": 108,
   "id": "60d3e039",
   "metadata": {},
   "outputs": [
    {
     "data": {
      "text/plain": [
       "type hd = {\n",
       "  map : hd_block Core.Array.t;\n",
       "  directory : (int, int * int) Core.Hashtbl.Poly.t;\n",
       "  free_space_of_size : (int, int list) Core.Hashtbl.Poly.t;\n",
       "  last_file : int;\n",
       "}\n"
      ]
     },
     "execution_count": 108,
     "metadata": {},
     "output_type": "execute_result"
    }
   ],
   "source": [
    "type hd = {\n",
    "  map: hd_block Core.Array.t;\n",
    "  directory: (int, int * int) Core.Hashtbl.Poly.t;\n",
    "  free_space_of_size: (int, int list) Core.Hashtbl.Poly.t;\n",
    "  last_file: int\n",
    "}"
   ]
  },
  {
   "cell_type": "code",
   "execution_count": 109,
   "id": "57c865ed",
   "metadata": {},
   "outputs": [
    {
     "data": {
      "text/plain": [
       "val read_hd : Base.string -> hd = <fun>\n"
      ]
     },
     "execution_count": 109,
     "metadata": {},
     "output_type": "execute_result"
    }
   ],
   "source": [
    "let read_hd filename =\n",
    "  let digit c = int_of_char c - int_of_char '0' in\n",
    "  let unpack_map index size =\n",
    "    List.init size ~f:(fun _ ->\n",
    "      if index mod 2 = 0 then Day9File (index / 2)\n",
    "      else Day9FreeSpace) in\n",
    "  let unpack_directory index base size =\n",
    "    if index mod 2 = 0 then (base + size, Some (index / 2, (base, size)))\n",
    "    else (base + size, None) in\n",
    "  let unpack_free_space index base size =\n",
    "    if index mod 2 = 1 && size > 0 then (base + size, Some (size, base))\n",
    "    else (base + size, None) in\n",
    "  let digits = In_channel.read_all filename\n",
    "             |> String.to_list\n",
    "             >>| digit in\n",
    "  let map = digits |> concat_mapi ~f:unpack_map |> Array.of_list in\n",
    "  let directory = digits |> folding_mapi ~init:0 ~f:unpack_directory |> filter_opt\n",
    "                |> Hashtbl.Poly.of_alist_exn in\n",
    "  let free_space = digits |> folding_mapi ~init:0 ~f:unpack_free_space |> filter_opt\n",
    "                 |> Hashtbl.Poly.of_alist_multi\n",
    "                 |> Hashtbl.map ~f:(fun xs -> sort ~compare:Int.compare xs) in\n",
    "  {map=map;\n",
    "   directory=directory;\n",
    "   free_space_of_size=free_space;\n",
    "   last_file=((length digits) - 1) / 2}"
   ]
  },
  {
   "cell_type": "code",
   "execution_count": 110,
   "id": "1daa33d7",
   "metadata": {},
   "outputs": [
    {
     "data": {
      "text/plain": [
       "- : int list list = [[2; 8; 12]; [18; 21; 26; 31; 35]]\n"
      ]
     },
     "execution_count": 110,
     "metadata": {},
     "output_type": "execute_result"
    }
   ],
   "source": [
    "Hashtbl.data (read_hd \"day9_example.txt\").free_space_of_size"
   ]
  },
  {
   "cell_type": "markdown",
   "id": "09653e8b",
   "metadata": {},
   "source": [
    "This took me way too long because I didn't understand that files could still only move to the left of their original position.  I guess we wouldn't really accomplish defragmenting otherwise..."
   ]
  },
  {
   "cell_type": "code",
   "execution_count": 111,
   "id": "1d5f89da",
   "metadata": {},
   "outputs": [
    {
     "data": {
      "text/plain": [
       "val defrag2 : hd -> hd = <fun>\n"
      ]
     },
     "execution_count": 111,
     "metadata": {},
     "output_type": "execute_result"
    }
   ],
   "source": [
    "let defrag2 hd =\n",
    "  let first_free_of_size before_pos size =\n",
    "    match Hashtbl.find hd.free_space_of_size size with\n",
    "    | Some (pos::_) when pos < before_pos -> Some (size, pos)\n",
    "    | _ -> None in\n",
    "  let add_free_space size base =\n",
    "    Hashtbl.add_multi hd.free_space_of_size size base;\n",
    "    let blocks = Hashtbl.find_exn hd.free_space_of_size size in\n",
    "    let sorted_blocks = sort blocks ~compare:Int.compare in\n",
    "    Hashtbl.set hd.free_space_of_size size sorted_blocks in\n",
    "  let move_file id =\n",
    "    let (base, size) = Hashtbl.find_exn hd.directory id in\n",
    "    let valid_sizes = range size 10 in\n",
    "    let choices = valid_sizes >>| first_free_of_size base |> filter_opt in\n",
    "    let dest = choices |> min_elt ~compare:(fun (_, x) (_, y) -> Int.compare x y) in\n",
    "      match dest with\n",
    "      | Some (dest_size, dest_pos) -> begin\n",
    "          for i = 0 to size-1 do\n",
    "            hd.map.(base + i) <- Day9FreeSpace;\n",
    "            match hd.map.(dest_pos + i) with\n",
    "            | Day9FreeSpace -> hd.map.(dest_pos + i) <- Day9File id\n",
    "            | _ -> failwith \"overwriting file\"\n",
    "          done;\n",
    "          Hashtbl.set hd.directory id (dest_pos, size);\n",
    "          (* the block we just took must be the first *)\n",
    "          Hashtbl.remove_multi hd.free_space_of_size dest_size;\n",
    "          (* we don't need this because of the constraint about only moving files to the left *)\n",
    "          (*add_free_space size base;*)\n",
    "          if dest_size > size then add_free_space (dest_size - size) (dest_pos + size);\n",
    "        end\n",
    "      | None -> () in\n",
    "  for id=hd.last_file downto 0 do\n",
    "    move_file id\n",
    "  done; hd"
   ]
  },
  {
   "cell_type": "code",
   "execution_count": 112,
   "id": "7d58a895",
   "metadata": {},
   "outputs": [
    {
     "data": {
      "text/plain": [
       "- : hd =\n",
       "{map =\n",
       "  [|Day9File 0; Day9File 0; Day9File 9; Day9File 9; Day9File 2; Day9File 1;\n",
       "    Day9File 1; Day9File 1; Day9File 7; Day9File 7; Day9File 7;\n",
       "    Day9FreeSpace; Day9File 4; Day9File 4; Day9FreeSpace; Day9File 3;\n",
       "    Day9File 3; Day9File 3; Day9FreeSpace; Day9FreeSpace; Day9FreeSpace;\n",
       "    Day9FreeSpace; Day9File 5; Day9File 5; Day9File 5; Day9File 5;\n",
       "    Day9FreeSpace; Day9File 6; Day9File 6; Day9File 6; Day9File 6;\n",
       "    Day9FreeSpace; Day9FreeSpace; Day9FreeSpace; Day9FreeSpace;\n",
       "    Day9FreeSpace; Day9File 8; Day9File 8; Day9File 8; Day9File 8;\n",
       "    Day9FreeSpace; Day9FreeSpace|];\n",
       " directory = <abstr>; free_space_of_size = <abstr>; last_file = 9}\n"
      ]
     },
     "execution_count": 112,
     "metadata": {},
     "output_type": "execute_result"
    }
   ],
   "source": [
    "read_hd \"day9_example.txt\" |> defrag2"
   ]
  },
  {
   "cell_type": "code",
   "execution_count": 113,
   "id": "417525de",
   "metadata": {},
   "outputs": [
    {
     "data": {
      "text/plain": [
       "- : int = 2858\n"
      ]
     },
     "execution_count": 113,
     "metadata": {},
     "output_type": "execute_result"
    }
   ],
   "source": [
    "(read_hd \"day9_example.txt\" |> defrag2).map |> checksum"
   ]
  },
  {
   "cell_type": "code",
   "execution_count": 114,
   "id": "ea473a0a",
   "metadata": {},
   "outputs": [
    {
     "data": {
      "text/plain": [
       "- : int = 6379677752410\n"
      ]
     },
     "execution_count": 114,
     "metadata": {},
     "output_type": "execute_result"
    }
   ],
   "source": [
    "(read_hd \"day9_input.txt\" |> defrag2).map |> checksum"
   ]
  },
  {
   "cell_type": "markdown",
   "id": "df92f663",
   "metadata": {},
   "source": [
    "## <a name=\"day10\">Day 10</a>\n",
    "\n",
    "### Part 1\n",
    "\n",
    "Hooray, we are searching in a grid.  I love searching in grids.  Yup."
   ]
  },
  {
   "cell_type": "code",
   "execution_count": 115,
   "id": "ac8658ba",
   "metadata": {},
   "outputs": [
    {
     "data": {
      "text/plain": [
       "val read_topo_map : Base.string -> int Core.Array.t Core.Array.t = <fun>\n"
      ]
     },
     "execution_count": 115,
     "metadata": {},
     "output_type": "execute_result"
    }
   ],
   "source": [
    "let read_topo_map filename =\n",
    "  let map = read_grid_from_file filename in\n",
    "  let digit_of_char c = int_of_char c - int_of_char '0' in\n",
    "  map |> Array.map ~f:(fun row -> Array.map row digit_of_char)"
   ]
  },
  {
   "cell_type": "code",
   "execution_count": 116,
   "id": "7cfdab74",
   "metadata": {},
   "outputs": [
    {
     "data": {
      "text/plain": [
       "- : int Core.Array.t Core.Array.t =\n",
       "[|[|8; 9; 0; 1; 0; 1; 2; 3|]; [|7; 8; 1; 2; 1; 8; 7; 4|];\n",
       "  [|8; 7; 4; 3; 0; 9; 6; 5|]; [|9; 6; 5; 4; 9; 8; 7; 4|];\n",
       "  [|4; 5; 6; 7; 8; 9; 0; 3|]; [|3; 2; 0; 1; 9; 0; 1; 2|];\n",
       "  [|0; 1; 3; 2; 9; 8; 0; 1|]; [|1; 0; 4; 5; 6; 7; 3; 2|]|]\n"
      ]
     },
     "execution_count": 116,
     "metadata": {},
     "output_type": "execute_result"
    }
   ],
   "source": [
    "read_topo_map \"day10_example.txt\""
   ]
  },
  {
   "cell_type": "code",
   "execution_count": 117,
   "id": "38be4b77",
   "metadata": {},
   "outputs": [
    {
     "data": {
      "text/plain": [
       "val grid_find_all :\n",
       "  Core_kernel.Int.t Core.Array.t Core.Array.t ->\n",
       "  x:Core_kernel.Int.t -> (int * int) list = <fun>\n"
      ]
     },
     "execution_count": 117,
     "metadata": {},
     "output_type": "execute_result"
    }
   ],
   "source": [
    "let grid_find_all grid ~x =\n",
    "  let rows = Array.length grid in\n",
    "  let cols = Array.length grid.(0) in\n",
    "  let matches = ref [] in\n",
    "  for i=0 to rows-1 do\n",
    "    for j=0 to cols-1 do\n",
    "      if grid.(i).(j) = x then\n",
    "        matches := (i, j) :: !matches\n",
    "      done\n",
    "    done; !matches"
   ]
  },
  {
   "cell_type": "code",
   "execution_count": 118,
   "id": "6a7205ca",
   "metadata": {},
   "outputs": [
    {
     "data": {
      "text/plain": [
       "- : (int * int) list =\n",
       "[(7, 1); (6, 6); (6, 0); (5, 5); (5, 2); (4, 6); (2, 4); (0, 4); (0, 2)]\n"
      ]
     },
     "execution_count": 118,
     "metadata": {},
     "output_type": "execute_result"
    }
   ],
   "source": [
    "read_topo_map \"day10_example.txt\" |> grid_find_all ~x:0"
   ]
  },
  {
   "cell_type": "code",
   "execution_count": 119,
   "id": "df1defcb",
   "metadata": {},
   "outputs": [
    {
     "data": {
      "text/plain": [
       "val score_trails : Core_kernel.Int.t Core.Array.t Core.Array.t -> int * int =\n",
       "  <fun>\n"
      ]
     },
     "execution_count": 119,
     "metadata": {},
     "output_type": "execute_result"
    }
   ],
   "source": [
    "let score_trails map =\n",
    "  let size = Array.length map in\n",
    "  let trailheads = grid_find_all map 0 in\n",
    "  let neighbors (i,j) =\n",
    "    (if i > 0 && map.(i-1).(j) = 1 + map.(i).(j) then [(i-1, j)] else []) @\n",
    "    (if j > 0 && map.(i).(j-1) = 1 + map.(i).(j) then [(i, j-1)] else []) @\n",
    "    (if i < size-1 && map.(i+1).(j) = 1 + map.(i).(j) then [(i+1, j)] else []) @\n",
    "    (if j < size-1 && map.(i).(j+1) = 1 + map.(i).(j) then [(i, j+1)] else []) in\n",
    "  let rec search horizon =\n",
    "    match horizon with\n",
    "    | [] -> []\n",
    "    | [(i,j)] ->\n",
    "        if map.(i).(j) = 9 then [(i, j)]\n",
    "        else search (neighbors (i, j))\n",
    "    | (i,j)::rest ->\n",
    "        if map.(i).(j) = 9 then (i,j) :: search rest\n",
    "        else search (neighbors (i,j) @ rest) in\n",
    "  let compare_tuples (a1,b1) (a2,b2) =\n",
    "    if a1 = a2 then Stdlib.compare b1 b2\n",
    "    else Stdlib.compare a1 a2 in\n",
    "  let count_distinct_reachable_9s p =\n",
    "    search [p] |> dedup_and_sort ~compare:compare_tuples |> length in\n",
    "  (* part 2 *)\n",
    "  let count_trails p =\n",
    "    search [p] |> length in\n",
    "  let sum = fold ~init:0 ~f:(+) in\n",
    "  (trailheads >>| count_distinct_reachable_9s |> sum,\n",
    "   trailheads >>| count_trails |> sum)"
   ]
  },
  {
   "cell_type": "code",
   "execution_count": 120,
   "id": "adcfc344",
   "metadata": {},
   "outputs": [
    {
     "data": {
      "text/plain": [
       "- : int * int = (36, 81)\n"
      ]
     },
     "execution_count": 120,
     "metadata": {},
     "output_type": "execute_result"
    }
   ],
   "source": [
    "read_topo_map \"day10_example.txt\" |> score_trails"
   ]
  },
  {
   "cell_type": "code",
   "execution_count": 121,
   "id": "3f2c5a8b",
   "metadata": {},
   "outputs": [
    {
     "data": {
      "text/plain": [
       "- : int * int = (593, 1192)\n"
      ]
     },
     "execution_count": 121,
     "metadata": {},
     "output_type": "execute_result"
    }
   ],
   "source": [
    "read_topo_map \"day10_input.txt\" |> score_trails"
   ]
  },
  {
   "cell_type": "markdown",
   "id": "782bf004",
   "metadata": {},
   "source": [
    "### Part 2\n",
    "\n",
    "I happened to write my search to find all paths anyway so just added an extra output to the tuple for part 1."
   ]
  },
  {
   "cell_type": "markdown",
   "id": "a4cb1048",
   "metadata": {},
   "source": [
    "## <a name=\"day11\">Day 11</a>\n",
    "\n",
    "### Part 1\n",
    "\n",
    "Today is a good day because it is not a grid day.  Instead, today, we've got... stones?  Big stones, apparently.  Is there event a bigint library?  Yes... ok, it's so old that it doesn't work with the current package manager."
   ]
  },
  {
   "cell_type": "code",
   "execution_count": 122,
   "id": "c248a021",
   "metadata": {},
   "outputs": [],
   "source": [
    "#load \"nums.cma\" ;;"
   ]
  },
  {
   "cell_type": "code",
   "execution_count": 123,
   "id": "b4a3ebaf",
   "metadata": {},
   "outputs": [
    {
     "data": {
      "text/plain": [
       "val read_stones : Base.string -> Base.string list = <fun>\n"
      ]
     },
     "execution_count": 123,
     "metadata": {},
     "output_type": "execute_result"
    }
   ],
   "source": [
    "let read_stones filename =\n",
    "  let trim s =\n",
    "    let len = String.length s in\n",
    "    if Char.(s.[len - 1] = '\\n') then String.sub s 0 (len - 1)\n",
    "    else s in\n",
    "  In_channel.read_all filename\n",
    "  |> trim\n",
    "  |> String.split ~on:' '"
   ]
  },
  {
   "cell_type": "code",
   "execution_count": 124,
   "id": "c14cfc49",
   "metadata": {},
   "outputs": [
    {
     "data": {
      "text/plain": [
       "- : Base.string list = [\"125\"; \"17\"]\n"
      ]
     },
     "execution_count": 124,
     "metadata": {},
     "output_type": "execute_result"
    }
   ],
   "source": [
    "read_stones \"day11_example.txt\""
   ]
  },
  {
   "cell_type": "code",
   "execution_count": 125,
   "id": "806bcb3b",
   "metadata": {},
   "outputs": [
    {
     "data": {
      "text/plain": [
       "val split_digits : string -> string list option = <fun>\n"
      ]
     },
     "execution_count": 125,
     "metadata": {},
     "output_type": "execute_result"
    }
   ],
   "source": [
    "let split_digits s =\n",
    "  let len = String.length s in\n",
    "  if len mod 2 = 0 then\n",
    "    Some [Big_int.(string_of_big_int @@ big_int_of_string @@ String.sub s 0 (len/2));\n",
    "          Big_int.(string_of_big_int @@ big_int_of_string @@ String.sub s (len/2) (len/2))]\n",
    "  else\n",
    "    None"
   ]
  },
  {
   "cell_type": "code",
   "execution_count": 126,
   "id": "99cb4714",
   "metadata": {},
   "outputs": [
    {
     "data": {
      "text/plain": [
       "val step_stones : Core.String.t -> string list = <fun>\n"
      ]
     },
     "execution_count": 126,
     "metadata": {},
     "output_type": "execute_result"
    }
   ],
   "source": [
    "let step_stones s =\n",
    "  if String.(s = \"0\") then [\"1\"]\n",
    "  else match split_digits s with\n",
    "  | Some split -> split\n",
    "  | None -> [Big_int.(mult_int_big_int 2024 (big_int_of_string s) |> string_of_big_int)]"
   ]
  },
  {
   "cell_type": "code",
   "execution_count": 127,
   "id": "403a4365",
   "metadata": {},
   "outputs": [
    {
     "data": {
      "text/plain": [
       "val blink : Core.String.t list -> string list = <fun>\n"
      ]
     },
     "execution_count": 127,
     "metadata": {},
     "output_type": "execute_result"
    }
   ],
   "source": [
    "let blink stones = stones |> concat_map ~f:step_stones"
   ]
  },
  {
   "cell_type": "code",
   "execution_count": 128,
   "id": "05a96f01",
   "metadata": {},
   "outputs": [
    {
     "data": {
      "text/plain": [
       "val iterate : Core_kernel.Int.t -> ('a -> 'a) -> 'a -> 'a = <fun>\n"
      ]
     },
     "execution_count": 128,
     "metadata": {},
     "output_type": "execute_result"
    }
   ],
   "source": [
    "let rec iterate n fn acc =\n",
    "  if n = 0 then acc\n",
    "  else iterate (n-1) fn (fn acc)"
   ]
  },
  {
   "cell_type": "code",
   "execution_count": 129,
   "id": "8bf4014d",
   "metadata": {},
   "outputs": [
    {
     "data": {
      "text/plain": [
       "- : Base.string list =\n",
       "[\"2097446912\"; \"14168\"; \"4048\"; \"2\"; \"0\"; \"2\"; \"4\"; \"40\"; \"48\"; \"2024\"; \"40\";\n",
       " \"48\"; \"80\"; \"96\"; \"2\"; \"8\"; \"6\"; \"7\"; \"6\"; \"0\"; \"3\"; \"2\"]\n"
      ]
     },
     "execution_count": 129,
     "metadata": {},
     "output_type": "execute_result"
    }
   ],
   "source": [
    "read_stones \"day11_example.txt\" |> iterate 6 blink"
   ]
  },
  {
   "cell_type": "code",
   "execution_count": 130,
   "id": "ec579b71",
   "metadata": {},
   "outputs": [
    {
     "data": {
      "text/plain": [
       "- : int = 55312\n"
      ]
     },
     "execution_count": 130,
     "metadata": {},
     "output_type": "execute_result"
    }
   ],
   "source": [
    "read_stones \"day11_example.txt\" |> iterate 25 blink |> length"
   ]
  },
  {
   "cell_type": "code",
   "execution_count": 131,
   "id": "e654c63b",
   "metadata": {},
   "outputs": [
    {
     "data": {
      "text/plain": [
       "- : int = 220722\n"
      ]
     },
     "execution_count": 131,
     "metadata": {},
     "output_type": "execute_result"
    }
   ],
   "source": [
    "read_stones \"day11_input.txt\" |> iterate 25 blink |> length"
   ]
  },
  {
   "cell_type": "markdown",
   "id": "94356b56",
   "metadata": {},
   "source": [
    "### Part 2\n",
    "\n",
    "Now we have to iterate 75 times.  Let's see if we can just do this."
   ]
  },
  {
   "cell_type": "code",
   "execution_count": 132,
   "id": "52c2435c",
   "metadata": {},
   "outputs": [],
   "source": [
    "(* read_stones \"day11_input.txt\" |> iterate 75 blink |> length *)"
   ]
  },
  {
   "cell_type": "markdown",
   "id": "e3dd5c9a",
   "metadata": {},
   "source": [
    "Ok, I guess we have to think harder.  How many _distinct_ things do we have after N iterations?"
   ]
  },
  {
   "cell_type": "code",
   "execution_count": 133,
   "id": "3ce57dca",
   "metadata": {},
   "outputs": [
    {
     "data": {
      "text/plain": [
       "- : int = 380\n"
      ]
     },
     "execution_count": 133,
     "metadata": {},
     "output_type": "execute_result"
    }
   ],
   "source": [
    "read_stones \"day11_input.txt\"\n",
    "|> iterate 25 blink\n",
    "|> Hash_set.Poly.of_list\n",
    "|> Hash_set.length"
   ]
  },
  {
   "cell_type": "markdown",
   "id": "058ef5d4",
   "metadata": {},
   "source": [
    "Great, so let's keep a census of types of stones instead of repeating all that work.  Except Big_ints aren't hashable, because of course... so let's go back and use strings for everything, SIGH."
   ]
  },
  {
   "cell_type": "code",
   "execution_count": 134,
   "id": "5237820c",
   "metadata": {},
   "outputs": [
    {
     "data": {
      "text/plain": [
       "val update_stone_count :\n",
       "  census:('a, int) Core.Hashtbl.t -> count:int -> 'a Core.Hashtbl.key -> unit =\n",
       "  <fun>\n"
      ]
     },
     "execution_count": 134,
     "metadata": {},
     "output_type": "execute_result"
    }
   ],
   "source": [
    "let update_stone_count ~census ~count kind =\n",
    "  Hashtbl.update census kind ~f:(fun n -> match n with\n",
    "    | Some n -> n + count\n",
    "    | None -> count)"
   ]
  },
  {
   "cell_type": "code",
   "execution_count": 135,
   "id": "11935e8f",
   "metadata": {},
   "outputs": [
    {
     "data": {
      "text/plain": [
       "val make_initial_census :\n",
       "  Core.String.t Core.Hashtbl.key list -> (Core.String.t, int) Core.Hashtbl.t =\n",
       "  <fun>\n"
      ]
     },
     "execution_count": 135,
     "metadata": {},
     "output_type": "execute_result"
    }
   ],
   "source": [
    "let make_initial_census stones =\n",
    "  let census = Hashtbl.create (module String) in\n",
    "  let _ = stones >>| update_stone_count ~census:census ~count:1 in\n",
    "  census"
   ]
  },
  {
   "cell_type": "code",
   "execution_count": 136,
   "id": "16ea434f",
   "metadata": {},
   "outputs": [
    {
     "data": {
      "text/plain": [
       "val blink_smarter :\n",
       "  (Core.String.t, int) Core.Hashtbl.t -> (Core.String.t, int) Core.Hashtbl.t =\n",
       "  <fun>\n"
      ]
     },
     "execution_count": 136,
     "metadata": {},
     "output_type": "execute_result"
    }
   ],
   "source": [
    "let blink_smarter census =\n",
    "  let census' = Hashtbl.create (module String) in\n",
    "  let _ = Hashtbl.iteri census ~f:(fun ~key ~data ->\n",
    "    iter (step_stones key) (update_stone_count ~census:census' ~count:data)\n",
    "  ) in\n",
    "  census'"
   ]
  },
  {
   "cell_type": "code",
   "execution_count": 137,
   "id": "d695b8dc",
   "metadata": {},
   "outputs": [
    {
     "data": {
      "text/plain": [
       "- : int = 220722\n"
      ]
     },
     "execution_count": 137,
     "metadata": {},
     "output_type": "execute_result"
    }
   ],
   "source": [
    "read_stones \"day11_input.txt\"\n",
    "|> make_initial_census\n",
    "|> iterate 25 blink_smarter\n",
    "|> Hashtbl.fold ~init:0 ~f:(fun ~key ~data acc -> acc + data)"
   ]
  },
  {
   "cell_type": "code",
   "execution_count": 138,
   "id": "c2a85f70",
   "metadata": {},
   "outputs": [
    {
     "data": {
      "text/plain": [
       "- : int = 261952051690787\n"
      ]
     },
     "execution_count": 138,
     "metadata": {},
     "output_type": "execute_result"
    }
   ],
   "source": [
    "read_stones \"day11_input.txt\"\n",
    "|> make_initial_census\n",
    "|> iterate 75 blink_smarter\n",
    "|> Hashtbl.fold ~init:0 ~f:(fun ~key ~data acc -> acc + data)"
   ]
  },
  {
   "cell_type": "markdown",
   "id": "e6fcc14f",
   "metadata": {},
   "source": [
    "## <a name=\"day12\">Day 12</a>\n",
    "\n",
    "### Part 1\n",
    "\n",
    "Sigh, here we go again with grids.  Today we are flood filling regions I guess."
   ]
  },
  {
   "cell_type": "code",
   "execution_count": 139,
   "id": "23d2521b",
   "metadata": {
    "scrolled": true
   },
   "outputs": [
    {
     "data": {
      "text/plain": [
       "- : char Core.Array.t Core.Array.t =\n",
       "[|[|'R'; 'R'; 'R'; 'R'; 'I'; 'I'; 'C'; 'C'; 'F'; 'F'|];\n",
       "  [|'R'; 'R'; 'R'; 'R'; 'I'; 'I'; 'C'; 'C'; 'C'; 'F'|];\n",
       "  [|'V'; 'V'; 'R'; 'R'; 'R'; 'C'; 'C'; 'F'; 'F'; 'F'|];\n",
       "  [|'V'; 'V'; 'R'; 'C'; 'C'; 'C'; 'J'; 'F'; 'F'; 'F'|];\n",
       "  [|'V'; 'V'; 'V'; 'V'; 'C'; 'J'; 'J'; 'C'; 'F'; 'E'|];\n",
       "  [|'V'; 'V'; 'I'; 'V'; 'C'; 'C'; 'J'; 'J'; 'E'; 'E'|];\n",
       "  [|'V'; 'V'; 'I'; 'I'; 'I'; 'C'; 'J'; 'J'; 'E'; 'E'|];\n",
       "  [|'M'; 'I'; 'I'; 'I'; 'I'; 'I'; 'J'; 'J'; 'E'; 'E'|];\n",
       "  [|'M'; 'I'; 'I'; 'I'; 'S'; 'I'; 'J'; 'E'; 'E'; 'E'|];\n",
       "  [|'M'; 'M'; 'M'; 'I'; 'S'; 'S'; 'J'; 'E'; 'E'; 'E'|]|]\n"
      ]
     },
     "execution_count": 139,
     "metadata": {},
     "output_type": "execute_result"
    }
   ],
   "source": [
    "read_grid_from_file \"day12_example.txt\""
   ]
  },
  {
   "cell_type": "markdown",
   "id": "96f62bd4",
   "metadata": {},
   "source": [
    "Ok, apparently we only have core v0.14.1, because that's the latest version that is in opam?  So I can't copy a matrix."
   ]
  },
  {
   "cell_type": "code",
   "execution_count": 140,
   "id": "f2cf0e07",
   "metadata": {},
   "outputs": [
    {
     "ename": "error",
     "evalue": "compile_error",
     "output_type": "error",
     "traceback": [
      "File \"[140]\", line 1, characters 0-17:\n1 | Array.copy_matrix\n    ^^^^^^^^^^^^^^^^^\nError: Unbound value Array.copy_matrix\n"
     ]
    }
   ],
   "source": [
    "Array.copy_matrix"
   ]
  },
  {
   "cell_type": "markdown",
   "id": "061db00b",
   "metadata": {},
   "source": [
    "Fine, we'll do it live."
   ]
  },
  {
   "cell_type": "code",
   "execution_count": 141,
   "id": "df6dd6bc",
   "metadata": {},
   "outputs": [
    {
     "data": {
      "text/plain": [
       "val copy_matrix :\n",
       "  'a Core.Array.t Core.Array.t -> 'a Core.Array.t Core.Array.t = <fun>\n"
      ]
     },
     "execution_count": 141,
     "metadata": {},
     "output_type": "execute_result"
    }
   ],
   "source": [
    "let copy_matrix matrix =\n",
    "  let rows = Array.length matrix in\n",
    "  let cols = Array.length matrix.(0) in\n",
    "  let copy = Array.make_matrix rows cols matrix.(0).(0) in\n",
    "  for i=0 to rows-1 do\n",
    "    for j=0 to cols-1 do\n",
    "      copy.(i).(j) <- matrix.(i).(j)\n",
    "    done\n",
    "  done; copy"
   ]
  },
  {
   "cell_type": "code",
   "execution_count": 142,
   "id": "bfa9665b",
   "metadata": {},
   "outputs": [
    {
     "data": {
      "text/plain": [
       "val find_plant_groups :\n",
       "  Core.Char.t Core.Array.t Core.Array.t ->\n",
       "  (Core_kernel.Int.t * Core_kernel.Int.t) Base.List.t list = <fun>\n"
      ]
     },
     "execution_count": 142,
     "metadata": {},
     "output_type": "execute_result"
    }
   ],
   "source": [
    "let find_plant_groups grid =\n",
    "  (*let plots = Array.copy_matrix grid in*)\n",
    "  let plots = copy_matrix grid in\n",
    "  let size = Array.length plots in\n",
    "  let rec fill plant i j =\n",
    "    if i < 0 || i > size-1 || j < 0 || j > size-1 then []\n",
    "    else if Char.(plant = plots.(i).(j)) then begin\n",
    "      plots.(i).(j) <- '.';\n",
    "      (i,j) :: (\n",
    "        fill plant (i-1) j @\n",
    "        fill plant (i+1) j @\n",
    "        fill plant i (j-1) @\n",
    "        fill plant i (j+1))\n",
    "    end else [] in\n",
    "  let regions = ref [] in\n",
    "  for i=0 to size-1 do\n",
    "    for j=0 to size-1 do\n",
    "      let plant = plots.(i).(j) in\n",
    "      if Char.(plant <> '.') then\n",
    "        regions := (fill plant i j) :: !regions\n",
    "    done\n",
    "  done; !regions"
   ]
  },
  {
   "cell_type": "code",
   "execution_count": 143,
   "id": "90a2d7f3",
   "metadata": {},
   "outputs": [
    {
     "data": {
      "text/plain": [
       "- : int list = [3; 5; 14; 13; 1; 11; 13; 10; 14; 4; 12]\n"
      ]
     },
     "execution_count": 143,
     "metadata": {},
     "output_type": "execute_result"
    }
   ],
   "source": [
    "read_grid_from_file \"day12_example.txt\" |> find_plant_groups >>| length"
   ]
  },
  {
   "cell_type": "code",
   "execution_count": 144,
   "id": "e0236a79",
   "metadata": {},
   "outputs": [
    {
     "data": {
      "text/plain": [
       "val sum : int list -> int = <fun>\n"
      ]
     },
     "execution_count": 144,
     "metadata": {},
     "output_type": "execute_result"
    }
   ],
   "source": [
    "let sum = fold ~init:0 ~f:(+)"
   ]
  },
  {
   "cell_type": "code",
   "execution_count": 145,
   "id": "5b53fadd",
   "metadata": {},
   "outputs": [
    {
     "data": {
      "text/plain": [
       "val fence_cost : Core.Char.t Core.Array.t Core.Array.t -> int = <fun>\n"
      ]
     },
     "execution_count": 145,
     "metadata": {},
     "output_type": "execute_result"
    }
   ],
   "source": [
    "let fence_cost grid =\n",
    "  let size = Array.length grid in\n",
    "  let groups = find_plant_groups grid in\n",
    "  let fenced_sides (i,j) =\n",
    "    (if i = 0 || Char.(grid.(i-1).(j) <> grid.(i).(j)) then 1 else 0) +\n",
    "    (if i = size-1 || Char.(grid.(i+1).(j) <> grid.(i).(j)) then 1 else 0) +\n",
    "    (if j = 0 || Char.(grid.(i).(j-1) <> grid.(i).(j)) then 1 else 0) +\n",
    "    (if j = size-1 || Char.(grid.(i).(j+1) <> grid.(i).(j)) then 1 else 0) in\n",
    "  let perimeter group = group >>| fenced_sides |> sum in\n",
    "  let area group = length group in\n",
    "  let cost group = (perimeter group) * (area group) in\n",
    "  groups >>| cost |> sum"
   ]
  },
  {
   "cell_type": "code",
   "execution_count": 146,
   "id": "9c1b908a",
   "metadata": {},
   "outputs": [
    {
     "data": {
      "text/plain": [
       "- : int = 1930\n"
      ]
     },
     "execution_count": 146,
     "metadata": {},
     "output_type": "execute_result"
    }
   ],
   "source": [
    "read_grid_from_file \"day12_example.txt\" |> fence_cost"
   ]
  },
  {
   "cell_type": "code",
   "execution_count": 147,
   "id": "8adb73d7",
   "metadata": {},
   "outputs": [
    {
     "data": {
      "text/plain": [
       "- : int = 1304764\n"
      ]
     },
     "execution_count": 147,
     "metadata": {},
     "output_type": "execute_result"
    }
   ],
   "source": [
    "read_grid_from_file \"day12_input.txt\" |> fence_cost"
   ]
  },
  {
   "cell_type": "markdown",
   "id": "d4ade2c8",
   "metadata": {},
   "source": [
    "### Part 2\n",
    "\n",
    "Now instead we want to count the edges of each group.  For example, two vertically adjacent plants can share the same west fence, so if a plant needs a west fence but its north neighbor already has a west fence, we'll skip counting it."
   ]
  },
  {
   "cell_type": "code",
   "execution_count": 148,
   "id": "48dbaa66",
   "metadata": {},
   "outputs": [
    {
     "data": {
      "text/plain": [
       "val fence_cost2 : Core.Char.t Core.Array.t Core.Array.t -> int = <fun>\n"
      ]
     },
     "execution_count": 148,
     "metadata": {},
     "output_type": "execute_result"
    }
   ],
   "source": [
    "let fence_cost2 grid =\n",
    "  let size = Array.length grid in\n",
    "  let groups = find_plant_groups grid in\n",
    "  let needs_fence (i, j) (di, dj) =\n",
    "    let (i', j') = (i + di, j + dj) in\n",
    "    if i' < 0 || i' > size - 1 || j' < 0 || j' > size - 1 then true\n",
    "    else Char.(grid.(i).(j) <> grid.(i').(j')) in\n",
    "  let cant_share_horizontal_fence (i, j) dir =\n",
    "    i = 0 ||\n",
    "    Char.(grid.(i).(j) <> grid.(i - 1).(j)) ||\n",
    "    not (needs_fence (i - 1, j) dir) in\n",
    "  let cant_share_vertical_fence (i, j) dir =\n",
    "    j = 0 ||\n",
    "    Char.(grid.(i).(j) <> grid.(i).(j - 1)) ||\n",
    "    not (needs_fence (i, j - 1) dir) in\n",
    "  let fenced_sides (i, j) =\n",
    "    (if needs_fence (i, j) (0, -1) &&\n",
    "        cant_share_horizontal_fence (i, j) (0, -1) then 1\n",
    "     else 0) +\n",
    "    (if needs_fence (i, j) (0, 1) &&\n",
    "        cant_share_horizontal_fence (i, j) (0, 1) then 1\n",
    "     else 0) +\n",
    "    (if needs_fence (i, j) (-1, 0) &&\n",
    "        cant_share_vertical_fence (i, j) (-1, 0) then 1\n",
    "     else 0) +\n",
    "    (if needs_fence (i, j) (1, 0) &&\n",
    "        cant_share_vertical_fence (i, j) (1, 0) then 1\n",
    "     else 0) in\n",
    "  let perimeter group = group >>| fenced_sides |> sum in\n",
    "  let area group = length group in\n",
    "  let cost group = (perimeter group) * (area group) in\n",
    "  groups >>| cost |> sum"
   ]
  },
  {
   "cell_type": "code",
   "execution_count": 149,
   "id": "351e49e7",
   "metadata": {},
   "outputs": [
    {
     "data": {
      "text/plain": [
       "- : char Core.Array.t Core.Array.t =\n",
       "[|[|'A'; 'A'; 'A'; 'A'|]; [|'B'; 'B'; 'C'; 'D'|]; [|'B'; 'B'; 'C'; 'C'|];\n",
       "  [|'E'; 'E'; 'E'; 'C'|]|]\n"
      ]
     },
     "execution_count": 149,
     "metadata": {},
     "output_type": "execute_result"
    }
   ],
   "source": [
    "read_grid_from_file \"day12_example1.txt\""
   ]
  },
  {
   "cell_type": "code",
   "execution_count": 150,
   "id": "4abcd6dc",
   "metadata": {},
   "outputs": [
    {
     "data": {
      "text/plain": [
       "- : int = 80\n"
      ]
     },
     "execution_count": 150,
     "metadata": {},
     "output_type": "execute_result"
    }
   ],
   "source": [
    "read_grid_from_file \"day12_example1.txt\" |> fence_cost2"
   ]
  },
  {
   "cell_type": "code",
   "execution_count": 151,
   "id": "bf4e6642",
   "metadata": {},
   "outputs": [
    {
     "data": {
      "text/plain": [
       "- : int = 236\n"
      ]
     },
     "execution_count": 151,
     "metadata": {},
     "output_type": "execute_result"
    }
   ],
   "source": [
    "read_grid_from_file \"day12_example2.txt\" |> fence_cost2"
   ]
  },
  {
   "cell_type": "code",
   "execution_count": 152,
   "id": "655f28f2",
   "metadata": {},
   "outputs": [
    {
     "data": {
      "text/plain": [
       "- : int = 368\n"
      ]
     },
     "execution_count": 152,
     "metadata": {},
     "output_type": "execute_result"
    }
   ],
   "source": [
    "read_grid_from_file \"day12_example3.txt\" |> fence_cost2"
   ]
  },
  {
   "cell_type": "code",
   "execution_count": 153,
   "id": "e27f34fc",
   "metadata": {},
   "outputs": [
    {
     "data": {
      "text/plain": [
       "- : int = 1206\n"
      ]
     },
     "execution_count": 153,
     "metadata": {},
     "output_type": "execute_result"
    }
   ],
   "source": [
    "read_grid_from_file \"day12_example.txt\" |> fence_cost2"
   ]
  },
  {
   "cell_type": "code",
   "execution_count": 154,
   "id": "eabf613f",
   "metadata": {},
   "outputs": [
    {
     "data": {
      "text/plain": [
       "- : int = 811148\n"
      ]
     },
     "execution_count": 154,
     "metadata": {},
     "output_type": "execute_result"
    }
   ],
   "source": [
    "read_grid_from_file \"day12_input.txt\" |> fence_cost2"
   ]
  },
  {
   "cell_type": "markdown",
   "id": "b6889545",
   "metadata": {},
   "source": [
    "## <a name=\"day13\">Day 13</a>\n",
    "\n",
    "### Part 1\n",
    "\n",
    "Today looks like it's going to be an integer programming problem, but for the first part we just have to solve some simultaneous equations... for example, $94 a + 22 b = 8400$ and $34 a + 67 b = 5400$.  The input is in a really annoying to parse format."
   ]
  },
  {
   "cell_type": "code",
   "execution_count": 155,
   "id": "349f8a14",
   "metadata": {},
   "outputs": [
    {
     "data": {
      "text/plain": [
       "val read_claw_problems :\n",
       "  Base.string -> (int array array * int array array) list = <fun>\n"
      ]
     },
     "execution_count": 155,
     "metadata": {},
     "output_type": "execute_result"
    }
   ],
   "source": [
    "(*read records like\n",
    "Button A: X+94, Y+34\n",
    "Button B: X+22, Y+67\n",
    "Prize: X=8400, Y=5400\n",
    "*)\n",
    "let read_claw_problems filename =\n",
    "  let problems =\n",
    "    In_channel.read_lines filename\n",
    "    |> filter ~f:(fun s -> String.length s > 0)\n",
    "    |> chunks_of ~length:3 in\n",
    "  let extract_xy re line =\n",
    "    let m = Re2.first_match_exn re line in \n",
    "    let x = Re2.Match.get_exn m ~sub:(`Index 1) in\n",
    "    let y = Re2.Match.get_exn m ~sub:(`Index 2) in\n",
    "      (int_of_string x, int_of_string y) in\n",
    "  let parse_button_line line =\n",
    "    extract_xy (Re2.create_exn {|Button .: X\\+(\\d+), Y\\+(\\d+)|}) line in\n",
    "  let parse_prize_line line =\n",
    "    extract_xy (Re2.create_exn {|Prize: X=(\\d+), Y=(\\d+)|}) line in\n",
    "  let parse_chunk chunk =\n",
    "    let (ax, ay) = parse_button_line (List.nth_exn chunk 0) in\n",
    "    let (bx, by) = parse_button_line (List.nth_exn chunk 1) in\n",
    "    let (px, py) = parse_prize_line (List.nth_exn chunk 2) in\n",
    "    let xs = [|[|ax; bx|];\n",
    "               [|ay; by|]|] in\n",
    "    let ys = [|[|px|];\n",
    "               [|py|]|] in\n",
    "      (xs, ys) in\n",
    "  problems >>| parse_chunk"
   ]
  },
  {
   "cell_type": "code",
   "execution_count": 156,
   "id": "f1e5e43f",
   "metadata": {},
   "outputs": [
    {
     "data": {
      "text/plain": [
       "- : (int array array * int array array) list =\n",
       "[([|[|94; 22|]; [|34; 67|]|], [|[|8400|]; [|5400|]|]);\n",
       " ([|[|26; 67|]; [|66; 21|]|], [|[|12748|]; [|12176|]|]);\n",
       " ([|[|17; 84|]; [|86; 37|]|], [|[|7870|]; [|6450|]|]);\n",
       " ([|[|69; 27|]; [|23; 71|]|], [|[|18641|]; [|10279|]|])]\n"
      ]
     },
     "execution_count": 156,
     "metadata": {},
     "output_type": "execute_result"
    }
   ],
   "source": [
    "read_claw_problems \"day13_example.txt\""
   ]
  },
  {
   "cell_type": "code",
   "execution_count": 157,
   "id": "052e2f3f",
   "metadata": {},
   "outputs": [
    {
     "data": {
      "text/plain": [
       "val solve22 :\n",
       "  int Core.Array.t Core.Array.t * int Core.Array.t Core.Array.t ->\n",
       "  (int * int) option = <fun>\n"
      ]
     },
     "execution_count": 157,
     "metadata": {},
     "output_type": "execute_result"
    }
   ],
   "source": [
    "let solve22 (a, y) =\n",
    "  let det m = m.(0).(0) * m.(1).(1) - m.(0).(1) * m.(1).(0) in\n",
    "  let d = det a in\n",
    "  let dx = det [|[|y.(0).(0); a.(0).(1)|];\n",
    "                 [|y.(1).(0); a.(1).(1)|]|] in\n",
    "  let dy = det [|[|a.(0).(0); y.(0).(0)|];\n",
    "                 [|a.(1).(0); y.(1).(0)|]|] in\n",
    "  if d = 0 then None\n",
    "  else if dx mod d <> 0 || dy mod d <> 0 then None\n",
    "  else Some (dx / d, dy / d)"
   ]
  },
  {
   "cell_type": "code",
   "execution_count": 158,
   "id": "00714b5e",
   "metadata": {},
   "outputs": [
    {
     "data": {
      "text/plain": [
       "val day13_cost :\n",
       "  (int Core.Array.t Core.Array.t * int Core.Array.t Core.Array.t) list -> int =\n",
       "  <fun>\n"
      ]
     },
     "execution_count": 158,
     "metadata": {},
     "output_type": "execute_result"
    }
   ],
   "source": [
    "let day13_cost problems =\n",
    "  let cost (a, b) = 3 * a + b in\n",
    "  problems >>| solve22 |> filter_opt >>| cost |> fold ~init:0 ~f:(+)"
   ]
  },
  {
   "cell_type": "code",
   "execution_count": 159,
   "id": "ebab0921",
   "metadata": {},
   "outputs": [
    {
     "data": {
      "text/plain": [
       "- : int = 480\n"
      ]
     },
     "execution_count": 159,
     "metadata": {},
     "output_type": "execute_result"
    }
   ],
   "source": [
    "read_claw_problems \"day13_example.txt\" |> day13_cost"
   ]
  },
  {
   "cell_type": "code",
   "execution_count": 160,
   "id": "04b4cf98",
   "metadata": {},
   "outputs": [
    {
     "data": {
      "text/plain": [
       "- : int = 31623\n"
      ]
     },
     "execution_count": 160,
     "metadata": {},
     "output_type": "execute_result"
    }
   ],
   "source": [
    "read_claw_problems \"day13_input.txt\" |> day13_cost"
   ]
  },
  {
   "cell_type": "markdown",
   "id": "e48c5847",
   "metadata": {},
   "source": [
    "### Part 2\n",
    "\n",
    "Now we need to add 10000000000000 to some constants and ... do the same thing as before?  What a weird problem."
   ]
  },
  {
   "cell_type": "code",
   "execution_count": 161,
   "id": "cdadd27d",
   "metadata": {},
   "outputs": [
    {
     "data": {
      "text/plain": [
       "val add_10000000000000 :\n",
       "  'a * int Core.Array.t Core.Array.t -> 'a * int array array = <fun>\n"
      ]
     },
     "execution_count": 161,
     "metadata": {},
     "output_type": "execute_result"
    }
   ],
   "source": [
    "let add_10000000000000 (a, y) =\n",
    "  (a, [|[|y.(0).(0) + 10000000000000|];\n",
    "        [|y.(1).(0) + 10000000000000|]|])"
   ]
  },
  {
   "cell_type": "code",
   "execution_count": 162,
   "id": "e145d17a",
   "metadata": {},
   "outputs": [
    {
     "data": {
      "text/plain": [
       "- : int = 93209116744825\n"
      ]
     },
     "execution_count": 162,
     "metadata": {},
     "output_type": "execute_result"
    }
   ],
   "source": [
    "read_claw_problems \"day13_input.txt\" >>| add_10000000000000 |> day13_cost"
   ]
  },
  {
   "cell_type": "markdown",
   "id": "cebfb7c5",
   "metadata": {},
   "source": [
    "## <a name=\"day14\">Day 14</a>\n",
    "\n",
    "### Part 1\n",
    "\n",
    "Robots.  Hookay."
   ]
  },
  {
   "cell_type": "code",
   "execution_count": 163,
   "id": "788a5530",
   "metadata": {},
   "outputs": [
    {
     "data": {
      "text/plain": [
       "type robot = { position : int * int; velocity : int * int; }\n"
      ]
     },
     "execution_count": 163,
     "metadata": {},
     "output_type": "execute_result"
    }
   ],
   "source": [
    "type robot = {\n",
    "  position: int * int;\n",
    "  velocity: int * int\n",
    "}"
   ]
  },
  {
   "cell_type": "code",
   "execution_count": 164,
   "id": "987e2339",
   "metadata": {},
   "outputs": [
    {
     "data": {
      "text/plain": [
       "val read_robots : Base.string -> robot list = <fun>\n"
      ]
     },
     "execution_count": 164,
     "metadata": {},
     "output_type": "execute_result"
    }
   ],
   "source": [
    "let read_robots filename =\n",
    "  let parse line =\n",
    "    let re = Re2.create_exn {|p=(\\d+),(\\d+) v=(-?\\d+),(-?\\d+)|} in\n",
    "    let m = Re2.first_match_exn re line in \n",
    "    let px = int_of_string @@ Re2.Match.get_exn m ~sub:(`Index 1) in\n",
    "    let py = int_of_string @@ Re2.Match.get_exn m ~sub:(`Index 2) in\n",
    "    let vx = int_of_string @@ Re2.Match.get_exn m ~sub:(`Index 3) in\n",
    "    let vy = int_of_string @@ Re2.Match.get_exn m ~sub:(`Index 4) in\n",
    "      {position=(px, py); velocity=(vx, vy)} in\n",
    "  In_channel.read_lines filename >>| parse"
   ]
  },
  {
   "cell_type": "code",
   "execution_count": 165,
   "id": "2a4e2d73",
   "metadata": {},
   "outputs": [
    {
     "data": {
      "text/plain": [
       "- : robot list =\n",
       "[{position = (0, 4); velocity = (3, -3)};\n",
       " {position = (6, 3); velocity = (-1, -3)};\n",
       " {position = (10, 3); velocity = (-1, 2)};\n",
       " {position = (2, 0); velocity = (2, -1)};\n",
       " {position = (0, 0); velocity = (1, 3)};\n",
       " {position = (3, 0); velocity = (-2, -2)};\n",
       " {position = (7, 6); velocity = (-1, -3)};\n",
       " {position = (3, 0); velocity = (-1, -2)};\n",
       " {position = (9, 3); velocity = (2, 3)};\n",
       " {position = (7, 3); velocity = (-1, 2)};\n",
       " {position = (2, 4); velocity = (2, -3)};\n",
       " {position = (9, 5); velocity = (-3, -3)}]\n"
      ]
     },
     "execution_count": 165,
     "metadata": {},
     "output_type": "execute_result"
    }
   ],
   "source": [
    "read_robots \"day14_example.txt\""
   ]
  },
  {
   "cell_type": "code",
   "execution_count": 166,
   "id": "82f73adf",
   "metadata": {},
   "outputs": [
    {
     "data": {
      "text/plain": [
       "val step_robot : robot -> int -> int -> robot = <fun>\n"
      ]
     },
     "execution_count": 166,
     "metadata": {},
     "output_type": "execute_result"
    }
   ],
   "source": [
    "let step_robot robot width height =\n",
    "  let {position; velocity} = robot in\n",
    "  let (px, py), (vx, vy) = position, velocity in\n",
    "  let rec wrap v m =\n",
    "    if v < 0 then wrap (v + m) m\n",
    "    else v mod m in\n",
    "  {position=(wrap (px + vx) width, wrap (py + vy) height);\n",
    "   velocity=velocity}"
   ]
  },
  {
   "cell_type": "code",
   "execution_count": 167,
   "id": "be98a0ab",
   "metadata": {},
   "outputs": [
    {
     "data": {
      "text/plain": [
       "- : robot = {position = (1, 3); velocity = (2, -3)}\n"
      ]
     },
     "execution_count": 167,
     "metadata": {},
     "output_type": "execute_result"
    }
   ],
   "source": [
    "iterate 5 (fun r -> step_robot r 11 7) {position = (2, 4); velocity = (2, -3)}"
   ]
  },
  {
   "cell_type": "code",
   "execution_count": 168,
   "id": "c664f962",
   "metadata": {},
   "outputs": [
    {
     "data": {
      "text/plain": [
       "val simulate_robots :\n",
       "  int -> int -> Core_kernel.Int.t -> robot list -> robot list = <fun>\n"
      ]
     },
     "execution_count": 168,
     "metadata": {},
     "output_type": "execute_result"
    }
   ],
   "source": [
    "let simulate_robots width height steps robots =\n",
    "  let simulate r = step_robot r width height in\n",
    "  robots >>| iterate steps simulate"
   ]
  },
  {
   "cell_type": "code",
   "execution_count": 169,
   "id": "850ba08a",
   "metadata": {},
   "outputs": [
    {
     "data": {
      "text/plain": [
       "val count_quadrants : int -> int -> robot list -> int = <fun>\n"
      ]
     },
     "execution_count": 169,
     "metadata": {},
     "output_type": "execute_result"
    }
   ],
   "source": [
    "let count_quadrants width height robots =\n",
    "  let quadrant {position=(px, py)} = (px < width / 2, py < height / 2) in\n",
    "  let not_in_middle {position=(px, py)} = px <> width / 2 && py <> height / 2 in\n",
    "  let quads = robots\n",
    "            |> filter ~f:not_in_middle\n",
    "            >>| quadrant\n",
    "            |> sort ~compare:Stdlib.compare\n",
    "            |> group ~break:Poly.(<>)\n",
    "            >>| length in\n",
    "  if length quads < 4 then 0\n",
    "  else fold quads ~init:1 ~f:( * )"
   ]
  },
  {
   "cell_type": "code",
   "execution_count": 170,
   "id": "57f1a0a2",
   "metadata": {},
   "outputs": [
    {
     "data": {
      "text/plain": [
       "- : int = 12\n"
      ]
     },
     "execution_count": 170,
     "metadata": {},
     "output_type": "execute_result"
    }
   ],
   "source": [
    "read_robots \"day14_example.txt\" |> simulate_robots 11 7 100 |> count_quadrants 11 7"
   ]
  },
  {
   "cell_type": "code",
   "execution_count": 171,
   "id": "878ba88c",
   "metadata": {},
   "outputs": [
    {
     "data": {
      "text/plain": [
       "- : int = 211773366\n"
      ]
     },
     "execution_count": 171,
     "metadata": {},
     "output_type": "execute_result"
    }
   ],
   "source": [
    "read_robots \"day14_input.txt\" |> simulate_robots 101 103 100 |> count_quadrants 101 103"
   ]
  },
  {
   "cell_type": "markdown",
   "id": "91d82f13",
   "metadata": {},
   "source": [
    "### Part 2\n",
    "\n",
    "Ok this is extremely cool... apparently we need to plot these points and see when they look like a Christmas tree."
   ]
  },
  {
   "cell_type": "code",
   "execution_count": 172,
   "id": "15f7dbf1",
   "metadata": {},
   "outputs": [
    {
     "data": {
      "text/plain": [
       "val plot : Core.Out_channel.t -> int -> int -> robot list -> unit = <fun>\n"
      ]
     },
     "execution_count": 172,
     "metadata": {},
     "output_type": "execute_result"
    }
   ],
   "source": [
    "let plot out width height robots =\n",
    "  for y=0 to height-1 do\n",
    "    for x=0 to width-1 do\n",
    "      let ch = if exists robots ~f:(fun {position=(px,py)} -> px = x && py = y) then '*' else '.' in\n",
    "        Out_channel.output_char out ch\n",
    "    done; Out_channel.output_char out '\\n'\n",
    "  done"
   ]
  },
  {
   "cell_type": "code",
   "execution_count": 173,
   "id": "ec373c84",
   "metadata": {},
   "outputs": [
    {
     "data": {
      "text/plain": [
       "val simulate_and_plot :\n",
       "  Base.string ->\n",
       "  int -> int -> Core_kernel.Int.t -> int -> robot list -> Base.unit = <fun>\n"
      ]
     },
     "execution_count": 173,
     "metadata": {},
     "output_type": "execute_result"
    }
   ],
   "source": [
    "let simulate_and_plot filename width height plot_from steps robots =\n",
    "  let out = Out_channel.create filename in\n",
    "  let simulate r = step_robot r width height in\n",
    "  let robots = ref robots in\n",
    "  for i=0 to steps do\n",
    "    if i > plot_from then begin\n",
    "      Out_channel.output_string out (\"===== \" ^ (string_of_int i) ^ \" =====\\n\");\n",
    "      plot out width height !robots\n",
    "    end;\n",
    "    robots := !robots >>| simulate\n",
    "  done;\n",
    "  Out_channel.close out"
   ]
  },
  {
   "cell_type": "markdown",
   "id": "37b60768",
   "metadata": {},
   "source": [
    "Whatever I'm looking for doesn't seem to happen in the first 1200 or so generations of the example input, which is sort of annoying.  This notebook environment isn't really helping, since I can't easily page through... let's try writing it out to a file."
   ]
  },
  {
   "cell_type": "code",
   "execution_count": 174,
   "id": "6701789f",
   "metadata": {},
   "outputs": [],
   "source": [
    "(*read_robots \"day14_example.txt\" |> simulate_and_plot \"day14_example_plot.txt\" 11 7 (-1) 10000*)"
   ]
  },
  {
   "cell_type": "markdown",
   "id": "2296aa7a",
   "metadata": {},
   "source": [
    "Oh, that's embarrassing.  The example loops after 77 steps, and never _really_ seems to look like a tree.  Ok, I don't have a ton of hope here, but let's glance at the full data."
   ]
  },
  {
   "cell_type": "code",
   "execution_count": 175,
   "id": "1e37b843",
   "metadata": {},
   "outputs": [],
   "source": [
    "(*read_robots \"day14_input.txt\" |> simulate_and_plot \"day14_example_plot.txt\" 101 103 (-1) 10000*)"
   ]
  },
  {
   "cell_type": "markdown",
   "id": "6bd125eb",
   "metadata": {},
   "source": [
    "Things look... clumpier sometimes?  Like at step 31, there's a horizontal clump.  At 72, there's a vertical clump.  Let's look at when clumps suddenly appear.\n",
    "\n",
    "| H Clump | V Clump |\n",
    "| ------- | ------- |\n",
    "|      31 |      72 |\n",
    "|     134 |     173 |\n",
    "|     237 |     274 |\n",
    "\n",
    "It looks like $step_h = 31 + 103n$ and $step_v = 72 + 101n$.  Let's predict and check a few more clumpy steps..."
   ]
  },
  {
   "cell_type": "code",
   "execution_count": 176,
   "id": "b4c6a4ab",
   "metadata": {},
   "outputs": [
    {
     "data": {
      "text/plain": [
       "- : int list = [31; 134; 237; 340; 443; 546; 649; 752; 855; 958]\n"
      ]
     },
     "execution_count": 176,
     "metadata": {},
     "output_type": "execute_result"
    }
   ],
   "source": [
    "range 0 10 >>| fun n -> 31 + 103 * n"
   ]
  },
  {
   "cell_type": "code",
   "execution_count": 177,
   "id": "147a6fff",
   "metadata": {},
   "outputs": [
    {
     "data": {
      "text/plain": [
       "- : int list = [72; 173; 274; 375; 476; 577; 678; 779; 880; 981]\n"
      ]
     },
     "execution_count": 177,
     "metadata": {},
     "output_type": "execute_result"
    }
   ],
   "source": [
    "range 0 10 >>| fun n -> 72 + 101 * n"
   ]
  },
  {
   "cell_type": "markdown",
   "id": "13ae9db1",
   "metadata": {},
   "source": [
    "The pattern seems to hold.  On what step should the h clumps and v clumps first coincide?"
   ]
  },
  {
   "cell_type": "code",
   "execution_count": 178,
   "id": "c33f73bf",
   "metadata": {},
   "outputs": [
    {
     "data": {
      "text/plain": [
       "val overlap : Core_kernel.Int.t option = Some 7344\n"
      ]
     },
     "execution_count": 178,
     "metadata": {},
     "output_type": "execute_result"
    }
   ],
   "source": [
    "let overlap =\n",
    "  let h_clumps n = 31 + 103 * n in\n",
    "  let v_clumps n = 72 + 101 * n in\n",
    "  let hs = range 0 100 >>| h_clumps in\n",
    "  let vs = range 0 100 >>| v_clumps in\n",
    "  find hs ~f:(fun k -> exists vs ~f:((=) k))"
   ]
  },
  {
   "cell_type": "code",
   "execution_count": 179,
   "id": "0b525bbc",
   "metadata": {},
   "outputs": [
    {
     "data": {
      "text/plain": [
       "- : Base.unit = ()\n"
      ]
     },
     "execution_count": 179,
     "metadata": {},
     "output_type": "execute_result"
    }
   ],
   "source": [
    "read_robots \"day14_input.txt\" |> simulate_and_plot \"day14_example_plot.txt\" 101 103 7343 7345"
   ]
  },
  {
   "cell_type": "markdown",
   "id": "c8843111",
   "metadata": {},
   "source": [
    "Ok yeah there's pretty definitively a Christmas tree hidden in here.  What a cool puzzle, best part 2 ever."
   ]
  },
  {
   "cell_type": "markdown",
   "id": "b867ca54",
   "metadata": {},
   "source": [
    "## <a name=\"day15\">Day 15</a>\n",
    "\n",
    "### Part 1\n",
    "\n",
    "Today we have to play Sokoban.  Ok, this could be fun.  But first... we must read the input."
   ]
  },
  {
   "cell_type": "code",
   "execution_count": 180,
   "id": "7aacbae9",
   "metadata": {},
   "outputs": [
    {
     "data": {
      "text/plain": [
       "type sokoban = {\n",
       "  grid : char Core.Array.t Core.Array.t;\n",
       "  robot : int * int;\n",
       "  moves : char list;\n",
       "}\n"
      ]
     },
     "execution_count": 180,
     "metadata": {},
     "output_type": "execute_result"
    }
   ],
   "source": [
    "type sokoban = {\n",
    "  grid: char Core.Array.t Core.Array.t;\n",
    "  robot: int * int;\n",
    "  moves: char list\n",
    "}"
   ]
  },
  {
   "cell_type": "code",
   "execution_count": 181,
   "id": "b338efbe",
   "metadata": {},
   "outputs": [
    {
     "data": {
      "text/plain": [
       "val read_sokoban : Base.string -> sokoban = <fun>\n"
      ]
     },
     "execution_count": 181,
     "metadata": {},
     "output_type": "execute_result"
    }
   ],
   "source": [
    "let read_sokoban filename =\n",
    "  let lines = In_channel.read_lines filename in\n",
    "  let size = String.length (hd_exn lines) in\n",
    "  let robot = ref (0, 0) in\n",
    "  let grid = Array.make_matrix size size '.' in\n",
    "  let () =\n",
    "    for i = 0 to size-1 do\n",
    "      for j = 0 to size-1 do\n",
    "        let here = String.get (nth_exn lines i) j in\n",
    "          if Char.(here = '@') then begin\n",
    "            robot := (i, j);\n",
    "            grid.(i).(j) <- '.'\n",
    "          end else\n",
    "            grid.(i).(j) <- here\n",
    "      done\n",
    "    done in\n",
    "  let moves = List.drop lines (size + 1)\n",
    "            |> fold ~init:\"\" ~f:String.(^)\n",
    "            |> String.to_list in\n",
    "  {grid = grid; robot = !robot; moves = moves}"
   ]
  },
  {
   "cell_type": "code",
   "execution_count": 182,
   "id": "126506c1",
   "metadata": {},
   "outputs": [
    {
     "data": {
      "text/plain": [
       "- : sokoban =\n",
       "{grid =\n",
       "  [|[|'#'; '#'; '#'; '#'; '#'; '#'; '#'; '#'; '#'; '#'|];\n",
       "    [|'#'; '.'; '.'; 'O'; '.'; '.'; 'O'; '.'; 'O'; '#'|];\n",
       "    [|'#'; '.'; '.'; '.'; '.'; '.'; '.'; 'O'; '.'; '#'|];\n",
       "    [|'#'; '.'; 'O'; 'O'; '.'; '.'; 'O'; '.'; 'O'; '#'|];\n",
       "    [|'#'; '.'; '.'; 'O'; '.'; '.'; '.'; 'O'; '.'; '#'|];\n",
       "    [|'#'; 'O'; '#'; '.'; '.'; 'O'; '.'; '.'; '.'; '#'|];\n",
       "    [|'#'; 'O'; '.'; '.'; 'O'; '.'; '.'; 'O'; '.'; '#'|];\n",
       "    [|'#'; '.'; 'O'; 'O'; '.'; 'O'; '.'; 'O'; 'O'; '#'|];\n",
       "    [|'#'; '.'; '.'; '.'; '.'; 'O'; '.'; '.'; '.'; '#'|];\n",
       "    [|'#'; '#'; '#'; '#'; '#'; '#'; '#'; '#'; '#'; '#'|]|];\n",
       " robot = (4, 4);\n",
       " moves =\n",
       "  ['<'; 'v'; 'v'; '>'; '^'; '<'; 'v'; '^'; '>'; 'v'; '>'; '^'; 'v'; 'v'; '^';\n",
       "   'v'; '>'; 'v'; '<'; '>'; 'v'; '^'; 'v'; '<'; 'v'; '<'; '^'; 'v'; 'v'; '<';\n",
       "   '<'; '<'; '^'; '>'; '<'; '<'; '>'; '<'; '>'; '>'; 'v'; '<'; 'v'; 'v'; 'v';\n",
       "   '<'; '>'; '^'; 'v'; '^'; '>'; '^'; '<'; '<'; '<'; '>'; '<'; '<'; 'v'; '<';\n",
       "   '<'; '<'; 'v'; '^'; 'v'; 'v'; '^'; 'v'; '>'; '^'; 'v'; 'v'; 'v'; '<'; '<';\n",
       "   '^'; '>'; '^'; 'v'; '^'; '^'; '>'; '<'; '<'; '>'; '>'; '>'; '<'; '>'; '^';\n",
       "   '<'; '<'; '>'; '<'; '^'; 'v'; 'v'; '^'; '^'; '<'; '>'; 'v'; 'v'; 'v'; '<';\n",
       "   '>'; '>'; '<'; '^'; '^'; 'v'; '>'; '^'; '>'; 'v'; 'v'; '<'; '>'; 'v'; '<';\n",
       "   '<'; '<'; '<'; 'v'; '<'; '^'; 'v'; '>'; '^'; '<'; '^'; '^'; '>'; '>'; '>';\n",
       "   '^'; '<'; 'v'; '<'; 'v'; '>'; '<'; '>'; 'v'; 'v'; '>'; 'v'; '^'; 'v'; '^';\n",
       "   '<'; '>'; '>'; '<'; '>'; '>'; '>'; '>'; '<'; '^'; '^'; '>'; ...]}\n"
      ]
     },
     "execution_count": 182,
     "metadata": {},
     "output_type": "execute_result"
    }
   ],
   "source": [
    "read_sokoban \"day15_example.txt\""
   ]
  },
  {
   "cell_type": "markdown",
   "id": "22d2db2f",
   "metadata": {},
   "source": [
    "That seems plausible.  Now... we must play Sokoban, I guess."
   ]
  },
  {
   "cell_type": "code",
   "execution_count": 183,
   "id": "b1d5963a",
   "metadata": {},
   "outputs": [
    {
     "data": {
      "text/plain": [
       "val do_sokoban_move : char -> char list -> sokoban -> sokoban = <fun>\n"
      ]
     },
     "execution_count": 183,
     "metadata": {},
     "output_type": "execute_result"
    }
   ],
   "source": [
    "let do_sokoban_move move next_moves sokoban =\n",
    "  let (di, dj) = match move with\n",
    "  | '^' -> (-1, 0)\n",
    "  | '>' -> (0, 1)\n",
    "  | 'v' -> (1, 0)\n",
    "  | '<' -> (0, -1)\n",
    "  | _ -> failwith \"bad move\" in\n",
    "  let (i, j) = sokoban.robot in\n",
    "  let (ni, nj) = (i + di, j + dj) in\n",
    "  let () = (* push boxes *)\n",
    "    let p = ref (ni, nj) in\n",
    "    while Char.(sokoban.grid.(fst !p).(snd !p) = 'O') do\n",
    "      p := (fst !p + di, snd !p + dj)\n",
    "    done;\n",
    "    if Char.(sokoban.grid.(fst !p).(snd !p) = '.') then begin\n",
    "      sokoban.grid.(fst !p).(snd !p) <- sokoban.grid.(ni).(nj);\n",
    "      sokoban.grid.(ni).(nj) <- '.';\n",
    "    end; in\n",
    "  let there = sokoban.grid.(ni).(nj) in\n",
    "  match there with\n",
    "  | '#' | 'O' -> {grid=sokoban.grid; robot=(i, j); moves=next_moves}\n",
    "  | '.' -> {grid=sokoban.grid; robot=(ni, nj); moves=next_moves}\n",
    "  | _ -> failwith (\"bad grid \" ^ (String.make 1 there))"
   ]
  },
  {
   "cell_type": "code",
   "execution_count": 184,
   "id": "79bfbff4",
   "metadata": {},
   "outputs": [
    {
     "data": {
      "text/plain": [
       "val play_sokoban : sokoban -> sokoban = <fun>\n"
      ]
     },
     "execution_count": 184,
     "metadata": {},
     "output_type": "execute_result"
    }
   ],
   "source": [
    "let rec play_sokoban sokoban =\n",
    "  match sokoban.moves with\n",
    "  | [] -> sokoban\n",
    "  | move :: next_moves -> play_sokoban (do_sokoban_move move next_moves sokoban)"
   ]
  },
  {
   "cell_type": "code",
   "execution_count": 185,
   "id": "8bc5fc98",
   "metadata": {},
   "outputs": [
    {
     "data": {
      "text/plain": [
       "- : sokoban =\n",
       "{grid =\n",
       "  [|[|'#'; '#'; '#'; '#'; '#'; '#'; '#'; '#'|];\n",
       "    [|'#'; '.'; '.'; '.'; '.'; 'O'; 'O'; '#'|];\n",
       "    [|'#'; '#'; '.'; '.'; 'O'; '.'; '.'; '#'|];\n",
       "    [|'#'; '.'; '.'; '.'; 'O'; '.'; '.'; '#'|];\n",
       "    [|'#'; '.'; '#'; '.'; 'O'; '.'; '.'; '#'|];\n",
       "    [|'#'; '.'; '.'; '.'; 'O'; '.'; '.'; '#'|];\n",
       "    [|'#'; '.'; '.'; '.'; '.'; '.'; '.'; '#'|];\n",
       "    [|'#'; '#'; '#'; '#'; '#'; '#'; '#'; '#'|]|];\n",
       " robot = (1, 4); moves = []}\n"
      ]
     },
     "execution_count": 185,
     "metadata": {},
     "output_type": "execute_result"
    }
   ],
   "source": [
    "read_sokoban \"day15_small.txt\"\n",
    "|> do_sokoban_move '<' []\n",
    "|> do_sokoban_move '^' []\n",
    "|> do_sokoban_move '^' []\n",
    "|> do_sokoban_move '>' []\n",
    "|> do_sokoban_move '>' []"
   ]
  },
  {
   "cell_type": "code",
   "execution_count": 186,
   "id": "84bf55e5",
   "metadata": {},
   "outputs": [
    {
     "data": {
      "text/plain": [
       "- : sokoban =\n",
       "{grid =\n",
       "  [|[|'#'; '#'; '#'; '#'; '#'; '#'; '#'; '#'|];\n",
       "    [|'#'; '.'; '.'; '.'; '.'; 'O'; 'O'; '#'|];\n",
       "    [|'#'; '#'; '.'; '.'; '.'; '.'; '.'; '#'|];\n",
       "    [|'#'; '.'; '.'; '.'; '.'; '.'; 'O'; '#'|];\n",
       "    [|'#'; '.'; '#'; 'O'; '.'; '.'; '.'; '#'|];\n",
       "    [|'#'; '.'; '.'; '.'; 'O'; '.'; '.'; '#'|];\n",
       "    [|'#'; '.'; '.'; '.'; 'O'; '.'; '.'; '#'|];\n",
       "    [|'#'; '#'; '#'; '#'; '#'; '#'; '#'; '#'|]|];\n",
       " robot = (4, 4); moves = []}\n"
      ]
     },
     "execution_count": 186,
     "metadata": {},
     "output_type": "execute_result"
    }
   ],
   "source": [
    "read_sokoban \"day15_small.txt\" |> play_sokoban"
   ]
  },
  {
   "cell_type": "code",
   "execution_count": 187,
   "id": "123b656d",
   "metadata": {},
   "outputs": [
    {
     "data": {
      "text/plain": [
       "- : sokoban =\n",
       "{grid =\n",
       "  [|[|'#'; '#'; '#'; '#'; '#'; '#'; '#'; '#'; '#'; '#'|];\n",
       "    [|'#'; '.'; 'O'; '.'; 'O'; '.'; 'O'; 'O'; 'O'; '#'|];\n",
       "    [|'#'; '.'; '.'; '.'; '.'; '.'; '.'; '.'; '.'; '#'|];\n",
       "    [|'#'; 'O'; 'O'; '.'; '.'; '.'; '.'; '.'; '.'; '#'|];\n",
       "    [|'#'; 'O'; 'O'; '.'; '.'; '.'; '.'; '.'; '.'; '#'|];\n",
       "    [|'#'; 'O'; '#'; '.'; '.'; '.'; '.'; '.'; 'O'; '#'|];\n",
       "    [|'#'; 'O'; '.'; '.'; '.'; '.'; '.'; 'O'; 'O'; '#'|];\n",
       "    [|'#'; 'O'; '.'; '.'; '.'; '.'; '.'; 'O'; 'O'; '#'|];\n",
       "    [|'#'; 'O'; 'O'; '.'; '.'; '.'; '.'; 'O'; 'O'; '#'|];\n",
       "    [|'#'; '#'; '#'; '#'; '#'; '#'; '#'; '#'; '#'; '#'|]|];\n",
       " robot = (4, 3); moves = []}\n"
      ]
     },
     "execution_count": 187,
     "metadata": {},
     "output_type": "execute_result"
    }
   ],
   "source": [
    "read_sokoban \"day15_example.txt\" |> play_sokoban"
   ]
  },
  {
   "cell_type": "code",
   "execution_count": 188,
   "id": "03070c10",
   "metadata": {},
   "outputs": [
    {
     "data": {
      "text/plain": [
       "val checksum_boxes : sokoban -> int = <fun>\n"
      ]
     },
     "execution_count": 188,
     "metadata": {},
     "output_type": "execute_result"
    }
   ],
   "source": [
    "let checksum_boxes sokoban =\n",
    "  let rows = Array.length sokoban.grid in\n",
    "  let cols = Array.length sokoban.grid.(0) in\n",
    "  let sum = ref 0 in\n",
    "  for i=0 to rows-1 do\n",
    "    for j=0 to cols-1 do\n",
    "      if Char.(sokoban.grid.(i).(j) = 'O' || sokoban.grid.(i).(j) = '[') then\n",
    "        sum := !sum + 100 * i + j \n",
    "    done\n",
    "  done; !sum"
   ]
  },
  {
   "cell_type": "code",
   "execution_count": 189,
   "id": "eeae43df",
   "metadata": {},
   "outputs": [
    {
     "data": {
      "text/plain": [
       "- : int = 10092\n"
      ]
     },
     "execution_count": 189,
     "metadata": {},
     "output_type": "execute_result"
    }
   ],
   "source": [
    "read_sokoban \"day15_example.txt\" |> play_sokoban |> checksum_boxes"
   ]
  },
  {
   "cell_type": "code",
   "execution_count": 190,
   "id": "16976329",
   "metadata": {},
   "outputs": [
    {
     "data": {
      "text/plain": [
       "- : int = 1415498\n"
      ]
     },
     "execution_count": 190,
     "metadata": {},
     "output_type": "execute_result"
    }
   ],
   "source": [
    "read_sokoban \"day15_input.txt\" |> play_sokoban |> checksum_boxes"
   ]
  },
  {
   "cell_type": "markdown",
   "id": "b33aa7e1",
   "metadata": {},
   "source": [
    "### Part 2\n",
    "\n",
    "Now we get to play Big Sokoban!  It still probably makes sense to do things with grids, but the logic is somewhat more complicated for vertical moves."
   ]
  },
  {
   "cell_type": "code",
   "execution_count": 191,
   "id": "fa5031d6",
   "metadata": {},
   "outputs": [
    {
     "data": {
      "text/plain": [
       "val inflate : sokoban -> sokoban = <fun>\n"
      ]
     },
     "execution_count": 191,
     "metadata": {},
     "output_type": "execute_result"
    }
   ],
   "source": [
    "let inflate sokoban =\n",
    "  let size = Array.length sokoban.grid in\n",
    "  let new_grid = Array.make_matrix size (2 * size) '.' in\n",
    "  let () =\n",
    "    for i = 0 to size-1 do\n",
    "      for j = 0 to size-1 do\n",
    "        match sokoban.grid.(i).(j) with\n",
    "        | '#' | '.' ->\n",
    "          new_grid.(i).(2 * j) <- sokoban.grid.(i).(j);\n",
    "          new_grid.(i).(2 * j + 1) <- sokoban.grid.(i).(j)\n",
    "        | 'O' ->\n",
    "          new_grid.(i).(2 * j) <- '[';\n",
    "          new_grid.(i).(2 * j + 1) <- ']'\n",
    "        | _ -> failwith \"bad grid\"\n",
    "      done\n",
    "    done in\n",
    "  let (i, j) = sokoban.robot in\n",
    "  {grid=new_grid; robot=(i, 2*j); moves=sokoban.moves}"
   ]
  },
  {
   "cell_type": "code",
   "execution_count": 192,
   "id": "ac5c5161",
   "metadata": {},
   "outputs": [
    {
     "data": {
      "text/plain": [
       "- : sokoban =\n",
       "{grid =\n",
       "  [|[|'#'; '#'; '#'; '#'; '#'; '#'; '#'; '#'; '#'; '#'; '#'; '#'; '#'; '#'|];\n",
       "    [|'#'; '#'; '.'; '.'; '.'; '.'; '.'; '.'; '#'; '#'; '.'; '.'; '#'; '#'|];\n",
       "    [|'#'; '#'; '.'; '.'; '.'; '.'; '.'; '.'; '.'; '.'; '.'; '.'; '#'; '#'|];\n",
       "    [|'#'; '#'; '.'; '.'; '.'; '.'; '['; ']'; '['; ']'; '.'; '.'; '#'; '#'|];\n",
       "    [|'#'; '#'; '.'; '.'; '.'; '.'; '['; ']'; '.'; '.'; '.'; '.'; '#'; '#'|];\n",
       "    [|'#'; '#'; '.'; '.'; '.'; '.'; '.'; '.'; '.'; '.'; '.'; '.'; '#'; '#'|];\n",
       "    [|'#'; '#'; '#'; '#'; '#'; '#'; '#'; '#'; '#'; '#'; '#'; '#'; '#'; '#'|]|];\n",
       " robot = (3, 10);\n",
       " moves = ['<'; 'v'; 'v'; '<'; '<'; '^'; '^'; '<'; '<'; '^'; '^']}\n"
      ]
     },
     "execution_count": 192,
     "metadata": {},
     "output_type": "execute_result"
    }
   ],
   "source": [
    "read_sokoban \"day15_small2.txt\" |> inflate"
   ]
  },
  {
   "cell_type": "markdown",
   "id": "3c9f2e01",
   "metadata": {},
   "source": [
    "In Big Sokoban, we can push an arbitrary number of columns.  For example, say we push up in this grid. \n",
    "```\n",
    "  12345678\n",
    "1 ........\n",
    "2 [][][][]\n",
    "3 .[][][].\n",
    "4 .#[][]#.\n",
    "5 ..#[]#..\n",
    "6 ....@...\n",
    "```\n",
    "\n",
    "All the boxes should shift up by one row.  So, to push up, we scan up from the current row checking a set of columns.  If we see `]`, we add `column-1` to the set; if we see `[` we add `column+1`.  If we see '#', the move fails, and if we see '.' a column is ok.\n",
    "\n",
    "I guess we could write the program that way, but this seems a bit lame.\n",
    "\n",
    "A different way to think about this is that a push (from, to) either succeeds, or _depends on_ other pushes.  If all pushes in the tree succeed, we execute them in depth first order."
   ]
  },
  {
   "cell_type": "code",
   "execution_count": 193,
   "id": "92b6449c",
   "metadata": {},
   "outputs": [
    {
     "data": {
      "text/plain": [
       "type push = {\n",
       "  from_pos : int * int;\n",
       "  to_pos : int * int;\n",
       "  children : push list;\n",
       "}\n"
      ]
     },
     "execution_count": 193,
     "metadata": {},
     "output_type": "execute_result"
    }
   ],
   "source": [
    "type push = {\n",
    "  from_pos: int * int;\n",
    "  to_pos: int * int;\n",
    "  children: push list\n",
    "}"
   ]
  },
  {
   "cell_type": "markdown",
   "id": "831c9b5b",
   "metadata": {},
   "source": [
    "When checking pushes, we might visit dependent pushes multiple times.  For example, in this situation:\n",
    "```\n",
    "..\n",
    "[] ab\n",
    "[] cd\n",
    ".@\n",
    "```\n",
    "\n",
    "We will first check d, then b and a. Then we'll check c, which also depends on a and b. We'll just keep track of which pushes we've already checked and construct a tree like $c \\rightarrow (d \\rightarrow (a \\rightarrow b))$.  Because we short-circuit as soon as any push fails, already checked pushes must be valid - we just don't want to add them to the tree again."
   ]
  },
  {
   "cell_type": "code",
   "execution_count": 194,
   "id": "bb2ae6a5",
   "metadata": {},
   "outputs": [
    {
     "data": {
      "text/plain": [
       "type push_check = Bad | AlreadyChecked | Push of push\n"
      ]
     },
     "execution_count": 194,
     "metadata": {},
     "output_type": "execute_result"
    }
   ],
   "source": [
    "type push_check = Bad | AlreadyChecked | Push of push"
   ]
  },
  {
   "cell_type": "code",
   "execution_count": 195,
   "id": "2f7301aa",
   "metadata": {},
   "outputs": [
    {
     "data": {
      "text/plain": [
       "val make_push :\n",
       "  int * int ->\n",
       "  Core_kernel.Int.t * int -> char Core.Array.t Core.Array.t -> push option =\n",
       "  <fun>\n"
      ]
     },
     "execution_count": 195,
     "metadata": {},
     "output_type": "execute_result"
    }
   ],
   "source": [
    "let make_push (fi, fj) (di, dj) grid =\n",
    "  let already_checked = Hash_set.Poly.of_list [(-1, -1)] in\n",
    "  let rec make_push' (fi, fj) (di, dj) add_adjacent =\n",
    "    let check_push (fi, fj) (di, dj) add_adjacent =\n",
    "      if Hash_set.mem already_checked (fi, fj) then\n",
    "        AlreadyChecked\n",
    "      else begin\n",
    "        (* we are only really checking vertical pushes if add_adjacent=false *)\n",
    "        if not add_adjacent then Hash_set.add already_checked (fi, fj);\n",
    "        make_push' (fi, fj) (di, dj) add_adjacent\n",
    "      end in\n",
    "    let (ti, tj) = (fi + di, fj + dj) in\n",
    "    if di = 0 || (not add_adjacent) then\n",
    "      (* horizontal push, or vertical push w/o adjacent push *)\n",
    "      match grid.(ti).(tj) with\n",
    "      | '#' -> Bad\n",
    "      | '.' -> Push {from_pos=(fi, fj); to_pos=(ti, tj); children=[]}\n",
    "      | '[' | ']' | 'O' ->\n",
    "        let child = check_push (ti, tj) (di, dj) true in\n",
    "          (match child with\n",
    "           | Bad -> Bad\n",
    "           | AlreadyChecked -> Push {from_pos=(fi, fj); to_pos=(ti, tj); children=[]}\n",
    "           | Push p -> Push {from_pos=(fi, fj); to_pos=(ti, tj); children=[p]})\n",
    "      | _ -> failwith \"bad grid\"\n",
    "    else\n",
    "      (* vertical push with adjacent push *)\n",
    "      (* first push this column, then dependent on that, push neighbor *)\n",
    "      match check_push (fi, fj) (di, dj) false with\n",
    "      | Bad -> Bad\n",
    "      | AlreadyChecked -> AlreadyChecked\n",
    "      | Push p ->\n",
    "        let push_neighbor neighbor =\n",
    "          match check_push neighbor (di, dj) false with\n",
    "          | Bad -> Bad\n",
    "          | AlreadyChecked -> Push p\n",
    "          | Push n -> Push {from_pos=n.from_pos; to_pos=n.to_pos; children=p::n.children} in \n",
    "        match grid.(fi).(fj) with\n",
    "        | ']' -> push_neighbor (fi, fj-1)\n",
    "        | '[' -> push_neighbor (fi, fj+1)\n",
    "        | 'O' -> Push p\n",
    "        | _ -> failwith \"bad grid\" in\n",
    "  match grid.(fi).(fj) with\n",
    "  | '.' | '#' -> None\n",
    "  | _ ->\n",
    "    match make_push' (fi, fj) (di, dj) true with\n",
    "    | Bad -> None\n",
    "    | AlreadyChecked -> failwith \"bug\"\n",
    "    | Push p -> Some p"
   ]
  },
  {
   "cell_type": "code",
   "execution_count": 196,
   "id": "bb9a9800",
   "metadata": {},
   "outputs": [
    {
     "data": {
      "text/plain": [
       "- : sokoban =\n",
       "{grid =\n",
       "  [|[|'#'; '#'; '#'; '#'; '#'; '#'; '#'; '#'; '#'; '#'; '#'; '#'; '#'; '#'|];\n",
       "    [|'#'; '#'; '.'; '.'; '.'; '.'; '.'; '.'; '#'; '#'; '.'; '.'; '#'; '#'|];\n",
       "    [|'#'; '#'; '.'; '.'; '.'; '.'; '.'; '.'; '.'; '.'; '.'; '.'; '#'; '#'|];\n",
       "    [|'#'; '#'; '.'; '.'; '.'; '.'; '['; ']'; '['; ']'; '.'; '.'; '#'; '#'|];\n",
       "    [|'#'; '#'; '.'; '.'; '.'; '.'; '['; ']'; '.'; '.'; '.'; '.'; '#'; '#'|];\n",
       "    [|'#'; '#'; '.'; '.'; '.'; '.'; '.'; '.'; '.'; '.'; '.'; '.'; '#'; '#'|];\n",
       "    [|'#'; '#'; '#'; '#'; '#'; '#'; '#'; '#'; '#'; '#'; '#'; '#'; '#'; '#'|]|];\n",
       " robot = (3, 10);\n",
       " moves = ['<'; 'v'; 'v'; '<'; '<'; '^'; '^'; '<'; '<'; '^'; '^']}\n"
      ]
     },
     "execution_count": 196,
     "metadata": {},
     "output_type": "execute_result"
    }
   ],
   "source": [
    "read_sokoban \"day15_small2.txt\" |> inflate"
   ]
  },
  {
   "cell_type": "code",
   "execution_count": 197,
   "id": "c1770ec5",
   "metadata": {},
   "outputs": [
    {
     "data": {
      "text/plain": [
       "- : push option =\n",
       "Some\n",
       " {from_pos = (4, 6); to_pos = (3, 6);\n",
       "  children =\n",
       "   [{from_pos = (4, 7); to_pos = (3, 7);\n",
       "     children =\n",
       "      [{from_pos = (3, 6); to_pos = (2, 6);\n",
       "        children = [{from_pos = (3, 7); to_pos = (2, 7); children = []}]}]}]}\n"
      ]
     },
     "execution_count": 197,
     "metadata": {},
     "output_type": "execute_result"
    }
   ],
   "source": [
    "read_sokoban \"day15_small2.txt\" |> inflate |> (fun s -> s.grid) |> make_push (4, 7) (-1, 0)"
   ]
  },
  {
   "cell_type": "code",
   "execution_count": 198,
   "id": "1e048a0d",
   "metadata": {},
   "outputs": [
    {
     "data": {
      "text/plain": [
       "val do_push : push -> char Core.Array.t Core.Array.t -> unit = <fun>\n"
      ]
     },
     "execution_count": 198,
     "metadata": {},
     "output_type": "execute_result"
    }
   ],
   "source": [
    "let rec do_push p grid =\n",
    "  List.iter p.children (fun p' -> do_push p' grid);\n",
    "  grid.(fst p.to_pos).(snd p.to_pos) <- grid.(fst p.from_pos).(snd p.from_pos); \n",
    "  grid.(fst p.from_pos).(snd p.from_pos) <- '.'"
   ]
  },
  {
   "cell_type": "code",
   "execution_count": 199,
   "id": "50b28726",
   "metadata": {},
   "outputs": [
    {
     "data": {
      "text/plain": [
       "val do_sokoban_move : char -> char list -> sokoban -> sokoban = <fun>\n"
      ]
     },
     "execution_count": 199,
     "metadata": {},
     "output_type": "execute_result"
    }
   ],
   "source": [
    "let do_sokoban_move move next_moves sokoban =\n",
    "  let (di, dj) = match move with\n",
    "  | '^' -> (-1, 0)\n",
    "  | '>' -> (0, 1)\n",
    "  | 'v' -> (1, 0)\n",
    "  | '<' -> (0, -1)\n",
    "  | _ -> failwith \"bad move\" in\n",
    "  let (i, j) = sokoban.robot in\n",
    "  let (ni, nj) = (i + di, j + dj) in\n",
    "  let () =\n",
    "    match (make_push (ni, nj) (di, dj) sokoban.grid) with\n",
    "    | Some p -> do_push p sokoban.grid\n",
    "    | None -> () in\n",
    "  let there = sokoban.grid.(ni).(nj) in\n",
    "  match there with\n",
    "  | '#' | '[' | ']' | 'O' ->\n",
    "    {grid=sokoban.grid; robot=(i, j); moves=next_moves}\n",
    "  | '.' ->\n",
    "    {grid=sokoban.grid; robot=(ni, nj); moves=next_moves}\n",
    "  | _ -> failwith (\"bad grid \" ^ (String.make 1 there))"
   ]
  },
  {
   "cell_type": "code",
   "execution_count": 200,
   "id": "b6a8b45f",
   "metadata": {},
   "outputs": [
    {
     "data": {
      "text/plain": [
       "- : sokoban =\n",
       "{grid =\n",
       "  [|[|'#'; '#'; '#'; '#'; '#'; '#'; '#'; '#'; '#'; '#'; '#'; '#'; '#'; '#'|];\n",
       "    [|'#'; '#'; '.'; '.'; '.'; '['; ']'; '.'; '#'; '#'; '.'; '.'; '#'; '#'|];\n",
       "    [|'#'; '#'; '.'; '.'; '.'; '.'; '.'; '['; ']'; '.'; '.'; '.'; '#'; '#'|];\n",
       "    [|'#'; '#'; '.'; '.'; '.'; '.'; '['; ']'; '.'; '.'; '.'; '.'; '#'; '#'|];\n",
       "    [|'#'; '#'; '.'; '.'; '.'; '.'; '.'; '.'; '.'; '.'; '.'; '.'; '#'; '#'|];\n",
       "    [|'#'; '#'; '.'; '.'; '.'; '.'; '.'; '.'; '.'; '.'; '.'; '.'; '#'; '#'|];\n",
       "    [|'#'; '#'; '#'; '#'; '#'; '#'; '#'; '#'; '#'; '#'; '#'; '#'; '#'; '#'|]|];\n",
       " robot = (2, 5); moves = []}\n"
      ]
     },
     "execution_count": 200,
     "metadata": {},
     "output_type": "execute_result"
    }
   ],
   "source": [
    "read_sokoban \"day15_small2.txt\" |> inflate\n",
    "|> do_sokoban_move '<' []\n",
    "|> do_sokoban_move 'v' []\n",
    "|> do_sokoban_move 'v' []\n",
    "|> do_sokoban_move '<' []\n",
    "|> do_sokoban_move '<' []\n",
    "|> do_sokoban_move '^' []\n",
    "|> do_sokoban_move '<' []\n",
    "|> do_sokoban_move '<' []\n",
    "|> do_sokoban_move '^' []\n",
    "|> do_sokoban_move '^' []"
   ]
  },
  {
   "cell_type": "code",
   "execution_count": 201,
   "id": "a1ab71a3",
   "metadata": {},
   "outputs": [
    {
     "data": {
      "text/plain": [
       "val play_sokoban : sokoban -> sokoban = <fun>\n"
      ]
     },
     "execution_count": 201,
     "metadata": {},
     "output_type": "execute_result"
    }
   ],
   "source": [
    "let rec play_sokoban sokoban =\n",
    "  match sokoban.moves with\n",
    "  | [] -> sokoban\n",
    "  | move :: next_moves -> play_sokoban (do_sokoban_move move next_moves sokoban)"
   ]
  },
  {
   "cell_type": "code",
   "execution_count": 202,
   "id": "98a49b2d",
   "metadata": {},
   "outputs": [
    {
     "data": {
      "text/plain": [
       "- : sokoban =\n",
       "{grid =\n",
       "  [|[|'#'; '#'; '#'; '#'; '#'; '#'; '#'; '#'; '#'; '#'; '#'; '#'; '#'; '#'|];\n",
       "    [|'#'; '#'; '.'; '.'; '.'; '['; ']'; '.'; '#'; '#'; '.'; '.'; '#'; '#'|];\n",
       "    [|'#'; '#'; '.'; '.'; '.'; '.'; '.'; '['; ']'; '.'; '.'; '.'; '#'; '#'|];\n",
       "    [|'#'; '#'; '.'; '.'; '.'; '.'; '['; ']'; '.'; '.'; '.'; '.'; '#'; '#'|];\n",
       "    [|'#'; '#'; '.'; '.'; '.'; '.'; '.'; '.'; '.'; '.'; '.'; '.'; '#'; '#'|];\n",
       "    [|'#'; '#'; '.'; '.'; '.'; '.'; '.'; '.'; '.'; '.'; '.'; '.'; '#'; '#'|];\n",
       "    [|'#'; '#'; '#'; '#'; '#'; '#'; '#'; '#'; '#'; '#'; '#'; '#'; '#'; '#'|]|];\n",
       " robot = (2, 5); moves = []}\n"
      ]
     },
     "execution_count": 202,
     "metadata": {},
     "output_type": "execute_result"
    }
   ],
   "source": [
    "read_sokoban \"day15_small2.txt\" |> inflate |> play_sokoban"
   ]
  },
  {
   "cell_type": "code",
   "execution_count": 203,
   "id": "b314c95b",
   "metadata": {},
   "outputs": [
    {
     "data": {
      "text/plain": [
       "- : sokoban =\n",
       "{grid =\n",
       "  [|[|'#'; '#'; '#'; '#'; '#'; '#'; '#'; '#'; '#'; '#'; '#'; '#'; '#'; '#';\n",
       "      '#'; '#'; '#'; '#'; '#'; '#'|];\n",
       "    [|'#'; '#'; '['; ']'; '.'; '.'; '.'; '.'; '.'; '.'; '.'; '['; ']'; '.';\n",
       "      '['; ']'; '['; ']'; '#'; '#'|];\n",
       "    [|'#'; '#'; '['; ']'; '.'; '.'; '.'; '.'; '.'; '.'; '.'; '.'; '.'; '.';\n",
       "      '.'; '['; ']'; '.'; '#'; '#'|];\n",
       "    [|'#'; '#'; '['; ']'; '.'; '.'; '.'; '.'; '.'; '.'; '.'; '.'; '['; ']';\n",
       "      '['; ']'; '['; ']'; '#'; '#'|];\n",
       "    [|'#'; '#'; '['; ']'; '.'; '.'; '.'; '.'; '.'; '.'; '['; ']'; '.'; '.';\n",
       "      '.'; '.'; '['; ']'; '#'; '#'|];\n",
       "    [|'#'; '#'; '.'; '.'; '#'; '#'; '.'; '.'; '.'; '.'; '.'; '.'; '['; ']';\n",
       "      '.'; '.'; '.'; '.'; '#'; '#'|];\n",
       "    [|'#'; '#'; '.'; '.'; '['; ']'; '.'; '.'; '.'; '.'; '.'; '.'; '.'; '.';\n",
       "      '.'; '.'; '.'; '.'; '#'; '#'|];\n",
       "    [|'#'; '#'; '.'; '.'; '.'; '.'; '.'; '.'; '.'; '.'; '.'; '['; ']'; '.';\n",
       "      '['; ']'; '['; ']'; '#'; '#'|];\n",
       "    [|'#'; '#'; '.'; '.'; '.'; '.'; '.'; '.'; '['; ']'; '['; ']'; '.'; '.';\n",
       "      '['; ']'; '.'; '.'; '#'; '#'|];\n",
       "    [|'#'; '#'; '#'; '#'; '#'; '#'; '#'; '#'; '#'; '#'; '#'; '#'; '#'; '#';\n",
       "      '#'; '#'; '#'; '#'; '#'; '#'|]|];\n",
       " robot = (7, 4); moves = []}\n"
      ]
     },
     "execution_count": 203,
     "metadata": {},
     "output_type": "execute_result"
    }
   ],
   "source": [
    "read_sokoban \"day15_example.txt\" |> inflate |> play_sokoban"
   ]
  },
  {
   "cell_type": "code",
   "execution_count": 204,
   "id": "68b31336",
   "metadata": {},
   "outputs": [
    {
     "data": {
      "text/plain": [
       "- : int = 9021\n"
      ]
     },
     "execution_count": 204,
     "metadata": {},
     "output_type": "execute_result"
    }
   ],
   "source": [
    "read_sokoban \"day15_example.txt\" |> inflate |> play_sokoban |> checksum_boxes"
   ]
  },
  {
   "cell_type": "code",
   "execution_count": 205,
   "id": "88ec16fa",
   "metadata": {},
   "outputs": [
    {
     "data": {
      "text/plain": [
       "- : int = 1432898\n"
      ]
     },
     "execution_count": 205,
     "metadata": {},
     "output_type": "execute_result"
    }
   ],
   "source": [
    "read_sokoban \"day15_input.txt\" |> inflate |> play_sokoban |> checksum_boxes"
   ]
  },
  {
   "cell_type": "markdown",
   "id": "fff6b6f6",
   "metadata": {},
   "source": [
    "## <a name=\"day16\">Day 16</a>\n",
    "\n",
    "### Part 1\n",
    "\n",
    "Another day, another grid.  Today we have to search for the lowest cost path through a maze."
   ]
  },
  {
   "cell_type": "code",
   "execution_count": 206,
   "id": "213fd867",
   "metadata": {},
   "outputs": [
    {
     "data": {
      "text/plain": [
       "type day16_maze = {\n",
       "  grid : char Core.Array.t Core.Array.t;\n",
       "  start : int * int;\n",
       "  goal : int * int;\n",
       "}\n"
      ]
     },
     "execution_count": 206,
     "metadata": {},
     "output_type": "execute_result"
    }
   ],
   "source": [
    "type day16_maze = {\n",
    "  grid: char Core.Array.t Core.Array.t;\n",
    "  start: int * int;\n",
    "  goal: int * int;\n",
    "}"
   ]
  },
  {
   "cell_type": "code",
   "execution_count": 207,
   "id": "577b0397",
   "metadata": {},
   "outputs": [
    {
     "data": {
      "text/plain": [
       "val read_maze : Base.string -> day16_maze = <fun>\n"
      ]
     },
     "execution_count": 207,
     "metadata": {},
     "output_type": "execute_result"
    }
   ],
   "source": [
    "let read_maze filename =\n",
    "  let grid = read_grid_from_file filename in\n",
    "  let start = find_in_grid (Char.(=) 'S') grid in\n",
    "  let goal = find_in_grid (Char.(=) 'E') grid in\n",
    "  {grid; start; goal}"
   ]
  },
  {
   "cell_type": "code",
   "execution_count": 208,
   "id": "7b0820e9",
   "metadata": {},
   "outputs": [
    {
     "data": {
      "text/plain": [
       "- : day16_maze =\n",
       "{grid =\n",
       "  [|[|'#'; '#'; '#'; '#'; '#'; '#'; '#'; '#'; '#'; '#'; '#'; '#'; '#'; '#';\n",
       "      '#'|];\n",
       "    [|'#'; '.'; '.'; '.'; '.'; '.'; '.'; '.'; '#'; '.'; '.'; '.'; '.'; 'E';\n",
       "      '#'|];\n",
       "    [|'#'; '.'; '#'; '.'; '#'; '#'; '#'; '.'; '#'; '.'; '#'; '#'; '#'; '.';\n",
       "      '#'|];\n",
       "    [|'#'; '.'; '.'; '.'; '.'; '.'; '#'; '.'; '#'; '.'; '.'; '.'; '#'; '.';\n",
       "      '#'|];\n",
       "    [|'#'; '.'; '#'; '#'; '#'; '.'; '#'; '#'; '#'; '#'; '#'; '.'; '#'; '.';\n",
       "      '#'|];\n",
       "    [|'#'; '.'; '#'; '.'; '#'; '.'; '.'; '.'; '.'; '.'; '.'; '.'; '#'; '.';\n",
       "      '#'|];\n",
       "    [|'#'; '.'; '#'; '.'; '#'; '#'; '#'; '#'; '#'; '.'; '#'; '#'; '#'; '.';\n",
       "      '#'|];\n",
       "    [|'#'; '.'; '.'; '.'; '.'; '.'; '.'; '.'; '.'; '.'; '.'; '.'; '#'; '.';\n",
       "      '#'|];\n",
       "    [|'#'; '#'; '#'; '.'; '#'; '.'; '#'; '#'; '#'; '#'; '#'; '.'; '#'; '.';\n",
       "      '#'|];\n",
       "    [|'#'; '.'; '.'; '.'; '#'; '.'; '.'; '.'; '.'; '.'; '#'; '.'; '#'; '.';\n",
       "      '#'|];\n",
       "    [|'#'; '.'; '#'; '.'; '#'; '.'; '#'; '#'; '#'; '.'; '#'; '.'; '#'; '.';\n",
       "      '#'|];\n",
       "    [|'#'; '.'; '.'; '.'; '.'; '.'; '#'; '.'; '.'; '.'; '#'; '.'; '#'; '.';\n",
       "      '#'|];\n",
       "    [|'#'; '.'; '#'; '#'; '#'; '.'; '#'; '.'; '#'; '.'; '#'; '.'; '#'; '.';\n",
       "      '#'|];\n",
       "    [|'#'; 'S'; '.'; '.'; '#'; '.'; '.'; '.'; '.'; '.'; '#'; '.'; '.'; '.';\n",
       "      '#'|];\n",
       "    [|'#'; '#'; '#'; '#'; '#'; '#'; '#'; '#'; '#'; '#'; '#'; '#'; '#'; '#';\n",
       "      '#'|]|];\n",
       " start = (13, 1); goal = (1, 13)}\n"
      ]
     },
     "execution_count": 208,
     "metadata": {},
     "output_type": "execute_result"
    }
   ],
   "source": [
    "read_maze \"day16_example.txt\""
   ]
  },
  {
   "cell_type": "markdown",
   "id": "1ab26b3d",
   "metadata": {},
   "source": [
    "All right... do we have a heap of some sort?  There is `core_kernel.Pairing_heap`, but I'm not sure that `core_kernel` exists anymore.  According to a blog post, it was going to stop existing, but I don't know if that's happened or not in my version of ocaml."
   ]
  },
  {
   "cell_type": "code",
   "execution_count": 209,
   "id": "f5dfe9d5",
   "metadata": {},
   "outputs": [
    {
     "name": "stderr",
     "output_type": "stream",
     "text": [
      "/Users/jered/.opam/4.12.0/lib/core_kernel/tuple_pool: added to search path\n",
      "/Users/jered/.opam/4.12.0/lib/core_kernel/tuple_pool/tuple_pool.cma: loaded\n",
      "/Users/jered/.opam/4.12.0/lib/core_kernel/pairing_heap: added to search path\n",
      "/Users/jered/.opam/4.12.0/lib/core_kernel/pairing_heap/pairing_heap.cma: loaded\n"
     ]
    }
   ],
   "source": [
    "#require \"core_kernel\" ;;\n",
    "#require \"core_kernel.pairing_heap\" ;;"
   ]
  },
  {
   "cell_type": "code",
   "execution_count": 210,
   "id": "c699b5ea",
   "metadata": {},
   "outputs": [
    {
     "data": {
      "text/plain": [
       "- : ?min_size:int -> cmp:('a -> 'a -> int) -> unit -> 'a Pairing_heap.t =\n",
       "<fun>\n"
      ]
     },
     "execution_count": 210,
     "metadata": {},
     "output_type": "execute_result"
    }
   ],
   "source": [
    "Pairing_heap.create"
   ]
  },
  {
   "cell_type": "markdown",
   "id": "eb916492",
   "metadata": {},
   "source": [
    "It's a Festivus miracle!"
   ]
  },
  {
   "cell_type": "code",
   "execution_count": 211,
   "id": "a04cad77",
   "metadata": {},
   "outputs": [
    {
     "data": {
      "text/plain": [
       "type day16_position = { pos : int * int; facing : int * int; }\n"
      ]
     },
     "execution_count": 211,
     "metadata": {},
     "output_type": "execute_result"
    }
   ],
   "source": [
    "type day16_position = {\n",
    "  pos: int * int;\n",
    "  facing: int * int;\n",
    "}"
   ]
  },
  {
   "cell_type": "code",
   "execution_count": 212,
   "id": "e1d13644",
   "metadata": {},
   "outputs": [
    {
     "data": {
      "text/plain": [
       "val search_maze : day16_maze -> int = <fun>\n"
      ]
     },
     "execution_count": 212,
     "metadata": {},
     "output_type": "execute_result"
    }
   ],
   "source": [
    "let search_maze maze =\n",
    "  let size = Array.length maze.grid in\n",
    "  (* 0 1 -> 1 0 -> 0 -1 -> -1 0 *)\n",
    "  let turn_cw dir = (snd dir, - fst dir) in\n",
    "  (* 0 1 -> -1 0 -> 0 -1 -> 1 0 *)\n",
    "  let turn_ccw dir = (- snd dir, fst dir) in\n",
    "  let compare_paths (p_cost, _) (q_cost, _) = Stdlib.compare p_cost q_cost in\n",
    "  let start = {pos=maze.start; facing=(0, 1)} in\n",
    "  let queue = Pairing_heap.of_list ~cmp:compare_paths [(0, start)] in\n",
    "  let visited = Hash_set.Poly.of_list [start] in\n",
    "  let enqueue cost p =\n",
    "    if not (Hash_set.mem visited p) then begin\n",
    "      Pairing_heap.add queue (cost, p)\n",
    "    end in\n",
    "  let best_cost = ref (-1) in\n",
    "  while !best_cost < 0 && not (Pairing_heap.is_empty queue) do \n",
    "    let (cost, p) = Pairing_heap.pop_exn queue in\n",
    "    Hash_set.add visited p;\n",
    "    if Poly.(=) p.pos maze.goal then\n",
    "      best_cost := cost\n",
    "    else begin\n",
    "      let (i, j) = p.pos in\n",
    "      let (di, dj) = p.facing in\n",
    "      let (ni, nj) = (i + di, j + dj) in\n",
    "      if ni >= 0 && ni < size && nj >= 0 && nj < size && Char.(maze.grid.(ni).(nj) <> '#') then\n",
    "        enqueue (cost + 1) {pos=(ni, nj); facing=p.facing};\n",
    "      enqueue (cost + 1000) {pos=p.pos; facing=turn_cw p.facing};\n",
    "      enqueue (cost + 1000) {pos=p.pos; facing=turn_ccw p.facing};\n",
    "    end\n",
    "  done; !best_cost"
   ]
  },
  {
   "cell_type": "code",
   "execution_count": 213,
   "id": "4f61d862",
   "metadata": {},
   "outputs": [
    {
     "data": {
      "text/plain": [
       "- : int = 7036\n"
      ]
     },
     "execution_count": 213,
     "metadata": {},
     "output_type": "execute_result"
    }
   ],
   "source": [
    "read_maze \"day16_example.txt\" |> search_maze"
   ]
  },
  {
   "cell_type": "code",
   "execution_count": 214,
   "id": "de978be5",
   "metadata": {},
   "outputs": [
    {
     "data": {
      "text/plain": [
       "- : int = 78428\n"
      ]
     },
     "execution_count": 214,
     "metadata": {},
     "output_type": "execute_result"
    }
   ],
   "source": [
    "read_maze \"day16_input.txt\" |> search_maze"
   ]
  },
  {
   "cell_type": "markdown",
   "id": "77297355",
   "metadata": {},
   "source": [
    "### Part 2\n",
    "\n",
    "Now we have to count cells in best paths."
   ]
  },
  {
   "cell_type": "code",
   "execution_count": 215,
   "id": "03a5c485",
   "metadata": {},
   "outputs": [
    {
     "data": {
      "text/plain": [
       "val count_best_cells : day16_maze -> int = <fun>\n"
      ]
     },
     "execution_count": 215,
     "metadata": {},
     "output_type": "execute_result"
    }
   ],
   "source": [
    "let count_best_cells maze =\n",
    "  let size = Array.length maze.grid in\n",
    "  let turn_cw dir = (snd dir, - fst dir) in\n",
    "  let turn_ccw dir = (- snd dir, fst dir) in\n",
    "  let compare_paths (p_cost, _, _) (q_cost, _, _) = Stdlib.compare p_cost q_cost in\n",
    "  let start = {pos=maze.start; facing=(0, 1)} in\n",
    "  let queue = Pairing_heap.of_list ~cmp:compare_paths [(0, start, [maze.start])] in\n",
    "  let best_cells = Hash_set.Poly.of_list [maze.start] in\n",
    "  let visited = Hash_set.Poly.of_list [{pos=maze.start; facing=(0, 1)}] in\n",
    "  let enqueue cost p history =\n",
    "    if not (Hash_set.mem visited p) then begin\n",
    "      Pairing_heap.add queue (cost, p, p.pos::history)\n",
    "    end in\n",
    "  let is_done = ref false in\n",
    "  let best_cost = ref (-1) in\n",
    "  while not !is_done && not (Pairing_heap.is_empty queue) do \n",
    "    let (cost, p, history) = Pairing_heap.pop_exn queue in\n",
    "    Hash_set.add visited p;\n",
    "    if !best_cost > 0 && cost > !best_cost then\n",
    "      is_done := true\n",
    "    else if Poly.(=) p.pos maze.goal then begin\n",
    "      best_cost := cost;\n",
    "      List.iter history (Hash_set.add best_cells)\n",
    "    end else begin\n",
    "      let (i, j) = p.pos in\n",
    "      let (di, dj) = p.facing in\n",
    "      let (ni, nj) = (i + di, j + dj) in\n",
    "      if ni >= 0 && ni < size && nj >= 0 && nj < size && Char.(maze.grid.(ni).(nj) <> '#') then\n",
    "        enqueue (cost + 1) {pos=(ni, nj); facing=p.facing} history;\n",
    "      enqueue (cost + 1000) {pos=p.pos; facing=turn_cw p.facing} history;\n",
    "      enqueue (cost + 1000) {pos=p.pos; facing=turn_ccw p.facing} history;\n",
    "    end\n",
    "  done;\n",
    "  Hash_set.length best_cells"
   ]
  },
  {
   "cell_type": "code",
   "execution_count": 216,
   "id": "c0085eb9",
   "metadata": {},
   "outputs": [
    {
     "data": {
      "text/plain": [
       "- : int = 45\n"
      ]
     },
     "execution_count": 216,
     "metadata": {},
     "output_type": "execute_result"
    }
   ],
   "source": [
    "read_maze \"day16_example.txt\" |> count_best_cells"
   ]
  },
  {
   "cell_type": "code",
   "execution_count": 217,
   "id": "d32f4e74",
   "metadata": {},
   "outputs": [
    {
     "data": {
      "text/plain": [
       "- : int = 64\n"
      ]
     },
     "execution_count": 217,
     "metadata": {},
     "output_type": "execute_result"
    }
   ],
   "source": [
    "read_maze \"day16_example2.txt\" |> count_best_cells"
   ]
  },
  {
   "cell_type": "code",
   "execution_count": 218,
   "id": "1cfa82dd",
   "metadata": {},
   "outputs": [
    {
     "data": {
      "text/plain": [
       "- : int = 463\n"
      ]
     },
     "execution_count": 218,
     "metadata": {},
     "output_type": "execute_result"
    }
   ],
   "source": [
    "read_maze \"day16_input.txt\" |> count_best_cells"
   ]
  },
  {
   "cell_type": "markdown",
   "id": "2aa7953c",
   "metadata": {},
   "source": [
    "## Day 17\n",
    "\n",
    "### Part 1\n",
    "\n",
    "Today we're emulating a 3-bit computer.  I love emulating computers."
   ]
  },
  {
   "cell_type": "code",
   "execution_count": 219,
   "id": "f2fe5c81",
   "metadata": {},
   "outputs": [
    {
     "data": {
      "text/plain": [
       "type day17_operand = Literal of int | AReg | BReg | CReg\n"
      ]
     },
     "execution_count": 219,
     "metadata": {},
     "output_type": "execute_result"
    }
   ],
   "source": [
    "type day17_operand = Literal of int | AReg | BReg | CReg"
   ]
  },
  {
   "cell_type": "code",
   "execution_count": 220,
   "id": "3d117ecd",
   "metadata": {},
   "outputs": [
    {
     "data": {
      "text/plain": [
       "type day17_instruction =\n",
       "    Adv of day17_operand\n",
       "  | Bxl of day17_operand\n",
       "  | Bst of day17_operand\n",
       "  | Jnz of day17_operand\n",
       "  | Bxc of day17_operand\n",
       "  | Out of day17_operand\n",
       "  | Bdv of day17_operand\n",
       "  | Cdv of day17_operand\n"
      ]
     },
     "execution_count": 220,
     "metadata": {},
     "output_type": "execute_result"
    }
   ],
   "source": [
    "type day17_instruction =\n",
    "| Adv of day17_operand\n",
    "| Bxl of day17_operand\n",
    "| Bst of day17_operand\n",
    "| Jnz of day17_operand\n",
    "| Bxc of day17_operand\n",
    "| Out of day17_operand\n",
    "| Bdv of day17_operand\n",
    "| Cdv of day17_operand"
   ]
  },
  {
   "cell_type": "code",
   "execution_count": 221,
   "id": "1fb67198",
   "metadata": {},
   "outputs": [
    {
     "data": {
      "text/plain": [
       "type day17_computer = {\n",
       "  mutable a : int;\n",
       "  mutable b : int;\n",
       "  mutable c : int;\n",
       "  mutable ip : int;\n",
       "  mutable output : int list;\n",
       "  program : day17_instruction Core.Array.t;\n",
       "  bytecode : int list;\n",
       "}\n"
      ]
     },
     "execution_count": 221,
     "metadata": {},
     "output_type": "execute_result"
    }
   ],
   "source": [
    "type day17_computer = {\n",
    "  mutable a: int;\n",
    "  mutable b: int;\n",
    "  mutable c: int;\n",
    "  mutable ip: int;\n",
    "  mutable output: int list;\n",
    "  program: day17_instruction Core.Array.t;\n",
    "  bytecode: int list;\n",
    "}"
   ]
  },
  {
   "cell_type": "code",
   "execution_count": 222,
   "id": "b772d906",
   "metadata": {},
   "outputs": [
    {
     "data": {
      "text/plain": [
       "val disassemble : int list -> day17_instruction list = <fun>\n"
      ]
     },
     "execution_count": 222,
     "metadata": {},
     "output_type": "execute_result"
    }
   ],
   "source": [
    "let disassemble program =\n",
    "  let parse_combo operand =\n",
    "    match operand with\n",
    "    | 0 | 1 | 2 | 3 -> Literal operand\n",
    "    | 4 -> AReg\n",
    "    | 5 -> BReg\n",
    "    | 6 -> CReg\n",
    "    | _ -> failwith \"bad operand\" in\n",
    "  let parse opcode operand =\n",
    "    match opcode with\n",
    "    | 0 -> Adv (parse_combo operand)\n",
    "    | 1 -> Bxl (Literal operand)\n",
    "    | 2 -> Bst (parse_combo operand)\n",
    "    | 3 -> Jnz (Literal operand)\n",
    "    | 4 -> Bxc (Literal operand)\n",
    "    | 5 -> Out (parse_combo operand)\n",
    "    | 6 -> Bdv (parse_combo operand)\n",
    "    | 7 -> Cdv (parse_combo operand)\n",
    "    | _ -> failwith \"bad opcode\" in\n",
    "  let opcodes = filteri program ~f:(fun i _ -> i mod 2 = 0) in\n",
    "  let operands = filteri program ~f:(fun i _ -> i mod 2 = 1) in\n",
    "  map2_exn opcodes operands parse"
   ]
  },
  {
   "cell_type": "code",
   "execution_count": 223,
   "id": "d7e48b4a",
   "metadata": {},
   "outputs": [
    {
     "data": {
      "text/plain": [
       "val read_day17_computer : Base.string -> day17_computer = <fun>\n"
      ]
     },
     "execution_count": 223,
     "metadata": {},
     "output_type": "execute_result"
    }
   ],
   "source": [
    "let read_day17_computer filename =\n",
    "  let lines = In_channel.read_lines filename in\n",
    "  let parse_register line =\n",
    "    String.split line ~on:':' |> last_exn |> String.strip |> int_of_string in\n",
    "  let (a, b, c) = match take lines 3 >>| parse_register with\n",
    "  | [a; b; c] -> (a, b, c)\n",
    "  | _ -> failwith \"missing regs\" in\n",
    "  let parse_program line =\n",
    "    String.split line ~on:' ' |> last_exn |> String.split ~on:',' >>| int_of_string in\n",
    "  let bytecode = parse_program (last_exn lines) in\n",
    "  let program = Array.of_list @@ disassemble bytecode in\n",
    "  {a; b; c; program; bytecode; ip=0; output=[]}"
   ]
  },
  {
   "cell_type": "code",
   "execution_count": 224,
   "id": "4d21697b",
   "metadata": {},
   "outputs": [
    {
     "data": {
      "text/plain": [
       "- : day17_computer =\n",
       "{a = 729; b = 0; c = 0; ip = 0; output = [];\n",
       " program = [|Adv (Literal 1); Out AReg; Jnz (Literal 0)|];\n",
       " bytecode = [0; 1; 5; 4; 3; 0]}\n"
      ]
     },
     "execution_count": 224,
     "metadata": {},
     "output_type": "execute_result"
    }
   ],
   "source": [
    "read_day17_computer \"day17_example.txt\""
   ]
  },
  {
   "cell_type": "markdown",
   "id": "2cfe72bd",
   "metadata": {},
   "source": [
    "All right, now we can run the programs..."
   ]
  },
  {
   "cell_type": "code",
   "execution_count": 225,
   "id": "205bc3f1",
   "metadata": {},
   "outputs": [
    {
     "data": {
      "text/plain": [
       "val step_computer : day17_computer -> day17_computer = <fun>\n"
      ]
     },
     "execution_count": 225,
     "metadata": {},
     "output_type": "execute_result"
    }
   ],
   "source": [
    "let step_computer state =\n",
    "  let decode operand =\n",
    "    match operand with\n",
    "    | Literal n -> n\n",
    "    | AReg -> state.a\n",
    "    | BReg -> state.b\n",
    "    | CReg -> state.c in\n",
    "  let execute f = begin f; state.ip <- state.ip + 2 end in\n",
    "  let () = match state.program.(state.ip / 2) with\n",
    "  | Adv operand ->\n",
    "    execute (state.a <- state.a / (Int.shift_left 1 (decode operand)))\n",
    "  | Bxl operand ->\n",
    "    execute (state.b <- state.b lxor (decode operand))\n",
    "  | Bst operand ->\n",
    "    execute (state.b <- (decode operand) land 7)\n",
    "  | Jnz operand ->\n",
    "    if state.a <> 0 then\n",
    "      state.ip <- decode operand\n",
    "    else\n",
    "      state.ip <- state.ip + 2\n",
    "  | Bxc _ ->\n",
    "    execute (state.b <- state.b lxor state.c)\n",
    "  | Out operand ->\n",
    "    execute (state.output <- ((decode operand) land 7)::state.output)\n",
    "  | Bdv operand ->\n",
    "    execute (state.b <- state.a / (Int.shift_left 1 (decode operand)))\n",
    "  | Cdv operand ->\n",
    "    execute (state.c <- state.a / (Int.shift_left 1 (decode operand))) in\n",
    "  state"
   ]
  },
  {
   "cell_type": "code",
   "execution_count": 226,
   "id": "700b4d88",
   "metadata": {},
   "outputs": [
    {
     "data": {
      "text/plain": [
       "- : day17_computer =\n",
       "{a = 182; b = 0; c = 0; ip = 2; output = [4];\n",
       " program = [|Adv (Literal 1); Out AReg; Jnz (Literal 0)|];\n",
       " bytecode = [0; 1; 5; 4; 3; 0]}\n"
      ]
     },
     "execution_count": 226,
     "metadata": {},
     "output_type": "execute_result"
    }
   ],
   "source": [
    "read_day17_computer \"day17_example.txt\" |> iterate 4 step_computer"
   ]
  },
  {
   "cell_type": "code",
   "execution_count": 227,
   "id": "27a2b9c6",
   "metadata": {},
   "outputs": [
    {
     "data": {
      "text/plain": [
       "val emulate : day17_computer -> int list = <fun>\n"
      ]
     },
     "execution_count": 227,
     "metadata": {},
     "output_type": "execute_result"
    }
   ],
   "source": [
    "let emulate state =\n",
    "  let size = Array.length state.program in\n",
    "  while state.ip >= 0 && state.ip < 2*size do\n",
    "    let _ = step_computer state in ()\n",
    "  done; rev state.output"
   ]
  },
  {
   "cell_type": "code",
   "execution_count": 228,
   "id": "a2c707bd",
   "metadata": {},
   "outputs": [
    {
     "data": {
      "text/plain": [
       "- : string = \"4,6,3,5,6,3,5,2,1,0\"\n"
      ]
     },
     "execution_count": 228,
     "metadata": {},
     "output_type": "execute_result"
    }
   ],
   "source": [
    "read_day17_computer \"day17_example.txt\" |> emulate >>| string_of_int |> String.concat ~sep:\",\""
   ]
  },
  {
   "cell_type": "code",
   "execution_count": 229,
   "id": "2a2f8172",
   "metadata": {},
   "outputs": [
    {
     "data": {
      "text/plain": [
       "- : string = \"3,1,4,3,1,7,1,6,3\"\n"
      ]
     },
     "execution_count": 229,
     "metadata": {},
     "output_type": "execute_result"
    }
   ],
   "source": [
    "read_day17_computer \"day17_input.txt\" |> emulate >>| string_of_int |> String.concat ~sep:\",\""
   ]
  },
  {
   "cell_type": "markdown",
   "id": "84fe6642",
   "metadata": {},
   "source": [
    "### Part 2\n",
    "\n",
    "We have to find an initial value for the A register that makes the program function as a [quine](https://en.wikipedia.org/wiki/Quine_(computing)) - that's pretty cool actually!"
   ]
  },
  {
   "cell_type": "code",
   "execution_count": 230,
   "id": "220eeac3",
   "metadata": {},
   "outputs": [
    {
     "data": {
      "text/plain": [
       "- : int list = [0; 3; 5; 4; 3; 0]\n"
      ]
     },
     "execution_count": 230,
     "metadata": {},
     "output_type": "execute_result"
    }
   ],
   "source": [
    "read_day17_computer \"day17_quine.txt\" |> fun s -> s.a <- 117440; s |> emulate"
   ]
  },
  {
   "cell_type": "markdown",
   "id": "57e19762",
   "metadata": {},
   "source": [
    "Ok, what is the input program actually doing?"
   ]
  },
  {
   "cell_type": "code",
   "execution_count": 231,
   "id": "2a5572aa",
   "metadata": {},
   "outputs": [
    {
     "data": {
      "text/plain": [
       "- : day17_computer =\n",
       "{a = 64751475; b = 0; c = 0; ip = 0; output = [];\n",
       " program =\n",
       "  [|Bst AReg; Bxl (Literal 2); Cdv BReg; Bxc (Literal 5); Bxl (Literal 3);\n",
       "    Out BReg; Adv (Literal 3); Jnz (Literal 0)|];\n",
       " bytecode = [2; 4; 1; 2; 7; 5; 4; 5; 1; 3; 5; 5; 0; 3; 3; 0]}\n"
      ]
     },
     "execution_count": 231,
     "metadata": {},
     "output_type": "execute_result"
    }
   ],
   "source": [
    "read_day17_computer \"day17_input.txt\""
   ]
  },
  {
   "cell_type": "markdown",
   "id": "21090936",
   "metadata": {},
   "source": [
    "A loop examines 3 bits of A at a time, and outputs once per iteration.  So A must have 48 bits to get the right length output..."
   ]
  },
  {
   "cell_type": "code",
   "execution_count": 232,
   "id": "e8c4da75",
   "metadata": {},
   "outputs": [
    {
     "data": {
      "text/plain": [
       "- : int list = [1; 1; 1; 1; 1; 1; 1; 1; 1; 1; 1; 1; 1; 1; 1; 5]\n"
      ]
     },
     "execution_count": 232,
     "metadata": {},
     "output_type": "execute_result"
    }
   ],
   "source": [
    "read_day17_computer \"day17_input.txt\" |> fun s -> s.a <- (Int.shift_left 1 47); s |> emulate"
   ]
  },
  {
   "cell_type": "markdown",
   "id": "6f13b683",
   "metadata": {},
   "source": [
    "In pseudo-code, the program is...\n",
    "```\n",
    "while True:\n",
    "  b = (a & 7) ^ 2\n",
    "  c = a / (1 << b)\n",
    "  b = (b ^ c) ^ 3\n",
    "  output(b & 7)\n",
    "  a = a >> 3\n",
    "  if a = 0: break\n",
    "```\n",
    "\n",
    "The output for each 3-bit group depends on that group, and on some group to the left.  But the _leftmost_ group - i.e. the last output - can only depend on itself.  So, we should be able to construct the bit string from left to right.\n",
    "\n",
    "Initially I tried taking the smallest group at each index, but that fails - there can still be a few options at each digit position so we still have to search.  But there are not many possibilities, and it is quick."
   ]
  },
  {
   "cell_type": "code",
   "execution_count": 233,
   "id": "0d764ef7",
   "metadata": {},
   "outputs": [
    {
     "data": {
      "text/plain": [
       "val find_quine : day17_computer -> int option = <fun>\n"
      ]
     },
     "execution_count": 233,
     "metadata": {},
     "output_type": "execute_result"
    }
   ],
   "source": [
    "let find_quine state =\n",
    "  let copy state =\n",
    "    {a=state.a; b=state.b; c=state.c; ip=state.ip;\n",
    "     program=state.program; bytecode=state.bytecode;\n",
    "     output=state.output} in\n",
    "  let size = List.length state.bytecode in\n",
    "  let rec search input_state acc i g =\n",
    "    if i = (-1) then\n",
    "      Some acc\n",
    "    else if g = 8 then\n",
    "      None\n",
    "    else begin\n",
    "      let trial = acc + (Int.shift_left g (3 * i)) in\n",
    "      let state = copy input_state in\n",
    "      let () = state.a <- trial in\n",
    "      let _ = emulate state in\n",
    "      let ith_output = List.nth_exn state.output ((size - 1) - i) in\n",
    "      let ith_bytecode = List.nth_exn state.bytecode i in\n",
    "      if ith_output = ith_bytecode then\n",
    "        match search input_state trial (i - 1) 0 with\n",
    "        | Some result -> Some result\n",
    "        | None -> search input_state acc i (g + 1)\n",
    "      else search input_state acc i (g + 1)\n",
    "    end in\n",
    "  search state 0 (size - 1) 1"
   ]
  },
  {
   "cell_type": "code",
   "execution_count": 234,
   "id": "e83ea529",
   "metadata": {},
   "outputs": [
    {
     "data": {
      "text/plain": [
       "- : int option = Some 37221270076916\n"
      ]
     },
     "execution_count": 234,
     "metadata": {},
     "output_type": "execute_result"
    }
   ],
   "source": [
    "read_day17_computer \"day17_input.txt\" |> find_quine"
   ]
  },
  {
   "cell_type": "code",
   "execution_count": 235,
   "id": "40e00796",
   "metadata": {},
   "outputs": [
    {
     "data": {
      "text/plain": [
       "- : int list = [2; 4; 1; 2; 7; 5; 4; 5; 1; 3; 5; 5; 0; 3; 3; 0]\n"
      ]
     },
     "execution_count": 235,
     "metadata": {},
     "output_type": "execute_result"
    }
   ],
   "source": [
    "read_day17_computer \"day17_input.txt\" |> fun s -> s.a <- 37221270076916; s |> emulate"
   ]
  },
  {
   "cell_type": "markdown",
   "id": "d6b0abd6",
   "metadata": {},
   "source": [
    "## Day 18\n",
    "\n",
    "### Part 1\n",
    "\n",
    "Today we have to find a path through a grid _but there is no grid_."
   ]
  },
  {
   "cell_type": "code",
   "execution_count": 236,
   "id": "752eed46",
   "metadata": {},
   "outputs": [
    {
     "data": {
      "text/plain": [
       "val read_points : Base.string -> (int * int) list = <fun>\n"
      ]
     },
     "execution_count": 236,
     "metadata": {},
     "output_type": "execute_result"
    }
   ],
   "source": [
    "let read_points filename =\n",
    "  let parse line =\n",
    "    String.split line ~on:',' >>| int_of_string |> pair_of_list in\n",
    "  In_channel.read_lines filename >>| parse"
   ]
  },
  {
   "cell_type": "code",
   "execution_count": 237,
   "id": "451f7d68",
   "metadata": {},
   "outputs": [
    {
     "data": {
      "text/plain": [
       "- : (int * int) list =\n",
       "[(5, 4); (4, 2); (4, 5); (3, 0); (2, 1); (6, 3); (2, 4); (1, 5); (0, 6);\n",
       " (3, 3); (2, 6); (5, 1); (1, 2); (5, 5); (2, 5); (6, 5); (1, 4); (0, 4);\n",
       " (6, 4); (1, 1); (6, 1); (1, 0); (0, 5); (1, 6); (2, 0)]\n"
      ]
     },
     "execution_count": 237,
     "metadata": {},
     "output_type": "execute_result"
    }
   ],
   "source": [
    "read_points \"day18_example.txt\""
   ]
  },
  {
   "cell_type": "markdown",
   "id": "da7d2a20",
   "metadata": {},
   "source": [
    "Didn't I already write a best-first search thing?  Yeah, let's copy and paste that and tweak it.\n",
    "\n",
    "Hmm... there seem to be lots of paths here, I might need A*."
   ]
  },
  {
   "cell_type": "code",
   "execution_count": 238,
   "id": "8da51382",
   "metadata": {},
   "outputs": [
    {
     "data": {
      "text/plain": [
       "val find_escape_route :\n",
       "  Core_kernel.Int.t * Core_kernel.Int.t ->\n",
       "  Core_kernel.Int.t * Core_kernel.Int.t ->\n",
       "  Core_kernel.Int.t ->\n",
       "  (Core_kernel.Int.t * Core_kernel.Int.t) Core.Hash_set.Poly.elt list -> int =\n",
       "  <fun>\n"
      ]
     },
     "execution_count": 238,
     "metadata": {},
     "output_type": "execute_result"
    }
   ],
   "source": [
    "let find_escape_route start goal size walls =\n",
    "  let wall_set = Hash_set.Poly.of_list walls in\n",
    "  let compare_paths (p_cost, _, _) (q_cost, _, _) = Stdlib.compare p_cost q_cost in\n",
    "  let estimate_cost steps (i, j) =\n",
    "    let (gi, gj) = goal in steps + abs(i - gi) + abs(j - gj) in\n",
    "  let queue = Pairing_heap.of_list ~cmp:compare_paths [(estimate_cost 0 start, 0, start)] in\n",
    "  let visited = Hash_set.Poly.of_list [start] in\n",
    "  let enqueue steps p =\n",
    "    if not (Hash_set.mem visited p) then begin\n",
    "      Pairing_heap.add queue (estimate_cost steps p, steps, p)\n",
    "    end in\n",
    "  let best_steps = ref (-1) in\n",
    "  while !best_steps < 0 && not (Pairing_heap.is_empty queue) do \n",
    "    let (_, steps, p) = Pairing_heap.pop_exn queue in\n",
    "    Hash_set.add visited p;\n",
    "    if Poly.(=) p goal then\n",
    "      best_steps := steps\n",
    "    else begin\n",
    "      let in_bounds (i, j) = i >= 0 && i <= size && j >= 0 && j <= size in\n",
    "      let (i, j) = p in\n",
    "      let neighbors = [(i + 1, j); (i - 1, j); (i, j - 1); (i, j + 1)] in\n",
    "      let check n =\n",
    "        if in_bounds n && (not @@ Hash_set.mem wall_set n) then\n",
    "          enqueue (steps + 1) n in\n",
    "      List.iter neighbors check\n",
    "    end\n",
    "  done; !best_steps"
   ]
  },
  {
   "cell_type": "code",
   "execution_count": 239,
   "id": "b8d3555c",
   "metadata": {},
   "outputs": [
    {
     "data": {
      "text/plain": [
       "- : int = 22\n"
      ]
     },
     "execution_count": 239,
     "metadata": {},
     "output_type": "execute_result"
    }
   ],
   "source": [
    "take (read_points \"day18_example.txt\") 12 |> find_escape_route (0, 0) (6, 6) 6"
   ]
  },
  {
   "cell_type": "code",
   "execution_count": 240,
   "id": "0c86ad3e",
   "metadata": {},
   "outputs": [
    {
     "data": {
      "text/plain": [
       "- : int = 382\n"
      ]
     },
     "execution_count": 240,
     "metadata": {},
     "output_type": "execute_result"
    }
   ],
   "source": [
    "take (read_points \"day18_input.txt\") 1024 |> find_escape_route (0, 0) (70, 70) 70"
   ]
  },
  {
   "cell_type": "markdown",
   "id": "36dcf561",
   "metadata": {},
   "source": [
    "### Part 2\n",
    "\n",
    "Now we are solving a different problem - we just need to know if there is any path through the point cloud, there is no need to find the best."
   ]
  },
  {
   "cell_type": "code",
   "execution_count": 241,
   "id": "579887f8",
   "metadata": {},
   "outputs": [
    {
     "data": {
      "text/plain": [
       "val can_escape :\n",
       "  (Core_kernel.Int.t * Core_kernel.Int.t) Core.Hash_set.Poly.elt ->\n",
       "  Core_kernel.Int.t * Core_kernel.Int.t ->\n",
       "  Core_kernel.Int.t ->\n",
       "  (Core_kernel.Int.t * Core_kernel.Int.t) Core.Hash_set.Poly.elt list -> bool =\n",
       "  <fun>\n"
      ]
     },
     "execution_count": 241,
     "metadata": {},
     "output_type": "execute_result"
    }
   ],
   "source": [
    "let can_escape start goal size walls =\n",
    "  let wall_set = Hash_set.Poly.of_list walls in\n",
    "  let queued = Hash_set.Poly.of_list [start] in\n",
    "  let rec search p =\n",
    "    if Poly.(=) p goal then\n",
    "      true\n",
    "    else\n",
    "      let in_bounds (i, j) = i >= 0 && i <= size && j >= 0 && j <= size in\n",
    "      let not_a_wall n = not @@ Hash_set.mem wall_set n in\n",
    "      let not_queued n = not @@ Hash_set.mem queued n in\n",
    "      let (i, j) = p in\n",
    "      let neighbors = [(i + 1, j); (i - 1, j); (i, j - 1); (i, j + 1)] in\n",
    "      let search_neighbor n =\n",
    "        if in_bounds n && not_a_wall n && not_queued n then begin\n",
    "          Hash_set.add queued n;\n",
    "          search n\n",
    "        end else false in\n",
    "      List.exists neighbors search_neighbor in\n",
    "  search start"
   ]
  },
  {
   "cell_type": "code",
   "execution_count": 242,
   "id": "e6144ed6",
   "metadata": {},
   "outputs": [
    {
     "data": {
      "text/plain": [
       "- : bool = true\n"
      ]
     },
     "execution_count": 242,
     "metadata": {},
     "output_type": "execute_result"
    }
   ],
   "source": [
    "take (read_points \"day18_example.txt\") 20 |> can_escape (0, 0) (6, 6) 6"
   ]
  },
  {
   "cell_type": "code",
   "execution_count": 243,
   "id": "c90d61fc",
   "metadata": {},
   "outputs": [
    {
     "data": {
      "text/plain": [
       "- : bool = false\n"
      ]
     },
     "execution_count": 243,
     "metadata": {},
     "output_type": "execute_result"
    }
   ],
   "source": [
    "take (read_points \"day18_example.txt\") 21 |> can_escape (0, 0) (6, 6) 6"
   ]
  },
  {
   "cell_type": "markdown",
   "id": "6eb6774a",
   "metadata": {},
   "source": [
    "We could binary search if we must, but I'm going to try just using a for loop first."
   ]
  },
  {
   "cell_type": "code",
   "execution_count": 244,
   "id": "c5f5d252",
   "metadata": {},
   "outputs": [
    {
     "data": {
      "text/plain": [
       "val find_blocker :\n",
       "  (Core_kernel.Int.t * Core_kernel.Int.t) Core.Hash_set.Poly.elt ->\n",
       "  Core_kernel.Int.t * Core_kernel.Int.t ->\n",
       "  Core_kernel.Int.t ->\n",
       "  (Core_kernel.Int.t * Core_kernel.Int.t) Core.Hash_set.Poly.elt list ->\n",
       "  (Core_kernel.Int.t * Core_kernel.Int.t) Core.Hash_set.Poly.elt = <fun>\n"
      ]
     },
     "execution_count": 244,
     "metadata": {},
     "output_type": "execute_result"
    }
   ],
   "source": [
    "let find_blocker start goal size walls =\n",
    "  let num_walls = List.length walls in\n",
    "  let j = ref 0 in\n",
    "  for i=0 to num_walls-1 do\n",
    "    if !j = 0 && not @@ can_escape start goal size (take walls (i + 1)) then\n",
    "      j := i\n",
    "  done; List.nth_exn walls !j"
   ]
  },
  {
   "cell_type": "code",
   "execution_count": 245,
   "id": "bc72c8dd",
   "metadata": {},
   "outputs": [
    {
     "data": {
      "text/plain": [
       "- : (Core_kernel.Int.t * Core_kernel.Int.t) Core.Hash_set.Poly.elt = (6, 1)\n"
      ]
     },
     "execution_count": 245,
     "metadata": {},
     "output_type": "execute_result"
    }
   ],
   "source": [
    "read_points \"day18_example.txt\" |> find_blocker (0, 0) (6, 6) 6"
   ]
  },
  {
   "cell_type": "code",
   "execution_count": 246,
   "id": "65cabe0a",
   "metadata": {},
   "outputs": [],
   "source": [
    "(*read_points \"day18_input.txt\" |> find_blocker (0, 0) (70, 70) 70 *)"
   ]
  },
  {
   "cell_type": "markdown",
   "id": "5e3a9b08",
   "metadata": {},
   "source": [
    "That worked, but it was a little slow.  Let's write a janky busted binary search that should work well enough for this problem, but is otherwise riddled with bugs."
   ]
  },
  {
   "cell_type": "code",
   "execution_count": 247,
   "id": "b5e5b872",
   "metadata": {},
   "outputs": [
    {
     "data": {
      "text/plain": [
       "val find_blocker :\n",
       "  (Core_kernel.Int.t * Core_kernel.Int.t) Core.Hash_set.Poly.elt ->\n",
       "  Core_kernel.Int.t * Core_kernel.Int.t ->\n",
       "  Core_kernel.Int.t ->\n",
       "  (Core_kernel.Int.t * Core_kernel.Int.t) Core.Hash_set.Poly.elt list ->\n",
       "  (Core_kernel.Int.t * Core_kernel.Int.t) Core.Hash_set.Poly.elt = <fun>\n"
      ]
     },
     "execution_count": 247,
     "metadata": {},
     "output_type": "execute_result"
    }
   ],
   "source": [
    "let find_blocker start goal size walls =\n",
    "  let num_walls = List.length walls in\n",
    "  let rec search lower upper =\n",
    "    if upper < lower then lower\n",
    "    else let mid = (lower + upper) / 2 in\n",
    "      match can_escape start goal size (take walls (mid + 1)) with\n",
    "      | false -> search lower (mid - 1)\n",
    "      | true -> search (mid + 1) upper in\n",
    "  List.nth_exn walls (search 0 num_walls)"
   ]
  },
  {
   "cell_type": "code",
   "execution_count": 248,
   "id": "6e72b288",
   "metadata": {},
   "outputs": [
    {
     "data": {
      "text/plain": [
       "- : (Core_kernel.Int.t * Core_kernel.Int.t) Core.Hash_set.Poly.elt = (6, 1)\n"
      ]
     },
     "execution_count": 248,
     "metadata": {},
     "output_type": "execute_result"
    }
   ],
   "source": [
    "read_points \"day18_example.txt\" |> find_blocker (0, 0) (6, 6) 6"
   ]
  },
  {
   "cell_type": "code",
   "execution_count": 249,
   "id": "e0cca808",
   "metadata": {},
   "outputs": [
    {
     "data": {
      "text/plain": [
       "- : (Core_kernel.Int.t * Core_kernel.Int.t) Core.Hash_set.Poly.elt = (6, 36)\n"
      ]
     },
     "execution_count": 249,
     "metadata": {},
     "output_type": "execute_result"
    }
   ],
   "source": [
    "read_points \"day18_input.txt\" |> find_blocker (0, 0) (70, 70) 70"
   ]
  },
  {
   "cell_type": "markdown",
   "id": "86e51909",
   "metadata": {},
   "source": [
    "## Day 19\n",
    "\n",
    "### Part 1\n",
    "\n",
    "We have to see which strings we can make out of some substrings.  I'll just use a regex."
   ]
  },
  {
   "cell_type": "code",
   "execution_count": 250,
   "id": "54a4a058",
   "metadata": {},
   "outputs": [
    {
     "data": {
      "text/plain": [
       "type day19_problem = { atoms : string list; words : string list; }\n"
      ]
     },
     "execution_count": 250,
     "metadata": {},
     "output_type": "execute_result"
    }
   ],
   "source": [
    "type day19_problem = {\n",
    "  atoms: string list;\n",
    "  words: string list;\n",
    "}"
   ]
  },
  {
   "cell_type": "code",
   "execution_count": 257,
   "id": "bc548355",
   "metadata": {},
   "outputs": [
    {
     "data": {
      "text/plain": [
       "val read_day19_problem : Base.string -> day19_problem = <fun>\n"
      ]
     },
     "execution_count": 257,
     "metadata": {},
     "output_type": "execute_result"
    }
   ],
   "source": [
    "let read_day19_problem filename =\n",
    "  let lines = In_channel.read_lines filename in\n",
    "  let parse_atoms line = String.split line ~on:','\n",
    "    >>| String.strip ~drop:(fun c -> Char.(c = ' ')) in\n",
    "  let atoms = parse_atoms (hd_exn lines) in\n",
    "  let words = List.drop lines 2 in\n",
    "  {atoms; words}"
   ]
  },
  {
   "cell_type": "code",
   "execution_count": 258,
   "id": "292601ae",
   "metadata": {},
   "outputs": [
    {
     "data": {
      "text/plain": [
       "- : day19_problem =\n",
       "{atoms = [\"r\"; \"wr\"; \"b\"; \"g\"; \"bwu\"; \"rb\"; \"gb\"; \"br\"];\n",
       " words =\n",
       "  [\"brwrr\"; \"bggr\"; \"gbbr\"; \"rrbgbr\"; \"ubwu\"; \"bwurrg\"; \"brgr\"; \"bbrgwb\"]}\n"
      ]
     },
     "execution_count": 258,
     "metadata": {},
     "output_type": "execute_result"
    }
   ],
   "source": [
    "read_day19_problem \"day19_example.txt\""
   ]
  },
  {
   "cell_type": "code",
   "execution_count": 263,
   "id": "b819e767",
   "metadata": {},
   "outputs": [
    {
     "data": {
      "text/plain": [
       "val day19_part1 : day19_problem -> int = <fun>\n"
      ]
     },
     "execution_count": 263,
     "metadata": {},
     "output_type": "execute_result"
    }
   ],
   "source": [
    "let day19_part1 problem =\n",
    "  let can_make word =\n",
    "    let pattern = \"^(\" ^ (String.concat ~sep:\"|\" problem.atoms) ^ \")+$\" in\n",
    "    let re = Re2.create_exn pattern in\n",
    "    Re2.matches re word in\n",
    "  problem.words |> List.count ~f:can_make"
   ]
  },
  {
   "cell_type": "code",
   "execution_count": 264,
   "id": "d9979221",
   "metadata": {},
   "outputs": [
    {
     "data": {
      "text/plain": [
       "- : int = 6\n"
      ]
     },
     "execution_count": 264,
     "metadata": {},
     "output_type": "execute_result"
    }
   ],
   "source": [
    "read_day19_problem \"day19_example.txt\" |> day19_part1"
   ]
  },
  {
   "cell_type": "code",
   "execution_count": 265,
   "id": "48cbfc2f",
   "metadata": {},
   "outputs": [
    {
     "data": {
      "text/plain": [
       "- : int = 358\n"
      ]
     },
     "execution_count": 265,
     "metadata": {},
     "output_type": "execute_result"
    }
   ],
   "source": [
    "read_day19_problem \"day19_input.txt\" |> day19_part1"
   ]
  },
  {
   "cell_type": "markdown",
   "id": "756ed1d5",
   "metadata": {},
   "source": [
    "### Part 2\n",
    "\n",
    "Now we have to count the ways we can make a string out of substrings.  Let's try writing this as a natural recursion and then memoize."
   ]
  },
  {
   "cell_type": "code",
   "execution_count": 277,
   "id": "44b7af9f",
   "metadata": {},
   "outputs": [
    {
     "data": {
      "text/plain": [
       "val count_substring_arrangements : day19_problem -> int = <fun>\n"
      ]
     },
     "execution_count": 277,
     "metadata": {},
     "output_type": "execute_result"
    }
   ],
   "source": [
    "let count_substring_arrangements problem =\n",
    "  let sum = fold ~init:0 ~f:(+) in\n",
    "  let memo = Hashtbl.Poly.of_alist_exn [(\"\", 1)] in\n",
    "  let rec count prefixes word =\n",
    "    match Hashtbl.find memo word with\n",
    "    | Some cached_result -> cached_result\n",
    "    | None ->\n",
    "      let count_with_prefix prefix = \n",
    "        match String.chop_prefix word ~prefix:prefix with\n",
    "        | Some rest -> count prefixes rest\n",
    "        | None -> 0 in\n",
    "      let result = prefixes >>| count_with_prefix |> sum in\n",
    "      Hashtbl.add_exn memo ~key:word ~data:result; result in\n",
    "  let count_word word = count problem.atoms word in\n",
    "  problem.words >>| count_word |> sum"
   ]
  },
  {
   "cell_type": "code",
   "execution_count": 278,
   "id": "3916d293",
   "metadata": {},
   "outputs": [
    {
     "data": {
      "text/plain": [
       "- : int = 16\n"
      ]
     },
     "execution_count": 278,
     "metadata": {},
     "output_type": "execute_result"
    }
   ],
   "source": [
    "read_day19_problem \"day19_example.txt\" |> count_substring_arrangements"
   ]
  },
  {
   "cell_type": "code",
   "execution_count": 279,
   "id": "e50eee7a",
   "metadata": {},
   "outputs": [
    {
     "data": {
      "text/plain": [
       "- : int = 600639829400603\n"
      ]
     },
     "execution_count": 279,
     "metadata": {},
     "output_type": "execute_result"
    }
   ],
   "source": [
    "read_day19_problem \"day19_input.txt\" |> count_substring_arrangements"
   ]
  }
 ],
 "metadata": {
  "kernelspec": {
   "display_name": "OCaml 4.12.0",
   "language": "OCaml",
   "name": "ocaml-jupyter"
  },
  "language_info": {
   "codemirror_mode": "text/x-ocaml",
   "file_extension": ".ml",
   "mimetype": "text/x-ocaml",
   "name": "OCaml",
   "nbconverter_exporter": null,
   "pygments_lexer": "OCaml",
   "version": "4.12.0"
  }
 },
 "nbformat": 4,
 "nbformat_minor": 5
}
