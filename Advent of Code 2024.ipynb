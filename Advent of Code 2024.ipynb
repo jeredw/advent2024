{
 "cells": [
  {
   "cell_type": "markdown",
   "id": "6b7a2f2c",
   "metadata": {},
   "source": [
    "# Advent of Code 2024\n",
    "\n",
    "Let's try out [ocaml](https://ocaml.org/) this year!  I read a book about Standard ML like 20 years ago, but remember very little.  So there will be a learning curve, but it shouldn't be as bad as [the Advent of APL](https://github.com/jeredw/advent2021/blob/main/Advent%20of%20Code%202021.ipynb).\n",
    "\n",
    "Is this thing on?"
   ]
  },
  {
   "cell_type": "code",
   "execution_count": 1,
   "id": "c2f2e1ed",
   "metadata": {},
   "outputs": [
    {
     "data": {
      "text/plain": [
       "- : int = 4\n"
      ]
     },
     "execution_count": 1,
     "metadata": {},
     "output_type": "execute_result"
    }
   ],
   "source": [
    "2+2;;"
   ]
  },
  {
   "cell_type": "markdown",
   "id": "4472838f",
   "metadata": {},
   "source": [
    "## Reusable utilities\n",
    "\n",
    "This section is for stuff I get tired of copying and pasting."
   ]
  },
  {
   "cell_type": "markdown",
   "id": "efe641c2",
   "metadata": {},
   "source": [
    "### Ok, what is \"core\"?\n",
    "\n",
    "On Day 3, while looking for basic I/O utilities again (is there really no \"read entire file\" library?), I learned there's an entire alternative standard library written by Jane Street.  This feels weird, but whatever."
   ]
  },
  {
   "cell_type": "code",
   "execution_count": 2,
   "id": "e8ffc146",
   "metadata": {},
   "outputs": [
    {
     "name": "stdout",
     "output_type": "stream",
     "text": [
      "- : unit = ()\n",
      "Findlib has been successfully loaded. Additional directives:\n",
      "  #require \"package\";;      to load a package\n",
      "  #list;;                   to list the available packages\n",
      "  #camlp4o;;                to load camlp4 (standard syntax)\n",
      "  #camlp4r;;                to load camlp4 (revised syntax)\n",
      "  #predicates \"p,q,...\";;   to set these predicates\n",
      "  Topfind.reset();;         to force that packages will be reloaded\n",
      "  #thread;;                 to enable threads\n",
      "\n",
      "- : unit = ()\n"
     ]
    }
   ],
   "source": [
    "#use \"topfind\" ;;"
   ]
  },
  {
   "cell_type": "code",
   "execution_count": 3,
   "id": "ad447847",
   "metadata": {},
   "outputs": [
    {
     "name": "stderr",
     "output_type": "stream",
     "text": [
      "/Users/jered/.opam/4.12.0/lib/base/base_internalhash_types: added to search path\n",
      "/Users/jered/.opam/4.12.0/lib/base/base_internalhash_types/base_internalhash_types.cma: loaded\n",
      "/Users/jered/.opam/4.12.0/lib/base/caml: added to search path\n",
      "/Users/jered/.opam/4.12.0/lib/base/caml/caml.cma: loaded\n",
      "/Users/jered/.opam/4.12.0/lib/base/shadow_stdlib: added to search path\n",
      "/Users/jered/.opam/4.12.0/lib/base/shadow_stdlib/shadow_stdlib.cma: loaded\n",
      "/Users/jered/.opam/4.12.0/lib/sexplib0: added to search path\n",
      "/Users/jered/.opam/4.12.0/lib/sexplib0/sexplib0.cma: loaded\n",
      "/Users/jered/.opam/4.12.0/lib/base: added to search path\n",
      "/Users/jered/.opam/4.12.0/lib/base/base.cma: loaded\n",
      "/Users/jered/.opam/4.12.0/lib/fieldslib: added to search path\n",
      "/Users/jered/.opam/4.12.0/lib/fieldslib/fieldslib.cma: loaded\n",
      "/Users/jered/.opam/4.12.0/lib/ppx_compare/runtime-lib: added to search path\n",
      "/Users/jered/.opam/4.12.0/lib/ppx_compare/runtime-lib/ppx_compare_lib.cma: loaded\n",
      "/Users/jered/.opam/4.12.0/lib/ppx_enumerate/runtime-lib: added to search path\n",
      "/Users/jered/.opam/4.12.0/lib/ppx_enumerate/runtime-lib/ppx_enumerate_lib.cma: loaded\n",
      "/Users/jered/.opam/4.12.0/lib/ppx_sexp_conv/runtime-lib: added to search path\n",
      "/Users/jered/.opam/4.12.0/lib/ppx_sexp_conv/runtime-lib/ppx_sexp_conv_lib.cma: loaded\n",
      "/Users/jered/.opam/4.12.0/lib/ppx_hash/runtime-lib: added to search path\n",
      "/Users/jered/.opam/4.12.0/lib/ppx_hash/runtime-lib/ppx_hash_lib.cma: loaded\n",
      "/Users/jered/.opam/4.12.0/lib/ppx_here/runtime-lib: added to search path\n",
      "/Users/jered/.opam/4.12.0/lib/ppx_here/runtime-lib/ppx_here_lib.cma: loaded\n",
      "/Users/jered/.opam/4.12.0/lib/ppx_assert/runtime-lib: added to search path\n",
      "/Users/jered/.opam/4.12.0/lib/ppx_assert/runtime-lib/ppx_assert_lib.cma: loaded\n",
      "/Users/jered/.opam/4.12.0/lib/ppx_bench/runtime-lib: added to search path\n",
      "/Users/jered/.opam/4.12.0/lib/ppx_bench/runtime-lib/ppx_bench_lib.cma: loaded\n",
      "/Users/jered/.opam/4.12.0/lib/ppx_inline_test/config: added to search path\n",
      "/Users/jered/.opam/4.12.0/lib/ppx_inline_test/config/inline_test_config.cma: loaded\n",
      "/Users/jered/.opam/4.12.0/lib/jane-street-headers: added to search path\n",
      "/Users/jered/.opam/4.12.0/lib/jane-street-headers/jane_street_headers.cma: loaded\n",
      "/Users/jered/.opam/4.12.0/lib/time_now: added to search path\n",
      "/Users/jered/.opam/4.12.0/lib/time_now/time_now.cma: loaded\n",
      "/Users/jered/.opam/4.12.0/lib/ppx_inline_test/runtime-lib: added to search path\n",
      "/Users/jered/.opam/4.12.0/lib/ppx_inline_test/runtime-lib/ppx_inline_test_lib.cma: loaded\n",
      "/Users/jered/.opam/4.12.0/lib/splittable_random: added to search path\n",
      "/Users/jered/.opam/4.12.0/lib/splittable_random/splittable_random.cma: loaded\n",
      "/Users/jered/.opam/4.12.0/lib/base_quickcheck: added to search path\n",
      "/Users/jered/.opam/4.12.0/lib/base_quickcheck/base_quickcheck.cma: loaded\n",
      "/Users/jered/.opam/4.12.0/lib/base/md5: added to search path\n",
      "/Users/jered/.opam/4.12.0/lib/base/md5/md5_lib.cma: loaded\n",
      "/Users/jered/.opam/4.12.0/lib/ocaml/unix.cma: loaded\n",
      "/Users/jered/.opam/4.12.0/lib/ocaml/bigarray.cma: loaded\n",
      "/Users/jered/.opam/4.12.0/lib/variantslib: added to search path\n",
      "/Users/jered/.opam/4.12.0/lib/variantslib/variantslib.cma: loaded\n",
      "/Users/jered/.opam/4.12.0/lib/bin_prot/shape: added to search path\n",
      "/Users/jered/.opam/4.12.0/lib/bin_prot/shape/bin_shape_lib.cma: loaded\n",
      "/Users/jered/.opam/4.12.0/lib/bin_prot: added to search path\n",
      "/Users/jered/.opam/4.12.0/lib/bin_prot/bin_prot.cma: loaded\n",
      "/Users/jered/.opam/4.12.0/lib/ppx_expect/common: added to search path\n",
      "/Users/jered/.opam/4.12.0/lib/ppx_expect/common/expect_test_common.cma: loaded\n",
      "/Users/jered/.opam/4.12.0/lib/ppx_expect/config_types: added to search path\n",
      "/Users/jered/.opam/4.12.0/lib/ppx_expect/config_types/expect_test_config_types.cma: loaded\n",
      "/Users/jered/.opam/4.12.0/lib/ppx_expect/collector: added to search path\n",
      "/Users/jered/.opam/4.12.0/lib/ppx_expect/collector/expect_test_collector.cma: loaded\n",
      "/Users/jered/.opam/4.12.0/lib/ppx_expect/config: added to search path\n",
      "/Users/jered/.opam/4.12.0/lib/ppx_expect/config/expect_test_config.cma: loaded\n",
      "/Users/jered/.opam/4.12.0/lib/stdio: added to search path\n",
      "/Users/jered/.opam/4.12.0/lib/stdio/stdio.cma: loaded\n",
      "/Users/jered/.opam/4.12.0/lib/ppx_module_timer/runtime: added to search path\n",
      "/Users/jered/.opam/4.12.0/lib/ppx_module_timer/runtime/ppx_module_timer_runtime.cma: loaded\n",
      "/Users/jered/.opam/4.12.0/lib/typerep: added to search path\n",
      "/Users/jered/.opam/4.12.0/lib/typerep/typerep_lib.cma: loaded\n",
      "/Users/jered/.opam/4.12.0/lib/base_bigstring: added to search path\n",
      "/Users/jered/.opam/4.12.0/lib/base_bigstring/base_bigstring.cma: loaded\n",
      "/Users/jered/.opam/4.12.0/lib/core_kernel/base_for_tests: added to search path\n",
      "/Users/jered/.opam/4.12.0/lib/core_kernel/base_for_tests/base_for_tests.cma: loaded\n",
      "/Users/jered/.opam/4.12.0/lib/parsexp: added to search path\n",
      "/Users/jered/.opam/4.12.0/lib/parsexp/parsexp.cma: loaded\n",
      "/Users/jered/.opam/4.12.0/lib/sexplib: added to search path\n",
      "/Users/jered/.opam/4.12.0/lib/sexplib/sexplib.cma: loaded\n",
      "/Users/jered/.opam/4.12.0/lib/core_kernel: added to search path\n",
      "/Users/jered/.opam/4.12.0/lib/core_kernel/core_kernel.cma: loaded\n",
      "/Users/jered/.opam/4.12.0/lib/core/error_checking_mutex: added to search path\n",
      "/Users/jered/.opam/4.12.0/lib/core/error_checking_mutex/error_checking_mutex.cma: loaded\n",
      "/Users/jered/.opam/4.12.0/lib/core_kernel/caml_unix: added to search path\n",
      "/Users/jered/.opam/4.12.0/lib/core_kernel/caml_unix/caml_unix.cma: loaded\n",
      "/Users/jered/.opam/4.12.0/lib/core_kernel/flags: added to search path\n",
      "/Users/jered/.opam/4.12.0/lib/core_kernel/flags/flags.cma: loaded\n",
      "/Users/jered/.opam/4.12.0/lib/core_kernel/version_util: added to search path\n",
      "/Users/jered/.opam/4.12.0/lib/core_kernel/version_util/version_util.cma: loaded\n",
      "/Users/jered/.opam/4.12.0/lib/sexplib/unix: added to search path\n",
      "/Users/jered/.opam/4.12.0/lib/sexplib/unix/sexplib_unix.cma: loaded\n",
      "/Users/jered/.opam/4.12.0/lib/spawn: added to search path\n",
      "/Users/jered/.opam/4.12.0/lib/spawn/spawn.cma: loaded\n",
      "/Users/jered/.opam/4.12.0/lib/timezone: added to search path\n",
      "/Users/jered/.opam/4.12.0/lib/timezone/timezone.cma: loaded\n",
      "/Users/jered/.opam/4.12.0/lib/core: added to search path\n",
      "/Users/jered/.opam/4.12.0/lib/core/core.cma: loaded\n"
     ]
    }
   ],
   "source": [
    "#require \"core\" ;;"
   ]
  },
  {
   "cell_type": "code",
   "execution_count": 4,
   "id": "b8180421",
   "metadata": {},
   "outputs": [],
   "source": [
    "open Core"
   ]
  },
  {
   "cell_type": "markdown",
   "id": "0e06d6af",
   "metadata": {},
   "source": [
    "### Oh God, what have I done\n",
    "\n",
    "Apparently this is an overlay library, and just blows away much of the core language.  Now my `List.map` function is backwards!  That's... incredibly antisocial, actually.  I guess what did I expect from a quantitative finance company."
   ]
  },
  {
   "cell_type": "code",
   "execution_count": 5,
   "id": "ec9a4830",
   "metadata": {},
   "outputs": [
    {
     "name": "stderr",
     "output_type": "stream",
     "text": [
      "File \"[5]\", line 1, characters 9-16:\n",
      "1 | List.map ((+) 0) [1;2;3]\n",
      "             ^^^^^^^\n",
      "Warning 5 [ignored-partial-application]: this function application is partial,\n",
      "maybe some arguments are missing.\n"
     ]
    },
    {
     "ename": "error",
     "evalue": "compile_error",
     "output_type": "error",
     "traceback": [
      "File \"[5]\", line 1, characters 9-16:\n1 | List.map ((+) 0) [1;2;3]\n             ^^^^^^^\nError: This expression has type int -> int\n       but an expression was expected of type 'a list\n"
     ]
    }
   ],
   "source": [
    "List.map ((+) 0) [1;2;3]"
   ]
  },
  {
   "cell_type": "code",
   "execution_count": 6,
   "id": "204beff3",
   "metadata": {},
   "outputs": [
    {
     "data": {
      "text/plain": [
       "- : int list = [1; 2; 3]\n"
      ]
     },
     "execution_count": 6,
     "metadata": {},
     "output_type": "execute_result"
    }
   ],
   "source": [
    "List.map [1;2;3] ((+) 0)"
   ]
  },
  {
   "cell_type": "markdown",
   "id": "4c12f271",
   "metadata": {},
   "source": [
    "Hang on, let me just rewrite everything now."
   ]
  },
  {
   "cell_type": "code",
   "execution_count": 7,
   "id": "e33a8011",
   "metadata": {},
   "outputs": [],
   "source": [
    "open Core.List"
   ]
  },
  {
   "cell_type": "markdown",
   "id": "f26f0437",
   "metadata": {},
   "source": [
    "Apparently I need this too.  Have I mentioned it's impossible to Google search for punctuation?  Ugh."
   ]
  },
  {
   "cell_type": "markdown",
   "id": "5d7adcb1",
   "metadata": {},
   "source": [
    "### Reading stuff from files\n",
    "\n",
    "We seem to have to read stuff from files a lot."
   ]
  },
  {
   "cell_type": "code",
   "execution_count": 8,
   "id": "78802257",
   "metadata": {},
   "outputs": [
    {
     "data": {
      "text/plain": [
       "- : Base.string Base.list =\n",
       "[\"3   4\"; \"4   3\"; \"2   5\"; \"1   3\"; \"3   9\"; \"3   3\"]\n"
      ]
     },
     "execution_count": 8,
     "metadata": {},
     "output_type": "execute_result"
    }
   ],
   "source": [
    "(* Core has a way to do this *)\n",
    "In_channel.read_lines \"day1_example.txt\""
   ]
  },
  {
   "cell_type": "markdown",
   "id": "50d14e0c",
   "metadata": {},
   "source": [
    "Now there are different combinators, too.  How do these work?"
   ]
  },
  {
   "cell_type": "code",
   "execution_count": 9,
   "id": "70d77ac9",
   "metadata": {},
   "outputs": [
    {
     "data": {
      "text/plain": [
       "- : int list = [2; 3; 4]\n"
      ]
     },
     "execution_count": 9,
     "metadata": {},
     "output_type": "execute_result"
    }
   ],
   "source": [
    "[1;2;3] >>| ((+) 1)"
   ]
  },
  {
   "cell_type": "code",
   "execution_count": 10,
   "id": "d5c3569b",
   "metadata": {},
   "outputs": [
    {
     "data": {
      "text/plain": [
       "val read_numbers_from_file : Base.string -> int list list = <fun>\n"
      ]
     },
     "execution_count": 10,
     "metadata": {},
     "output_type": "execute_result"
    }
   ],
   "source": [
    "(*let read_numbers_from_file file_name =\n",
    "  let file = open_in file_name in\n",
    "  let output = ref [] in\n",
    "  try\n",
    "    while true do\n",
    "      let line = input_line file\n",
    "               |> Str.split (Str.regexp \" +\")\n",
    "               |> List.map int_of_string in\n",
    "      output := line :: !output\n",
    "    done;\n",
    "    assert false\n",
    "  with\n",
    "    End_of_file -> List.rev !output *)\n",
    "\n",
    "let read_numbers_from_file file_name =\n",
    "  let parse line =\n",
    "    line |> Str.split (Str.regexp \" +\") >>| int_of_string in\n",
    "  In_channel.read_lines file_name >>| parse"
   ]
  },
  {
   "cell_type": "markdown",
   "id": "72cb68f9",
   "metadata": {},
   "source": [
    "### This keeps coming up"
   ]
  },
  {
   "cell_type": "code",
   "execution_count": 11,
   "id": "075f9c9d",
   "metadata": {},
   "outputs": [
    {
     "data": {
      "text/plain": [
       "val pair_of_list : 'a list -> 'a * 'a = <fun>\n"
      ]
     },
     "execution_count": 11,
     "metadata": {},
     "output_type": "execute_result"
    }
   ],
   "source": [
    "let pair_of_list xs =\n",
    "  match xs with\n",
    "  | [x; y] -> (x, y)\n",
    "  | _ -> failwith \"expecting pair\""
   ]
  },
  {
   "cell_type": "markdown",
   "id": "f3ff29e7",
   "metadata": {},
   "source": [
    "### Reading grids"
   ]
  },
  {
   "cell_type": "code",
   "execution_count": 12,
   "id": "e49425c2",
   "metadata": {},
   "outputs": [
    {
     "data": {
      "text/plain": [
       "val read_grid_from_file : Base.string -> char Core.Array.t Core.Array.t =\n",
       "  <fun>\n"
      ]
     },
     "execution_count": 12,
     "metadata": {},
     "output_type": "execute_result"
    }
   ],
   "source": [
    "let read_grid_from_file file_name =\n",
    "  let lines = In_channel.read_lines file_name in\n",
    "  let rows = length lines in\n",
    "  let cols = String.length (nth_exn lines 0) in\n",
    "  let grid = Array.make_matrix rows cols '.' in\n",
    "  for i = 0 to rows-1 do\n",
    "    for j = 0 to cols-1 do\n",
    "      grid.(i).(j) <- String.get (nth_exn lines i) j\n",
    "    done\n",
    "  done;\n",
    "  grid"
   ]
  },
  {
   "cell_type": "markdown",
   "id": "ef6e09c5",
   "metadata": {},
   "source": [
    "### Cartesian product without the diagonal"
   ]
  },
  {
   "cell_type": "code",
   "execution_count": 13,
   "id": "f4be6771",
   "metadata": {},
   "outputs": [
    {
     "data": {
      "text/plain": [
       "val pairs : 'a list -> ('a * 'a) Base.List.t = <fun>\n"
      ]
     },
     "execution_count": 13,
     "metadata": {},
     "output_type": "execute_result"
    }
   ],
   "source": [
    "let rec pairs xs = \n",
    "  match xs with\n",
    "  | [] -> []\n",
    "  | [x] -> []\n",
    "  | x::rest -> (rest>>|(fun y -> (x,y))) @ pairs rest"
   ]
  },
  {
   "cell_type": "code",
   "execution_count": 14,
   "id": "db08fbbe",
   "metadata": {},
   "outputs": [
    {
     "data": {
      "text/plain": [
       "- : (int * int) Base.List.t =\n",
       "[(1, 2); (1, 3); (1, 4); (1, 5); (1, 6); (2, 3); (2, 4); (2, 5); (2, 6);\n",
       " (3, 4); (3, 5); (3, 6); (4, 5); (4, 6); (5, 6)]\n"
      ]
     },
     "execution_count": 14,
     "metadata": {},
     "output_type": "execute_result"
    }
   ],
   "source": [
    "pairs [1;2;3;4;5;6]"
   ]
  },
  {
   "cell_type": "markdown",
   "id": "af978c06",
   "metadata": {},
   "source": [
    "## Day 1\n",
    "\n",
    "[Link](https://adventofcode.com/2024/day/1)\n",
    "\n",
    "### Part 1\n",
    "\n",
    "They want me to read two columns from a file, sort them, and sum the differences."
   ]
  },
  {
   "cell_type": "code",
   "execution_count": 15,
   "id": "54e0c15a",
   "metadata": {},
   "outputs": [
    {
     "data": {
      "text/plain": [
       "val read_pairs_from_file : Base.string -> (int * int) list = <fun>\n"
      ]
     },
     "execution_count": 15,
     "metadata": {},
     "output_type": "execute_result"
    }
   ],
   "source": [
    "let read_pairs_from_file file_name =\n",
    "  read_numbers_from_file file_name\n",
    "  >>| pair_of_list"
   ]
  },
  {
   "cell_type": "code",
   "execution_count": 16,
   "id": "fcf8eb17",
   "metadata": {},
   "outputs": [
    {
     "data": {
      "text/plain": [
       "- : (int * int) list = [(3, 4); (4, 3); (2, 5); (1, 3); (3, 9); (3, 3)]\n"
      ]
     },
     "execution_count": 16,
     "metadata": {},
     "output_type": "execute_result"
    }
   ],
   "source": [
    "read_pairs_from_file \"day1_example.txt\""
   ]
  },
  {
   "cell_type": "markdown",
   "id": "74a200d5",
   "metadata": {},
   "source": [
    "Ok, that was a little ugly, but it could be worse.  Let's use some of this great type matching stuff."
   ]
  },
  {
   "cell_type": "code",
   "execution_count": 17,
   "id": "77aee232",
   "metadata": {},
   "outputs": [
    {
     "data": {
      "text/plain": [
       "val unzip : ('a * 'b) list -> 'a list * 'b list = <fun>\n"
      ]
     },
     "execution_count": 17,
     "metadata": {},
     "output_type": "execute_result"
    }
   ],
   "source": [
    "let rec unzip pairs =\n",
    "  match pairs with\n",
    "  | [] -> ([], [])\n",
    "  | (x, y) :: rest ->\n",
    "    let (xs, ys) = unzip rest in\n",
    "      (x::xs, y::ys)"
   ]
  },
  {
   "cell_type": "code",
   "execution_count": 18,
   "id": "60ba2d7e",
   "metadata": {},
   "outputs": [
    {
     "data": {
      "text/plain": [
       "- : int list * int list = ([1; 3; 5], [2; 4; 6])\n"
      ]
     },
     "execution_count": 18,
     "metadata": {},
     "output_type": "execute_result"
    }
   ],
   "source": [
    "unzip([(1,2); (3,4); (5,6)])"
   ]
  },
  {
   "cell_type": "markdown",
   "id": "0cbeed64",
   "metadata": {},
   "source": [
    "That was fun.  ~But there's a library for this.~  Update: Ok, core seems to actually call this `zip` and `unzip`..."
   ]
  },
  {
   "cell_type": "code",
   "execution_count": 19,
   "id": "9d197a70",
   "metadata": {},
   "outputs": [
    {
     "data": {
      "text/plain": [
       "- : int list * int list = ([1; 3; 5], [2; 4; 6])\n"
      ]
     },
     "execution_count": 19,
     "metadata": {},
     "output_type": "execute_result"
    }
   ],
   "source": [
    "List.unzip [(1,2); (3,4); (5,6)]"
   ]
  },
  {
   "cell_type": "code",
   "execution_count": 20,
   "id": "6a0c6bc4",
   "metadata": {},
   "outputs": [
    {
     "data": {
      "text/plain": [
       "- : (int * int) list Core.List.Or_unequal_lengths.t =\n",
       "Core.List.Or_unequal_lengths.Ok [(1, 2); (3, 4); (5, 6)]\n"
      ]
     },
     "execution_count": 20,
     "metadata": {},
     "output_type": "execute_result"
    }
   ],
   "source": [
    "zip [1;3;5] [2;4;6]"
   ]
  },
  {
   "cell_type": "markdown",
   "id": "b92c7d5f",
   "metadata": {},
   "source": [
    "Oh no, I overwrote `compare` when I did `open Core.List` to try to get the list combinators.  What a mess."
   ]
  },
  {
   "cell_type": "code",
   "execution_count": 21,
   "id": "a75f84e3",
   "metadata": {},
   "outputs": [
    {
     "data": {
      "text/plain": [
       "- : ('a -> 'a -> int) -> 'a list -> 'a list -> int = <fun>\n"
      ]
     },
     "execution_count": 21,
     "metadata": {},
     "output_type": "execute_result"
    }
   ],
   "source": [
    "compare"
   ]
  },
  {
   "cell_type": "code",
   "execution_count": 22,
   "id": "16ef6847",
   "metadata": {},
   "outputs": [
    {
     "data": {
      "text/plain": [
       "- : 'a -> 'a -> int = <fun>\n"
      ]
     },
     "execution_count": 22,
     "metadata": {},
     "output_type": "execute_result"
    }
   ],
   "source": [
    "Stdlib.compare"
   ]
  },
  {
   "cell_type": "markdown",
   "id": "a194ca5c",
   "metadata": {},
   "source": [
    "Hmm, post `zip`ping, my list type is infected with `Core.List.Or_unequal_lengths.t` and I can't do unsanctioned list stuff with it.  I guess I have to use `zip_exn` to fail hard."
   ]
  },
  {
   "cell_type": "code",
   "execution_count": 23,
   "id": "60934933",
   "metadata": {},
   "outputs": [
    {
     "data": {
      "text/plain": [
       "val day1_part1 : (int * int) list -> int = <fun>\n"
      ]
     },
     "execution_count": 23,
     "metadata": {},
     "output_type": "execute_result"
    }
   ],
   "source": [
    "let day1_part1 pairs =\n",
    "  let (xs, ys) = unzip pairs in\n",
    "  (zip_exn (sort xs Stdlib.compare) (sort ys Stdlib.compare)\n",
    "    >>| fun (x, y) -> abs(x - y))\n",
    "  |> List.fold ~f:(+) ~init:0"
   ]
  },
  {
   "cell_type": "markdown",
   "id": "61da9d4f",
   "metadata": {},
   "source": [
    "~That is actually kind of pretty, although the syntax is meh.~  Let's be real, this is an ugly way to write a simple program."
   ]
  },
  {
   "cell_type": "code",
   "execution_count": 24,
   "id": "31706af3",
   "metadata": {},
   "outputs": [
    {
     "data": {
      "text/plain": [
       "- : int = 11\n"
      ]
     },
     "execution_count": 24,
     "metadata": {},
     "output_type": "execute_result"
    }
   ],
   "source": [
    "read_pairs_from_file \"day1_example.txt\" |> day1_part1"
   ]
  },
  {
   "cell_type": "code",
   "execution_count": 25,
   "id": "58e773ad",
   "metadata": {},
   "outputs": [
    {
     "data": {
      "text/plain": [
       "- : int = 1666427\n"
      ]
     },
     "execution_count": 25,
     "metadata": {},
     "output_type": "execute_result"
    }
   ],
   "source": [
    "read_pairs_from_file \"day1_input.txt\" |> day1_part1"
   ]
  },
  {
   "cell_type": "markdown",
   "id": "296393c8",
   "metadata": {},
   "source": [
    "### Part 2\n",
    "\n",
    "Now we've got to count stuff.  There is no need to be especially clever about this."
   ]
  },
  {
   "cell_type": "code",
   "execution_count": 26,
   "id": "9eb89a64",
   "metadata": {},
   "outputs": [
    {
     "data": {
      "text/plain": [
       "val day1_part2 : (Core_kernel.Int.t * Core_kernel.Int.t) list -> int = <fun>\n"
      ]
     },
     "execution_count": 26,
     "metadata": {},
     "output_type": "execute_result"
    }
   ],
   "source": [
    "let day1_part2 pairs =\n",
    "  let (xs, ys) = unzip pairs in\n",
    "  let count x = List.count ys ((=) x) in\n",
    "    xs\n",
    "    >>| (fun x -> x * (count x))\n",
    "    |> List.fold ~f:(+) ~init:0"
   ]
  },
  {
   "cell_type": "code",
   "execution_count": 27,
   "id": "396566b8",
   "metadata": {},
   "outputs": [
    {
     "data": {
      "text/plain": [
       "- : int = 24316233\n"
      ]
     },
     "execution_count": 27,
     "metadata": {},
     "output_type": "execute_result"
    }
   ],
   "source": [
    "read_pairs_from_file \"day1_input.txt\" |> day1_part2"
   ]
  },
  {
   "cell_type": "markdown",
   "id": "770afe2d",
   "metadata": {},
   "source": [
    "## Day 2\n",
    "\n",
    "[Link](https://adventofcode.com/2024/day/2)\n",
    "\n",
    "### Part 1\n",
    "\n",
    "Today we have to take adjacent differences of things."
   ]
  },
  {
   "cell_type": "code",
   "execution_count": 28,
   "id": "409ecf47",
   "metadata": {},
   "outputs": [
    {
     "data": {
      "text/plain": [
       "val differences : int list -> int list = <fun>\n"
      ]
     },
     "execution_count": 28,
     "metadata": {},
     "output_type": "execute_result"
    }
   ],
   "source": [
    "let rec differences list =\n",
    "  match list with\n",
    "  | [] -> []\n",
    "  | [x] -> [] \n",
    "  | x :: y :: rest -> x - y :: differences (y :: rest)"
   ]
  },
  {
   "cell_type": "code",
   "execution_count": 29,
   "id": "b354bb1a",
   "metadata": {},
   "outputs": [
    {
     "data": {
      "text/plain": [
       "- : int list = [1; 2; 2; 1]\n"
      ]
     },
     "execution_count": 29,
     "metadata": {},
     "output_type": "execute_result"
    }
   ],
   "source": [
    "differences [7; 6; 4; 2; 1]"
   ]
  },
  {
   "cell_type": "markdown",
   "id": "45098361",
   "metadata": {},
   "source": [
    "I kind of wish this were point free?  Like I wanted to write `increasing || decreasing`.  Oh well."
   ]
  },
  {
   "cell_type": "code",
   "execution_count": 30,
   "id": "c2a9aa7f",
   "metadata": {},
   "outputs": [
    {
     "data": {
      "text/plain": [
       "val safe : int list -> bool = <fun>\n"
      ]
     },
     "execution_count": 30,
     "metadata": {},
     "output_type": "execute_result"
    },
    {
     "data": {
      "text/plain": [
       "val count : ('a -> bool) -> 'a list -> int = <fun>\n"
      ]
     },
     "execution_count": 30,
     "metadata": {},
     "output_type": "execute_result"
    }
   ],
   "source": [
    "let safe levels =\n",
    "  let decreasing = List.for_all ~f:(fun(x) -> x < 0) in\n",
    "  let increasing = List.for_all ~f:(fun(x) -> x > 0) in\n",
    "  let in_range = List.for_all ~f:(fun(x) -> abs(x) >= 1 && abs(x) <= 3) in\n",
    "  let check xs = (increasing xs || decreasing xs) && in_range xs in\n",
    "    check (differences levels)\n",
    "\n",
    "let count safety_check data =\n",
    "  data\n",
    "  |> List.filter ~f:safety_check\n",
    "  |> List.length"
   ]
  },
  {
   "cell_type": "code",
   "execution_count": 31,
   "id": "03378041",
   "metadata": {},
   "outputs": [
    {
     "data": {
      "text/plain": [
       "- : int = 2\n"
      ]
     },
     "execution_count": 31,
     "metadata": {},
     "output_type": "execute_result"
    }
   ],
   "source": [
    "read_numbers_from_file \"day2_example.txt\" |> count safe"
   ]
  },
  {
   "cell_type": "code",
   "execution_count": 32,
   "id": "d9752478",
   "metadata": {},
   "outputs": [
    {
     "data": {
      "text/plain": [
       "- : int = 442\n"
      ]
     },
     "execution_count": 32,
     "metadata": {},
     "output_type": "execute_result"
    }
   ],
   "source": [
    "read_numbers_from_file \"day2_input.txt\" |> count safe"
   ]
  },
  {
   "cell_type": "markdown",
   "id": "a993f2a4",
   "metadata": {},
   "source": [
    "### Part 2\n",
    "\n",
    "Now we have to try fudging the data, I guess."
   ]
  },
  {
   "cell_type": "code",
   "execution_count": 33,
   "id": "ebeae126",
   "metadata": {},
   "outputs": [
    {
     "data": {
      "text/plain": [
       "val ablate : 'a list -> 'a list list = <fun>\n"
      ]
     },
     "execution_count": 33,
     "metadata": {},
     "output_type": "execute_result"
    }
   ],
   "source": [
    "let rec ablate xs =\n",
    "  match xs with\n",
    "  | [] -> []\n",
    "  | x :: rest -> rest :: (List.map ~f:(fun(xs) -> x :: xs)) (ablate rest)"
   ]
  },
  {
   "cell_type": "code",
   "execution_count": 34,
   "id": "f9a3b058",
   "metadata": {},
   "outputs": [
    {
     "data": {
      "text/plain": [
       "- : int list list = [[2; 3; 4]; [1; 3; 4]; [1; 2; 4]; [1; 2; 3]]\n"
      ]
     },
     "execution_count": 34,
     "metadata": {},
     "output_type": "execute_result"
    }
   ],
   "source": [
    "ablate [1;2;3;4]"
   ]
  },
  {
   "cell_type": "code",
   "execution_count": 35,
   "id": "d4c53e9e",
   "metadata": {},
   "outputs": [
    {
     "data": {
      "text/plain": [
       "val safeish : int list -> bool = <fun>\n"
      ]
     },
     "execution_count": 35,
     "metadata": {},
     "output_type": "execute_result"
    }
   ],
   "source": [
    "let safeish levels =\n",
    "  safe levels ||\n",
    "  (ablate levels |> List.exists ~f:safe)"
   ]
  },
  {
   "cell_type": "code",
   "execution_count": 36,
   "id": "0c11089c",
   "metadata": {},
   "outputs": [
    {
     "data": {
      "text/plain": [
       "- : int = 4\n"
      ]
     },
     "execution_count": 36,
     "metadata": {},
     "output_type": "execute_result"
    }
   ],
   "source": [
    "read_numbers_from_file \"day2_example.txt\" |> count safeish"
   ]
  },
  {
   "cell_type": "code",
   "execution_count": 37,
   "id": "aee5acd0",
   "metadata": {},
   "outputs": [
    {
     "data": {
      "text/plain": [
       "- : int = 493\n"
      ]
     },
     "execution_count": 37,
     "metadata": {},
     "output_type": "execute_result"
    }
   ],
   "source": [
    "read_numbers_from_file \"day2_input.txt\" |> count safeish"
   ]
  },
  {
   "cell_type": "markdown",
   "id": "f070e5df",
   "metadata": {},
   "source": [
    "## Day 3\n",
    "\n",
    "### Part 1\n",
    "\n",
    "Today we are parsing instructions from strings full of junk.  There is a builtin regex library from, like, the 90s.  Since we're already doing this core stuff, I guess we may as well just use re2 and unlock the _sheer power_ of NFAs.  Stand back."
   ]
  },
  {
   "cell_type": "code",
   "execution_count": 38,
   "id": "71482679",
   "metadata": {},
   "outputs": [
    {
     "name": "stderr",
     "output_type": "stream",
     "text": [
      "/Users/jered/.opam/4.12.0/lib/core_kernel/rope: added to search path\n",
      "/Users/jered/.opam/4.12.0/lib/core_kernel/rope/rope.cma: loaded\n",
      "/Users/jered/.opam/4.12.0/lib/re2/c: added to search path\n",
      "/Users/jered/.opam/4.12.0/lib/re2/c/re2_c.cma: loaded\n",
      "/Users/jered/.opam/4.12.0/lib/re2: added to search path\n",
      "/Users/jered/.opam/4.12.0/lib/re2/re2.cma: loaded\n"
     ]
    }
   ],
   "source": [
    "#require \"re2\" ;;"
   ]
  },
  {
   "cell_type": "code",
   "execution_count": 39,
   "id": "c1ed4bda",
   "metadata": {},
   "outputs": [
    {
     "data": {
      "text/plain": [
       "val find_day3_instructions : string -> (int * int) list = <fun>\n"
      ]
     },
     "execution_count": 39,
     "metadata": {},
     "output_type": "execute_result"
    }
   ],
   "source": [
    "let find_day3_instructions s =\n",
    "  let mul = Re2.create_exn {|mul\\((\\d+,\\d+)\\)|} in\n",
    "  Re2.find_all_exn ~sub:(`Index 1) mul s\n",
    "  >>| fun (xs) -> (String.split ~on:',' xs\n",
    "                   >>| int_of_string\n",
    "                   |> pair_of_list)"
   ]
  },
  {
   "cell_type": "code",
   "execution_count": 40,
   "id": "d4a24a5b",
   "metadata": {},
   "outputs": [
    {
     "data": {
      "text/plain": [
       "- : (int * int) list = [(2, 4); (5, 5); (11, 8); (8, 5)]\n"
      ]
     },
     "execution_count": 40,
     "metadata": {},
     "output_type": "execute_result"
    }
   ],
   "source": [
    "find_day3_instructions \"xmul(2,4)%&mul[3,7]!@^do_not_mul(5,5)+mul(32,64]then(mul(11,8)mul(8,5))\""
   ]
  },
  {
   "cell_type": "code",
   "execution_count": 41,
   "id": "d59ca4c9",
   "metadata": {},
   "outputs": [
    {
     "data": {
      "text/plain": [
       "val day3_part1 : string -> int = <fun>\n"
      ]
     },
     "execution_count": 41,
     "metadata": {},
     "output_type": "execute_result"
    }
   ],
   "source": [
    "let day3_part1 s =\n",
    "  find_day3_instructions s\n",
    "  >>| (fun ((a, b)) -> a * b)\n",
    "   |> fold ~init:0 ~f:(+)"
   ]
  },
  {
   "cell_type": "code",
   "execution_count": 42,
   "id": "df51118a",
   "metadata": {},
   "outputs": [
    {
     "data": {
      "text/plain": [
       "- : int = 161\n"
      ]
     },
     "execution_count": 42,
     "metadata": {},
     "output_type": "execute_result"
    }
   ],
   "source": [
    "In_channel.read_all \"day3_example.txt\" |> day3_part1"
   ]
  },
  {
   "cell_type": "code",
   "execution_count": 43,
   "id": "99e3581a",
   "metadata": {},
   "outputs": [
    {
     "data": {
      "text/plain": [
       "- : int = 170778545\n"
      ]
     },
     "execution_count": 43,
     "metadata": {},
     "output_type": "execute_result"
    }
   ],
   "source": [
    "In_channel.read_all \"day3_input.txt\" |> day3_part1"
   ]
  },
  {
   "cell_type": "markdown",
   "id": "f46635c7",
   "metadata": {},
   "source": [
    "### Part 2\n",
    "\n",
    "Oh good, now we get to parse more instructions - we can turn multiplying on and off, how convenient.  Let's use a type thing."
   ]
  },
  {
   "cell_type": "code",
   "execution_count": 44,
   "id": "91c9c6ef",
   "metadata": {},
   "outputs": [
    {
     "data": {
      "text/plain": [
       "type day3_instruction = Day3Mul of int * int | Day3Do | Day3Dont\n"
      ]
     },
     "execution_count": 44,
     "metadata": {},
     "output_type": "execute_result"
    }
   ],
   "source": [
    "type day3_instruction =\n",
    "  Day3Mul of int * int\n",
    "  | Day3Do\n",
    "  | Day3Dont"
   ]
  },
  {
   "cell_type": "code",
   "execution_count": 45,
   "id": "8488b3f2",
   "metadata": {},
   "outputs": [
    {
     "data": {
      "text/plain": [
       "val parse_day3_program : string -> day3_instruction list = <fun>\n"
      ]
     },
     "execution_count": 45,
     "metadata": {},
     "output_type": "execute_result"
    }
   ],
   "source": [
    "let parse_day3_program s =\n",
    "  let opcode = Re2.create_exn {|(don't\\(\\)|do\\(\\)|mul\\(\\d+,\\d+\\))|} in\n",
    "  let parse_opcode args =\n",
    "    match args with\n",
    "    | \"mul\" :: x :: y :: rest -> Day3Mul (int_of_string x, int_of_string y)\n",
    "    | \"do\" :: rest -> Day3Do\n",
    "    | \"don't\" :: rest -> Day3Dont\n",
    "    | _ -> failwith \"unknown instruction\" in\n",
    "  Re2.find_all_exn ~sub:(`Index 1) opcode s\n",
    "  >>| String.split_on_chars ~on:[','; '('; ')']\n",
    "  >>| parse_opcode"
   ]
  },
  {
   "cell_type": "code",
   "execution_count": 46,
   "id": "ab5fd72d",
   "metadata": {},
   "outputs": [
    {
     "data": {
      "text/plain": [
       "- : day3_instruction list =\n",
       "[Day3Mul (2, 4); Day3Dont; Day3Mul (5, 5); Day3Mul (11, 8); Day3Do;\n",
       " Day3Mul (8, 5)]\n"
      ]
     },
     "execution_count": 46,
     "metadata": {},
     "output_type": "execute_result"
    }
   ],
   "source": [
    "parse_day3_program \"xmul(2,4)&mul[3,7]!^don't()_mul(5,5)+mul(32,64](mul(11,8)undo()?mul(8,5))\""
   ]
  },
  {
   "cell_type": "markdown",
   "id": "fd6d67de",
   "metadata": {},
   "source": [
    "Let's shake things up and evaluate this imperatively.  Mwahaha, purists, take that."
   ]
  },
  {
   "cell_type": "code",
   "execution_count": 47,
   "id": "8aa4a053",
   "metadata": {},
   "outputs": [
    {
     "data": {
      "text/plain": [
       "val eval_day3_program : string -> int = <fun>\n"
      ]
     },
     "execution_count": 47,
     "metadata": {},
     "output_type": "execute_result"
    }
   ],
   "source": [
    "let eval_day3_program s =\n",
    "  let mul_enabled = ref true in\n",
    "  let eval instruction =\n",
    "    match instruction with\n",
    "    | Day3Do -> mul_enabled := true; 0\n",
    "    | Day3Dont -> mul_enabled := false; 0\n",
    "    | Day3Mul (x, y) -> if !mul_enabled then x * y else 0 in\n",
    "  parse_day3_program s\n",
    "  >>| eval\n",
    "  |> fold ~init:0 ~f:(+)"
   ]
  },
  {
   "cell_type": "code",
   "execution_count": 48,
   "id": "daad1a4c",
   "metadata": {},
   "outputs": [
    {
     "data": {
      "text/plain": [
       "- : int = 48\n"
      ]
     },
     "execution_count": 48,
     "metadata": {},
     "output_type": "execute_result"
    }
   ],
   "source": [
    "eval_day3_program \"xmul(2,4)&mul[3,7]!^don't()_mul(5,5)+mul(32,64](mul(11,8)undo()?mul(8,5))\""
   ]
  },
  {
   "cell_type": "code",
   "execution_count": 49,
   "id": "38f47994",
   "metadata": {},
   "outputs": [
    {
     "data": {
      "text/plain": [
       "- : int = 82868252\n"
      ]
     },
     "execution_count": 49,
     "metadata": {},
     "output_type": "execute_result"
    }
   ],
   "source": [
    "In_channel.read_all \"day3_input.txt\" |> eval_day3_program"
   ]
  },
  {
   "cell_type": "markdown",
   "id": "8bd59c91",
   "metadata": {},
   "source": [
    "## Day 4\n",
    "\n",
    "### Part 1\n",
    "\n",
    "Today we are doing word searches, which I guess means we need arrays.  Let's see how this works."
   ]
  },
  {
   "cell_type": "code",
   "execution_count": 50,
   "id": "8af490f5",
   "metadata": {},
   "outputs": [
    {
     "data": {
      "text/plain": [
       "val read_wordsearch : Base.string -> char Core.Array.t Core.Array.t = <fun>\n"
      ]
     },
     "execution_count": 50,
     "metadata": {},
     "output_type": "execute_result"
    }
   ],
   "source": [
    "let read_wordsearch file_name = read_grid_from_file file_name"
   ]
  },
  {
   "cell_type": "code",
   "execution_count": 51,
   "id": "29206b9b",
   "metadata": {},
   "outputs": [
    {
     "data": {
      "text/plain": [
       "- : char Core.Array.t Core.Array.t =\n",
       "[|[|'M'; 'M'; 'M'; 'S'; 'X'; 'X'; 'M'; 'A'; 'S'; 'M'|];\n",
       "  [|'M'; 'S'; 'A'; 'M'; 'X'; 'M'; 'S'; 'M'; 'S'; 'A'|];\n",
       "  [|'A'; 'M'; 'X'; 'S'; 'X'; 'M'; 'A'; 'A'; 'M'; 'M'|];\n",
       "  [|'M'; 'S'; 'A'; 'M'; 'A'; 'S'; 'M'; 'S'; 'M'; 'X'|];\n",
       "  [|'X'; 'M'; 'A'; 'S'; 'A'; 'M'; 'X'; 'A'; 'M'; 'M'|];\n",
       "  [|'X'; 'X'; 'A'; 'M'; 'M'; 'X'; 'X'; 'A'; 'M'; 'A'|];\n",
       "  [|'S'; 'M'; 'S'; 'M'; 'S'; 'A'; 'S'; 'X'; 'S'; 'S'|];\n",
       "  [|'S'; 'A'; 'X'; 'A'; 'M'; 'A'; 'S'; 'A'; 'A'; 'A'|];\n",
       "  [|'M'; 'A'; 'M'; 'M'; 'M'; 'X'; 'M'; 'M'; 'M'; 'M'|];\n",
       "  [|'M'; 'X'; 'M'; 'X'; 'A'; 'X'; 'M'; 'A'; 'S'; 'X'|]|]\n"
      ]
     },
     "execution_count": 51,
     "metadata": {},
     "output_type": "execute_result"
    }
   ],
   "source": [
    "read_wordsearch \"day4_example.txt\""
   ]
  },
  {
   "cell_type": "code",
   "execution_count": 52,
   "id": "d12b8685",
   "metadata": {},
   "outputs": [
    {
     "data": {
      "text/plain": [
       "val count_matches : string -> Core.Char.t Core.Array.t Core.Array.t -> int =\n",
       "  <fun>\n"
      ]
     },
     "execution_count": 52,
     "metadata": {},
     "output_type": "execute_result"
    }
   ],
   "source": [
    "let count_matches word grid =\n",
    "  let count_matches_at i j di dj =\n",
    "    let len = String.length word in\n",
    "    let found = ref 1 in\n",
    "    for n = 0 to len-1 do\n",
    "      try\n",
    "        let word_char = String.get word n in\n",
    "        let grid_char = grid.(i + di * n).(j + dj * n) in\n",
    "          if Char.(<>) word_char grid_char then found := 0\n",
    "      with\n",
    "        Invalid_argument _ -> found := 0\n",
    "    done; !found in\n",
    "  let matches = ref 0 in\n",
    "    let rows = Array.length grid in\n",
    "    let cols = Array.length grid.(0) in\n",
    "    let dirs = [(-1, -1); (0, -1); (1, -1);\n",
    "                (-1,  0);          (1,  0);\n",
    "                (-1,  1); (0,  1); (1,  1)] in\n",
    "    for i = 0 to rows-1 do\n",
    "      for j = 0 to cols-1 do\n",
    "        let matches_here = dirs\n",
    "          >>| (fun((di, dj)) -> count_matches_at i j di dj)\n",
    "          |> fold ~init:0 ~f:(+) in\n",
    "          matches := !matches + matches_here\n",
    "      done\n",
    "    done; !matches"
   ]
  },
  {
   "cell_type": "markdown",
   "id": "fddb732c",
   "metadata": {},
   "source": [
    "Why doesn't the inequality operator `<>` work right for characters?  That's weird.  This Jane Street library is banana pancakes."
   ]
  },
  {
   "cell_type": "code",
   "execution_count": 53,
   "id": "ae061893",
   "metadata": {},
   "outputs": [
    {
     "data": {
      "text/plain": [
       "- : int = 18\n"
      ]
     },
     "execution_count": 53,
     "metadata": {},
     "output_type": "execute_result"
    }
   ],
   "source": [
    "read_wordsearch \"day4_example.txt\" |> count_matches \"XMAS\""
   ]
  },
  {
   "cell_type": "code",
   "execution_count": 54,
   "id": "646ba630",
   "metadata": {},
   "outputs": [
    {
     "data": {
      "text/plain": [
       "- : int = 2524\n"
      ]
     },
     "execution_count": 54,
     "metadata": {},
     "output_type": "execute_result"
    }
   ],
   "source": [
    "read_wordsearch \"day4_input.txt\" |> count_matches \"XMAS\""
   ]
  },
  {
   "cell_type": "markdown",
   "id": "87181cd3",
   "metadata": {},
   "source": [
    "### Part 2\n",
    "\n",
    "Oh good we have to search a different way.  Let's see..."
   ]
  },
  {
   "cell_type": "code",
   "execution_count": 55,
   "id": "ab0036b5",
   "metadata": {},
   "outputs": [
    {
     "data": {
      "text/plain": [
       "val count_x_mas : Core.Char.t Core.Array.t Core.Array.t -> int = <fun>\n"
      ]
     },
     "execution_count": 55,
     "metadata": {},
     "output_type": "execute_result"
    }
   ],
   "source": [
    "let count_x_mas grid =\n",
    "  let count_crossing_matches_at i j =\n",
    "    try\n",
    "      let ul = grid.(i-1).(j-1) in\n",
    "      let ur = grid.(i-1).(j+1) in\n",
    "      let dl = grid.(i+1).(j-1) in\n",
    "      let dr = grid.(i+1).(j+1) in\n",
    "      if Char.(grid.(i).(j) = 'A') &&\n",
    "        (Char.(ul = 'M') && Char.(dr = 'S') ||\n",
    "         Char.(ul = 'S') && Char.(dr = 'M')) &&\n",
    "        (Char.(ur = 'M') && Char.(dl = 'S') ||\n",
    "         Char.(ur = 'S') && Char.(dl = 'M')) then 1\n",
    "      else 0\n",
    "    with\n",
    "      Invalid_argument _ -> 0 in\n",
    "  let matches = ref 0 in\n",
    "    let rows = Array.length grid in\n",
    "    let cols = Array.length grid.(0) in\n",
    "    for i = 0 to rows-1 do\n",
    "      for j = 0 to cols-1 do\n",
    "        let matches_here = count_crossing_matches_at i j in\n",
    "          matches := !matches + matches_here\n",
    "      done\n",
    "    done; !matches"
   ]
  },
  {
   "cell_type": "code",
   "execution_count": 56,
   "id": "e7a79dd5",
   "metadata": {},
   "outputs": [
    {
     "data": {
      "text/plain": [
       "- : int = 1873\n"
      ]
     },
     "execution_count": 56,
     "metadata": {},
     "output_type": "execute_result"
    }
   ],
   "source": [
    "read_wordsearch \"day4_input.txt\" |>  count_x_mas"
   ]
  },
  {
   "cell_type": "markdown",
   "id": "704e1aad",
   "metadata": {},
   "source": [
    "## Day 5\n",
    "\n",
    "### Part 1\n",
    "\n",
    "We're given a ~partial~ (seemingly total?) order as a bunch of pairs `x|y` which means x < y, and then a bunch of strings.  We have to check whether the strings are in order.  We'll just build an adjacency matrix in a hash table to store the ordering."
   ]
  },
  {
   "cell_type": "code",
   "execution_count": 57,
   "id": "be420c4c",
   "metadata": {},
   "outputs": [
    {
     "data": {
      "text/plain": [
       "- : (Core.Int.t, int list) Core.Hashtbl.t = <abstr>\n"
      ]
     },
     "execution_count": 57,
     "metadata": {},
     "output_type": "execute_result"
    }
   ],
   "source": [
    "Hashtbl.of_alist_multi (module Int) [(47, 53); (97, 13); (97, 61); (97, 47)]"
   ]
  },
  {
   "cell_type": "code",
   "execution_count": 58,
   "id": "38a26f85",
   "metadata": {},
   "outputs": [
    {
     "data": {
      "text/plain": [
       "type day5_problem = {\n",
       "  order : (Core.Int.t, int list) Core.Hashtbl.t;\n",
       "  test_cases : int list list;\n",
       "}\n"
      ]
     },
     "execution_count": 58,
     "metadata": {},
     "output_type": "execute_result"
    }
   ],
   "source": [
    "type day5_problem = {order: (Core.Int.t, int list) Core.Hashtbl.t; test_cases: int list list}"
   ]
  },
  {
   "cell_type": "code",
   "execution_count": 59,
   "id": "219aee24",
   "metadata": {},
   "outputs": [
    {
     "data": {
      "text/plain": [
       "val read_day5_problem : Base.string -> day5_problem = <fun>\n"
      ]
     },
     "execution_count": 59,
     "metadata": {},
     "output_type": "execute_result"
    }
   ],
   "source": [
    "let read_day5_problem filename =\n",
    "  let lines = In_channel.read_lines filename in\n",
    "  let select char = filter ~f:(fun (line) -> String.contains line char) in\n",
    "  let order =\n",
    "    let parse line = String.split ~on:'|' line >>| int_of_string |> pair_of_list in\n",
    "    lines |> select '|' >>| parse in\n",
    "  let tests =\n",
    "    let parse line = String.split ~on:',' line >>| int_of_string in\n",
    "    lines |> select ',' >>| parse in\n",
    "  {order = Hashtbl.of_alist_multi (module Int) order;\n",
    "   test_cases = tests}"
   ]
  },
  {
   "cell_type": "code",
   "execution_count": 60,
   "id": "9e39d023",
   "metadata": {},
   "outputs": [
    {
     "data": {
      "text/plain": [
       "- : day5_problem =\n",
       "{order = <abstr>;\n",
       " test_cases =\n",
       "  [[75; 47; 61; 53; 29]; [97; 61; 53; 29; 13]; [75; 29; 13];\n",
       "   [75; 97; 47; 61; 53]; [61; 13; 29]; [97; 13; 75; 29; 47]]}\n"
      ]
     },
     "execution_count": 60,
     "metadata": {},
     "output_type": "execute_result"
    }
   ],
   "source": [
    "read_day5_problem \"day5_example.txt\""
   ]
  },
  {
   "cell_type": "code",
   "execution_count": 61,
   "id": "7ffadc73",
   "metadata": {},
   "outputs": [
    {
     "data": {
      "text/plain": [
       "val order_lookup :\n",
       "  ('a, Core_kernel.Int.t list) Core.Hashtbl.t ->\n",
       "  'a Core.Hashtbl.key -> Core_kernel.Int.t -> bool = <fun>\n"
      ]
     },
     "execution_count": 61,
     "metadata": {},
     "output_type": "execute_result"
    }
   ],
   "source": [
    "let order_lookup order x y =\n",
    "  try\n",
    "    Hashtbl.find_exn order x\n",
    "    |> List.exists ~f:((=) y)\n",
    "  with\n",
    "  | Stdlib.Not_found | Not_found_s _ -> false"
   ]
  },
  {
   "cell_type": "code",
   "execution_count": 62,
   "id": "66641481",
   "metadata": {},
   "outputs": [
    {
     "data": {
      "text/plain": [
       "val day5_compare :\n",
       "  (Core_kernel.Int.t, Core_kernel.Int.t list) Core.Hashtbl.t ->\n",
       "  Core_kernel.Int.t Core.Hashtbl.key -> Core_kernel.Int.t -> int = <fun>\n"
      ]
     },
     "execution_count": 62,
     "metadata": {},
     "output_type": "execute_result"
    }
   ],
   "source": [
    "let day5_compare order x y =\n",
    "  if order_lookup order x y then -1\n",
    "  else if order_lookup order y x then +1\n",
    "  else 0"
   ]
  },
  {
   "cell_type": "code",
   "execution_count": 63,
   "id": "0e41b7c6",
   "metadata": {},
   "outputs": [
    {
     "data": {
      "text/plain": [
       "val in_order :\n",
       "  (Core_kernel.Int.t, Core_kernel.Int.t list) Core.Hashtbl.t ->\n",
       "  Core_kernel.Int.t Core.Hashtbl.key list -> bool = <fun>\n"
      ]
     },
     "execution_count": 63,
     "metadata": {},
     "output_type": "execute_result"
    }
   ],
   "source": [
    "let in_order order xs =\n",
    "  let len = length xs in\n",
    "  let valid = ref true in\n",
    "  (* It would be nicer to write this with a cartesian product that doesn't repeat pairs *)\n",
    "  for i = 0 to len-2 do\n",
    "    for j = i+1 to len-1 do\n",
    "      if day5_compare order (nth_exn xs i) (nth_exn xs j) > 0 then\n",
    "        valid := false\n",
    "    done\n",
    "  done; !valid"
   ]
  },
  {
   "cell_type": "code",
   "execution_count": 64,
   "id": "3035c312",
   "metadata": {},
   "outputs": [
    {
     "data": {
      "text/plain": [
       "val day5_part1 : Base.string -> int = <fun>\n"
      ]
     },
     "execution_count": 64,
     "metadata": {},
     "output_type": "execute_result"
    }
   ],
   "source": [
    "let day5_part1 filename =\n",
    "  let problem = read_day5_problem filename in\n",
    "  let middle xs = nth_exn xs ((length xs) / 2) in\n",
    "  let correctly_ordered = problem.test_cases\n",
    "                        |> filter ~f:(in_order problem.order) in\n",
    "  correctly_ordered >>| middle |> fold ~init:0 ~f:(+)"
   ]
  },
  {
   "cell_type": "code",
   "execution_count": 65,
   "id": "dcc33d02",
   "metadata": {},
   "outputs": [
    {
     "data": {
      "text/plain": [
       "- : int = 143\n"
      ]
     },
     "execution_count": 65,
     "metadata": {},
     "output_type": "execute_result"
    }
   ],
   "source": [
    "day5_part1 \"day5_example.txt\""
   ]
  },
  {
   "cell_type": "code",
   "execution_count": 66,
   "id": "02289e06",
   "metadata": {},
   "outputs": [
    {
     "data": {
      "text/plain": [
       "- : int = 6242\n"
      ]
     },
     "execution_count": 66,
     "metadata": {},
     "output_type": "execute_result"
    }
   ],
   "source": [
    "day5_part1 \"day5_input.txt\""
   ]
  },
  {
   "cell_type": "markdown",
   "id": "157d56d2",
   "metadata": {},
   "source": [
    "### Part 2\n",
    "\n",
    "Now we have to sort stuff."
   ]
  },
  {
   "cell_type": "code",
   "execution_count": 67,
   "id": "fcc9b68c",
   "metadata": {},
   "outputs": [
    {
     "data": {
      "text/plain": [
       "val day5_part2 : Base.string -> int = <fun>\n"
      ]
     },
     "execution_count": 67,
     "metadata": {},
     "output_type": "execute_result"
    }
   ],
   "source": [
    "let day5_part2 filename =\n",
    "  let problem = read_day5_problem filename in\n",
    "  let middle xs = nth_exn xs ((length xs) / 2) in\n",
    "  let incorrectly_ordered = problem.test_cases\n",
    "                          |> filter ~f:(fun(xs) -> not (in_order problem.order xs)) in\n",
    "  let compare x y = day5_compare problem.order x y in\n",
    "  let sort xs = List.sort ~compare:compare xs in\n",
    "  incorrectly_ordered >>| sort >>| middle |> fold ~init:0 ~f:(+)"
   ]
  },
  {
   "cell_type": "code",
   "execution_count": 68,
   "id": "5febbf8b",
   "metadata": {},
   "outputs": [
    {
     "data": {
      "text/plain": [
       "- : int = 123\n"
      ]
     },
     "execution_count": 68,
     "metadata": {},
     "output_type": "execute_result"
    }
   ],
   "source": [
    "day5_part2 \"day5_example.txt\""
   ]
  },
  {
   "cell_type": "code",
   "execution_count": 69,
   "id": "5c9c8ae7",
   "metadata": {},
   "outputs": [
    {
     "data": {
      "text/plain": [
       "- : int = 5169\n"
      ]
     },
     "execution_count": 69,
     "metadata": {},
     "output_type": "execute_result"
    }
   ],
   "source": [
    "day5_part2 \"day5_input.txt\""
   ]
  },
  {
   "cell_type": "markdown",
   "id": "8eaa3b45",
   "metadata": {},
   "source": [
    "## Day 6\n",
    "\n",
    "### Part 1\n",
    "\n",
    "Today we are plotting lines in a grid I guess.  Haven't we already read grids from files?  Maybe I will go factor out a helper function for that."
   ]
  },
  {
   "cell_type": "code",
   "execution_count": 70,
   "id": "6d9fc85c",
   "metadata": {},
   "outputs": [
    {
     "data": {
      "text/plain": [
       "val read_map : Base.string -> char Core.Array.t Core.Array.t = <fun>\n"
      ]
     },
     "execution_count": 70,
     "metadata": {},
     "output_type": "execute_result"
    }
   ],
   "source": [
    "let read_map file_name = read_grid_from_file file_name"
   ]
  },
  {
   "cell_type": "code",
   "execution_count": 71,
   "id": "d04fe557",
   "metadata": {},
   "outputs": [
    {
     "data": {
      "text/plain": [
       "- : char Core.Array.t Core.Array.t =\n",
       "[|[|'.'; '.'; '.'; '.'; '#'; '.'; '.'; '.'; '.'; '.'|];\n",
       "  [|'.'; '.'; '.'; '.'; '.'; '.'; '.'; '.'; '.'; '#'|];\n",
       "  [|'.'; '.'; '.'; '.'; '.'; '.'; '.'; '.'; '.'; '.'|];\n",
       "  [|'.'; '.'; '#'; '.'; '.'; '.'; '.'; '.'; '.'; '.'|];\n",
       "  [|'.'; '.'; '.'; '.'; '.'; '.'; '.'; '#'; '.'; '.'|];\n",
       "  [|'.'; '.'; '.'; '.'; '.'; '.'; '.'; '.'; '.'; '.'|];\n",
       "  [|'.'; '#'; '.'; '.'; '^'; '.'; '.'; '.'; '.'; '.'|];\n",
       "  [|'.'; '.'; '.'; '.'; '.'; '.'; '.'; '.'; '#'; '.'|];\n",
       "  [|'#'; '.'; '.'; '.'; '.'; '.'; '.'; '.'; '.'; '.'|];\n",
       "  [|'.'; '.'; '.'; '.'; '.'; '.'; '#'; '.'; '.'; '.'|]|]\n"
      ]
     },
     "execution_count": 71,
     "metadata": {},
     "output_type": "execute_result"
    }
   ],
   "source": [
    "read_map \"day6_example.txt\""
   ]
  },
  {
   "cell_type": "markdown",
   "id": "959afa68",
   "metadata": {},
   "source": [
    "Now we need to simulate a guard walking around.  Wow, ocaml's array library is really stilted for fp, or I am just not getting it.  I guess I will just keep it simple and use dumb imperative code."
   ]
  },
  {
   "cell_type": "code",
   "execution_count": 72,
   "id": "33209c6f",
   "metadata": {},
   "outputs": [
    {
     "data": {
      "text/plain": [
       "val find_in_grid : ('a -> bool) -> 'a Core.Array.t Core.Array.t -> int * int =\n",
       "  <fun>\n"
      ]
     },
     "execution_count": 72,
     "metadata": {},
     "output_type": "execute_result"
    }
   ],
   "source": [
    "let find_in_grid p grid =\n",
    "  let pos = ref (-1, -1)\n",
    "  and rows = Array.length grid\n",
    "  and cols = Array.length grid.(0) in\n",
    "  for i = 0 to rows-1 do\n",
    "    for j = 0 to cols-1 do\n",
    "      if p grid.(i).(j) then pos := (i, j)\n",
    "    done\n",
    "  done; !pos"
   ]
  },
  {
   "cell_type": "code",
   "execution_count": 73,
   "id": "8ab7e014",
   "metadata": {},
   "outputs": [
    {
     "data": {
      "text/plain": [
       "- : int * int = (6, 4)\n"
      ]
     },
     "execution_count": 73,
     "metadata": {},
     "output_type": "execute_result"
    }
   ],
   "source": [
    "read_map \"day6_example.txt\" |> find_in_grid (Char.(=) '^')"
   ]
  },
  {
   "cell_type": "markdown",
   "id": "4869425c",
   "metadata": {},
   "source": [
    "I am going to have a whole terrible grid library by the end of the month..."
   ]
  },
  {
   "cell_type": "code",
   "execution_count": 74,
   "id": "69c615d8",
   "metadata": {},
   "outputs": [
    {
     "data": {
      "text/plain": [
       "val simulate_guard : Core.Char.t Core.Array.t Core.Array.t -> int = <fun>\n"
      ]
     },
     "execution_count": 74,
     "metadata": {},
     "output_type": "execute_result"
    }
   ],
   "source": [
    "let simulate_guard grid =\n",
    "  let start = find_in_grid (Char.(=) '^') grid\n",
    "  and turn dir = (snd dir, - fst dir)\n",
    "  (* I guess Core kept the highly useful polymorphic stuff, but put it in \"Poly\" libraries... *)\n",
    "  and count_distinct_positions path =\n",
    "    Hash_set.Poly.of_list (path >>| fst) |> Hash_set.length in\n",
    "  let rec move pos dir path =\n",
    "    let forward = (fst pos + fst dir, snd pos + snd dir) in\n",
    "    try\n",
    "      match find path (Poly.(=) (forward, dir)) with\n",
    "      | Some _ -> path\n",
    "      | None ->\n",
    "        match grid.(fst forward).(snd forward) with\n",
    "        | '#' -> move pos (turn dir) ((pos, turn dir) :: path)\n",
    "        | _ -> move forward dir ((forward, dir) :: path)\n",
    "    with\n",
    "      Invalid_argument _ -> path in\n",
    "  let guard_path = move start (-1, 0) [(start, (-1, 0))] in\n",
    "  count_distinct_positions guard_path"
   ]
  },
  {
   "cell_type": "code",
   "execution_count": 75,
   "id": "79273099",
   "metadata": {},
   "outputs": [
    {
     "data": {
      "text/plain": [
       "- : int = 41\n"
      ]
     },
     "execution_count": 75,
     "metadata": {},
     "output_type": "execute_result"
    }
   ],
   "source": [
    "read_map \"day6_example.txt\" |> simulate_guard"
   ]
  },
  {
   "cell_type": "code",
   "execution_count": 76,
   "id": "a5b2585c",
   "metadata": {},
   "outputs": [
    {
     "data": {
      "text/plain": [
       "- : int = 4663\n"
      ]
     },
     "execution_count": 76,
     "metadata": {},
     "output_type": "execute_result"
    }
   ],
   "source": [
    "read_map \"day6_input.txt\" |> simulate_guard"
   ]
  },
  {
   "cell_type": "markdown",
   "id": "1c6f6c54",
   "metadata": {},
   "source": [
    "### Part 2\n",
    "\n",
    "Now we have to place obstacles to make the guard loop.  The grid is only 130 x 130 so we do not need to be especially clever - we'll just try all the possibilities.  But we should probably use a hash set directly to detect loops now."
   ]
  },
  {
   "cell_type": "code",
   "execution_count": 77,
   "id": "e370e0e8",
   "metadata": {},
   "outputs": [
    {
     "data": {
      "text/plain": [
       "val count_ways_to_loop_guard : Core.Char.t Core.Array.t Core.Array.t -> int =\n",
       "  <fun>\n"
      ]
     },
     "execution_count": 77,
     "metadata": {},
     "output_type": "execute_result"
    }
   ],
   "source": [
    "let count_ways_to_loop_guard grid =\n",
    "  let start = find_in_grid (Char.(=) '^') grid\n",
    "  and turn dir = (snd dir, - fst dir)\n",
    "  and rows = Array.length grid\n",
    "  and cols = Array.length grid.(0) in\n",
    "  let make_history pos = Hash_set.Poly.of_list [(pos, (-1, 0))] in\n",
    "  let rec detect_loop obstacle pos dir history =\n",
    "    let forward = (fst pos + fst dir, snd pos + snd dir) in\n",
    "    try\n",
    "      match Hash_set.mem history (forward, dir) with\n",
    "      | true -> true\n",
    "      | false ->\n",
    "        match grid.(fst forward).(snd forward) with\n",
    "        | '#' ->\n",
    "          Hash_set.add history (pos, turn dir);\n",
    "          detect_loop obstacle pos (turn dir) history\n",
    "        | _ when Poly.(=) forward obstacle -> \n",
    "          Hash_set.add history (pos, turn dir);\n",
    "          detect_loop obstacle pos (turn dir) history\n",
    "        | _ ->\n",
    "          Hash_set.add history (forward, dir);\n",
    "          detect_loop obstacle forward dir history\n",
    "    with\n",
    "      Invalid_argument _ -> false in\n",
    "  let ways = ref 0 in\n",
    "  for i = 0 to rows-1 do\n",
    "    for j = 0 to cols-1 do\n",
    "      if (Poly.(<>) (i, j) start) && detect_loop (i,j) start (-1, 0) (make_history start) then incr ways\n",
    "    done\n",
    "  done; !ways"
   ]
  },
  {
   "cell_type": "code",
   "execution_count": 78,
   "id": "a2d1acef",
   "metadata": {},
   "outputs": [
    {
     "data": {
      "text/plain": [
       "- : int = 6\n"
      ]
     },
     "execution_count": 78,
     "metadata": {},
     "output_type": "execute_result"
    }
   ],
   "source": [
    "read_map \"day6_example.txt\" |> count_ways_to_loop_guard"
   ]
  },
  {
   "cell_type": "code",
   "execution_count": 79,
   "id": "d787b850",
   "metadata": {},
   "outputs": [
    {
     "data": {
      "text/plain": [
       "- : int = 1530\n"
      ]
     },
     "execution_count": 79,
     "metadata": {},
     "output_type": "execute_result"
    }
   ],
   "source": [
    "read_map \"day6_input.txt\" |> count_ways_to_loop_guard"
   ]
  },
  {
   "cell_type": "markdown",
   "id": "495ff578",
   "metadata": {},
   "source": [
    "## Day 7\n",
    "\n",
    "### Part 1\n",
    "\n",
    "Today we're reading ... possible equations I guess?"
   ]
  },
  {
   "cell_type": "code",
   "execution_count": 80,
   "id": "d0a57ade",
   "metadata": {},
   "outputs": [
    {
     "data": {
      "text/plain": [
       "val read_equations : Base.string -> int list list = <fun>\n"
      ]
     },
     "execution_count": 80,
     "metadata": {},
     "output_type": "execute_result"
    }
   ],
   "source": [
    "let read_equations filename =\n",
    "  let parse line = String.split_on_chars ~on:[' '; ':'] line\n",
    "                 |> filter ~f:(fun(s) -> not (String.is_empty s))\n",
    "                 >>| int_of_string in\n",
    "  In_channel.read_lines filename >>| parse"
   ]
  },
  {
   "cell_type": "code",
   "execution_count": 81,
   "id": "c694f849",
   "metadata": {},
   "outputs": [
    {
     "data": {
      "text/plain": [
       "- : int list list =\n",
       "[[190; 10; 19]; [3267; 81; 40; 27]; [83; 17; 5]; [156; 15; 6];\n",
       " [7290; 6; 8; 6; 15]; [161011; 16; 10; 13]; [192; 17; 8; 14];\n",
       " [21037; 9; 7; 18; 13]; [292; 11; 6; 16; 20]]\n"
      ]
     },
     "execution_count": 81,
     "metadata": {},
     "output_type": "execute_result"
    }
   ],
   "source": [
    "read_equations \"day7_example.txt\""
   ]
  },
  {
   "cell_type": "markdown",
   "id": "2cdd97ab",
   "metadata": {},
   "source": [
    "We have to try inserting + and * operators and evaluating them left-to-right to make the equation work.  We'll use a bitmask to select which operator to insert at each position.  We need to use foldi to apply the operators, but I can't tell from the documentation which parameter is which in the function..."
   ]
  },
  {
   "cell_type": "code",
   "execution_count": 82,
   "id": "1ac42a35",
   "metadata": {},
   "outputs": [
    {
     "data": {
      "text/plain": [
       "- : int = 6\n"
      ]
     },
     "execution_count": 82,
     "metadata": {},
     "output_type": "execute_result"
    }
   ],
   "source": [
    "foldi [0; 0; 0; 0] ~init:0 ~f:(fun i result term -> result + i)"
   ]
  },
  {
   "cell_type": "code",
   "execution_count": 83,
   "id": "a2ed30b3",
   "metadata": {},
   "outputs": [
    {
     "data": {
      "text/plain": [
       "val day7_part1 : Core_kernel.Int.t list list -> int = <fun>\n"
      ]
     },
     "execution_count": 83,
     "metadata": {},
     "output_type": "execute_result"
    }
   ],
   "source": [
    "let day7_part1 equations =\n",
    "  let eval terms ops_mask =\n",
    "    foldi (tl_exn terms)\n",
    "      ~init:(hd_exn terms)\n",
    "      ~f:(fun i result term ->\n",
    "          match (Int.shift_left 1 i) land ops_mask with\n",
    "          | 0 -> result + term\n",
    "          | _ -> result * term) in\n",
    "  let trial equation =\n",
    "    let total = hd_exn equation in\n",
    "    let terms = tl_exn equation in\n",
    "    let num_operations = (length terms) - 1 in\n",
    "    let result = ref 0 in\n",
    "    for ops_mask=0 to (Int.shift_left 1 num_operations)-1 do\n",
    "      if eval terms ops_mask = total then\n",
    "        result := total\n",
    "    done; !result in\n",
    "  equations >>| trial |> fold ~init:0 ~f:(+)"
   ]
  },
  {
   "cell_type": "code",
   "execution_count": 84,
   "id": "adab0bb6",
   "metadata": {},
   "outputs": [
    {
     "data": {
      "text/plain": [
       "- : int = 3749\n"
      ]
     },
     "execution_count": 84,
     "metadata": {},
     "output_type": "execute_result"
    }
   ],
   "source": [
    "read_equations \"day7_example.txt\" |> day7_part1"
   ]
  },
  {
   "cell_type": "code",
   "execution_count": 85,
   "id": "52ba1d4e",
   "metadata": {},
   "outputs": [
    {
     "data": {
      "text/plain": [
       "- : Core.Int.t = 2305843009213693952\n"
      ]
     },
     "execution_count": 85,
     "metadata": {},
     "output_type": "execute_result"
    }
   ],
   "source": [
    "Int.shift_left 1 61 (* ok, I guess we probably have enough precision *)"
   ]
  },
  {
   "cell_type": "code",
   "execution_count": 86,
   "id": "4ebfe6f2",
   "metadata": {},
   "outputs": [
    {
     "data": {
      "text/plain": [
       "- : int = 303876485655\n"
      ]
     },
     "execution_count": 86,
     "metadata": {},
     "output_type": "execute_result"
    }
   ],
   "source": [
    "read_equations \"day7_input.txt\" |> day7_part1"
   ]
  },
  {
   "cell_type": "markdown",
   "id": "862d20a4",
   "metadata": {},
   "source": [
    "### Part 2\n",
    "\n",
    "Now we have to support a third type of operator that does digit concatenation.  This could make for some absurdly large numbers... the largest result in our data has 15 digits, so we'll just bail on anything larger."
   ]
  },
  {
   "cell_type": "code",
   "execution_count": 87,
   "id": "76583f81",
   "metadata": {},
   "outputs": [
    {
     "data": {
      "text/plain": [
       "val day7_part2 : Core_kernel.Int.t list list -> int = <fun>\n"
      ]
     },
     "execution_count": 87,
     "metadata": {},
     "output_type": "execute_result"
    }
   ],
   "source": [
    "let day7_part2 equations =\n",
    "  let digit_cat a b =\n",
    "    let sa = string_of_int a and sb = string_of_int b in\n",
    "    if (String.length sa) + (String.length sb) > 15 then a + b\n",
    "    else int_of_string (sa ^ sb) in\n",
    "  let eval terms ops_mask =\n",
    "    foldi (tl_exn terms)\n",
    "      ~init:(hd_exn terms)\n",
    "      ~f:(fun i result term ->\n",
    "          match (ops_mask / (Int.pow 3 i)) mod 3 with\n",
    "          | 2 -> digit_cat result term \n",
    "          | 1 -> result + term\n",
    "          | _ -> result * term) in\n",
    "  let trial equation =\n",
    "    let total = hd_exn equation in\n",
    "    let terms = tl_exn equation in\n",
    "    let num_operations = (length terms) - 1 in\n",
    "    let result = ref 0 in\n",
    "    for ops_mask=0 to (Int.pow 3 num_operations)-1 do\n",
    "      if eval terms ops_mask = total then\n",
    "        result := total\n",
    "    done; !result in\n",
    "  equations >>| trial |> fold ~init:0 ~f:(+)"
   ]
  },
  {
   "cell_type": "code",
   "execution_count": 88,
   "id": "6c7d34d1",
   "metadata": {},
   "outputs": [
    {
     "data": {
      "text/plain": [
       "- : int = 11387\n"
      ]
     },
     "execution_count": 88,
     "metadata": {},
     "output_type": "execute_result"
    }
   ],
   "source": [
    "read_equations \"day7_example.txt\" |> day7_part2"
   ]
  },
  {
   "cell_type": "code",
   "execution_count": 89,
   "id": "d15a5413",
   "metadata": {},
   "outputs": [
    {
     "data": {
      "text/plain": [
       "- : int = 146111650210682\n"
      ]
     },
     "execution_count": 89,
     "metadata": {},
     "output_type": "execute_result"
    }
   ],
   "source": [
    "read_equations \"day7_input.txt\" |> day7_part2"
   ]
  },
  {
   "cell_type": "markdown",
   "id": "c5ede92e",
   "metadata": {},
   "source": [
    "## Day 8\n",
    "\n",
    "### Part 1\n",
    "\n",
    "Today we're trying to map out \"antinodes\", points which are colinear with two others.  The input is given as a grid, but it seems like we really just want some points."
   ]
  },
  {
   "cell_type": "code",
   "execution_count": 90,
   "id": "6d66b016",
   "metadata": {},
   "outputs": [
    {
     "data": {
      "text/plain": [
       "type day8_antennas = {\n",
       "  size : int;\n",
       "  positions : (char, (int * int) list) Core.Hashtbl.Poly.t;\n",
       "}\n"
      ]
     },
     "execution_count": 90,
     "metadata": {},
     "output_type": "execute_result"
    }
   ],
   "source": [
    "type day8_antennas =\n",
    "  {size: int;\n",
    "   positions: (char, (int * int) list) Core.Hashtbl.Poly.t}"
   ]
  },
  {
   "cell_type": "code",
   "execution_count": 91,
   "id": "0804a8fe",
   "metadata": {},
   "outputs": [
    {
     "data": {
      "text/plain": [
       "val read_antennas : Base.string -> day8_antennas = <fun>\n"
      ]
     },
     "execution_count": 91,
     "metadata": {},
     "output_type": "execute_result"
    }
   ],
   "source": [
    "let read_antennas filename =\n",
    "  let grid = read_grid_from_file filename in\n",
    "  let size = Array.length grid in\n",
    "  let chars_and_points = ref [] in\n",
    "    for i=0 to size-1 do\n",
    "      for j=0 to size-1 do\n",
    "        let here = grid.(i).(j) in\n",
    "        if Char.(here <> '.') then\n",
    "          chars_and_points := (here, (i, j)) :: !chars_and_points\n",
    "      done\n",
    "    done;\n",
    "    {size=size;\n",
    "     positions=Hashtbl.Poly.of_alist_multi !chars_and_points}"
   ]
  },
  {
   "cell_type": "code",
   "execution_count": 92,
   "id": "bb55fe5a",
   "metadata": {},
   "outputs": [
    {
     "data": {
      "text/plain": [
       "- : (int * int) list list =\n",
       "[[(1, 8); (2, 5); (3, 7); (4, 4)]; [(5, 6); (8, 8); (9, 9)]]\n"
      ]
     },
     "execution_count": 92,
     "metadata": {},
     "output_type": "execute_result"
    }
   ],
   "source": [
    "let test_ant = read_antennas \"day8_example.txt\" in\n",
    "  Hashtbl.data test_ant.positions"
   ]
  },
  {
   "cell_type": "markdown",
   "id": "b2865236",
   "metadata": {},
   "source": [
    "We're going to want to look at pairs of points... this is the second time we've wanted a `cartesian_product` of distinct items, so let's just write that (I made a `pairs` helper up above)."
   ]
  },
  {
   "cell_type": "code",
   "execution_count": 93,
   "id": "c63de267",
   "metadata": {},
   "outputs": [
    {
     "data": {
      "text/plain": [
       "val find_antinodes : day8_antennas -> int = <fun>\n"
      ]
     },
     "execution_count": 93,
     "metadata": {},
     "output_type": "execute_result"
    }
   ],
   "source": [
    "let find_antinodes antennas =\n",
    "  let size = antennas.size in\n",
    "  let in_bounds (x1, y1) = x1 >= 0 && y1 >= 0 && x1 < size && y1 < size in\n",
    "  let delta (x1, y1) (x2, y2) = (x1 - x2, y1 - y2) in\n",
    "  let antinodes_for_points ((x1, y1), (x2, y2)) =\n",
    "    let (dx, dy) = delta (x1, y1) (x2, y2) in\n",
    "    [(x1 + dx, y1 + dy); (x2 - dx, y2 - dy)] in\n",
    "  Hashtbl.data antennas.positions >>| pairs\n",
    "  >>| concat_map ~f:antinodes_for_points |> concat\n",
    "  |> filter ~f:in_bounds\n",
    "  |> Hash_set.Poly.of_list |> Hash_set.length"
   ]
  },
  {
   "cell_type": "code",
   "execution_count": 94,
   "id": "abf0cd47",
   "metadata": {},
   "outputs": [
    {
     "data": {
      "text/plain": [
       "- : int = 14\n"
      ]
     },
     "execution_count": 94,
     "metadata": {},
     "output_type": "execute_result"
    }
   ],
   "source": [
    "read_antennas \"day8_example.txt\" |> find_antinodes"
   ]
  },
  {
   "cell_type": "code",
   "execution_count": 95,
   "id": "bd682fef",
   "metadata": {},
   "outputs": [
    {
     "data": {
      "text/plain": [
       "- : int = 252\n"
      ]
     },
     "execution_count": 95,
     "metadata": {},
     "output_type": "execute_result"
    }
   ],
   "source": [
    "read_antennas \"day8_input.txt\" |> find_antinodes"
   ]
  },
  {
   "cell_type": "markdown",
   "id": "43b55500",
   "metadata": {},
   "source": [
    "### Part 2\n",
    "\n",
    "Now we have to find even more colinear points.  List comprehensions might be kind of nice... I guess I will use this crummy iota thing instead."
   ]
  },
  {
   "cell_type": "code",
   "execution_count": 96,
   "id": "1c33278b",
   "metadata": {},
   "outputs": [
    {
     "data": {
      "text/plain": [
       "- : int list = [-5; -4; -3; -2; -1; 0; 1; 2; 3; 4]\n"
      ]
     },
     "execution_count": 96,
     "metadata": {},
     "output_type": "execute_result"
    }
   ],
   "source": [
    "range (-5) 5"
   ]
  },
  {
   "cell_type": "code",
   "execution_count": 97,
   "id": "6a0e2ca7",
   "metadata": {},
   "outputs": [
    {
     "data": {
      "text/plain": [
       "val find_more_antinodes : day8_antennas -> int = <fun>\n"
      ]
     },
     "execution_count": 97,
     "metadata": {},
     "output_type": "execute_result"
    }
   ],
   "source": [
    "let find_more_antinodes antennas =\n",
    "  let size = antennas.size in\n",
    "  let in_bounds (x1, y1) = x1 >= 0 && y1 >= 0 && x1 < size && y1 < size in\n",
    "  let delta (x1, y1) (x2, y2) = (x1 - x2, y1 - y2) in\n",
    "  let antinodes_for_points ((x1, y1), (x2, y2)) =\n",
    "    let (dx, dy) = delta (x1, y1) (x2, y2) in\n",
    "      (range (-size) size >>| fun d -> (x1 + d * dx, y1 + d * dy))\n",
    "      |> filter ~f:in_bounds in\n",
    "  Hashtbl.data antennas.positions >>| pairs\n",
    "  >>| concat_map ~f:antinodes_for_points |> concat\n",
    "  |> Hash_set.Poly.of_list |> Hash_set.length"
   ]
  },
  {
   "cell_type": "code",
   "execution_count": 98,
   "id": "72a085e4",
   "metadata": {},
   "outputs": [
    {
     "data": {
      "text/plain": [
       "- : int = 34\n"
      ]
     },
     "execution_count": 98,
     "metadata": {},
     "output_type": "execute_result"
    }
   ],
   "source": [
    "read_antennas \"day8_example.txt\" |> find_more_antinodes"
   ]
  },
  {
   "cell_type": "code",
   "execution_count": 99,
   "id": "31e4380d",
   "metadata": {},
   "outputs": [
    {
     "data": {
      "text/plain": [
       "- : int = 839\n"
      ]
     },
     "execution_count": 99,
     "metadata": {},
     "output_type": "execute_result"
    }
   ],
   "source": [
    "read_antennas \"day8_input.txt\" |> find_more_antinodes"
   ]
  },
  {
   "cell_type": "markdown",
   "id": "60ba0c16",
   "metadata": {},
   "source": [
    "## Day 9\n",
    "\n",
    "### Part 1\n",
    "\n",
    "We're defragging a hard drive today.  Man, it has been a few years."
   ]
  },
  {
   "cell_type": "code",
   "execution_count": 100,
   "id": "98f287ef",
   "metadata": {},
   "outputs": [
    {
     "data": {
      "text/plain": [
       "type hd_block = Day9File of int | Day9FreeSpace\n"
      ]
     },
     "execution_count": 100,
     "metadata": {},
     "output_type": "execute_result"
    }
   ],
   "source": [
    "type hd_block =\n",
    "  | Day9File of int\n",
    "  | Day9FreeSpace"
   ]
  },
  {
   "cell_type": "code",
   "execution_count": 101,
   "id": "ba2f9230",
   "metadata": {},
   "outputs": [
    {
     "data": {
      "text/plain": [
       "val read_hd_map : Base.string -> hd_block Core.Array.t = <fun>\n"
      ]
     },
     "execution_count": 101,
     "metadata": {},
     "output_type": "execute_result"
    }
   ],
   "source": [
    "let read_hd_map filename =\n",
    "  let digit c = int_of_char c - int_of_char '0' in\n",
    "  let unpack index size =\n",
    "    List.init size ~f:(fun _ ->\n",
    "      if index mod 2 = 0 then Day9File (index / 2)\n",
    "      else Day9FreeSpace) in\n",
    "  In_channel.read_all filename\n",
    "  |> String.to_list\n",
    "  >>| digit\n",
    "  |> concat_mapi ~f:unpack\n",
    "  |> Array.of_list"
   ]
  },
  {
   "cell_type": "code",
   "execution_count": 102,
   "id": "e1924b05",
   "metadata": {},
   "outputs": [
    {
     "data": {
      "text/plain": [
       "- : hd_block Core.Array.t =\n",
       "[|Day9File 0; Day9File 0; Day9FreeSpace; Day9FreeSpace; Day9FreeSpace;\n",
       "  Day9File 1; Day9File 1; Day9File 1; Day9FreeSpace; Day9FreeSpace;\n",
       "  Day9FreeSpace; Day9File 2; Day9FreeSpace; Day9FreeSpace; Day9FreeSpace;\n",
       "  Day9File 3; Day9File 3; Day9File 3; Day9FreeSpace; Day9File 4; Day9File 4;\n",
       "  Day9FreeSpace; Day9File 5; Day9File 5; Day9File 5; Day9File 5;\n",
       "  Day9FreeSpace; Day9File 6; Day9File 6; Day9File 6; Day9File 6;\n",
       "  Day9FreeSpace; Day9File 7; Day9File 7; Day9File 7; Day9FreeSpace;\n",
       "  Day9File 8; Day9File 8; Day9File 8; Day9File 8; Day9File 9; Day9File 9|]\n"
      ]
     },
     "execution_count": 102,
     "metadata": {},
     "output_type": "execute_result"
    }
   ],
   "source": [
    "read_hd_map \"day9_example.txt\""
   ]
  },
  {
   "cell_type": "code",
   "execution_count": 103,
   "id": "63cbeca8",
   "metadata": {},
   "outputs": [
    {
     "data": {
      "text/plain": [
       "val defrag : hd_block Core.Array.t -> hd_block Core.Array.t = <fun>\n"
      ]
     },
     "execution_count": 103,
     "metadata": {},
     "output_type": "execute_result"
    }
   ],
   "source": [
    "let defrag hd =\n",
    "  let len = Array.length hd in\n",
    "  let i = ref 0 in\n",
    "  let j = ref (len-1) in\n",
    "  while !i < !j do\n",
    "    match hd.(!i), hd.(!j) with\n",
    "    | Day9File _, _ -> incr i\n",
    "    | _, Day9FreeSpace -> decr j\n",
    "    | Day9FreeSpace, Day9File _ -> begin\n",
    "        hd.(!i) <- hd.(!j);\n",
    "        hd.(!j) <- Day9FreeSpace;\n",
    "        incr i; decr j\n",
    "      end\n",
    "  done; hd"
   ]
  },
  {
   "cell_type": "code",
   "execution_count": 104,
   "id": "9cfe62f4",
   "metadata": {},
   "outputs": [
    {
     "data": {
      "text/plain": [
       "- : hd_block Core.Array.t =\n",
       "[|Day9File 0; Day9File 0; Day9File 9; Day9File 9; Day9File 8; Day9File 1;\n",
       "  Day9File 1; Day9File 1; Day9File 8; Day9File 8; Day9File 8; Day9File 2;\n",
       "  Day9File 7; Day9File 7; Day9File 7; Day9File 3; Day9File 3; Day9File 3;\n",
       "  Day9File 6; Day9File 4; Day9File 4; Day9File 6; Day9File 5; Day9File 5;\n",
       "  Day9File 5; Day9File 5; Day9File 6; Day9File 6; Day9FreeSpace;\n",
       "  Day9FreeSpace; Day9FreeSpace; Day9FreeSpace; Day9FreeSpace; Day9FreeSpace;\n",
       "  Day9FreeSpace; Day9FreeSpace; Day9FreeSpace; Day9FreeSpace; Day9FreeSpace;\n",
       "  Day9FreeSpace; Day9FreeSpace; Day9FreeSpace|]\n"
      ]
     },
     "execution_count": 104,
     "metadata": {},
     "output_type": "execute_result"
    }
   ],
   "source": [
    "read_hd_map \"day9_example.txt\" |> defrag"
   ]
  },
  {
   "cell_type": "code",
   "execution_count": 105,
   "id": "0afafd29",
   "metadata": {},
   "outputs": [
    {
     "data": {
      "text/plain": [
       "val checksum : hd_block Core.Array.t -> int = <fun>\n"
      ]
     },
     "execution_count": 105,
     "metadata": {},
     "output_type": "execute_result"
    }
   ],
   "source": [
    "let checksum hd_map =\n",
    "  Array.foldi hd_map ~init:0 ~f:(fun i total contents ->\n",
    "    match contents with\n",
    "    | Day9File num -> total + i * num\n",
    "    | _ -> total)"
   ]
  },
  {
   "cell_type": "code",
   "execution_count": 106,
   "id": "915f39a6",
   "metadata": {},
   "outputs": [
    {
     "data": {
      "text/plain": [
       "- : int = 1928\n"
      ]
     },
     "execution_count": 106,
     "metadata": {},
     "output_type": "execute_result"
    }
   ],
   "source": [
    "read_hd_map \"day9_example.txt\" |> defrag |> checksum"
   ]
  },
  {
   "cell_type": "code",
   "execution_count": 107,
   "id": "960a6863",
   "metadata": {},
   "outputs": [
    {
     "data": {
      "text/plain": [
       "- : int = 6360094256423\n"
      ]
     },
     "execution_count": 107,
     "metadata": {},
     "output_type": "execute_result"
    }
   ],
   "source": [
    "read_hd_map \"day9_input.txt\" |> defrag |> checksum"
   ]
  },
  {
   "cell_type": "markdown",
   "id": "48ccf90d",
   "metadata": {},
   "source": [
    "### Part 2\n",
    "\n",
    "Now we need to defrag not quite as badly I guess?  We need to keep track of a few auxiliary data structures for this part, and it is simpler to build them when reading the file, so we'll start over."
   ]
  },
  {
   "cell_type": "code",
   "execution_count": 108,
   "id": "f7cf3b76",
   "metadata": {},
   "outputs": [
    {
     "data": {
      "text/plain": [
       "type hd = {\n",
       "  map : hd_block Core.Array.t;\n",
       "  directory : (int, int * int) Core.Hashtbl.Poly.t;\n",
       "  free_space_of_size : (int, int list) Core.Hashtbl.Poly.t;\n",
       "  last_file : int;\n",
       "}\n"
      ]
     },
     "execution_count": 108,
     "metadata": {},
     "output_type": "execute_result"
    }
   ],
   "source": [
    "type hd = {\n",
    "  map: hd_block Core.Array.t;\n",
    "  directory: (int, int * int) Core.Hashtbl.Poly.t;\n",
    "  free_space_of_size: (int, int list) Core.Hashtbl.Poly.t;\n",
    "  last_file: int\n",
    "}"
   ]
  },
  {
   "cell_type": "code",
   "execution_count": 109,
   "id": "57e1709a",
   "metadata": {},
   "outputs": [
    {
     "data": {
      "text/plain": [
       "val read_hd : Base.string -> hd = <fun>\n"
      ]
     },
     "execution_count": 109,
     "metadata": {},
     "output_type": "execute_result"
    }
   ],
   "source": [
    "let read_hd filename =\n",
    "  let digit c = int_of_char c - int_of_char '0' in\n",
    "  let unpack_map index size =\n",
    "    List.init size ~f:(fun _ ->\n",
    "      if index mod 2 = 0 then Day9File (index / 2)\n",
    "      else Day9FreeSpace) in\n",
    "  let unpack_directory index base size =\n",
    "    if index mod 2 = 0 then (base + size, Some (index / 2, (base, size)))\n",
    "    else (base + size, None) in\n",
    "  let unpack_free_space index base size =\n",
    "    if index mod 2 = 1 && size > 0 then (base + size, Some (size, base))\n",
    "    else (base + size, None) in\n",
    "  let digits = In_channel.read_all filename\n",
    "             |> String.to_list\n",
    "             >>| digit in\n",
    "  let map = digits |> concat_mapi ~f:unpack_map |> Array.of_list in\n",
    "  let directory = digits |> folding_mapi ~init:0 ~f:unpack_directory |> filter_opt\n",
    "                |> Hashtbl.Poly.of_alist_exn in\n",
    "  let free_space = digits |> folding_mapi ~init:0 ~f:unpack_free_space |> filter_opt\n",
    "                 |> Hashtbl.Poly.of_alist_multi\n",
    "                 |> Hashtbl.map ~f:(fun xs -> sort ~compare:Int.compare xs) in\n",
    "  {map=map;\n",
    "   directory=directory;\n",
    "   free_space_of_size=free_space;\n",
    "   last_file=((length digits) - 1) / 2}"
   ]
  },
  {
   "cell_type": "code",
   "execution_count": 110,
   "id": "5055c38f",
   "metadata": {},
   "outputs": [
    {
     "data": {
      "text/plain": [
       "- : int list list = [[2; 8; 12]; [18; 21; 26; 31; 35]]\n"
      ]
     },
     "execution_count": 110,
     "metadata": {},
     "output_type": "execute_result"
    }
   ],
   "source": [
    "Hashtbl.data (read_hd \"day9_example.txt\").free_space_of_size"
   ]
  },
  {
   "cell_type": "markdown",
   "id": "690483b9",
   "metadata": {},
   "source": [
    "This took me way too long because I didn't understand that files could still only move to the left of their original position.  I guess we wouldn't really accomplish defragmenting otherwise..."
   ]
  },
  {
   "cell_type": "code",
   "execution_count": 111,
   "id": "3a5bbcdb",
   "metadata": {},
   "outputs": [
    {
     "data": {
      "text/plain": [
       "val defrag2 : hd -> hd = <fun>\n"
      ]
     },
     "execution_count": 111,
     "metadata": {},
     "output_type": "execute_result"
    }
   ],
   "source": [
    "let defrag2 hd =\n",
    "  let first_free_of_size before_pos size =\n",
    "    match Hashtbl.find hd.free_space_of_size size with\n",
    "    | Some (pos::_) when pos < before_pos -> Some (size, pos)\n",
    "    | _ -> None in\n",
    "  let add_free_space size base =\n",
    "    Hashtbl.add_multi hd.free_space_of_size size base;\n",
    "    let blocks = Hashtbl.find_exn hd.free_space_of_size size in\n",
    "    let sorted_blocks = sort blocks ~compare:Int.compare in\n",
    "    Hashtbl.set hd.free_space_of_size size sorted_blocks in\n",
    "  let move_file id =\n",
    "    let (base, size) = Hashtbl.find_exn hd.directory id in\n",
    "    let valid_sizes = range size 10 in\n",
    "    let choices = valid_sizes >>| first_free_of_size base |> filter_opt in\n",
    "    let dest = choices |> min_elt ~compare:(fun (_, x) (_, y) -> Int.compare x y) in\n",
    "      match dest with\n",
    "      | Some (dest_size, dest_pos) -> begin\n",
    "          for i = 0 to size-1 do\n",
    "            hd.map.(base + i) <- Day9FreeSpace;\n",
    "            match hd.map.(dest_pos + i) with\n",
    "            | Day9FreeSpace -> hd.map.(dest_pos + i) <- Day9File id\n",
    "            | _ -> failwith \"overwriting file\"\n",
    "          done;\n",
    "          Hashtbl.set hd.directory id (dest_pos, size);\n",
    "          (* the block we just took must be the first *)\n",
    "          Hashtbl.remove_multi hd.free_space_of_size dest_size;\n",
    "          (* we don't need this because of the constraint about only moving files to the left *)\n",
    "          (*add_free_space size base;*)\n",
    "          if dest_size > size then add_free_space (dest_size - size) (dest_pos + size);\n",
    "        end\n",
    "      | None -> () in\n",
    "  for id=hd.last_file downto 0 do\n",
    "    move_file id\n",
    "  done; hd"
   ]
  },
  {
   "cell_type": "code",
   "execution_count": 112,
   "id": "03b974d7",
   "metadata": {},
   "outputs": [
    {
     "data": {
      "text/plain": [
       "- : hd =\n",
       "{map =\n",
       "  [|Day9File 0; Day9File 0; Day9File 9; Day9File 9; Day9File 2; Day9File 1;\n",
       "    Day9File 1; Day9File 1; Day9File 7; Day9File 7; Day9File 7;\n",
       "    Day9FreeSpace; Day9File 4; Day9File 4; Day9FreeSpace; Day9File 3;\n",
       "    Day9File 3; Day9File 3; Day9FreeSpace; Day9FreeSpace; Day9FreeSpace;\n",
       "    Day9FreeSpace; Day9File 5; Day9File 5; Day9File 5; Day9File 5;\n",
       "    Day9FreeSpace; Day9File 6; Day9File 6; Day9File 6; Day9File 6;\n",
       "    Day9FreeSpace; Day9FreeSpace; Day9FreeSpace; Day9FreeSpace;\n",
       "    Day9FreeSpace; Day9File 8; Day9File 8; Day9File 8; Day9File 8;\n",
       "    Day9FreeSpace; Day9FreeSpace|];\n",
       " directory = <abstr>; free_space_of_size = <abstr>; last_file = 9}\n"
      ]
     },
     "execution_count": 112,
     "metadata": {},
     "output_type": "execute_result"
    }
   ],
   "source": [
    "read_hd \"day9_example.txt\" |> defrag2"
   ]
  },
  {
   "cell_type": "code",
   "execution_count": 113,
   "id": "88984b92",
   "metadata": {},
   "outputs": [
    {
     "data": {
      "text/plain": [
       "- : int = 2858\n"
      ]
     },
     "execution_count": 113,
     "metadata": {},
     "output_type": "execute_result"
    }
   ],
   "source": [
    "(read_hd \"day9_example.txt\" |> defrag2).map |> checksum"
   ]
  },
  {
   "cell_type": "code",
   "execution_count": 114,
   "id": "a6d7c37a",
   "metadata": {},
   "outputs": [
    {
     "data": {
      "text/plain": [
       "- : int = 6379677752410\n"
      ]
     },
     "execution_count": 114,
     "metadata": {},
     "output_type": "execute_result"
    }
   ],
   "source": [
    "(read_hd \"day9_input.txt\" |> defrag2).map |> checksum"
   ]
  },
  {
   "cell_type": "markdown",
   "id": "c385d45f",
   "metadata": {},
   "source": [
    "## Day 10\n",
    "\n",
    "### Part 1\n",
    "\n",
    "Hooray, we are searching in a grid.  I just love searching in grids."
   ]
  },
  {
   "cell_type": "code",
   "execution_count": 115,
   "id": "431b6714",
   "metadata": {},
   "outputs": [
    {
     "data": {
      "text/plain": [
       "val read_topo_map : Base.string -> int Core.Array.t Core.Array.t = <fun>\n"
      ]
     },
     "execution_count": 115,
     "metadata": {},
     "output_type": "execute_result"
    }
   ],
   "source": [
    "let read_topo_map filename =\n",
    "  let map = read_grid_from_file filename in\n",
    "  let digit_of_char c = int_of_char c - int_of_char '0' in\n",
    "  map |> Array.map ~f:(fun row -> Array.map row digit_of_char)"
   ]
  },
  {
   "cell_type": "code",
   "execution_count": 116,
   "id": "7a6cd6d9",
   "metadata": {},
   "outputs": [
    {
     "data": {
      "text/plain": [
       "- : int Core.Array.t Core.Array.t =\n",
       "[|[|8; 9; 0; 1; 0; 1; 2; 3|]; [|7; 8; 1; 2; 1; 8; 7; 4|];\n",
       "  [|8; 7; 4; 3; 0; 9; 6; 5|]; [|9; 6; 5; 4; 9; 8; 7; 4|];\n",
       "  [|4; 5; 6; 7; 8; 9; 0; 3|]; [|3; 2; 0; 1; 9; 0; 1; 2|];\n",
       "  [|0; 1; 3; 2; 9; 8; 0; 1|]; [|1; 0; 4; 5; 6; 7; 3; 2|]|]\n"
      ]
     },
     "execution_count": 116,
     "metadata": {},
     "output_type": "execute_result"
    }
   ],
   "source": [
    "read_topo_map \"day10_example.txt\""
   ]
  },
  {
   "cell_type": "code",
   "execution_count": 133,
   "id": "015965e5",
   "metadata": {},
   "outputs": [
    {
     "data": {
      "text/plain": [
       "val grid_find_all :\n",
       "  Core_kernel.Int.t Core.Array.t Core.Array.t ->\n",
       "  x:Core_kernel.Int.t -> (int * int) list = <fun>\n"
      ]
     },
     "execution_count": 133,
     "metadata": {},
     "output_type": "execute_result"
    }
   ],
   "source": [
    "let grid_find_all grid ~x =\n",
    "  let rows = Array.length grid in\n",
    "  let cols = Array.length grid.(0) in\n",
    "  let matches = ref [] in\n",
    "  for i=0 to rows-1 do\n",
    "    for j=0 to cols-1 do\n",
    "      if grid.(i).(j) = x then\n",
    "        matches := (i, j) :: !matches\n",
    "      done\n",
    "    done; !matches"
   ]
  },
  {
   "cell_type": "code",
   "execution_count": 134,
   "id": "fc8a92b3",
   "metadata": {},
   "outputs": [
    {
     "data": {
      "text/plain": [
       "- : (int * int) list =\n",
       "[(7, 1); (6, 6); (6, 0); (5, 5); (5, 2); (4, 6); (2, 4); (0, 4); (0, 2)]\n"
      ]
     },
     "execution_count": 134,
     "metadata": {},
     "output_type": "execute_result"
    }
   ],
   "source": [
    "read_topo_map \"day10_example.txt\" |> grid_find_all ~x:0"
   ]
  },
  {
   "cell_type": "code",
   "execution_count": 159,
   "id": "c7c4b3e5",
   "metadata": {},
   "outputs": [
    {
     "data": {
      "text/plain": [
       "val score_trails : Core_kernel.Int.t Core.Array.t Core.Array.t -> int * int =\n",
       "  <fun>\n"
      ]
     },
     "execution_count": 159,
     "metadata": {},
     "output_type": "execute_result"
    }
   ],
   "source": [
    "let score_trails map =\n",
    "  let size = Array.length map in\n",
    "  let trailheads = grid_find_all map 0 in\n",
    "  let neighbors (i,j) =\n",
    "    (if i > 0 && map.(i-1).(j) = 1 + map.(i).(j) then [(i-1, j)] else []) @\n",
    "    (if j > 0 && map.(i).(j-1) = 1 + map.(i).(j) then [(i, j-1)] else []) @\n",
    "    (if i < size-1 && map.(i+1).(j) = 1 + map.(i).(j) then [(i+1, j)] else []) @\n",
    "    (if j < size-1 && map.(i).(j+1) = 1 + map.(i).(j) then [(i, j+1)] else []) in\n",
    "  let rec search horizon =\n",
    "    match horizon with\n",
    "    | [] -> []\n",
    "    | [(i,j)] ->\n",
    "        if map.(i).(j) = 9 then [(i, j)]\n",
    "        else search (neighbors (i, j))\n",
    "    | (i,j)::rest ->\n",
    "        if map.(i).(j) = 9 then (i,j) :: search rest\n",
    "        else search (neighbors (i,j) @ rest) in\n",
    "  let compare_tuples (a1,b1) (a2,b2) =\n",
    "    if a1 = a2 then Stdlib.compare b1 b2\n",
    "    else Stdlib.compare a1 a2 in\n",
    "  let count_distinct_reachable_9s p =\n",
    "    search [p] |> dedup_and_sort ~compare:compare_tuples |> length in\n",
    "  (* part 2 *)\n",
    "  let count_trails p =\n",
    "    search [p] |> length in\n",
    "  let sum = fold ~init:0 ~f:(+) in\n",
    "  (trailheads >>| count_distinct_reachable_9s |> sum,\n",
    "   trailheads >>| count_trails |> sum)"
   ]
  },
  {
   "cell_type": "code",
   "execution_count": 160,
   "id": "18519d3c",
   "metadata": {},
   "outputs": [
    {
     "data": {
      "text/plain": [
       "- : int * int = (36, 81)\n"
      ]
     },
     "execution_count": 160,
     "metadata": {},
     "output_type": "execute_result"
    }
   ],
   "source": [
    "read_topo_map \"day10_example.txt\" |> score_trails"
   ]
  },
  {
   "cell_type": "code",
   "execution_count": 161,
   "id": "31f6ddbe",
   "metadata": {},
   "outputs": [
    {
     "data": {
      "text/plain": [
       "- : int * int = (593, 1192)\n"
      ]
     },
     "execution_count": 161,
     "metadata": {},
     "output_type": "execute_result"
    }
   ],
   "source": [
    "read_topo_map \"day10_input.txt\" |> score_trails"
   ]
  },
  {
   "cell_type": "markdown",
   "id": "5af956d4",
   "metadata": {},
   "source": [
    "### Part 2\n",
    "\n",
    "I happened to write my search to find all paths anyway so just added an extra output to the tuple for part 1."
   ]
  }
 ],
 "metadata": {
  "kernelspec": {
   "display_name": "OCaml 4.12.0",
   "language": "OCaml",
   "name": "ocaml-jupyter"
  },
  "language_info": {
   "codemirror_mode": "text/x-ocaml",
   "file_extension": ".ml",
   "mimetype": "text/x-ocaml",
   "name": "OCaml",
   "nbconverter_exporter": null,
   "pygments_lexer": "OCaml",
   "version": "4.12.0"
  }
 },
 "nbformat": 4,
 "nbformat_minor": 5
}
