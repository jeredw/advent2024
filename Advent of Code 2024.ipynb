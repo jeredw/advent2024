{
 "cells": [
  {
   "cell_type": "markdown",
   "id": "6b7a2f2c",
   "metadata": {},
   "source": [
    "# Advent of Code 2024\n",
    "\n",
    "Let's try out [ocaml](https://ocaml.org/) this year!  I read a book about Standard ML like 20 years ago, but remember very little.  So there will be a learning curve, but it shouldn't be as bad as [the Advent of APL](https://github.com/jeredw/advent2021/blob/main/Advent%20of%20Code%202021.ipynb).\n",
    "\n",
    "Is this thing on?"
   ]
  },
  {
   "cell_type": "code",
   "execution_count": 1,
   "id": "c2f2e1ed",
   "metadata": {},
   "outputs": [
    {
     "data": {
      "text/plain": [
       "- : int = 4\n"
      ]
     },
     "execution_count": 1,
     "metadata": {},
     "output_type": "execute_result"
    }
   ],
   "source": [
    "2+2;;"
   ]
  },
  {
   "cell_type": "markdown",
   "id": "a66d039e",
   "metadata": {},
   "source": [
    "## Table of Contents\n",
    "\n",
    "| Su | Mo | Tu | We | Th | Fr | Sa |\n",
    "| -- | -- | -- | -- | -- | -- | -- |\n",
    "| [1](#day1) | [2](#day2) | [3](#day3) | [4](#day4) | [5](#day5) | [6](#day6) | [7](#day7) |\n",
    "| [8](#day8) | [9](#day9) | [10](#day10) | [11](#day11) | [12](#day12) | [13](#day13) | [14](#day14) |\n",
    "| [15](#day15) | [16](#day16) | [17](#day17) | [18](#day18) | [19](#day19) | [20](#day20) | [21](#day21) |\n",
    "| [22](#day22) | [23](#day23) | [24](#day24) | [25](#day25) | 26 | 27 | 28 |\n",
    "| 29 | 30 | 31 |    |    |    |    |"
   ]
  },
  {
   "cell_type": "markdown",
   "id": "4472838f",
   "metadata": {},
   "source": [
    "\n",
    "## Reusable utilities\n",
    "\n",
    "This section is for stuff I get tired of copying and pasting."
   ]
  },
  {
   "cell_type": "markdown",
   "id": "efe641c2",
   "metadata": {},
   "source": [
    "### Ok, what is \"core\"?\n",
    "\n",
    "On Day 3, while looking for basic I/O utilities again (is there really no \"read entire file\" library?), I learned there's an entire alternative standard library written by Jane Street.  This feels weird, but whatever."
   ]
  },
  {
   "cell_type": "code",
   "execution_count": 2,
   "id": "e8ffc146",
   "metadata": {},
   "outputs": [
    {
     "name": "stdout",
     "output_type": "stream",
     "text": [
      "- : unit = ()\n",
      "Findlib has been successfully loaded. Additional directives:\n",
      "  #require \"package\";;      to load a package\n",
      "  #list;;                   to list the available packages\n",
      "  #camlp4o;;                to load camlp4 (standard syntax)\n",
      "  #camlp4r;;                to load camlp4 (revised syntax)\n",
      "  #predicates \"p,q,...\";;   to set these predicates\n",
      "  Topfind.reset();;         to force that packages will be reloaded\n",
      "  #thread;;                 to enable threads\n",
      "\n",
      "- : unit = ()\n"
     ]
    }
   ],
   "source": [
    "#use \"topfind\" ;;"
   ]
  },
  {
   "cell_type": "code",
   "execution_count": 3,
   "id": "ad447847",
   "metadata": {},
   "outputs": [
    {
     "name": "stderr",
     "output_type": "stream",
     "text": [
      "/Users/jered/.opam/4.12.0/lib/base/base_internalhash_types: added to search path\n",
      "/Users/jered/.opam/4.12.0/lib/base/base_internalhash_types/base_internalhash_types.cma: loaded\n",
      "/Users/jered/.opam/4.12.0/lib/base/caml: added to search path\n",
      "/Users/jered/.opam/4.12.0/lib/base/caml/caml.cma: loaded\n",
      "/Users/jered/.opam/4.12.0/lib/base/shadow_stdlib: added to search path\n",
      "/Users/jered/.opam/4.12.0/lib/base/shadow_stdlib/shadow_stdlib.cma: loaded\n",
      "/Users/jered/.opam/4.12.0/lib/sexplib0: added to search path\n",
      "/Users/jered/.opam/4.12.0/lib/sexplib0/sexplib0.cma: loaded\n",
      "/Users/jered/.opam/4.12.0/lib/base: added to search path\n",
      "/Users/jered/.opam/4.12.0/lib/base/base.cma: loaded\n",
      "/Users/jered/.opam/4.12.0/lib/fieldslib: added to search path\n",
      "/Users/jered/.opam/4.12.0/lib/fieldslib/fieldslib.cma: loaded\n",
      "/Users/jered/.opam/4.12.0/lib/ppx_compare/runtime-lib: added to search path\n",
      "/Users/jered/.opam/4.12.0/lib/ppx_compare/runtime-lib/ppx_compare_lib.cma: loaded\n",
      "/Users/jered/.opam/4.12.0/lib/ppx_enumerate/runtime-lib: added to search path\n",
      "/Users/jered/.opam/4.12.0/lib/ppx_enumerate/runtime-lib/ppx_enumerate_lib.cma: loaded\n",
      "/Users/jered/.opam/4.12.0/lib/ppx_sexp_conv/runtime-lib: added to search path\n",
      "/Users/jered/.opam/4.12.0/lib/ppx_sexp_conv/runtime-lib/ppx_sexp_conv_lib.cma: loaded\n",
      "/Users/jered/.opam/4.12.0/lib/ppx_hash/runtime-lib: added to search path\n",
      "/Users/jered/.opam/4.12.0/lib/ppx_hash/runtime-lib/ppx_hash_lib.cma: loaded\n",
      "/Users/jered/.opam/4.12.0/lib/ppx_here/runtime-lib: added to search path\n",
      "/Users/jered/.opam/4.12.0/lib/ppx_here/runtime-lib/ppx_here_lib.cma: loaded\n",
      "/Users/jered/.opam/4.12.0/lib/ppx_assert/runtime-lib: added to search path\n",
      "/Users/jered/.opam/4.12.0/lib/ppx_assert/runtime-lib/ppx_assert_lib.cma: loaded\n",
      "/Users/jered/.opam/4.12.0/lib/ppx_bench/runtime-lib: added to search path\n",
      "/Users/jered/.opam/4.12.0/lib/ppx_bench/runtime-lib/ppx_bench_lib.cma: loaded\n",
      "/Users/jered/.opam/4.12.0/lib/ppx_inline_test/config: added to search path\n",
      "/Users/jered/.opam/4.12.0/lib/ppx_inline_test/config/inline_test_config.cma: loaded\n",
      "/Users/jered/.opam/4.12.0/lib/jane-street-headers: added to search path\n",
      "/Users/jered/.opam/4.12.0/lib/jane-street-headers/jane_street_headers.cma: loaded\n",
      "/Users/jered/.opam/4.12.0/lib/time_now: added to search path\n",
      "/Users/jered/.opam/4.12.0/lib/time_now/time_now.cma: loaded\n",
      "/Users/jered/.opam/4.12.0/lib/ppx_inline_test/runtime-lib: added to search path\n",
      "/Users/jered/.opam/4.12.0/lib/ppx_inline_test/runtime-lib/ppx_inline_test_lib.cma: loaded\n",
      "/Users/jered/.opam/4.12.0/lib/splittable_random: added to search path\n",
      "/Users/jered/.opam/4.12.0/lib/splittable_random/splittable_random.cma: loaded\n",
      "/Users/jered/.opam/4.12.0/lib/base_quickcheck: added to search path\n",
      "/Users/jered/.opam/4.12.0/lib/base_quickcheck/base_quickcheck.cma: loaded\n",
      "/Users/jered/.opam/4.12.0/lib/base/md5: added to search path\n",
      "/Users/jered/.opam/4.12.0/lib/base/md5/md5_lib.cma: loaded\n",
      "/Users/jered/.opam/4.12.0/lib/ocaml/unix.cma: loaded\n",
      "/Users/jered/.opam/4.12.0/lib/ocaml/bigarray.cma: loaded\n",
      "/Users/jered/.opam/4.12.0/lib/variantslib: added to search path\n",
      "/Users/jered/.opam/4.12.0/lib/variantslib/variantslib.cma: loaded\n",
      "/Users/jered/.opam/4.12.0/lib/bin_prot/shape: added to search path\n",
      "/Users/jered/.opam/4.12.0/lib/bin_prot/shape/bin_shape_lib.cma: loaded\n",
      "/Users/jered/.opam/4.12.0/lib/bin_prot: added to search path\n",
      "/Users/jered/.opam/4.12.0/lib/bin_prot/bin_prot.cma: loaded\n",
      "/Users/jered/.opam/4.12.0/lib/ppx_expect/common: added to search path\n",
      "/Users/jered/.opam/4.12.0/lib/ppx_expect/common/expect_test_common.cma: loaded\n",
      "/Users/jered/.opam/4.12.0/lib/ppx_expect/config_types: added to search path\n",
      "/Users/jered/.opam/4.12.0/lib/ppx_expect/config_types/expect_test_config_types.cma: loaded\n",
      "/Users/jered/.opam/4.12.0/lib/ppx_expect/collector: added to search path\n",
      "/Users/jered/.opam/4.12.0/lib/ppx_expect/collector/expect_test_collector.cma: loaded\n",
      "/Users/jered/.opam/4.12.0/lib/ppx_expect/config: added to search path\n",
      "/Users/jered/.opam/4.12.0/lib/ppx_expect/config/expect_test_config.cma: loaded\n",
      "/Users/jered/.opam/4.12.0/lib/stdio: added to search path\n",
      "/Users/jered/.opam/4.12.0/lib/stdio/stdio.cma: loaded\n",
      "/Users/jered/.opam/4.12.0/lib/ppx_module_timer/runtime: added to search path\n",
      "/Users/jered/.opam/4.12.0/lib/ppx_module_timer/runtime/ppx_module_timer_runtime.cma: loaded\n",
      "/Users/jered/.opam/4.12.0/lib/typerep: added to search path\n",
      "/Users/jered/.opam/4.12.0/lib/typerep/typerep_lib.cma: loaded\n",
      "/Users/jered/.opam/4.12.0/lib/base_bigstring: added to search path\n",
      "/Users/jered/.opam/4.12.0/lib/base_bigstring/base_bigstring.cma: loaded\n",
      "/Users/jered/.opam/4.12.0/lib/core_kernel/base_for_tests: added to search path\n",
      "/Users/jered/.opam/4.12.0/lib/core_kernel/base_for_tests/base_for_tests.cma: loaded\n",
      "/Users/jered/.opam/4.12.0/lib/parsexp: added to search path\n",
      "/Users/jered/.opam/4.12.0/lib/parsexp/parsexp.cma: loaded\n",
      "/Users/jered/.opam/4.12.0/lib/sexplib: added to search path\n",
      "/Users/jered/.opam/4.12.0/lib/sexplib/sexplib.cma: loaded\n",
      "/Users/jered/.opam/4.12.0/lib/core_kernel: added to search path\n",
      "/Users/jered/.opam/4.12.0/lib/core_kernel/core_kernel.cma: loaded\n",
      "/Users/jered/.opam/4.12.0/lib/core/error_checking_mutex: added to search path\n",
      "/Users/jered/.opam/4.12.0/lib/core/error_checking_mutex/error_checking_mutex.cma: loaded\n",
      "/Users/jered/.opam/4.12.0/lib/core_kernel/caml_unix: added to search path\n",
      "/Users/jered/.opam/4.12.0/lib/core_kernel/caml_unix/caml_unix.cma: loaded\n",
      "/Users/jered/.opam/4.12.0/lib/core_kernel/flags: added to search path\n",
      "/Users/jered/.opam/4.12.0/lib/core_kernel/flags/flags.cma: loaded\n",
      "/Users/jered/.opam/4.12.0/lib/core_kernel/version_util: added to search path\n",
      "/Users/jered/.opam/4.12.0/lib/core_kernel/version_util/version_util.cma: loaded\n",
      "/Users/jered/.opam/4.12.0/lib/sexplib/unix: added to search path\n",
      "/Users/jered/.opam/4.12.0/lib/sexplib/unix/sexplib_unix.cma: loaded\n",
      "/Users/jered/.opam/4.12.0/lib/spawn: added to search path\n",
      "/Users/jered/.opam/4.12.0/lib/spawn/spawn.cma: loaded\n",
      "/Users/jered/.opam/4.12.0/lib/timezone: added to search path\n",
      "/Users/jered/.opam/4.12.0/lib/timezone/timezone.cma: loaded\n",
      "/Users/jered/.opam/4.12.0/lib/core: added to search path\n",
      "/Users/jered/.opam/4.12.0/lib/core/core.cma: loaded\n"
     ]
    }
   ],
   "source": [
    "#require \"core\" ;;"
   ]
  },
  {
   "cell_type": "code",
   "execution_count": 4,
   "id": "b8180421",
   "metadata": {},
   "outputs": [],
   "source": [
    "open Core"
   ]
  },
  {
   "cell_type": "markdown",
   "id": "0e06d6af",
   "metadata": {},
   "source": [
    "### Oh God, what have I done\n",
    "\n",
    "Apparently this is an overlay library, and just blows away much of the core language.  Now my `List.map` function is backwards!  That's... incredibly antisocial, actually.  I guess what did I expect from a quantitative finance company."
   ]
  },
  {
   "cell_type": "code",
   "execution_count": 5,
   "id": "ec9a4830",
   "metadata": {},
   "outputs": [
    {
     "name": "stderr",
     "output_type": "stream",
     "text": [
      "File \"[5]\", line 1, characters 9-16:\n",
      "1 | List.map ((+) 0) [1;2;3]\n",
      "             ^^^^^^^\n",
      "Warning 5 [ignored-partial-application]: this function application is partial,\n",
      "maybe some arguments are missing.\n"
     ]
    },
    {
     "ename": "error",
     "evalue": "compile_error",
     "output_type": "error",
     "traceback": [
      "File \"[5]\", line 1, characters 9-16:\n1 | List.map ((+) 0) [1;2;3]\n             ^^^^^^^\nError: This expression has type int -> int\n       but an expression was expected of type 'a list\n"
     ]
    }
   ],
   "source": [
    "List.map ((+) 0) [1;2;3]"
   ]
  },
  {
   "cell_type": "code",
   "execution_count": 6,
   "id": "204beff3",
   "metadata": {},
   "outputs": [
    {
     "data": {
      "text/plain": [
       "- : int list = [1; 2; 3]\n"
      ]
     },
     "execution_count": 6,
     "metadata": {},
     "output_type": "execute_result"
    }
   ],
   "source": [
    "List.map [1;2;3] ((+) 0)"
   ]
  },
  {
   "cell_type": "markdown",
   "id": "4c12f271",
   "metadata": {},
   "source": [
    "Hang on, let me just rewrite everything now."
   ]
  },
  {
   "cell_type": "code",
   "execution_count": 7,
   "id": "e33a8011",
   "metadata": {},
   "outputs": [],
   "source": [
    "open Core.List"
   ]
  },
  {
   "cell_type": "markdown",
   "id": "f26f0437",
   "metadata": {},
   "source": [
    "Apparently I need this too.  Have I mentioned it's impossible to Google search for punctuation?  Ugh."
   ]
  },
  {
   "cell_type": "markdown",
   "id": "5d7adcb1",
   "metadata": {},
   "source": [
    "### Reading stuff from files\n",
    "\n",
    "We seem to have to read stuff from files a lot."
   ]
  },
  {
   "cell_type": "code",
   "execution_count": 8,
   "id": "78802257",
   "metadata": {},
   "outputs": [
    {
     "data": {
      "text/plain": [
       "- : Base.string Base.list =\n",
       "[\"3   4\"; \"4   3\"; \"2   5\"; \"1   3\"; \"3   9\"; \"3   3\"]\n"
      ]
     },
     "execution_count": 8,
     "metadata": {},
     "output_type": "execute_result"
    }
   ],
   "source": [
    "(* Core has a way to do this *)\n",
    "In_channel.read_lines \"day1_example.txt\""
   ]
  },
  {
   "cell_type": "markdown",
   "id": "50d14e0c",
   "metadata": {},
   "source": [
    "Now there are different combinators, too.  How do these work?"
   ]
  },
  {
   "cell_type": "code",
   "execution_count": 9,
   "id": "70d77ac9",
   "metadata": {},
   "outputs": [
    {
     "data": {
      "text/plain": [
       "- : int list = [2; 3; 4]\n"
      ]
     },
     "execution_count": 9,
     "metadata": {},
     "output_type": "execute_result"
    }
   ],
   "source": [
    "[1;2;3] >>| ((+) 1)"
   ]
  },
  {
   "cell_type": "code",
   "execution_count": 10,
   "id": "d5c3569b",
   "metadata": {},
   "outputs": [
    {
     "data": {
      "text/plain": [
       "val read_numbers_from_file : Base.string -> int list list = <fun>\n"
      ]
     },
     "execution_count": 10,
     "metadata": {},
     "output_type": "execute_result"
    }
   ],
   "source": [
    "(*let read_numbers_from_file file_name =\n",
    "  let file = open_in file_name in\n",
    "  let output = ref [] in\n",
    "  try\n",
    "    while true do\n",
    "      let line = input_line file\n",
    "               |> Str.split (Str.regexp \" +\")\n",
    "               |> List.map int_of_string in\n",
    "      output := line :: !output\n",
    "    done;\n",
    "    assert false\n",
    "  with\n",
    "    End_of_file -> List.rev !output *)\n",
    "\n",
    "let read_numbers_from_file file_name =\n",
    "  let parse line =\n",
    "    line |> Str.split (Str.regexp \" +\") >>| int_of_string in\n",
    "  In_channel.read_lines file_name >>| parse"
   ]
  },
  {
   "cell_type": "markdown",
   "id": "72cb68f9",
   "metadata": {},
   "source": [
    "### This keeps coming up"
   ]
  },
  {
   "cell_type": "code",
   "execution_count": 11,
   "id": "075f9c9d",
   "metadata": {},
   "outputs": [
    {
     "data": {
      "text/plain": [
       "val pair_of_list : 'a list -> 'a * 'a = <fun>\n"
      ]
     },
     "execution_count": 11,
     "metadata": {},
     "output_type": "execute_result"
    }
   ],
   "source": [
    "let pair_of_list xs =\n",
    "  match xs with\n",
    "  | [x; y] -> (x, y)\n",
    "  | _ -> failwith \"expecting pair\""
   ]
  },
  {
   "cell_type": "markdown",
   "id": "f3ff29e7",
   "metadata": {},
   "source": [
    "### Reading grids"
   ]
  },
  {
   "cell_type": "code",
   "execution_count": 12,
   "id": "e49425c2",
   "metadata": {},
   "outputs": [
    {
     "data": {
      "text/plain": [
       "val read_grid_from_file : Base.string -> char Core.Array.t Core.Array.t =\n",
       "  <fun>\n"
      ]
     },
     "execution_count": 12,
     "metadata": {},
     "output_type": "execute_result"
    }
   ],
   "source": [
    "let read_grid_from_file file_name =\n",
    "  let lines = In_channel.read_lines file_name in\n",
    "  let rows = length lines in\n",
    "  let cols = String.length (nth_exn lines 0) in\n",
    "  let grid = Array.make_matrix rows cols '.' in\n",
    "  for i = 0 to rows-1 do\n",
    "    for j = 0 to cols-1 do\n",
    "      grid.(i).(j) <- String.get (nth_exn lines i) j\n",
    "    done\n",
    "  done;\n",
    "  grid"
   ]
  },
  {
   "cell_type": "markdown",
   "id": "ecc8e7e6",
   "metadata": {},
   "source": [
    "### Cartesian product without the diagonal"
   ]
  },
  {
   "cell_type": "code",
   "execution_count": 13,
   "id": "0162c54e",
   "metadata": {},
   "outputs": [
    {
     "data": {
      "text/plain": [
       "val pairs : 'a list -> ('a * 'a) Base.List.t = <fun>\n"
      ]
     },
     "execution_count": 13,
     "metadata": {},
     "output_type": "execute_result"
    }
   ],
   "source": [
    "let rec pairs xs = \n",
    "  match xs with\n",
    "  | [] -> []\n",
    "  | [x] -> []\n",
    "  | x::rest -> (rest>>|(fun y -> (x,y))) @ pairs rest"
   ]
  },
  {
   "cell_type": "code",
   "execution_count": 14,
   "id": "ce3fe719",
   "metadata": {},
   "outputs": [
    {
     "data": {
      "text/plain": [
       "- : (int * int) Base.List.t =\n",
       "[(1, 2); (1, 3); (1, 4); (1, 5); (1, 6); (2, 3); (2, 4); (2, 5); (2, 6);\n",
       " (3, 4); (3, 5); (3, 6); (4, 5); (4, 6); (5, 6)]\n"
      ]
     },
     "execution_count": 14,
     "metadata": {},
     "output_type": "execute_result"
    }
   ],
   "source": [
    "pairs [1;2;3;4;5;6]"
   ]
  },
  {
   "cell_type": "markdown",
   "id": "af978c06",
   "metadata": {},
   "source": [
    "## <a name=day1>Day 1</a>\n",
    "\n",
    "[Link](https://adventofcode.com/2024/day/1)\n",
    "\n",
    "### Part 1\n",
    "\n",
    "They want me to read two columns from a file, sort them, and sum the differences."
   ]
  },
  {
   "cell_type": "code",
   "execution_count": 15,
   "id": "54e0c15a",
   "metadata": {},
   "outputs": [
    {
     "data": {
      "text/plain": [
       "val read_pairs_from_file : Base.string -> (int * int) list = <fun>\n"
      ]
     },
     "execution_count": 15,
     "metadata": {},
     "output_type": "execute_result"
    }
   ],
   "source": [
    "let read_pairs_from_file file_name =\n",
    "  read_numbers_from_file file_name\n",
    "  >>| pair_of_list"
   ]
  },
  {
   "cell_type": "code",
   "execution_count": 16,
   "id": "fcf8eb17",
   "metadata": {},
   "outputs": [
    {
     "data": {
      "text/plain": [
       "- : (int * int) list = [(3, 4); (4, 3); (2, 5); (1, 3); (3, 9); (3, 3)]\n"
      ]
     },
     "execution_count": 16,
     "metadata": {},
     "output_type": "execute_result"
    }
   ],
   "source": [
    "read_pairs_from_file \"day1_example.txt\""
   ]
  },
  {
   "cell_type": "markdown",
   "id": "74a200d5",
   "metadata": {},
   "source": [
    "Ok, that was a little ugly, but it could be worse.  Let's use some of this great type matching stuff."
   ]
  },
  {
   "cell_type": "code",
   "execution_count": 17,
   "id": "77aee232",
   "metadata": {},
   "outputs": [
    {
     "data": {
      "text/plain": [
       "val unzip : ('a * 'b) list -> 'a list * 'b list = <fun>\n"
      ]
     },
     "execution_count": 17,
     "metadata": {},
     "output_type": "execute_result"
    }
   ],
   "source": [
    "let rec unzip pairs =\n",
    "  match pairs with\n",
    "  | [] -> ([], [])\n",
    "  | (x, y) :: rest ->\n",
    "    let (xs, ys) = unzip rest in\n",
    "      (x::xs, y::ys)"
   ]
  },
  {
   "cell_type": "code",
   "execution_count": 18,
   "id": "60ba2d7e",
   "metadata": {},
   "outputs": [
    {
     "data": {
      "text/plain": [
       "- : int list * int list = ([1; 3; 5], [2; 4; 6])\n"
      ]
     },
     "execution_count": 18,
     "metadata": {},
     "output_type": "execute_result"
    }
   ],
   "source": [
    "unzip([(1,2); (3,4); (5,6)])"
   ]
  },
  {
   "cell_type": "markdown",
   "id": "0cbeed64",
   "metadata": {},
   "source": [
    "That was fun.  ~But there's a library for this.~  Update: Ok, core seems to actually call this `zip` and `unzip`..."
   ]
  },
  {
   "cell_type": "code",
   "execution_count": 19,
   "id": "9d197a70",
   "metadata": {},
   "outputs": [
    {
     "data": {
      "text/plain": [
       "- : int list * int list = ([1; 3; 5], [2; 4; 6])\n"
      ]
     },
     "execution_count": 19,
     "metadata": {},
     "output_type": "execute_result"
    }
   ],
   "source": [
    "List.unzip [(1,2); (3,4); (5,6)]"
   ]
  },
  {
   "cell_type": "code",
   "execution_count": 20,
   "id": "6a0c6bc4",
   "metadata": {},
   "outputs": [
    {
     "data": {
      "text/plain": [
       "- : (int * int) list Core.List.Or_unequal_lengths.t =\n",
       "Core.List.Or_unequal_lengths.Ok [(1, 2); (3, 4); (5, 6)]\n"
      ]
     },
     "execution_count": 20,
     "metadata": {},
     "output_type": "execute_result"
    }
   ],
   "source": [
    "zip [1;3;5] [2;4;6]"
   ]
  },
  {
   "cell_type": "markdown",
   "id": "b92c7d5f",
   "metadata": {},
   "source": [
    "Oh no, I overwrote `compare` when I did `open Core.List` to try to get the list combinators.  What a mess."
   ]
  },
  {
   "cell_type": "code",
   "execution_count": 21,
   "id": "a75f84e3",
   "metadata": {},
   "outputs": [
    {
     "data": {
      "text/plain": [
       "- : ('a -> 'a -> int) -> 'a list -> 'a list -> int = <fun>\n"
      ]
     },
     "execution_count": 21,
     "metadata": {},
     "output_type": "execute_result"
    }
   ],
   "source": [
    "compare"
   ]
  },
  {
   "cell_type": "code",
   "execution_count": 22,
   "id": "16ef6847",
   "metadata": {},
   "outputs": [
    {
     "data": {
      "text/plain": [
       "- : 'a -> 'a -> int = <fun>\n"
      ]
     },
     "execution_count": 22,
     "metadata": {},
     "output_type": "execute_result"
    }
   ],
   "source": [
    "Stdlib.compare"
   ]
  },
  {
   "cell_type": "markdown",
   "id": "a194ca5c",
   "metadata": {},
   "source": [
    "Hmm, post `zip`ping, my list type is infected with `Core.List.Or_unequal_lengths.t` and I can't do unsanctioned list stuff with it.  I guess I have to use `zip_exn` to fail hard."
   ]
  },
  {
   "cell_type": "code",
   "execution_count": 23,
   "id": "60934933",
   "metadata": {},
   "outputs": [
    {
     "data": {
      "text/plain": [
       "val day1_part1 : (int * int) list -> int = <fun>\n"
      ]
     },
     "execution_count": 23,
     "metadata": {},
     "output_type": "execute_result"
    }
   ],
   "source": [
    "let day1_part1 pairs =\n",
    "  let (xs, ys) = unzip pairs in\n",
    "  (zip_exn (sort xs Stdlib.compare) (sort ys Stdlib.compare)\n",
    "    >>| fun (x, y) -> abs(x - y))\n",
    "  |> List.fold ~f:(+) ~init:0"
   ]
  },
  {
   "cell_type": "markdown",
   "id": "61da9d4f",
   "metadata": {},
   "source": [
    "~That is actually kind of pretty, although the syntax is meh.~  Let's be real, this is an ugly way to write a simple program."
   ]
  },
  {
   "cell_type": "code",
   "execution_count": 24,
   "id": "31706af3",
   "metadata": {},
   "outputs": [
    {
     "data": {
      "text/plain": [
       "- : int = 11\n"
      ]
     },
     "execution_count": 24,
     "metadata": {},
     "output_type": "execute_result"
    }
   ],
   "source": [
    "read_pairs_from_file \"day1_example.txt\" |> day1_part1"
   ]
  },
  {
   "cell_type": "code",
   "execution_count": 25,
   "id": "58e773ad",
   "metadata": {},
   "outputs": [
    {
     "data": {
      "text/plain": [
       "- : int = 1666427\n"
      ]
     },
     "execution_count": 25,
     "metadata": {},
     "output_type": "execute_result"
    }
   ],
   "source": [
    "read_pairs_from_file \"day1_input.txt\" |> day1_part1"
   ]
  },
  {
   "cell_type": "markdown",
   "id": "296393c8",
   "metadata": {},
   "source": [
    "### Part 2\n",
    "\n",
    "Now we've got to count stuff.  There is no need to be especially clever about this."
   ]
  },
  {
   "cell_type": "code",
   "execution_count": 26,
   "id": "9eb89a64",
   "metadata": {},
   "outputs": [
    {
     "data": {
      "text/plain": [
       "val day1_part2 : (Core_kernel.Int.t * Core_kernel.Int.t) list -> int = <fun>\n"
      ]
     },
     "execution_count": 26,
     "metadata": {},
     "output_type": "execute_result"
    }
   ],
   "source": [
    "let day1_part2 pairs =\n",
    "  let (xs, ys) = unzip pairs in\n",
    "  let count x = List.count ys ((=) x) in\n",
    "    xs\n",
    "    >>| (fun x -> x * (count x))\n",
    "    |> List.fold ~f:(+) ~init:0"
   ]
  },
  {
   "cell_type": "code",
   "execution_count": 27,
   "id": "396566b8",
   "metadata": {},
   "outputs": [
    {
     "data": {
      "text/plain": [
       "- : int = 24316233\n"
      ]
     },
     "execution_count": 27,
     "metadata": {},
     "output_type": "execute_result"
    }
   ],
   "source": [
    "read_pairs_from_file \"day1_input.txt\" |> day1_part2"
   ]
  },
  {
   "cell_type": "markdown",
   "id": "770afe2d",
   "metadata": {},
   "source": [
    "## <a name=\"day2\">Day 2</a>\n",
    "\n",
    "[Link](https://adventofcode.com/2024/day/2)\n",
    "\n",
    "### Part 1\n",
    "\n",
    "Today we have to take adjacent differences of things."
   ]
  },
  {
   "cell_type": "code",
   "execution_count": 28,
   "id": "409ecf47",
   "metadata": {},
   "outputs": [
    {
     "data": {
      "text/plain": [
       "val differences : int list -> int list = <fun>\n"
      ]
     },
     "execution_count": 28,
     "metadata": {},
     "output_type": "execute_result"
    }
   ],
   "source": [
    "let rec differences list =\n",
    "  match list with\n",
    "  | [] -> []\n",
    "  | [x] -> [] \n",
    "  | x :: y :: rest -> x - y :: differences (y :: rest)"
   ]
  },
  {
   "cell_type": "code",
   "execution_count": 29,
   "id": "b354bb1a",
   "metadata": {},
   "outputs": [
    {
     "data": {
      "text/plain": [
       "- : int list = [1; 2; 2; 1]\n"
      ]
     },
     "execution_count": 29,
     "metadata": {},
     "output_type": "execute_result"
    }
   ],
   "source": [
    "differences [7; 6; 4; 2; 1]"
   ]
  },
  {
   "cell_type": "markdown",
   "id": "45098361",
   "metadata": {},
   "source": [
    "I kind of wish this were point free?  Like I wanted to write `increasing || decreasing`.  Oh well."
   ]
  },
  {
   "cell_type": "code",
   "execution_count": 30,
   "id": "c2a9aa7f",
   "metadata": {},
   "outputs": [
    {
     "data": {
      "text/plain": [
       "val safe : int list -> bool = <fun>\n"
      ]
     },
     "execution_count": 30,
     "metadata": {},
     "output_type": "execute_result"
    },
    {
     "data": {
      "text/plain": [
       "val count : ('a -> bool) -> 'a list -> int = <fun>\n"
      ]
     },
     "execution_count": 30,
     "metadata": {},
     "output_type": "execute_result"
    }
   ],
   "source": [
    "let safe levels =\n",
    "  let decreasing = List.for_all ~f:(fun(x) -> x < 0) in\n",
    "  let increasing = List.for_all ~f:(fun(x) -> x > 0) in\n",
    "  let in_range = List.for_all ~f:(fun(x) -> abs(x) >= 1 && abs(x) <= 3) in\n",
    "  let check xs = (increasing xs || decreasing xs) && in_range xs in\n",
    "    check (differences levels)\n",
    "\n",
    "let count safety_check data =\n",
    "  data\n",
    "  |> List.filter ~f:safety_check\n",
    "  |> List.length"
   ]
  },
  {
   "cell_type": "code",
   "execution_count": 31,
   "id": "03378041",
   "metadata": {},
   "outputs": [
    {
     "data": {
      "text/plain": [
       "- : int = 2\n"
      ]
     },
     "execution_count": 31,
     "metadata": {},
     "output_type": "execute_result"
    }
   ],
   "source": [
    "read_numbers_from_file \"day2_example.txt\" |> count safe"
   ]
  },
  {
   "cell_type": "code",
   "execution_count": 32,
   "id": "d9752478",
   "metadata": {},
   "outputs": [
    {
     "data": {
      "text/plain": [
       "- : int = 442\n"
      ]
     },
     "execution_count": 32,
     "metadata": {},
     "output_type": "execute_result"
    }
   ],
   "source": [
    "read_numbers_from_file \"day2_input.txt\" |> count safe"
   ]
  },
  {
   "cell_type": "markdown",
   "id": "a993f2a4",
   "metadata": {},
   "source": [
    "### Part 2\n",
    "\n",
    "Now we have to try fudging the data, I guess."
   ]
  },
  {
   "cell_type": "code",
   "execution_count": 33,
   "id": "ebeae126",
   "metadata": {},
   "outputs": [
    {
     "data": {
      "text/plain": [
       "val ablate : 'a list -> 'a list list = <fun>\n"
      ]
     },
     "execution_count": 33,
     "metadata": {},
     "output_type": "execute_result"
    }
   ],
   "source": [
    "let rec ablate xs =\n",
    "  match xs with\n",
    "  | [] -> []\n",
    "  | x :: rest -> rest :: (List.map ~f:(fun(xs) -> x :: xs)) (ablate rest)"
   ]
  },
  {
   "cell_type": "code",
   "execution_count": 34,
   "id": "f9a3b058",
   "metadata": {},
   "outputs": [
    {
     "data": {
      "text/plain": [
       "- : int list list = [[2; 3; 4]; [1; 3; 4]; [1; 2; 4]; [1; 2; 3]]\n"
      ]
     },
     "execution_count": 34,
     "metadata": {},
     "output_type": "execute_result"
    }
   ],
   "source": [
    "ablate [1;2;3;4]"
   ]
  },
  {
   "cell_type": "code",
   "execution_count": 35,
   "id": "d4c53e9e",
   "metadata": {},
   "outputs": [
    {
     "data": {
      "text/plain": [
       "val safeish : int list -> bool = <fun>\n"
      ]
     },
     "execution_count": 35,
     "metadata": {},
     "output_type": "execute_result"
    }
   ],
   "source": [
    "let safeish levels =\n",
    "  safe levels ||\n",
    "  (ablate levels |> List.exists ~f:safe)"
   ]
  },
  {
   "cell_type": "code",
   "execution_count": 36,
   "id": "0c11089c",
   "metadata": {},
   "outputs": [
    {
     "data": {
      "text/plain": [
       "- : int = 4\n"
      ]
     },
     "execution_count": 36,
     "metadata": {},
     "output_type": "execute_result"
    }
   ],
   "source": [
    "read_numbers_from_file \"day2_example.txt\" |> count safeish"
   ]
  },
  {
   "cell_type": "code",
   "execution_count": 37,
   "id": "aee5acd0",
   "metadata": {},
   "outputs": [
    {
     "data": {
      "text/plain": [
       "- : int = 493\n"
      ]
     },
     "execution_count": 37,
     "metadata": {},
     "output_type": "execute_result"
    }
   ],
   "source": [
    "read_numbers_from_file \"day2_input.txt\" |> count safeish"
   ]
  },
  {
   "cell_type": "markdown",
   "id": "f070e5df",
   "metadata": {},
   "source": [
    "## <a name=\"day3\">Day 3</a>\n",
    "\n",
    "### Part 1\n",
    "\n",
    "Today we are parsing instructions from strings full of junk.  There is a builtin regex library from, like, the 90s.  Since we're already doing this core stuff, I guess we may as well just use re2 and unlock the _sheer power_ of NFAs.  Stand back."
   ]
  },
  {
   "cell_type": "code",
   "execution_count": 38,
   "id": "71482679",
   "metadata": {},
   "outputs": [
    {
     "name": "stderr",
     "output_type": "stream",
     "text": [
      "/Users/jered/.opam/4.12.0/lib/core_kernel/rope: added to search path\n",
      "/Users/jered/.opam/4.12.0/lib/core_kernel/rope/rope.cma: loaded\n",
      "/Users/jered/.opam/4.12.0/lib/re2/c: added to search path\n",
      "/Users/jered/.opam/4.12.0/lib/re2/c/re2_c.cma: loaded\n",
      "/Users/jered/.opam/4.12.0/lib/re2: added to search path\n",
      "/Users/jered/.opam/4.12.0/lib/re2/re2.cma: loaded\n"
     ]
    }
   ],
   "source": [
    "#require \"re2\" ;;"
   ]
  },
  {
   "cell_type": "code",
   "execution_count": 39,
   "id": "c1ed4bda",
   "metadata": {},
   "outputs": [
    {
     "data": {
      "text/plain": [
       "val find_day3_instructions : string -> (int * int) list = <fun>\n"
      ]
     },
     "execution_count": 39,
     "metadata": {},
     "output_type": "execute_result"
    }
   ],
   "source": [
    "let find_day3_instructions s =\n",
    "  let mul = Re2.create_exn {|mul\\((\\d+,\\d+)\\)|} in\n",
    "  Re2.find_all_exn ~sub:(`Index 1) mul s\n",
    "  >>| fun (xs) -> (String.split ~on:',' xs\n",
    "                   >>| int_of_string\n",
    "                   |> pair_of_list)"
   ]
  },
  {
   "cell_type": "code",
   "execution_count": 40,
   "id": "d4a24a5b",
   "metadata": {},
   "outputs": [
    {
     "data": {
      "text/plain": [
       "- : (int * int) list = [(2, 4); (5, 5); (11, 8); (8, 5)]\n"
      ]
     },
     "execution_count": 40,
     "metadata": {},
     "output_type": "execute_result"
    }
   ],
   "source": [
    "find_day3_instructions \"xmul(2,4)%&mul[3,7]!@^do_not_mul(5,5)+mul(32,64]then(mul(11,8)mul(8,5))\""
   ]
  },
  {
   "cell_type": "code",
   "execution_count": 41,
   "id": "d59ca4c9",
   "metadata": {},
   "outputs": [
    {
     "data": {
      "text/plain": [
       "val day3_part1 : string -> int = <fun>\n"
      ]
     },
     "execution_count": 41,
     "metadata": {},
     "output_type": "execute_result"
    }
   ],
   "source": [
    "let day3_part1 s =\n",
    "  find_day3_instructions s\n",
    "  >>| (fun ((a, b)) -> a * b)\n",
    "   |> fold ~init:0 ~f:(+)"
   ]
  },
  {
   "cell_type": "code",
   "execution_count": 42,
   "id": "df51118a",
   "metadata": {},
   "outputs": [
    {
     "data": {
      "text/plain": [
       "- : int = 161\n"
      ]
     },
     "execution_count": 42,
     "metadata": {},
     "output_type": "execute_result"
    }
   ],
   "source": [
    "In_channel.read_all \"day3_example.txt\" |> day3_part1"
   ]
  },
  {
   "cell_type": "code",
   "execution_count": 43,
   "id": "99e3581a",
   "metadata": {},
   "outputs": [
    {
     "data": {
      "text/plain": [
       "- : int = 170778545\n"
      ]
     },
     "execution_count": 43,
     "metadata": {},
     "output_type": "execute_result"
    }
   ],
   "source": [
    "In_channel.read_all \"day3_input.txt\" |> day3_part1"
   ]
  },
  {
   "cell_type": "markdown",
   "id": "f46635c7",
   "metadata": {},
   "source": [
    "### Part 2\n",
    "\n",
    "Oh good, now we get to parse more instructions - we can turn multiplying on and off, how convenient.  Let's use a type thing."
   ]
  },
  {
   "cell_type": "code",
   "execution_count": 44,
   "id": "91c9c6ef",
   "metadata": {},
   "outputs": [
    {
     "data": {
      "text/plain": [
       "type day3_instruction = Day3Mul of int * int | Day3Do | Day3Dont\n"
      ]
     },
     "execution_count": 44,
     "metadata": {},
     "output_type": "execute_result"
    }
   ],
   "source": [
    "type day3_instruction =\n",
    "  Day3Mul of int * int\n",
    "  | Day3Do\n",
    "  | Day3Dont"
   ]
  },
  {
   "cell_type": "code",
   "execution_count": 45,
   "id": "8488b3f2",
   "metadata": {},
   "outputs": [
    {
     "data": {
      "text/plain": [
       "val parse_day3_program : string -> day3_instruction list = <fun>\n"
      ]
     },
     "execution_count": 45,
     "metadata": {},
     "output_type": "execute_result"
    }
   ],
   "source": [
    "let parse_day3_program s =\n",
    "  let opcode = Re2.create_exn {|(don't\\(\\)|do\\(\\)|mul\\(\\d+,\\d+\\))|} in\n",
    "  let parse_opcode args =\n",
    "    match args with\n",
    "    | \"mul\" :: x :: y :: rest -> Day3Mul (int_of_string x, int_of_string y)\n",
    "    | \"do\" :: rest -> Day3Do\n",
    "    | \"don't\" :: rest -> Day3Dont\n",
    "    | _ -> failwith \"unknown instruction\" in\n",
    "  Re2.find_all_exn ~sub:(`Index 1) opcode s\n",
    "  >>| String.split_on_chars ~on:[','; '('; ')']\n",
    "  >>| parse_opcode"
   ]
  },
  {
   "cell_type": "code",
   "execution_count": 46,
   "id": "ab5fd72d",
   "metadata": {},
   "outputs": [
    {
     "data": {
      "text/plain": [
       "- : day3_instruction list =\n",
       "[Day3Mul (2, 4); Day3Dont; Day3Mul (5, 5); Day3Mul (11, 8); Day3Do;\n",
       " Day3Mul (8, 5)]\n"
      ]
     },
     "execution_count": 46,
     "metadata": {},
     "output_type": "execute_result"
    }
   ],
   "source": [
    "parse_day3_program \"xmul(2,4)&mul[3,7]!^don't()_mul(5,5)+mul(32,64](mul(11,8)undo()?mul(8,5))\""
   ]
  },
  {
   "cell_type": "markdown",
   "id": "fd6d67de",
   "metadata": {},
   "source": [
    "Let's shake things up and evaluate this imperatively.  Mwahaha, purists, take that."
   ]
  },
  {
   "cell_type": "code",
   "execution_count": 47,
   "id": "8aa4a053",
   "metadata": {},
   "outputs": [
    {
     "data": {
      "text/plain": [
       "val eval_day3_program : string -> int = <fun>\n"
      ]
     },
     "execution_count": 47,
     "metadata": {},
     "output_type": "execute_result"
    }
   ],
   "source": [
    "let eval_day3_program s =\n",
    "  let mul_enabled = ref true in\n",
    "  let eval instruction =\n",
    "    match instruction with\n",
    "    | Day3Do -> mul_enabled := true; 0\n",
    "    | Day3Dont -> mul_enabled := false; 0\n",
    "    | Day3Mul (x, y) -> if !mul_enabled then x * y else 0 in\n",
    "  parse_day3_program s\n",
    "  >>| eval\n",
    "  |> fold ~init:0 ~f:(+)"
   ]
  },
  {
   "cell_type": "code",
   "execution_count": 48,
   "id": "daad1a4c",
   "metadata": {},
   "outputs": [
    {
     "data": {
      "text/plain": [
       "- : int = 48\n"
      ]
     },
     "execution_count": 48,
     "metadata": {},
     "output_type": "execute_result"
    }
   ],
   "source": [
    "eval_day3_program \"xmul(2,4)&mul[3,7]!^don't()_mul(5,5)+mul(32,64](mul(11,8)undo()?mul(8,5))\""
   ]
  },
  {
   "cell_type": "code",
   "execution_count": 49,
   "id": "38f47994",
   "metadata": {},
   "outputs": [
    {
     "data": {
      "text/plain": [
       "- : int = 82868252\n"
      ]
     },
     "execution_count": 49,
     "metadata": {},
     "output_type": "execute_result"
    }
   ],
   "source": [
    "In_channel.read_all \"day3_input.txt\" |> eval_day3_program"
   ]
  },
  {
   "cell_type": "markdown",
   "id": "8bd59c91",
   "metadata": {},
   "source": [
    "## <a name=\"day4\">Day 4</a>\n",
    "\n",
    "### Part 1\n",
    "\n",
    "Today we are doing word searches, which I guess means we need arrays.  Let's see how this works."
   ]
  },
  {
   "cell_type": "code",
   "execution_count": 50,
   "id": "8af490f5",
   "metadata": {},
   "outputs": [
    {
     "data": {
      "text/plain": [
       "val read_wordsearch : Base.string -> char Core.Array.t Core.Array.t = <fun>\n"
      ]
     },
     "execution_count": 50,
     "metadata": {},
     "output_type": "execute_result"
    }
   ],
   "source": [
    "let read_wordsearch file_name = read_grid_from_file file_name"
   ]
  },
  {
   "cell_type": "code",
   "execution_count": 51,
   "id": "29206b9b",
   "metadata": {},
   "outputs": [
    {
     "data": {
      "text/plain": [
       "- : char Core.Array.t Core.Array.t =\n",
       "[|[|'M'; 'M'; 'M'; 'S'; 'X'; 'X'; 'M'; 'A'; 'S'; 'M'|];\n",
       "  [|'M'; 'S'; 'A'; 'M'; 'X'; 'M'; 'S'; 'M'; 'S'; 'A'|];\n",
       "  [|'A'; 'M'; 'X'; 'S'; 'X'; 'M'; 'A'; 'A'; 'M'; 'M'|];\n",
       "  [|'M'; 'S'; 'A'; 'M'; 'A'; 'S'; 'M'; 'S'; 'M'; 'X'|];\n",
       "  [|'X'; 'M'; 'A'; 'S'; 'A'; 'M'; 'X'; 'A'; 'M'; 'M'|];\n",
       "  [|'X'; 'X'; 'A'; 'M'; 'M'; 'X'; 'X'; 'A'; 'M'; 'A'|];\n",
       "  [|'S'; 'M'; 'S'; 'M'; 'S'; 'A'; 'S'; 'X'; 'S'; 'S'|];\n",
       "  [|'S'; 'A'; 'X'; 'A'; 'M'; 'A'; 'S'; 'A'; 'A'; 'A'|];\n",
       "  [|'M'; 'A'; 'M'; 'M'; 'M'; 'X'; 'M'; 'M'; 'M'; 'M'|];\n",
       "  [|'M'; 'X'; 'M'; 'X'; 'A'; 'X'; 'M'; 'A'; 'S'; 'X'|]|]\n"
      ]
     },
     "execution_count": 51,
     "metadata": {},
     "output_type": "execute_result"
    }
   ],
   "source": [
    "read_wordsearch \"day4_example.txt\""
   ]
  },
  {
   "cell_type": "code",
   "execution_count": 52,
   "id": "d12b8685",
   "metadata": {},
   "outputs": [
    {
     "data": {
      "text/plain": [
       "val count_matches : string -> Core.Char.t Core.Array.t Core.Array.t -> int =\n",
       "  <fun>\n"
      ]
     },
     "execution_count": 52,
     "metadata": {},
     "output_type": "execute_result"
    }
   ],
   "source": [
    "let count_matches word grid =\n",
    "  let count_matches_at i j di dj =\n",
    "    let len = String.length word in\n",
    "    let found = ref 1 in\n",
    "    for n = 0 to len-1 do\n",
    "      try\n",
    "        let word_char = String.get word n in\n",
    "        let grid_char = grid.(i + di * n).(j + dj * n) in\n",
    "          if Char.(<>) word_char grid_char then found := 0\n",
    "      with\n",
    "        Invalid_argument _ -> found := 0\n",
    "    done; !found in\n",
    "  let matches = ref 0 in\n",
    "    let rows = Array.length grid in\n",
    "    let cols = Array.length grid.(0) in\n",
    "    let dirs = [(-1, -1); (0, -1); (1, -1);\n",
    "                (-1,  0);          (1,  0);\n",
    "                (-1,  1); (0,  1); (1,  1)] in\n",
    "    for i = 0 to rows-1 do\n",
    "      for j = 0 to cols-1 do\n",
    "        let matches_here = dirs\n",
    "          >>| (fun((di, dj)) -> count_matches_at i j di dj)\n",
    "          |> fold ~init:0 ~f:(+) in\n",
    "          matches := !matches + matches_here\n",
    "      done\n",
    "    done; !matches"
   ]
  },
  {
   "cell_type": "markdown",
   "id": "fddb732c",
   "metadata": {},
   "source": [
    "Why doesn't the inequality operator `<>` work right for characters?  That's weird.  This Jane Street library is banana pancakes."
   ]
  },
  {
   "cell_type": "code",
   "execution_count": 53,
   "id": "ae061893",
   "metadata": {},
   "outputs": [
    {
     "data": {
      "text/plain": [
       "- : int = 18\n"
      ]
     },
     "execution_count": 53,
     "metadata": {},
     "output_type": "execute_result"
    }
   ],
   "source": [
    "read_wordsearch \"day4_example.txt\" |> count_matches \"XMAS\""
   ]
  },
  {
   "cell_type": "code",
   "execution_count": 54,
   "id": "646ba630",
   "metadata": {},
   "outputs": [
    {
     "data": {
      "text/plain": [
       "- : int = 2524\n"
      ]
     },
     "execution_count": 54,
     "metadata": {},
     "output_type": "execute_result"
    }
   ],
   "source": [
    "read_wordsearch \"day4_input.txt\" |> count_matches \"XMAS\""
   ]
  },
  {
   "cell_type": "markdown",
   "id": "87181cd3",
   "metadata": {},
   "source": [
    "### Part 2\n",
    "\n",
    "Oh good we have to search a different way.  Let's see..."
   ]
  },
  {
   "cell_type": "code",
   "execution_count": 55,
   "id": "ab0036b5",
   "metadata": {},
   "outputs": [
    {
     "data": {
      "text/plain": [
       "val count_x_mas : Core.Char.t Core.Array.t Core.Array.t -> int = <fun>\n"
      ]
     },
     "execution_count": 55,
     "metadata": {},
     "output_type": "execute_result"
    }
   ],
   "source": [
    "let count_x_mas grid =\n",
    "  let count_crossing_matches_at i j =\n",
    "    try\n",
    "      let ul = grid.(i-1).(j-1) in\n",
    "      let ur = grid.(i-1).(j+1) in\n",
    "      let dl = grid.(i+1).(j-1) in\n",
    "      let dr = grid.(i+1).(j+1) in\n",
    "      if Char.(grid.(i).(j) = 'A') &&\n",
    "        (Char.(ul = 'M') && Char.(dr = 'S') ||\n",
    "         Char.(ul = 'S') && Char.(dr = 'M')) &&\n",
    "        (Char.(ur = 'M') && Char.(dl = 'S') ||\n",
    "         Char.(ur = 'S') && Char.(dl = 'M')) then 1\n",
    "      else 0\n",
    "    with\n",
    "      Invalid_argument _ -> 0 in\n",
    "  let matches = ref 0 in\n",
    "    let rows = Array.length grid in\n",
    "    let cols = Array.length grid.(0) in\n",
    "    for i = 0 to rows-1 do\n",
    "      for j = 0 to cols-1 do\n",
    "        let matches_here = count_crossing_matches_at i j in\n",
    "          matches := !matches + matches_here\n",
    "      done\n",
    "    done; !matches"
   ]
  },
  {
   "cell_type": "code",
   "execution_count": 56,
   "id": "e7a79dd5",
   "metadata": {},
   "outputs": [
    {
     "data": {
      "text/plain": [
       "- : int = 1873\n"
      ]
     },
     "execution_count": 56,
     "metadata": {},
     "output_type": "execute_result"
    }
   ],
   "source": [
    "read_wordsearch \"day4_input.txt\" |>  count_x_mas"
   ]
  },
  {
   "cell_type": "markdown",
   "id": "704e1aad",
   "metadata": {},
   "source": [
    "## <a name=\"day5\">Day 5</a>\n",
    "\n",
    "### Part 1\n",
    "\n",
    "We're given a ~partial~ (seemingly total?) order as a bunch of pairs `x|y` which means x < y, and then a bunch of strings.  We have to check whether the strings are in order.  We'll just build an adjacency matrix in a hash table to store the ordering."
   ]
  },
  {
   "cell_type": "code",
   "execution_count": 57,
   "id": "be420c4c",
   "metadata": {},
   "outputs": [
    {
     "data": {
      "text/plain": [
       "- : (Core.Int.t, int list) Core.Hashtbl.t = <abstr>\n"
      ]
     },
     "execution_count": 57,
     "metadata": {},
     "output_type": "execute_result"
    }
   ],
   "source": [
    "Hashtbl.of_alist_multi (module Int) [(47, 53); (97, 13); (97, 61); (97, 47)]"
   ]
  },
  {
   "cell_type": "code",
   "execution_count": 58,
   "id": "38a26f85",
   "metadata": {},
   "outputs": [
    {
     "data": {
      "text/plain": [
       "type day5_problem = {\n",
       "  order : (Core.Int.t, int list) Core.Hashtbl.t;\n",
       "  test_cases : int list list;\n",
       "}\n"
      ]
     },
     "execution_count": 58,
     "metadata": {},
     "output_type": "execute_result"
    }
   ],
   "source": [
    "type day5_problem = {order: (Core.Int.t, int list) Core.Hashtbl.t; test_cases: int list list}"
   ]
  },
  {
   "cell_type": "code",
   "execution_count": 59,
   "id": "219aee24",
   "metadata": {},
   "outputs": [
    {
     "data": {
      "text/plain": [
       "val read_day5_problem : Base.string -> day5_problem = <fun>\n"
      ]
     },
     "execution_count": 59,
     "metadata": {},
     "output_type": "execute_result"
    }
   ],
   "source": [
    "let read_day5_problem filename =\n",
    "  let lines = In_channel.read_lines filename in\n",
    "  let select char = filter ~f:(fun (line) -> String.contains line char) in\n",
    "  let order =\n",
    "    let parse line = String.split ~on:'|' line >>| int_of_string |> pair_of_list in\n",
    "    lines |> select '|' >>| parse in\n",
    "  let tests =\n",
    "    let parse line = String.split ~on:',' line >>| int_of_string in\n",
    "    lines |> select ',' >>| parse in\n",
    "  {order = Hashtbl.of_alist_multi (module Int) order;\n",
    "   test_cases = tests}"
   ]
  },
  {
   "cell_type": "code",
   "execution_count": 60,
   "id": "9e39d023",
   "metadata": {},
   "outputs": [
    {
     "data": {
      "text/plain": [
       "- : day5_problem =\n",
       "{order = <abstr>;\n",
       " test_cases =\n",
       "  [[75; 47; 61; 53; 29]; [97; 61; 53; 29; 13]; [75; 29; 13];\n",
       "   [75; 97; 47; 61; 53]; [61; 13; 29]; [97; 13; 75; 29; 47]]}\n"
      ]
     },
     "execution_count": 60,
     "metadata": {},
     "output_type": "execute_result"
    }
   ],
   "source": [
    "read_day5_problem \"day5_example.txt\""
   ]
  },
  {
   "cell_type": "code",
   "execution_count": 61,
   "id": "7ffadc73",
   "metadata": {},
   "outputs": [
    {
     "data": {
      "text/plain": [
       "val order_lookup :\n",
       "  ('a, Core_kernel.Int.t list) Core.Hashtbl.t ->\n",
       "  'a Core.Hashtbl.key -> Core_kernel.Int.t -> bool = <fun>\n"
      ]
     },
     "execution_count": 61,
     "metadata": {},
     "output_type": "execute_result"
    }
   ],
   "source": [
    "let order_lookup order x y =\n",
    "  try\n",
    "    Hashtbl.find_exn order x\n",
    "    |> List.exists ~f:((=) y)\n",
    "  with\n",
    "  | Stdlib.Not_found | Not_found_s _ -> false"
   ]
  },
  {
   "cell_type": "code",
   "execution_count": 62,
   "id": "66641481",
   "metadata": {},
   "outputs": [
    {
     "data": {
      "text/plain": [
       "val day5_compare :\n",
       "  (Core_kernel.Int.t, Core_kernel.Int.t list) Core.Hashtbl.t ->\n",
       "  Core_kernel.Int.t Core.Hashtbl.key -> Core_kernel.Int.t -> int = <fun>\n"
      ]
     },
     "execution_count": 62,
     "metadata": {},
     "output_type": "execute_result"
    }
   ],
   "source": [
    "let day5_compare order x y =\n",
    "  if order_lookup order x y then -1\n",
    "  else if order_lookup order y x then +1\n",
    "  else 0"
   ]
  },
  {
   "cell_type": "code",
   "execution_count": 63,
   "id": "0e41b7c6",
   "metadata": {},
   "outputs": [
    {
     "data": {
      "text/plain": [
       "val in_order :\n",
       "  (Core_kernel.Int.t, Core_kernel.Int.t list) Core.Hashtbl.t ->\n",
       "  Core_kernel.Int.t Core.Hashtbl.key list -> bool = <fun>\n"
      ]
     },
     "execution_count": 63,
     "metadata": {},
     "output_type": "execute_result"
    }
   ],
   "source": [
    "let in_order order xs =\n",
    "  let len = length xs in\n",
    "  let valid = ref true in\n",
    "  (* It would be nicer to write this with a cartesian product that doesn't repeat pairs *)\n",
    "  for i = 0 to len-2 do\n",
    "    for j = i+1 to len-1 do\n",
    "      if day5_compare order (nth_exn xs i) (nth_exn xs j) > 0 then\n",
    "        valid := false\n",
    "    done\n",
    "  done; !valid"
   ]
  },
  {
   "cell_type": "code",
   "execution_count": 64,
   "id": "3035c312",
   "metadata": {},
   "outputs": [
    {
     "data": {
      "text/plain": [
       "val day5_part1 : Base.string -> int = <fun>\n"
      ]
     },
     "execution_count": 64,
     "metadata": {},
     "output_type": "execute_result"
    }
   ],
   "source": [
    "let day5_part1 filename =\n",
    "  let problem = read_day5_problem filename in\n",
    "  let middle xs = nth_exn xs ((length xs) / 2) in\n",
    "  let correctly_ordered = problem.test_cases\n",
    "                        |> filter ~f:(in_order problem.order) in\n",
    "  correctly_ordered >>| middle |> fold ~init:0 ~f:(+)"
   ]
  },
  {
   "cell_type": "code",
   "execution_count": 65,
   "id": "dcc33d02",
   "metadata": {},
   "outputs": [
    {
     "data": {
      "text/plain": [
       "- : int = 143\n"
      ]
     },
     "execution_count": 65,
     "metadata": {},
     "output_type": "execute_result"
    }
   ],
   "source": [
    "day5_part1 \"day5_example.txt\""
   ]
  },
  {
   "cell_type": "code",
   "execution_count": 66,
   "id": "02289e06",
   "metadata": {},
   "outputs": [
    {
     "data": {
      "text/plain": [
       "- : int = 6242\n"
      ]
     },
     "execution_count": 66,
     "metadata": {},
     "output_type": "execute_result"
    }
   ],
   "source": [
    "day5_part1 \"day5_input.txt\""
   ]
  },
  {
   "cell_type": "markdown",
   "id": "157d56d2",
   "metadata": {},
   "source": [
    "### Part 2\n",
    "\n",
    "Now we have to sort stuff."
   ]
  },
  {
   "cell_type": "code",
   "execution_count": 67,
   "id": "fcc9b68c",
   "metadata": {},
   "outputs": [
    {
     "data": {
      "text/plain": [
       "val day5_part2 : Base.string -> int = <fun>\n"
      ]
     },
     "execution_count": 67,
     "metadata": {},
     "output_type": "execute_result"
    }
   ],
   "source": [
    "let day5_part2 filename =\n",
    "  let problem = read_day5_problem filename in\n",
    "  let middle xs = nth_exn xs ((length xs) / 2) in\n",
    "  let incorrectly_ordered = problem.test_cases\n",
    "                          |> filter ~f:(fun(xs) -> not (in_order problem.order xs)) in\n",
    "  let compare x y = day5_compare problem.order x y in\n",
    "  let sort xs = List.sort ~compare:compare xs in\n",
    "  incorrectly_ordered >>| sort >>| middle |> fold ~init:0 ~f:(+)"
   ]
  },
  {
   "cell_type": "code",
   "execution_count": 68,
   "id": "5febbf8b",
   "metadata": {},
   "outputs": [
    {
     "data": {
      "text/plain": [
       "- : int = 123\n"
      ]
     },
     "execution_count": 68,
     "metadata": {},
     "output_type": "execute_result"
    }
   ],
   "source": [
    "day5_part2 \"day5_example.txt\""
   ]
  },
  {
   "cell_type": "code",
   "execution_count": 69,
   "id": "5c9c8ae7",
   "metadata": {},
   "outputs": [
    {
     "data": {
      "text/plain": [
       "- : int = 5169\n"
      ]
     },
     "execution_count": 69,
     "metadata": {},
     "output_type": "execute_result"
    }
   ],
   "source": [
    "day5_part2 \"day5_input.txt\""
   ]
  },
  {
   "cell_type": "markdown",
   "id": "8eaa3b45",
   "metadata": {},
   "source": [
    "## <a name=\"day6\">Day 6</a>\n",
    "\n",
    "### Part 1\n",
    "\n",
    "Today we are plotting lines in a grid I guess.  Haven't we already read grids from files?  Maybe I will go factor out a helper function for that."
   ]
  },
  {
   "cell_type": "code",
   "execution_count": 70,
   "id": "6d9fc85c",
   "metadata": {},
   "outputs": [
    {
     "data": {
      "text/plain": [
       "val read_map : Base.string -> char Core.Array.t Core.Array.t = <fun>\n"
      ]
     },
     "execution_count": 70,
     "metadata": {},
     "output_type": "execute_result"
    }
   ],
   "source": [
    "let read_map file_name = read_grid_from_file file_name"
   ]
  },
  {
   "cell_type": "code",
   "execution_count": 71,
   "id": "d04fe557",
   "metadata": {},
   "outputs": [
    {
     "data": {
      "text/plain": [
       "- : char Core.Array.t Core.Array.t =\n",
       "[|[|'.'; '.'; '.'; '.'; '#'; '.'; '.'; '.'; '.'; '.'|];\n",
       "  [|'.'; '.'; '.'; '.'; '.'; '.'; '.'; '.'; '.'; '#'|];\n",
       "  [|'.'; '.'; '.'; '.'; '.'; '.'; '.'; '.'; '.'; '.'|];\n",
       "  [|'.'; '.'; '#'; '.'; '.'; '.'; '.'; '.'; '.'; '.'|];\n",
       "  [|'.'; '.'; '.'; '.'; '.'; '.'; '.'; '#'; '.'; '.'|];\n",
       "  [|'.'; '.'; '.'; '.'; '.'; '.'; '.'; '.'; '.'; '.'|];\n",
       "  [|'.'; '#'; '.'; '.'; '^'; '.'; '.'; '.'; '.'; '.'|];\n",
       "  [|'.'; '.'; '.'; '.'; '.'; '.'; '.'; '.'; '#'; '.'|];\n",
       "  [|'#'; '.'; '.'; '.'; '.'; '.'; '.'; '.'; '.'; '.'|];\n",
       "  [|'.'; '.'; '.'; '.'; '.'; '.'; '#'; '.'; '.'; '.'|]|]\n"
      ]
     },
     "execution_count": 71,
     "metadata": {},
     "output_type": "execute_result"
    }
   ],
   "source": [
    "read_map \"day6_example.txt\""
   ]
  },
  {
   "cell_type": "markdown",
   "id": "959afa68",
   "metadata": {},
   "source": [
    "Now we need to simulate a guard walking around.  Wow, ocaml's array library is really stilted for fp, or I am just not getting it.  I guess I will just keep it simple and use dumb imperative code."
   ]
  },
  {
   "cell_type": "code",
   "execution_count": 72,
   "id": "33209c6f",
   "metadata": {},
   "outputs": [
    {
     "data": {
      "text/plain": [
       "val find_in_grid : ('a -> bool) -> 'a Core.Array.t Core.Array.t -> int * int =\n",
       "  <fun>\n"
      ]
     },
     "execution_count": 72,
     "metadata": {},
     "output_type": "execute_result"
    }
   ],
   "source": [
    "let find_in_grid p grid =\n",
    "  let pos = ref (-1, -1)\n",
    "  and rows = Array.length grid\n",
    "  and cols = Array.length grid.(0) in\n",
    "  for i = 0 to rows-1 do\n",
    "    for j = 0 to cols-1 do\n",
    "      if p grid.(i).(j) then pos := (i, j)\n",
    "    done\n",
    "  done; !pos"
   ]
  },
  {
   "cell_type": "code",
   "execution_count": 73,
   "id": "8ab7e014",
   "metadata": {},
   "outputs": [
    {
     "data": {
      "text/plain": [
       "- : int * int = (6, 4)\n"
      ]
     },
     "execution_count": 73,
     "metadata": {},
     "output_type": "execute_result"
    }
   ],
   "source": [
    "read_map \"day6_example.txt\" |> find_in_grid (Char.(=) '^')"
   ]
  },
  {
   "cell_type": "markdown",
   "id": "4869425c",
   "metadata": {},
   "source": [
    "I am going to have a whole terrible grid library by the end of the month..."
   ]
  },
  {
   "cell_type": "code",
   "execution_count": 74,
   "id": "69c615d8",
   "metadata": {},
   "outputs": [
    {
     "data": {
      "text/plain": [
       "val simulate_guard : Core.Char.t Core.Array.t Core.Array.t -> int = <fun>\n"
      ]
     },
     "execution_count": 74,
     "metadata": {},
     "output_type": "execute_result"
    }
   ],
   "source": [
    "let simulate_guard grid =\n",
    "  let start = find_in_grid (Char.(=) '^') grid\n",
    "  and turn dir = (snd dir, - fst dir)\n",
    "  (* I guess Core kept the highly useful polymorphic stuff, but put it in \"Poly\" libraries... *)\n",
    "  and count_distinct_positions path =\n",
    "    Hash_set.Poly.of_list (path >>| fst) |> Hash_set.length in\n",
    "  let rec move pos dir path =\n",
    "    let forward = (fst pos + fst dir, snd pos + snd dir) in\n",
    "    try\n",
    "      match find path (Poly.(=) (forward, dir)) with\n",
    "      | Some _ -> path\n",
    "      | None ->\n",
    "        match grid.(fst forward).(snd forward) with\n",
    "        | '#' -> move pos (turn dir) ((pos, turn dir) :: path)\n",
    "        | _ -> move forward dir ((forward, dir) :: path)\n",
    "    with\n",
    "      Invalid_argument _ -> path in\n",
    "  let guard_path = move start (-1, 0) [(start, (-1, 0))] in\n",
    "  count_distinct_positions guard_path"
   ]
  },
  {
   "cell_type": "code",
   "execution_count": 75,
   "id": "79273099",
   "metadata": {},
   "outputs": [
    {
     "data": {
      "text/plain": [
       "- : int = 41\n"
      ]
     },
     "execution_count": 75,
     "metadata": {},
     "output_type": "execute_result"
    }
   ],
   "source": [
    "read_map \"day6_example.txt\" |> simulate_guard"
   ]
  },
  {
   "cell_type": "code",
   "execution_count": 76,
   "id": "a5b2585c",
   "metadata": {},
   "outputs": [
    {
     "data": {
      "text/plain": [
       "- : int = 4663\n"
      ]
     },
     "execution_count": 76,
     "metadata": {},
     "output_type": "execute_result"
    }
   ],
   "source": [
    "read_map \"day6_input.txt\" |> simulate_guard"
   ]
  },
  {
   "cell_type": "markdown",
   "id": "1c6f6c54",
   "metadata": {},
   "source": [
    "### Part 2\n",
    "\n",
    "Now we have to place obstacles to make the guard loop.  The grid is only 130 x 130 so we do not need to be especially clever - we'll just try all the possibilities.  But we should probably use a hash set directly to detect loops now."
   ]
  },
  {
   "cell_type": "code",
   "execution_count": 77,
   "id": "e370e0e8",
   "metadata": {},
   "outputs": [
    {
     "data": {
      "text/plain": [
       "val count_ways_to_loop_guard : Core.Char.t Core.Array.t Core.Array.t -> int =\n",
       "  <fun>\n"
      ]
     },
     "execution_count": 77,
     "metadata": {},
     "output_type": "execute_result"
    }
   ],
   "source": [
    "let count_ways_to_loop_guard grid =\n",
    "  let start = find_in_grid (Char.(=) '^') grid\n",
    "  and turn dir = (snd dir, - fst dir)\n",
    "  and rows = Array.length grid\n",
    "  and cols = Array.length grid.(0) in\n",
    "  let make_history pos = Hash_set.Poly.of_list [(pos, (-1, 0))] in\n",
    "  let rec detect_loop obstacle pos dir history =\n",
    "    let forward = (fst pos + fst dir, snd pos + snd dir) in\n",
    "    try\n",
    "      match Hash_set.mem history (forward, dir) with\n",
    "      | true -> true\n",
    "      | false ->\n",
    "        match grid.(fst forward).(snd forward) with\n",
    "        | '#' ->\n",
    "          Hash_set.add history (pos, turn dir);\n",
    "          detect_loop obstacle pos (turn dir) history\n",
    "        | _ when Poly.(=) forward obstacle -> \n",
    "          Hash_set.add history (pos, turn dir);\n",
    "          detect_loop obstacle pos (turn dir) history\n",
    "        | _ ->\n",
    "          Hash_set.add history (forward, dir);\n",
    "          detect_loop obstacle forward dir history\n",
    "    with\n",
    "      Invalid_argument _ -> false in\n",
    "  let ways = ref 0 in\n",
    "  for i = 0 to rows-1 do\n",
    "    for j = 0 to cols-1 do\n",
    "      if (Poly.(<>) (i, j) start) && detect_loop (i,j) start (-1, 0) (make_history start) then incr ways\n",
    "    done\n",
    "  done; !ways"
   ]
  },
  {
   "cell_type": "code",
   "execution_count": 78,
   "id": "a2d1acef",
   "metadata": {},
   "outputs": [
    {
     "data": {
      "text/plain": [
       "- : int = 6\n"
      ]
     },
     "execution_count": 78,
     "metadata": {},
     "output_type": "execute_result"
    }
   ],
   "source": [
    "read_map \"day6_example.txt\" |> count_ways_to_loop_guard"
   ]
  },
  {
   "cell_type": "code",
   "execution_count": 79,
   "id": "d787b850",
   "metadata": {},
   "outputs": [
    {
     "data": {
      "text/plain": [
       "- : int = 1530\n"
      ]
     },
     "execution_count": 79,
     "metadata": {},
     "output_type": "execute_result"
    }
   ],
   "source": [
    "read_map \"day6_input.txt\" |> count_ways_to_loop_guard"
   ]
  },
  {
   "cell_type": "markdown",
   "id": "495ff578",
   "metadata": {},
   "source": [
    "## <a name=\"day7\">Day 7</a>\n",
    "\n",
    "### Part 1\n",
    "\n",
    "Today we're reading ... possible equations I guess?"
   ]
  },
  {
   "cell_type": "code",
   "execution_count": 80,
   "id": "d0a57ade",
   "metadata": {},
   "outputs": [
    {
     "data": {
      "text/plain": [
       "val read_equations : Base.string -> int list list = <fun>\n"
      ]
     },
     "execution_count": 80,
     "metadata": {},
     "output_type": "execute_result"
    }
   ],
   "source": [
    "let read_equations filename =\n",
    "  let parse line = String.split_on_chars ~on:[' '; ':'] line\n",
    "                 |> filter ~f:(fun(s) -> not (String.is_empty s))\n",
    "                 >>| int_of_string in\n",
    "  In_channel.read_lines filename >>| parse"
   ]
  },
  {
   "cell_type": "code",
   "execution_count": 81,
   "id": "c694f849",
   "metadata": {},
   "outputs": [
    {
     "data": {
      "text/plain": [
       "- : int list list =\n",
       "[[190; 10; 19]; [3267; 81; 40; 27]; [83; 17; 5]; [156; 15; 6];\n",
       " [7290; 6; 8; 6; 15]; [161011; 16; 10; 13]; [192; 17; 8; 14];\n",
       " [21037; 9; 7; 18; 13]; [292; 11; 6; 16; 20]]\n"
      ]
     },
     "execution_count": 81,
     "metadata": {},
     "output_type": "execute_result"
    }
   ],
   "source": [
    "read_equations \"day7_example.txt\""
   ]
  },
  {
   "cell_type": "markdown",
   "id": "2cdd97ab",
   "metadata": {},
   "source": [
    "We have to try inserting + and * operators and evaluating them left-to-right to make the equation work.  We'll use a bitmask to select which operator to insert at each position.  We need to use foldi to apply the operators, but I can't tell from the documentation which parameter is which in the function..."
   ]
  },
  {
   "cell_type": "code",
   "execution_count": 82,
   "id": "1ac42a35",
   "metadata": {},
   "outputs": [
    {
     "data": {
      "text/plain": [
       "- : int = 6\n"
      ]
     },
     "execution_count": 82,
     "metadata": {},
     "output_type": "execute_result"
    }
   ],
   "source": [
    "foldi [0; 0; 0; 0] ~init:0 ~f:(fun i result term -> result + i)"
   ]
  },
  {
   "cell_type": "code",
   "execution_count": 83,
   "id": "a2ed30b3",
   "metadata": {},
   "outputs": [
    {
     "data": {
      "text/plain": [
       "val day7_part1 : Core_kernel.Int.t list list -> int = <fun>\n"
      ]
     },
     "execution_count": 83,
     "metadata": {},
     "output_type": "execute_result"
    }
   ],
   "source": [
    "let day7_part1 equations =\n",
    "  let eval terms ops_mask =\n",
    "    foldi (tl_exn terms)\n",
    "      ~init:(hd_exn terms)\n",
    "      ~f:(fun i result term ->\n",
    "          match (Int.shift_left 1 i) land ops_mask with\n",
    "          | 0 -> result + term\n",
    "          | _ -> result * term) in\n",
    "  let trial equation =\n",
    "    let total = hd_exn equation in\n",
    "    let terms = tl_exn equation in\n",
    "    let num_operations = (length terms) - 1 in\n",
    "    let result = ref 0 in\n",
    "    for ops_mask=0 to (Int.shift_left 1 num_operations)-1 do\n",
    "      if eval terms ops_mask = total then\n",
    "        result := total\n",
    "    done; !result in\n",
    "  equations >>| trial |> fold ~init:0 ~f:(+)"
   ]
  },
  {
   "cell_type": "code",
   "execution_count": 84,
   "id": "adab0bb6",
   "metadata": {},
   "outputs": [
    {
     "data": {
      "text/plain": [
       "- : int = 3749\n"
      ]
     },
     "execution_count": 84,
     "metadata": {},
     "output_type": "execute_result"
    }
   ],
   "source": [
    "read_equations \"day7_example.txt\" |> day7_part1"
   ]
  },
  {
   "cell_type": "code",
   "execution_count": 85,
   "id": "52ba1d4e",
   "metadata": {},
   "outputs": [
    {
     "data": {
      "text/plain": [
       "- : Core.Int.t = 2305843009213693952\n"
      ]
     },
     "execution_count": 85,
     "metadata": {},
     "output_type": "execute_result"
    }
   ],
   "source": [
    "Int.shift_left 1 61 (* ok, I guess we probably have enough precision *)"
   ]
  },
  {
   "cell_type": "code",
   "execution_count": 86,
   "id": "4ebfe6f2",
   "metadata": {},
   "outputs": [
    {
     "data": {
      "text/plain": [
       "- : int = 303876485655\n"
      ]
     },
     "execution_count": 86,
     "metadata": {},
     "output_type": "execute_result"
    }
   ],
   "source": [
    "read_equations \"day7_input.txt\" |> day7_part1"
   ]
  },
  {
   "cell_type": "markdown",
   "id": "862d20a4",
   "metadata": {},
   "source": [
    "### Part 2\n",
    "\n",
    "Now we have to support a third type of operator that does digit concatenation.  This could make for some absurdly large numbers... the largest result in our data has 15 digits, so we'll just bail on anything larger."
   ]
  },
  {
   "cell_type": "code",
   "execution_count": 87,
   "id": "76583f81",
   "metadata": {},
   "outputs": [
    {
     "data": {
      "text/plain": [
       "val day7_part2 : Core_kernel.Int.t list list -> int = <fun>\n"
      ]
     },
     "execution_count": 87,
     "metadata": {},
     "output_type": "execute_result"
    }
   ],
   "source": [
    "let day7_part2 equations =\n",
    "  let digit_cat a b =\n",
    "    let sa = string_of_int a and sb = string_of_int b in\n",
    "    if (String.length sa) + (String.length sb) > 15 then a + b\n",
    "    else int_of_string (sa ^ sb) in\n",
    "  let eval terms ops_mask =\n",
    "    foldi (tl_exn terms)\n",
    "      ~init:(hd_exn terms)\n",
    "      ~f:(fun i result term ->\n",
    "          match (ops_mask / (Int.pow 3 i)) mod 3 with\n",
    "          | 2 -> digit_cat result term \n",
    "          | 1 -> result + term\n",
    "          | _ -> result * term) in\n",
    "  let trial equation =\n",
    "    let total = hd_exn equation in\n",
    "    let terms = tl_exn equation in\n",
    "    let num_operations = (length terms) - 1 in\n",
    "    let result = ref 0 in\n",
    "    for ops_mask=0 to (Int.pow 3 num_operations)-1 do\n",
    "      if eval terms ops_mask = total then\n",
    "        result := total\n",
    "    done; !result in\n",
    "  equations >>| trial |> fold ~init:0 ~f:(+)"
   ]
  },
  {
   "cell_type": "code",
   "execution_count": 88,
   "id": "6c7d34d1",
   "metadata": {},
   "outputs": [
    {
     "data": {
      "text/plain": [
       "- : int = 11387\n"
      ]
     },
     "execution_count": 88,
     "metadata": {},
     "output_type": "execute_result"
    }
   ],
   "source": [
    "read_equations \"day7_example.txt\" |> day7_part2"
   ]
  },
  {
   "cell_type": "code",
   "execution_count": 89,
   "id": "d15a5413",
   "metadata": {},
   "outputs": [
    {
     "data": {
      "text/plain": [
       "- : int = 146111650210682\n"
      ]
     },
     "execution_count": 89,
     "metadata": {},
     "output_type": "execute_result"
    }
   ],
   "source": [
    "read_equations \"day7_input.txt\" |> day7_part2"
   ]
  },
  {
   "cell_type": "markdown",
   "id": "7c0a3d88",
   "metadata": {},
   "source": [
    "## <a name=\"day8\">Day 8</a>\n",
    "\n",
    "### Part 1\n",
    "\n",
    "Today we're trying to map out \"antinodes\", points which are colinear with two others.  The input is given as a grid, but it seems like we really just want some points."
   ]
  },
  {
   "cell_type": "code",
   "execution_count": 90,
   "id": "d2ed6bf6",
   "metadata": {},
   "outputs": [
    {
     "data": {
      "text/plain": [
       "type day8_antennas = {\n",
       "  size : int;\n",
       "  positions : (char, (int * int) list) Core.Hashtbl.Poly.t;\n",
       "}\n"
      ]
     },
     "execution_count": 90,
     "metadata": {},
     "output_type": "execute_result"
    }
   ],
   "source": [
    "type day8_antennas =\n",
    "  {size: int;\n",
    "   positions: (char, (int * int) list) Core.Hashtbl.Poly.t}"
   ]
  },
  {
   "cell_type": "code",
   "execution_count": 91,
   "id": "144e5f66",
   "metadata": {},
   "outputs": [
    {
     "data": {
      "text/plain": [
       "val read_antennas : Base.string -> day8_antennas = <fun>\n"
      ]
     },
     "execution_count": 91,
     "metadata": {},
     "output_type": "execute_result"
    }
   ],
   "source": [
    "let read_antennas filename =\n",
    "  let grid = read_grid_from_file filename in\n",
    "  let size = Array.length grid in\n",
    "  let chars_and_points = ref [] in\n",
    "    for i=0 to size-1 do\n",
    "      for j=0 to size-1 do\n",
    "        let here = grid.(i).(j) in\n",
    "        if Char.(here <> '.') then\n",
    "          chars_and_points := (here, (i, j)) :: !chars_and_points\n",
    "      done\n",
    "    done;\n",
    "    {size=size;\n",
    "     positions=Hashtbl.Poly.of_alist_multi !chars_and_points}"
   ]
  },
  {
   "cell_type": "code",
   "execution_count": 92,
   "id": "4e2add75",
   "metadata": {},
   "outputs": [
    {
     "data": {
      "text/plain": [
       "- : (int * int) list list =\n",
       "[[(1, 8); (2, 5); (3, 7); (4, 4)]; [(5, 6); (8, 8); (9, 9)]]\n"
      ]
     },
     "execution_count": 92,
     "metadata": {},
     "output_type": "execute_result"
    }
   ],
   "source": [
    "let test_ant = read_antennas \"day8_example.txt\" in\n",
    "  Hashtbl.data test_ant.positions"
   ]
  },
  {
   "cell_type": "markdown",
   "id": "6b22e093",
   "metadata": {},
   "source": [
    "We're going to want to look at pairs of points... this is the second time we've wanted a `cartesian_product` of distinct items, so let's just write that (I made a `pairs` helper up above)."
   ]
  },
  {
   "cell_type": "code",
   "execution_count": 93,
   "id": "36364cf2",
   "metadata": {},
   "outputs": [
    {
     "data": {
      "text/plain": [
       "val find_antinodes : day8_antennas -> int = <fun>\n"
      ]
     },
     "execution_count": 93,
     "metadata": {},
     "output_type": "execute_result"
    }
   ],
   "source": [
    "let find_antinodes antennas =\n",
    "  let size = antennas.size in\n",
    "  let in_bounds (x1, y1) = x1 >= 0 && y1 >= 0 && x1 < size && y1 < size in\n",
    "  let delta (x1, y1) (x2, y2) = (x1 - x2, y1 - y2) in\n",
    "  let antinodes_for_points ((x1, y1), (x2, y2)) =\n",
    "    let (dx, dy) = delta (x1, y1) (x2, y2) in\n",
    "    [(x1 + dx, y1 + dy); (x2 - dx, y2 - dy)] in\n",
    "  Hashtbl.data antennas.positions >>| pairs\n",
    "  >>| concat_map ~f:antinodes_for_points |> concat\n",
    "  |> filter ~f:in_bounds\n",
    "  |> Hash_set.Poly.of_list |> Hash_set.length"
   ]
  },
  {
   "cell_type": "code",
   "execution_count": 94,
   "id": "340c16d2",
   "metadata": {},
   "outputs": [
    {
     "data": {
      "text/plain": [
       "- : int = 14\n"
      ]
     },
     "execution_count": 94,
     "metadata": {},
     "output_type": "execute_result"
    }
   ],
   "source": [
    "read_antennas \"day8_example.txt\" |> find_antinodes"
   ]
  },
  {
   "cell_type": "code",
   "execution_count": 95,
   "id": "dd19aa0e",
   "metadata": {},
   "outputs": [
    {
     "data": {
      "text/plain": [
       "- : int = 252\n"
      ]
     },
     "execution_count": 95,
     "metadata": {},
     "output_type": "execute_result"
    }
   ],
   "source": [
    "read_antennas \"day8_input.txt\" |> find_antinodes"
   ]
  },
  {
   "cell_type": "markdown",
   "id": "299adaca",
   "metadata": {},
   "source": [
    "### Part 2\n",
    "\n",
    "Now we have to find even more colinear points.  List comprehensions might be kind of nice... I guess I will use this crummy iota thing instead."
   ]
  },
  {
   "cell_type": "code",
   "execution_count": 96,
   "id": "9e316883",
   "metadata": {},
   "outputs": [
    {
     "data": {
      "text/plain": [
       "- : int list = [-5; -4; -3; -2; -1; 0; 1; 2; 3; 4]\n"
      ]
     },
     "execution_count": 96,
     "metadata": {},
     "output_type": "execute_result"
    }
   ],
   "source": [
    "range (-5) 5"
   ]
  },
  {
   "cell_type": "code",
   "execution_count": 97,
   "id": "21f0790d",
   "metadata": {},
   "outputs": [
    {
     "data": {
      "text/plain": [
       "val find_more_antinodes : day8_antennas -> int = <fun>\n"
      ]
     },
     "execution_count": 97,
     "metadata": {},
     "output_type": "execute_result"
    }
   ],
   "source": [
    "let find_more_antinodes antennas =\n",
    "  let size = antennas.size in\n",
    "  let in_bounds (x1, y1) = x1 >= 0 && y1 >= 0 && x1 < size && y1 < size in\n",
    "  let delta (x1, y1) (x2, y2) = (x1 - x2, y1 - y2) in\n",
    "  let antinodes_for_points ((x1, y1), (x2, y2)) =\n",
    "    let (dx, dy) = delta (x1, y1) (x2, y2) in\n",
    "      (range (-size) size >>| fun d -> (x1 + d * dx, y1 + d * dy))\n",
    "      |> filter ~f:in_bounds in\n",
    "  Hashtbl.data antennas.positions >>| pairs\n",
    "  >>| concat_map ~f:antinodes_for_points |> concat\n",
    "  |> Hash_set.Poly.of_list |> Hash_set.length"
   ]
  },
  {
   "cell_type": "code",
   "execution_count": 98,
   "id": "af9c2cdf",
   "metadata": {},
   "outputs": [
    {
     "data": {
      "text/plain": [
       "- : int = 34\n"
      ]
     },
     "execution_count": 98,
     "metadata": {},
     "output_type": "execute_result"
    }
   ],
   "source": [
    "read_antennas \"day8_example.txt\" |> find_more_antinodes"
   ]
  },
  {
   "cell_type": "code",
   "execution_count": 99,
   "id": "84c76240",
   "metadata": {},
   "outputs": [
    {
     "data": {
      "text/plain": [
       "- : int = 839\n"
      ]
     },
     "execution_count": 99,
     "metadata": {},
     "output_type": "execute_result"
    }
   ],
   "source": [
    "read_antennas \"day8_input.txt\" |> find_more_antinodes"
   ]
  },
  {
   "cell_type": "markdown",
   "id": "b00d89c4",
   "metadata": {},
   "source": [
    "## <a name=\"day9\">Day 9</a>\n",
    "\n",
    "### Part 1\n",
    "\n",
    "We're defragging a hard drive today.  Man, it has been a few years."
   ]
  },
  {
   "cell_type": "code",
   "execution_count": 100,
   "id": "b063d3da",
   "metadata": {},
   "outputs": [
    {
     "data": {
      "text/plain": [
       "type hd_block = Day9File of int | Day9FreeSpace\n"
      ]
     },
     "execution_count": 100,
     "metadata": {},
     "output_type": "execute_result"
    }
   ],
   "source": [
    "type hd_block =\n",
    "  | Day9File of int\n",
    "  | Day9FreeSpace"
   ]
  },
  {
   "cell_type": "code",
   "execution_count": 101,
   "id": "f1d62e57",
   "metadata": {},
   "outputs": [
    {
     "data": {
      "text/plain": [
       "val read_hd_map : Base.string -> hd_block Core.Array.t = <fun>\n"
      ]
     },
     "execution_count": 101,
     "metadata": {},
     "output_type": "execute_result"
    }
   ],
   "source": [
    "let read_hd_map filename =\n",
    "  let digit c = int_of_char c - int_of_char '0' in\n",
    "  let unpack index size =\n",
    "    List.init size ~f:(fun _ ->\n",
    "      if index mod 2 = 0 then Day9File (index / 2)\n",
    "      else Day9FreeSpace) in\n",
    "  In_channel.read_all filename\n",
    "  |> String.to_list\n",
    "  >>| digit\n",
    "  |> concat_mapi ~f:unpack\n",
    "  |> Array.of_list"
   ]
  },
  {
   "cell_type": "code",
   "execution_count": 102,
   "id": "55eba3ec",
   "metadata": {},
   "outputs": [
    {
     "data": {
      "text/plain": [
       "- : hd_block Core.Array.t =\n",
       "[|Day9File 0; Day9File 0; Day9FreeSpace; Day9FreeSpace; Day9FreeSpace;\n",
       "  Day9File 1; Day9File 1; Day9File 1; Day9FreeSpace; Day9FreeSpace;\n",
       "  Day9FreeSpace; Day9File 2; Day9FreeSpace; Day9FreeSpace; Day9FreeSpace;\n",
       "  Day9File 3; Day9File 3; Day9File 3; Day9FreeSpace; Day9File 4; Day9File 4;\n",
       "  Day9FreeSpace; Day9File 5; Day9File 5; Day9File 5; Day9File 5;\n",
       "  Day9FreeSpace; Day9File 6; Day9File 6; Day9File 6; Day9File 6;\n",
       "  Day9FreeSpace; Day9File 7; Day9File 7; Day9File 7; Day9FreeSpace;\n",
       "  Day9File 8; Day9File 8; Day9File 8; Day9File 8; Day9File 9; Day9File 9|]\n"
      ]
     },
     "execution_count": 102,
     "metadata": {},
     "output_type": "execute_result"
    }
   ],
   "source": [
    "read_hd_map \"day9_example.txt\""
   ]
  },
  {
   "cell_type": "code",
   "execution_count": 103,
   "id": "9338693d",
   "metadata": {},
   "outputs": [
    {
     "data": {
      "text/plain": [
       "val defrag : hd_block Core.Array.t -> hd_block Core.Array.t = <fun>\n"
      ]
     },
     "execution_count": 103,
     "metadata": {},
     "output_type": "execute_result"
    }
   ],
   "source": [
    "let defrag hd =\n",
    "  let len = Array.length hd in\n",
    "  let i = ref 0 in\n",
    "  let j = ref (len-1) in\n",
    "  while !i < !j do\n",
    "    match hd.(!i), hd.(!j) with\n",
    "    | Day9File _, _ -> incr i\n",
    "    | _, Day9FreeSpace -> decr j\n",
    "    | Day9FreeSpace, Day9File _ -> begin\n",
    "        hd.(!i) <- hd.(!j);\n",
    "        hd.(!j) <- Day9FreeSpace;\n",
    "        incr i; decr j\n",
    "      end\n",
    "  done; hd"
   ]
  },
  {
   "cell_type": "code",
   "execution_count": 104,
   "id": "87934da4",
   "metadata": {},
   "outputs": [
    {
     "data": {
      "text/plain": [
       "- : hd_block Core.Array.t =\n",
       "[|Day9File 0; Day9File 0; Day9File 9; Day9File 9; Day9File 8; Day9File 1;\n",
       "  Day9File 1; Day9File 1; Day9File 8; Day9File 8; Day9File 8; Day9File 2;\n",
       "  Day9File 7; Day9File 7; Day9File 7; Day9File 3; Day9File 3; Day9File 3;\n",
       "  Day9File 6; Day9File 4; Day9File 4; Day9File 6; Day9File 5; Day9File 5;\n",
       "  Day9File 5; Day9File 5; Day9File 6; Day9File 6; Day9FreeSpace;\n",
       "  Day9FreeSpace; Day9FreeSpace; Day9FreeSpace; Day9FreeSpace; Day9FreeSpace;\n",
       "  Day9FreeSpace; Day9FreeSpace; Day9FreeSpace; Day9FreeSpace; Day9FreeSpace;\n",
       "  Day9FreeSpace; Day9FreeSpace; Day9FreeSpace|]\n"
      ]
     },
     "execution_count": 104,
     "metadata": {},
     "output_type": "execute_result"
    }
   ],
   "source": [
    "read_hd_map \"day9_example.txt\" |> defrag"
   ]
  },
  {
   "cell_type": "code",
   "execution_count": 105,
   "id": "5b4a32b1",
   "metadata": {},
   "outputs": [
    {
     "data": {
      "text/plain": [
       "val checksum : hd_block Core.Array.t -> int = <fun>\n"
      ]
     },
     "execution_count": 105,
     "metadata": {},
     "output_type": "execute_result"
    }
   ],
   "source": [
    "let checksum hd_map =\n",
    "  Array.foldi hd_map ~init:0 ~f:(fun i total contents ->\n",
    "    match contents with\n",
    "    | Day9File num -> total + i * num\n",
    "    | _ -> total)"
   ]
  },
  {
   "cell_type": "code",
   "execution_count": 106,
   "id": "ab83c6f6",
   "metadata": {},
   "outputs": [
    {
     "data": {
      "text/plain": [
       "- : int = 1928\n"
      ]
     },
     "execution_count": 106,
     "metadata": {},
     "output_type": "execute_result"
    }
   ],
   "source": [
    "read_hd_map \"day9_example.txt\" |> defrag |> checksum"
   ]
  },
  {
   "cell_type": "code",
   "execution_count": 107,
   "id": "098641a7",
   "metadata": {},
   "outputs": [
    {
     "data": {
      "text/plain": [
       "- : int = 6360094256423\n"
      ]
     },
     "execution_count": 107,
     "metadata": {},
     "output_type": "execute_result"
    }
   ],
   "source": [
    "read_hd_map \"day9_input.txt\" |> defrag |> checksum"
   ]
  },
  {
   "cell_type": "markdown",
   "id": "363d277c",
   "metadata": {},
   "source": [
    "### Part 2\n",
    "\n",
    "Now we need to defrag not quite as badly I guess?  We need to keep track of a few auxiliary data structures for this part, and it is simpler to build them when reading the file, so we'll start over."
   ]
  },
  {
   "cell_type": "code",
   "execution_count": 108,
   "id": "1b57a9e5",
   "metadata": {},
   "outputs": [
    {
     "data": {
      "text/plain": [
       "type hd = {\n",
       "  map : hd_block Core.Array.t;\n",
       "  directory : (int, int * int) Core.Hashtbl.Poly.t;\n",
       "  free_space_of_size : (int, int list) Core.Hashtbl.Poly.t;\n",
       "  last_file : int;\n",
       "}\n"
      ]
     },
     "execution_count": 108,
     "metadata": {},
     "output_type": "execute_result"
    }
   ],
   "source": [
    "type hd = {\n",
    "  map: hd_block Core.Array.t;\n",
    "  directory: (int, int * int) Core.Hashtbl.Poly.t;\n",
    "  free_space_of_size: (int, int list) Core.Hashtbl.Poly.t;\n",
    "  last_file: int\n",
    "}"
   ]
  },
  {
   "cell_type": "code",
   "execution_count": 109,
   "id": "10853312",
   "metadata": {},
   "outputs": [
    {
     "data": {
      "text/plain": [
       "val read_hd : Base.string -> hd = <fun>\n"
      ]
     },
     "execution_count": 109,
     "metadata": {},
     "output_type": "execute_result"
    }
   ],
   "source": [
    "let read_hd filename =\n",
    "  let digit c = int_of_char c - int_of_char '0' in\n",
    "  let unpack_map index size =\n",
    "    List.init size ~f:(fun _ ->\n",
    "      if index mod 2 = 0 then Day9File (index / 2)\n",
    "      else Day9FreeSpace) in\n",
    "  let unpack_directory index base size =\n",
    "    if index mod 2 = 0 then (base + size, Some (index / 2, (base, size)))\n",
    "    else (base + size, None) in\n",
    "  let unpack_free_space index base size =\n",
    "    if index mod 2 = 1 && size > 0 then (base + size, Some (size, base))\n",
    "    else (base + size, None) in\n",
    "  let digits = In_channel.read_all filename\n",
    "             |> String.to_list\n",
    "             >>| digit in\n",
    "  let map = digits |> concat_mapi ~f:unpack_map |> Array.of_list in\n",
    "  let directory = digits |> folding_mapi ~init:0 ~f:unpack_directory |> filter_opt\n",
    "                |> Hashtbl.Poly.of_alist_exn in\n",
    "  let free_space = digits |> folding_mapi ~init:0 ~f:unpack_free_space |> filter_opt\n",
    "                 |> Hashtbl.Poly.of_alist_multi\n",
    "                 |> Hashtbl.map ~f:(fun xs -> sort ~compare:Int.compare xs) in\n",
    "  {map=map;\n",
    "   directory=directory;\n",
    "   free_space_of_size=free_space;\n",
    "   last_file=((length digits) - 1) / 2}"
   ]
  },
  {
   "cell_type": "code",
   "execution_count": 110,
   "id": "47ac3669",
   "metadata": {},
   "outputs": [
    {
     "data": {
      "text/plain": [
       "- : int list list = [[2; 8; 12]; [18; 21; 26; 31; 35]]\n"
      ]
     },
     "execution_count": 110,
     "metadata": {},
     "output_type": "execute_result"
    }
   ],
   "source": [
    "Hashtbl.data (read_hd \"day9_example.txt\").free_space_of_size"
   ]
  },
  {
   "cell_type": "markdown",
   "id": "ee7bd1a1",
   "metadata": {},
   "source": [
    "This took me way too long because I didn't understand that files could still only move to the left of their original position.  I guess we wouldn't really accomplish defragmenting otherwise..."
   ]
  },
  {
   "cell_type": "code",
   "execution_count": 111,
   "id": "9672d940",
   "metadata": {},
   "outputs": [
    {
     "data": {
      "text/plain": [
       "val defrag2 : hd -> hd = <fun>\n"
      ]
     },
     "execution_count": 111,
     "metadata": {},
     "output_type": "execute_result"
    }
   ],
   "source": [
    "let defrag2 hd =\n",
    "  let first_free_of_size before_pos size =\n",
    "    match Hashtbl.find hd.free_space_of_size size with\n",
    "    | Some (pos::_) when pos < before_pos -> Some (size, pos)\n",
    "    | _ -> None in\n",
    "  let add_free_space size base =\n",
    "    Hashtbl.add_multi hd.free_space_of_size size base;\n",
    "    let blocks = Hashtbl.find_exn hd.free_space_of_size size in\n",
    "    let sorted_blocks = sort blocks ~compare:Int.compare in\n",
    "    Hashtbl.set hd.free_space_of_size size sorted_blocks in\n",
    "  let move_file id =\n",
    "    let (base, size) = Hashtbl.find_exn hd.directory id in\n",
    "    let valid_sizes = range size 10 in\n",
    "    let choices = valid_sizes >>| first_free_of_size base |> filter_opt in\n",
    "    let dest = choices |> min_elt ~compare:(fun (_, x) (_, y) -> Int.compare x y) in\n",
    "      match dest with\n",
    "      | Some (dest_size, dest_pos) -> begin\n",
    "          for i = 0 to size-1 do\n",
    "            hd.map.(base + i) <- Day9FreeSpace;\n",
    "            match hd.map.(dest_pos + i) with\n",
    "            | Day9FreeSpace -> hd.map.(dest_pos + i) <- Day9File id\n",
    "            | _ -> failwith \"overwriting file\"\n",
    "          done;\n",
    "          Hashtbl.set hd.directory id (dest_pos, size);\n",
    "          (* the block we just took must be the first *)\n",
    "          Hashtbl.remove_multi hd.free_space_of_size dest_size;\n",
    "          (* we don't need this because of the constraint about only moving files to the left *)\n",
    "          (*add_free_space size base;*)\n",
    "          if dest_size > size then add_free_space (dest_size - size) (dest_pos + size);\n",
    "        end\n",
    "      | None -> () in\n",
    "  for id=hd.last_file downto 0 do\n",
    "    move_file id\n",
    "  done; hd"
   ]
  },
  {
   "cell_type": "code",
   "execution_count": 112,
   "id": "1a67876e",
   "metadata": {},
   "outputs": [
    {
     "data": {
      "text/plain": [
       "- : hd =\n",
       "{map =\n",
       "  [|Day9File 0; Day9File 0; Day9File 9; Day9File 9; Day9File 2; Day9File 1;\n",
       "    Day9File 1; Day9File 1; Day9File 7; Day9File 7; Day9File 7;\n",
       "    Day9FreeSpace; Day9File 4; Day9File 4; Day9FreeSpace; Day9File 3;\n",
       "    Day9File 3; Day9File 3; Day9FreeSpace; Day9FreeSpace; Day9FreeSpace;\n",
       "    Day9FreeSpace; Day9File 5; Day9File 5; Day9File 5; Day9File 5;\n",
       "    Day9FreeSpace; Day9File 6; Day9File 6; Day9File 6; Day9File 6;\n",
       "    Day9FreeSpace; Day9FreeSpace; Day9FreeSpace; Day9FreeSpace;\n",
       "    Day9FreeSpace; Day9File 8; Day9File 8; Day9File 8; Day9File 8;\n",
       "    Day9FreeSpace; Day9FreeSpace|];\n",
       " directory = <abstr>; free_space_of_size = <abstr>; last_file = 9}\n"
      ]
     },
     "execution_count": 112,
     "metadata": {},
     "output_type": "execute_result"
    }
   ],
   "source": [
    "read_hd \"day9_example.txt\" |> defrag2"
   ]
  },
  {
   "cell_type": "code",
   "execution_count": 113,
   "id": "fdc6ef0f",
   "metadata": {},
   "outputs": [
    {
     "data": {
      "text/plain": [
       "- : int = 2858\n"
      ]
     },
     "execution_count": 113,
     "metadata": {},
     "output_type": "execute_result"
    }
   ],
   "source": [
    "(read_hd \"day9_example.txt\" |> defrag2).map |> checksum"
   ]
  },
  {
   "cell_type": "code",
   "execution_count": 114,
   "id": "dac56934",
   "metadata": {},
   "outputs": [
    {
     "data": {
      "text/plain": [
       "- : int = 6379677752410\n"
      ]
     },
     "execution_count": 114,
     "metadata": {},
     "output_type": "execute_result"
    }
   ],
   "source": [
    "(read_hd \"day9_input.txt\" |> defrag2).map |> checksum"
   ]
  },
  {
   "cell_type": "markdown",
   "id": "7485e1e8",
   "metadata": {},
   "source": [
    "## <a name=\"day10\">Day 10</a>\n",
    "\n",
    "### Part 1\n",
    "\n",
    "Hooray, we are searching in a grid.  I love searching in grids.  Yup."
   ]
  },
  {
   "cell_type": "code",
   "execution_count": 115,
   "id": "07bd3806",
   "metadata": {},
   "outputs": [
    {
     "data": {
      "text/plain": [
       "val read_topo_map : Base.string -> int Core.Array.t Core.Array.t = <fun>\n"
      ]
     },
     "execution_count": 115,
     "metadata": {},
     "output_type": "execute_result"
    }
   ],
   "source": [
    "let read_topo_map filename =\n",
    "  let map = read_grid_from_file filename in\n",
    "  let digit_of_char c = int_of_char c - int_of_char '0' in\n",
    "  map |> Array.map ~f:(fun row -> Array.map row digit_of_char)"
   ]
  },
  {
   "cell_type": "code",
   "execution_count": 116,
   "id": "54747381",
   "metadata": {},
   "outputs": [
    {
     "data": {
      "text/plain": [
       "- : int Core.Array.t Core.Array.t =\n",
       "[|[|8; 9; 0; 1; 0; 1; 2; 3|]; [|7; 8; 1; 2; 1; 8; 7; 4|];\n",
       "  [|8; 7; 4; 3; 0; 9; 6; 5|]; [|9; 6; 5; 4; 9; 8; 7; 4|];\n",
       "  [|4; 5; 6; 7; 8; 9; 0; 3|]; [|3; 2; 0; 1; 9; 0; 1; 2|];\n",
       "  [|0; 1; 3; 2; 9; 8; 0; 1|]; [|1; 0; 4; 5; 6; 7; 3; 2|]|]\n"
      ]
     },
     "execution_count": 116,
     "metadata": {},
     "output_type": "execute_result"
    }
   ],
   "source": [
    "read_topo_map \"day10_example.txt\""
   ]
  },
  {
   "cell_type": "code",
   "execution_count": 117,
   "id": "4be9c564",
   "metadata": {},
   "outputs": [
    {
     "data": {
      "text/plain": [
       "val grid_find_all :\n",
       "  Core_kernel.Int.t Core.Array.t Core.Array.t ->\n",
       "  x:Core_kernel.Int.t -> (int * int) list = <fun>\n"
      ]
     },
     "execution_count": 117,
     "metadata": {},
     "output_type": "execute_result"
    }
   ],
   "source": [
    "let grid_find_all grid ~x =\n",
    "  let rows = Array.length grid in\n",
    "  let cols = Array.length grid.(0) in\n",
    "  let matches = ref [] in\n",
    "  for i=0 to rows-1 do\n",
    "    for j=0 to cols-1 do\n",
    "      if grid.(i).(j) = x then\n",
    "        matches := (i, j) :: !matches\n",
    "      done\n",
    "    done; !matches"
   ]
  },
  {
   "cell_type": "code",
   "execution_count": 118,
   "id": "887b280d",
   "metadata": {},
   "outputs": [
    {
     "data": {
      "text/plain": [
       "- : (int * int) list =\n",
       "[(7, 1); (6, 6); (6, 0); (5, 5); (5, 2); (4, 6); (2, 4); (0, 4); (0, 2)]\n"
      ]
     },
     "execution_count": 118,
     "metadata": {},
     "output_type": "execute_result"
    }
   ],
   "source": [
    "read_topo_map \"day10_example.txt\" |> grid_find_all ~x:0"
   ]
  },
  {
   "cell_type": "code",
   "execution_count": 119,
   "id": "f8024fd6",
   "metadata": {},
   "outputs": [
    {
     "data": {
      "text/plain": [
       "val score_trails : Core_kernel.Int.t Core.Array.t Core.Array.t -> int * int =\n",
       "  <fun>\n"
      ]
     },
     "execution_count": 119,
     "metadata": {},
     "output_type": "execute_result"
    }
   ],
   "source": [
    "let score_trails map =\n",
    "  let size = Array.length map in\n",
    "  let trailheads = grid_find_all map 0 in\n",
    "  let neighbors (i,j) =\n",
    "    (if i > 0 && map.(i-1).(j) = 1 + map.(i).(j) then [(i-1, j)] else []) @\n",
    "    (if j > 0 && map.(i).(j-1) = 1 + map.(i).(j) then [(i, j-1)] else []) @\n",
    "    (if i < size-1 && map.(i+1).(j) = 1 + map.(i).(j) then [(i+1, j)] else []) @\n",
    "    (if j < size-1 && map.(i).(j+1) = 1 + map.(i).(j) then [(i, j+1)] else []) in\n",
    "  let rec search horizon =\n",
    "    match horizon with\n",
    "    | [] -> []\n",
    "    | [(i,j)] ->\n",
    "        if map.(i).(j) = 9 then [(i, j)]\n",
    "        else search (neighbors (i, j))\n",
    "    | (i,j)::rest ->\n",
    "        if map.(i).(j) = 9 then (i,j) :: search rest\n",
    "        else search (neighbors (i,j) @ rest) in\n",
    "  let compare_tuples (a1,b1) (a2,b2) =\n",
    "    if a1 = a2 then Stdlib.compare b1 b2\n",
    "    else Stdlib.compare a1 a2 in\n",
    "  let count_distinct_reachable_9s p =\n",
    "    search [p] |> dedup_and_sort ~compare:compare_tuples |> length in\n",
    "  (* part 2 *)\n",
    "  let count_trails p =\n",
    "    search [p] |> length in\n",
    "  let sum = fold ~init:0 ~f:(+) in\n",
    "  (trailheads >>| count_distinct_reachable_9s |> sum,\n",
    "   trailheads >>| count_trails |> sum)"
   ]
  },
  {
   "cell_type": "code",
   "execution_count": 120,
   "id": "6ade76a5",
   "metadata": {},
   "outputs": [
    {
     "data": {
      "text/plain": [
       "- : int * int = (36, 81)\n"
      ]
     },
     "execution_count": 120,
     "metadata": {},
     "output_type": "execute_result"
    }
   ],
   "source": [
    "read_topo_map \"day10_example.txt\" |> score_trails"
   ]
  },
  {
   "cell_type": "code",
   "execution_count": 121,
   "id": "dd350baf",
   "metadata": {},
   "outputs": [
    {
     "data": {
      "text/plain": [
       "- : int * int = (593, 1192)\n"
      ]
     },
     "execution_count": 121,
     "metadata": {},
     "output_type": "execute_result"
    }
   ],
   "source": [
    "read_topo_map \"day10_input.txt\" |> score_trails"
   ]
  },
  {
   "cell_type": "markdown",
   "id": "0d585b57",
   "metadata": {},
   "source": [
    "### Part 2\n",
    "\n",
    "I happened to write my search to find all paths anyway so just added an extra output to the tuple for part 1."
   ]
  },
  {
   "cell_type": "markdown",
   "id": "16f26f39",
   "metadata": {},
   "source": [
    "## <a name=\"day11\">Day 11</a>\n",
    "\n",
    "### Part 1\n",
    "\n",
    "Today is a good day because it is not a grid day.  Instead, today, we've got... stones?  Big stones, apparently.  Is there event a bigint library?  Yes... ok, it's so old that it doesn't work with the current package manager."
   ]
  },
  {
   "cell_type": "code",
   "execution_count": 122,
   "id": "80b5b9ba",
   "metadata": {},
   "outputs": [],
   "source": [
    "#load \"nums.cma\" ;;"
   ]
  },
  {
   "cell_type": "code",
   "execution_count": 123,
   "id": "626f26e6",
   "metadata": {},
   "outputs": [
    {
     "data": {
      "text/plain": [
       "val read_stones : Base.string -> Base.string list = <fun>\n"
      ]
     },
     "execution_count": 123,
     "metadata": {},
     "output_type": "execute_result"
    }
   ],
   "source": [
    "let read_stones filename =\n",
    "  let trim s =\n",
    "    let len = String.length s in\n",
    "    if Char.(s.[len - 1] = '\\n') then String.sub s 0 (len - 1)\n",
    "    else s in\n",
    "  In_channel.read_all filename\n",
    "  |> trim\n",
    "  |> String.split ~on:' '"
   ]
  },
  {
   "cell_type": "code",
   "execution_count": 124,
   "id": "e115a2e5",
   "metadata": {},
   "outputs": [
    {
     "data": {
      "text/plain": [
       "- : Base.string list = [\"125\"; \"17\"]\n"
      ]
     },
     "execution_count": 124,
     "metadata": {},
     "output_type": "execute_result"
    }
   ],
   "source": [
    "read_stones \"day11_example.txt\""
   ]
  },
  {
   "cell_type": "code",
   "execution_count": 125,
   "id": "53ddab8a",
   "metadata": {},
   "outputs": [
    {
     "data": {
      "text/plain": [
       "val split_digits : string -> string list option = <fun>\n"
      ]
     },
     "execution_count": 125,
     "metadata": {},
     "output_type": "execute_result"
    }
   ],
   "source": [
    "let split_digits s =\n",
    "  let len = String.length s in\n",
    "  if len mod 2 = 0 then\n",
    "    Some [Big_int.(string_of_big_int @@ big_int_of_string @@ String.sub s 0 (len/2));\n",
    "          Big_int.(string_of_big_int @@ big_int_of_string @@ String.sub s (len/2) (len/2))]\n",
    "  else\n",
    "    None"
   ]
  },
  {
   "cell_type": "code",
   "execution_count": 126,
   "id": "e72a957f",
   "metadata": {},
   "outputs": [
    {
     "data": {
      "text/plain": [
       "val step_stones : Core.String.t -> string list = <fun>\n"
      ]
     },
     "execution_count": 126,
     "metadata": {},
     "output_type": "execute_result"
    }
   ],
   "source": [
    "let step_stones s =\n",
    "  if String.(s = \"0\") then [\"1\"]\n",
    "  else match split_digits s with\n",
    "  | Some split -> split\n",
    "  | None -> [Big_int.(mult_int_big_int 2024 (big_int_of_string s) |> string_of_big_int)]"
   ]
  },
  {
   "cell_type": "code",
   "execution_count": 127,
   "id": "c3f06e1e",
   "metadata": {},
   "outputs": [
    {
     "data": {
      "text/plain": [
       "val blink : Core.String.t list -> string list = <fun>\n"
      ]
     },
     "execution_count": 127,
     "metadata": {},
     "output_type": "execute_result"
    }
   ],
   "source": [
    "let blink stones = stones |> concat_map ~f:step_stones"
   ]
  },
  {
   "cell_type": "code",
   "execution_count": 128,
   "id": "faa0c965",
   "metadata": {},
   "outputs": [
    {
     "data": {
      "text/plain": [
       "val iterate : Core_kernel.Int.t -> ('a -> 'a) -> 'a -> 'a = <fun>\n"
      ]
     },
     "execution_count": 128,
     "metadata": {},
     "output_type": "execute_result"
    }
   ],
   "source": [
    "let rec iterate n fn acc =\n",
    "  if n = 0 then acc\n",
    "  else iterate (n-1) fn (fn acc)"
   ]
  },
  {
   "cell_type": "code",
   "execution_count": 129,
   "id": "c1d4fae3",
   "metadata": {},
   "outputs": [
    {
     "data": {
      "text/plain": [
       "- : Base.string list =\n",
       "[\"2097446912\"; \"14168\"; \"4048\"; \"2\"; \"0\"; \"2\"; \"4\"; \"40\"; \"48\"; \"2024\"; \"40\";\n",
       " \"48\"; \"80\"; \"96\"; \"2\"; \"8\"; \"6\"; \"7\"; \"6\"; \"0\"; \"3\"; \"2\"]\n"
      ]
     },
     "execution_count": 129,
     "metadata": {},
     "output_type": "execute_result"
    }
   ],
   "source": [
    "read_stones \"day11_example.txt\" |> iterate 6 blink"
   ]
  },
  {
   "cell_type": "code",
   "execution_count": 130,
   "id": "79c5d96d",
   "metadata": {},
   "outputs": [
    {
     "data": {
      "text/plain": [
       "- : int = 55312\n"
      ]
     },
     "execution_count": 130,
     "metadata": {},
     "output_type": "execute_result"
    }
   ],
   "source": [
    "read_stones \"day11_example.txt\" |> iterate 25 blink |> length"
   ]
  },
  {
   "cell_type": "code",
   "execution_count": 131,
   "id": "3cf4ebc7",
   "metadata": {},
   "outputs": [
    {
     "data": {
      "text/plain": [
       "- : int = 220722\n"
      ]
     },
     "execution_count": 131,
     "metadata": {},
     "output_type": "execute_result"
    }
   ],
   "source": [
    "read_stones \"day11_input.txt\" |> iterate 25 blink |> length"
   ]
  },
  {
   "cell_type": "markdown",
   "id": "82259363",
   "metadata": {},
   "source": [
    "### Part 2\n",
    "\n",
    "Now we have to iterate 75 times.  Let's see if we can just do this."
   ]
  },
  {
   "cell_type": "code",
   "execution_count": 132,
   "id": "f620e08a",
   "metadata": {},
   "outputs": [],
   "source": [
    "(* read_stones \"day11_input.txt\" |> iterate 75 blink |> length *)"
   ]
  },
  {
   "cell_type": "markdown",
   "id": "907f88da",
   "metadata": {},
   "source": [
    "Ok, I guess we have to think harder.  How many _distinct_ things do we have after N iterations?"
   ]
  },
  {
   "cell_type": "code",
   "execution_count": 133,
   "id": "4c8f1b00",
   "metadata": {},
   "outputs": [
    {
     "data": {
      "text/plain": [
       "- : int = 380\n"
      ]
     },
     "execution_count": 133,
     "metadata": {},
     "output_type": "execute_result"
    }
   ],
   "source": [
    "read_stones \"day11_input.txt\"\n",
    "|> iterate 25 blink\n",
    "|> Hash_set.Poly.of_list\n",
    "|> Hash_set.length"
   ]
  },
  {
   "cell_type": "markdown",
   "id": "ca81a2b0",
   "metadata": {},
   "source": [
    "Great, so let's keep a census of types of stones instead of repeating all that work.  Except Big_ints aren't hashable, because of course... so let's go back and use strings for everything, SIGH."
   ]
  },
  {
   "cell_type": "code",
   "execution_count": 134,
   "id": "cef5c9d5",
   "metadata": {},
   "outputs": [
    {
     "data": {
      "text/plain": [
       "val update_stone_count :\n",
       "  census:('a, int) Core.Hashtbl.t -> count:int -> 'a Core.Hashtbl.key -> unit =\n",
       "  <fun>\n"
      ]
     },
     "execution_count": 134,
     "metadata": {},
     "output_type": "execute_result"
    }
   ],
   "source": [
    "let update_stone_count ~census ~count kind =\n",
    "  Hashtbl.update census kind ~f:(fun n -> match n with\n",
    "    | Some n -> n + count\n",
    "    | None -> count)"
   ]
  },
  {
   "cell_type": "code",
   "execution_count": 135,
   "id": "d0dd320a",
   "metadata": {},
   "outputs": [
    {
     "data": {
      "text/plain": [
       "val make_initial_census :\n",
       "  Core.String.t Core.Hashtbl.key list -> (Core.String.t, int) Core.Hashtbl.t =\n",
       "  <fun>\n"
      ]
     },
     "execution_count": 135,
     "metadata": {},
     "output_type": "execute_result"
    }
   ],
   "source": [
    "let make_initial_census stones =\n",
    "  let census = Hashtbl.create (module String) in\n",
    "  let _ = stones >>| update_stone_count ~census:census ~count:1 in\n",
    "  census"
   ]
  },
  {
   "cell_type": "code",
   "execution_count": 136,
   "id": "cf2878e2",
   "metadata": {},
   "outputs": [
    {
     "data": {
      "text/plain": [
       "val blink_smarter :\n",
       "  (Core.String.t, int) Core.Hashtbl.t -> (Core.String.t, int) Core.Hashtbl.t =\n",
       "  <fun>\n"
      ]
     },
     "execution_count": 136,
     "metadata": {},
     "output_type": "execute_result"
    }
   ],
   "source": [
    "let blink_smarter census =\n",
    "  let census' = Hashtbl.create (module String) in\n",
    "  let _ = Hashtbl.iteri census ~f:(fun ~key ~data ->\n",
    "    iter (step_stones key) (update_stone_count ~census:census' ~count:data)\n",
    "  ) in\n",
    "  census'"
   ]
  },
  {
   "cell_type": "code",
   "execution_count": 137,
   "id": "38ac8302",
   "metadata": {},
   "outputs": [
    {
     "data": {
      "text/plain": [
       "- : int = 220722\n"
      ]
     },
     "execution_count": 137,
     "metadata": {},
     "output_type": "execute_result"
    }
   ],
   "source": [
    "read_stones \"day11_input.txt\"\n",
    "|> make_initial_census\n",
    "|> iterate 25 blink_smarter\n",
    "|> Hashtbl.fold ~init:0 ~f:(fun ~key ~data acc -> acc + data)"
   ]
  },
  {
   "cell_type": "code",
   "execution_count": 138,
   "id": "ecdf4979",
   "metadata": {},
   "outputs": [
    {
     "data": {
      "text/plain": [
       "- : int = 261952051690787\n"
      ]
     },
     "execution_count": 138,
     "metadata": {},
     "output_type": "execute_result"
    }
   ],
   "source": [
    "read_stones \"day11_input.txt\"\n",
    "|> make_initial_census\n",
    "|> iterate 75 blink_smarter\n",
    "|> Hashtbl.fold ~init:0 ~f:(fun ~key ~data acc -> acc + data)"
   ]
  },
  {
   "cell_type": "markdown",
   "id": "bc60f7b5",
   "metadata": {},
   "source": [
    "## <a name=\"day12\">Day 12</a>\n",
    "\n",
    "### Part 1\n",
    "\n",
    "Sigh, here we go again with grids.  Today we are flood filling regions I guess."
   ]
  },
  {
   "cell_type": "code",
   "execution_count": 139,
   "id": "87c9463b",
   "metadata": {
    "scrolled": true
   },
   "outputs": [
    {
     "data": {
      "text/plain": [
       "- : char Core.Array.t Core.Array.t =\n",
       "[|[|'R'; 'R'; 'R'; 'R'; 'I'; 'I'; 'C'; 'C'; 'F'; 'F'|];\n",
       "  [|'R'; 'R'; 'R'; 'R'; 'I'; 'I'; 'C'; 'C'; 'C'; 'F'|];\n",
       "  [|'V'; 'V'; 'R'; 'R'; 'R'; 'C'; 'C'; 'F'; 'F'; 'F'|];\n",
       "  [|'V'; 'V'; 'R'; 'C'; 'C'; 'C'; 'J'; 'F'; 'F'; 'F'|];\n",
       "  [|'V'; 'V'; 'V'; 'V'; 'C'; 'J'; 'J'; 'C'; 'F'; 'E'|];\n",
       "  [|'V'; 'V'; 'I'; 'V'; 'C'; 'C'; 'J'; 'J'; 'E'; 'E'|];\n",
       "  [|'V'; 'V'; 'I'; 'I'; 'I'; 'C'; 'J'; 'J'; 'E'; 'E'|];\n",
       "  [|'M'; 'I'; 'I'; 'I'; 'I'; 'I'; 'J'; 'J'; 'E'; 'E'|];\n",
       "  [|'M'; 'I'; 'I'; 'I'; 'S'; 'I'; 'J'; 'E'; 'E'; 'E'|];\n",
       "  [|'M'; 'M'; 'M'; 'I'; 'S'; 'S'; 'J'; 'E'; 'E'; 'E'|]|]\n"
      ]
     },
     "execution_count": 139,
     "metadata": {},
     "output_type": "execute_result"
    }
   ],
   "source": [
    "read_grid_from_file \"day12_example.txt\""
   ]
  },
  {
   "cell_type": "markdown",
   "id": "9cff5509",
   "metadata": {},
   "source": [
    "Ok, apparently we only have core v0.14.1, because that's the latest version that is in opam?  So I can't copy a matrix."
   ]
  },
  {
   "cell_type": "code",
   "execution_count": 140,
   "id": "1d69eafb",
   "metadata": {},
   "outputs": [
    {
     "ename": "error",
     "evalue": "compile_error",
     "output_type": "error",
     "traceback": [
      "File \"[140]\", line 1, characters 0-17:\n1 | Array.copy_matrix\n    ^^^^^^^^^^^^^^^^^\nError: Unbound value Array.copy_matrix\n"
     ]
    }
   ],
   "source": [
    "Array.copy_matrix"
   ]
  },
  {
   "cell_type": "markdown",
   "id": "80aa21d9",
   "metadata": {},
   "source": [
    "Fine, we'll do it live."
   ]
  },
  {
   "cell_type": "code",
   "execution_count": 141,
   "id": "ab2a2478",
   "metadata": {},
   "outputs": [
    {
     "data": {
      "text/plain": [
       "val copy_matrix :\n",
       "  'a Core.Array.t Core.Array.t -> 'a Core.Array.t Core.Array.t = <fun>\n"
      ]
     },
     "execution_count": 141,
     "metadata": {},
     "output_type": "execute_result"
    }
   ],
   "source": [
    "let copy_matrix matrix =\n",
    "  let rows = Array.length matrix in\n",
    "  let cols = Array.length matrix.(0) in\n",
    "  let copy = Array.make_matrix rows cols matrix.(0).(0) in\n",
    "  for i=0 to rows-1 do\n",
    "    for j=0 to cols-1 do\n",
    "      copy.(i).(j) <- matrix.(i).(j)\n",
    "    done\n",
    "  done; copy"
   ]
  },
  {
   "cell_type": "code",
   "execution_count": 142,
   "id": "6e767a7d",
   "metadata": {},
   "outputs": [
    {
     "data": {
      "text/plain": [
       "val find_plant_groups :\n",
       "  Core.Char.t Core.Array.t Core.Array.t ->\n",
       "  (Core_kernel.Int.t * Core_kernel.Int.t) Base.List.t list = <fun>\n"
      ]
     },
     "execution_count": 142,
     "metadata": {},
     "output_type": "execute_result"
    }
   ],
   "source": [
    "let find_plant_groups grid =\n",
    "  (*let plots = Array.copy_matrix grid in*)\n",
    "  let plots = copy_matrix grid in\n",
    "  let size = Array.length plots in\n",
    "  let rec fill plant i j =\n",
    "    if i < 0 || i > size-1 || j < 0 || j > size-1 then []\n",
    "    else if Char.(plant = plots.(i).(j)) then begin\n",
    "      plots.(i).(j) <- '.';\n",
    "      (i,j) :: (\n",
    "        fill plant (i-1) j @\n",
    "        fill plant (i+1) j @\n",
    "        fill plant i (j-1) @\n",
    "        fill plant i (j+1))\n",
    "    end else [] in\n",
    "  let regions = ref [] in\n",
    "  for i=0 to size-1 do\n",
    "    for j=0 to size-1 do\n",
    "      let plant = plots.(i).(j) in\n",
    "      if Char.(plant <> '.') then\n",
    "        regions := (fill plant i j) :: !regions\n",
    "    done\n",
    "  done; !regions"
   ]
  },
  {
   "cell_type": "code",
   "execution_count": 143,
   "id": "6a3f0b34",
   "metadata": {},
   "outputs": [
    {
     "data": {
      "text/plain": [
       "- : int list = [3; 5; 14; 13; 1; 11; 13; 10; 14; 4; 12]\n"
      ]
     },
     "execution_count": 143,
     "metadata": {},
     "output_type": "execute_result"
    }
   ],
   "source": [
    "read_grid_from_file \"day12_example.txt\" |> find_plant_groups >>| length"
   ]
  },
  {
   "cell_type": "code",
   "execution_count": 144,
   "id": "731031e9",
   "metadata": {},
   "outputs": [
    {
     "data": {
      "text/plain": [
       "val sum : int list -> int = <fun>\n"
      ]
     },
     "execution_count": 144,
     "metadata": {},
     "output_type": "execute_result"
    }
   ],
   "source": [
    "let sum = fold ~init:0 ~f:(+)"
   ]
  },
  {
   "cell_type": "code",
   "execution_count": 145,
   "id": "cb5c7e47",
   "metadata": {},
   "outputs": [
    {
     "data": {
      "text/plain": [
       "val fence_cost : Core.Char.t Core.Array.t Core.Array.t -> int = <fun>\n"
      ]
     },
     "execution_count": 145,
     "metadata": {},
     "output_type": "execute_result"
    }
   ],
   "source": [
    "let fence_cost grid =\n",
    "  let size = Array.length grid in\n",
    "  let groups = find_plant_groups grid in\n",
    "  let fenced_sides (i,j) =\n",
    "    (if i = 0 || Char.(grid.(i-1).(j) <> grid.(i).(j)) then 1 else 0) +\n",
    "    (if i = size-1 || Char.(grid.(i+1).(j) <> grid.(i).(j)) then 1 else 0) +\n",
    "    (if j = 0 || Char.(grid.(i).(j-1) <> grid.(i).(j)) then 1 else 0) +\n",
    "    (if j = size-1 || Char.(grid.(i).(j+1) <> grid.(i).(j)) then 1 else 0) in\n",
    "  let perimeter group = group >>| fenced_sides |> sum in\n",
    "  let area group = length group in\n",
    "  let cost group = (perimeter group) * (area group) in\n",
    "  groups >>| cost |> sum"
   ]
  },
  {
   "cell_type": "code",
   "execution_count": 146,
   "id": "92930374",
   "metadata": {},
   "outputs": [
    {
     "data": {
      "text/plain": [
       "- : int = 1930\n"
      ]
     },
     "execution_count": 146,
     "metadata": {},
     "output_type": "execute_result"
    }
   ],
   "source": [
    "read_grid_from_file \"day12_example.txt\" |> fence_cost"
   ]
  },
  {
   "cell_type": "code",
   "execution_count": 147,
   "id": "24dca3a4",
   "metadata": {},
   "outputs": [
    {
     "data": {
      "text/plain": [
       "- : int = 1304764\n"
      ]
     },
     "execution_count": 147,
     "metadata": {},
     "output_type": "execute_result"
    }
   ],
   "source": [
    "read_grid_from_file \"day12_input.txt\" |> fence_cost"
   ]
  },
  {
   "cell_type": "markdown",
   "id": "6ad84180",
   "metadata": {},
   "source": [
    "### Part 2\n",
    "\n",
    "Now instead we want to count the edges of each group.  For example, two vertically adjacent plants can share the same west fence, so if a plant needs a west fence but its north neighbor already has a west fence, we'll skip counting it."
   ]
  },
  {
   "cell_type": "code",
   "execution_count": 148,
   "id": "9e0f5d22",
   "metadata": {},
   "outputs": [
    {
     "data": {
      "text/plain": [
       "val fence_cost2 : Core.Char.t Core.Array.t Core.Array.t -> int = <fun>\n"
      ]
     },
     "execution_count": 148,
     "metadata": {},
     "output_type": "execute_result"
    }
   ],
   "source": [
    "let fence_cost2 grid =\n",
    "  let size = Array.length grid in\n",
    "  let groups = find_plant_groups grid in\n",
    "  let needs_fence (i, j) (di, dj) =\n",
    "    let (i', j') = (i + di, j + dj) in\n",
    "    if i' < 0 || i' > size - 1 || j' < 0 || j' > size - 1 then true\n",
    "    else Char.(grid.(i).(j) <> grid.(i').(j')) in\n",
    "  let cant_share_horizontal_fence (i, j) dir =\n",
    "    i = 0 ||\n",
    "    Char.(grid.(i).(j) <> grid.(i - 1).(j)) ||\n",
    "    not (needs_fence (i - 1, j) dir) in\n",
    "  let cant_share_vertical_fence (i, j) dir =\n",
    "    j = 0 ||\n",
    "    Char.(grid.(i).(j) <> grid.(i).(j - 1)) ||\n",
    "    not (needs_fence (i, j - 1) dir) in\n",
    "  let fenced_sides (i, j) =\n",
    "    (if needs_fence (i, j) (0, -1) &&\n",
    "        cant_share_horizontal_fence (i, j) (0, -1) then 1\n",
    "     else 0) +\n",
    "    (if needs_fence (i, j) (0, 1) &&\n",
    "        cant_share_horizontal_fence (i, j) (0, 1) then 1\n",
    "     else 0) +\n",
    "    (if needs_fence (i, j) (-1, 0) &&\n",
    "        cant_share_vertical_fence (i, j) (-1, 0) then 1\n",
    "     else 0) +\n",
    "    (if needs_fence (i, j) (1, 0) &&\n",
    "        cant_share_vertical_fence (i, j) (1, 0) then 1\n",
    "     else 0) in\n",
    "  let perimeter group = group >>| fenced_sides |> sum in\n",
    "  let area group = length group in\n",
    "  let cost group = (perimeter group) * (area group) in\n",
    "  groups >>| cost |> sum"
   ]
  },
  {
   "cell_type": "code",
   "execution_count": 149,
   "id": "d9e3706a",
   "metadata": {},
   "outputs": [
    {
     "data": {
      "text/plain": [
       "- : char Core.Array.t Core.Array.t =\n",
       "[|[|'A'; 'A'; 'A'; 'A'|]; [|'B'; 'B'; 'C'; 'D'|]; [|'B'; 'B'; 'C'; 'C'|];\n",
       "  [|'E'; 'E'; 'E'; 'C'|]|]\n"
      ]
     },
     "execution_count": 149,
     "metadata": {},
     "output_type": "execute_result"
    }
   ],
   "source": [
    "read_grid_from_file \"day12_example1.txt\""
   ]
  },
  {
   "cell_type": "code",
   "execution_count": 150,
   "id": "5b87cb0e",
   "metadata": {},
   "outputs": [
    {
     "data": {
      "text/plain": [
       "- : int = 80\n"
      ]
     },
     "execution_count": 150,
     "metadata": {},
     "output_type": "execute_result"
    }
   ],
   "source": [
    "read_grid_from_file \"day12_example1.txt\" |> fence_cost2"
   ]
  },
  {
   "cell_type": "code",
   "execution_count": 151,
   "id": "45e176cd",
   "metadata": {},
   "outputs": [
    {
     "data": {
      "text/plain": [
       "- : int = 236\n"
      ]
     },
     "execution_count": 151,
     "metadata": {},
     "output_type": "execute_result"
    }
   ],
   "source": [
    "read_grid_from_file \"day12_example2.txt\" |> fence_cost2"
   ]
  },
  {
   "cell_type": "code",
   "execution_count": 152,
   "id": "4032825b",
   "metadata": {},
   "outputs": [
    {
     "data": {
      "text/plain": [
       "- : int = 368\n"
      ]
     },
     "execution_count": 152,
     "metadata": {},
     "output_type": "execute_result"
    }
   ],
   "source": [
    "read_grid_from_file \"day12_example3.txt\" |> fence_cost2"
   ]
  },
  {
   "cell_type": "code",
   "execution_count": 153,
   "id": "3d5c2bea",
   "metadata": {},
   "outputs": [
    {
     "data": {
      "text/plain": [
       "- : int = 1206\n"
      ]
     },
     "execution_count": 153,
     "metadata": {},
     "output_type": "execute_result"
    }
   ],
   "source": [
    "read_grid_from_file \"day12_example.txt\" |> fence_cost2"
   ]
  },
  {
   "cell_type": "code",
   "execution_count": 154,
   "id": "9edc44ad",
   "metadata": {},
   "outputs": [
    {
     "data": {
      "text/plain": [
       "- : int = 811148\n"
      ]
     },
     "execution_count": 154,
     "metadata": {},
     "output_type": "execute_result"
    }
   ],
   "source": [
    "read_grid_from_file \"day12_input.txt\" |> fence_cost2"
   ]
  },
  {
   "cell_type": "markdown",
   "id": "2695fee0",
   "metadata": {},
   "source": [
    "## <a name=\"day13\">Day 13</a>\n",
    "\n",
    "### Part 1\n",
    "\n",
    "Today looks like it's going to be an integer programming problem, but for the first part we just have to solve some simultaneous equations... for example, $94 a + 22 b = 8400$ and $34 a + 67 b = 5400$.  The input is in a really annoying to parse format."
   ]
  },
  {
   "cell_type": "code",
   "execution_count": 155,
   "id": "eaecfd5e",
   "metadata": {},
   "outputs": [
    {
     "data": {
      "text/plain": [
       "val read_claw_problems :\n",
       "  Base.string -> (int array array * int array array) list = <fun>\n"
      ]
     },
     "execution_count": 155,
     "metadata": {},
     "output_type": "execute_result"
    }
   ],
   "source": [
    "(*read records like\n",
    "Button A: X+94, Y+34\n",
    "Button B: X+22, Y+67\n",
    "Prize: X=8400, Y=5400\n",
    "*)\n",
    "let read_claw_problems filename =\n",
    "  let problems =\n",
    "    In_channel.read_lines filename\n",
    "    |> filter ~f:(fun s -> String.length s > 0)\n",
    "    |> chunks_of ~length:3 in\n",
    "  let extract_xy re line =\n",
    "    let m = Re2.first_match_exn re line in \n",
    "    let x = Re2.Match.get_exn m ~sub:(`Index 1) in\n",
    "    let y = Re2.Match.get_exn m ~sub:(`Index 2) in\n",
    "      (int_of_string x, int_of_string y) in\n",
    "  let parse_button_line line =\n",
    "    extract_xy (Re2.create_exn {|Button .: X\\+(\\d+), Y\\+(\\d+)|}) line in\n",
    "  let parse_prize_line line =\n",
    "    extract_xy (Re2.create_exn {|Prize: X=(\\d+), Y=(\\d+)|}) line in\n",
    "  let parse_chunk chunk =\n",
    "    let (ax, ay) = parse_button_line (List.nth_exn chunk 0) in\n",
    "    let (bx, by) = parse_button_line (List.nth_exn chunk 1) in\n",
    "    let (px, py) = parse_prize_line (List.nth_exn chunk 2) in\n",
    "    let xs = [|[|ax; bx|];\n",
    "               [|ay; by|]|] in\n",
    "    let ys = [|[|px|];\n",
    "               [|py|]|] in\n",
    "      (xs, ys) in\n",
    "  problems >>| parse_chunk"
   ]
  },
  {
   "cell_type": "code",
   "execution_count": 156,
   "id": "99549aaa",
   "metadata": {},
   "outputs": [
    {
     "data": {
      "text/plain": [
       "- : (int array array * int array array) list =\n",
       "[([|[|94; 22|]; [|34; 67|]|], [|[|8400|]; [|5400|]|]);\n",
       " ([|[|26; 67|]; [|66; 21|]|], [|[|12748|]; [|12176|]|]);\n",
       " ([|[|17; 84|]; [|86; 37|]|], [|[|7870|]; [|6450|]|]);\n",
       " ([|[|69; 27|]; [|23; 71|]|], [|[|18641|]; [|10279|]|])]\n"
      ]
     },
     "execution_count": 156,
     "metadata": {},
     "output_type": "execute_result"
    }
   ],
   "source": [
    "read_claw_problems \"day13_example.txt\""
   ]
  },
  {
   "cell_type": "code",
   "execution_count": 157,
   "id": "3a98b3cf",
   "metadata": {},
   "outputs": [
    {
     "data": {
      "text/plain": [
       "val solve22 :\n",
       "  int Core.Array.t Core.Array.t * int Core.Array.t Core.Array.t ->\n",
       "  (int * int) option = <fun>\n"
      ]
     },
     "execution_count": 157,
     "metadata": {},
     "output_type": "execute_result"
    }
   ],
   "source": [
    "let solve22 (a, y) =\n",
    "  let det m = m.(0).(0) * m.(1).(1) - m.(0).(1) * m.(1).(0) in\n",
    "  let d = det a in\n",
    "  let dx = det [|[|y.(0).(0); a.(0).(1)|];\n",
    "                 [|y.(1).(0); a.(1).(1)|]|] in\n",
    "  let dy = det [|[|a.(0).(0); y.(0).(0)|];\n",
    "                 [|a.(1).(0); y.(1).(0)|]|] in\n",
    "  if d = 0 then None\n",
    "  else if dx mod d <> 0 || dy mod d <> 0 then None\n",
    "  else Some (dx / d, dy / d)"
   ]
  },
  {
   "cell_type": "code",
   "execution_count": 158,
   "id": "3d14991d",
   "metadata": {},
   "outputs": [
    {
     "data": {
      "text/plain": [
       "val day13_cost :\n",
       "  (int Core.Array.t Core.Array.t * int Core.Array.t Core.Array.t) list -> int =\n",
       "  <fun>\n"
      ]
     },
     "execution_count": 158,
     "metadata": {},
     "output_type": "execute_result"
    }
   ],
   "source": [
    "let day13_cost problems =\n",
    "  let cost (a, b) = 3 * a + b in\n",
    "  problems >>| solve22 |> filter_opt >>| cost |> fold ~init:0 ~f:(+)"
   ]
  },
  {
   "cell_type": "code",
   "execution_count": 159,
   "id": "b387a615",
   "metadata": {},
   "outputs": [
    {
     "data": {
      "text/plain": [
       "- : int = 480\n"
      ]
     },
     "execution_count": 159,
     "metadata": {},
     "output_type": "execute_result"
    }
   ],
   "source": [
    "read_claw_problems \"day13_example.txt\" |> day13_cost"
   ]
  },
  {
   "cell_type": "code",
   "execution_count": 160,
   "id": "c44c22cb",
   "metadata": {},
   "outputs": [
    {
     "data": {
      "text/plain": [
       "- : int = 31623\n"
      ]
     },
     "execution_count": 160,
     "metadata": {},
     "output_type": "execute_result"
    }
   ],
   "source": [
    "read_claw_problems \"day13_input.txt\" |> day13_cost"
   ]
  },
  {
   "cell_type": "markdown",
   "id": "b512c8fa",
   "metadata": {},
   "source": [
    "### Part 2\n",
    "\n",
    "Now we need to add 10000000000000 to some constants and ... do the same thing as before?  What a weird problem."
   ]
  },
  {
   "cell_type": "code",
   "execution_count": 161,
   "id": "4bd87a61",
   "metadata": {},
   "outputs": [
    {
     "data": {
      "text/plain": [
       "val add_10000000000000 :\n",
       "  'a * int Core.Array.t Core.Array.t -> 'a * int array array = <fun>\n"
      ]
     },
     "execution_count": 161,
     "metadata": {},
     "output_type": "execute_result"
    }
   ],
   "source": [
    "let add_10000000000000 (a, y) =\n",
    "  (a, [|[|y.(0).(0) + 10000000000000|];\n",
    "        [|y.(1).(0) + 10000000000000|]|])"
   ]
  },
  {
   "cell_type": "code",
   "execution_count": 162,
   "id": "f3365e1c",
   "metadata": {},
   "outputs": [
    {
     "data": {
      "text/plain": [
       "- : int = 93209116744825\n"
      ]
     },
     "execution_count": 162,
     "metadata": {},
     "output_type": "execute_result"
    }
   ],
   "source": [
    "read_claw_problems \"day13_input.txt\" >>| add_10000000000000 |> day13_cost"
   ]
  },
  {
   "cell_type": "markdown",
   "id": "4ae6cbea",
   "metadata": {},
   "source": [
    "## <a name=\"day14\">Day 14</a>\n",
    "\n",
    "### Part 1\n",
    "\n",
    "Robots.  Hookay."
   ]
  },
  {
   "cell_type": "code",
   "execution_count": 163,
   "id": "2f4ee682",
   "metadata": {},
   "outputs": [
    {
     "data": {
      "text/plain": [
       "type robot = { position : int * int; velocity : int * int; }\n"
      ]
     },
     "execution_count": 163,
     "metadata": {},
     "output_type": "execute_result"
    }
   ],
   "source": [
    "type robot = {\n",
    "  position: int * int;\n",
    "  velocity: int * int\n",
    "}"
   ]
  },
  {
   "cell_type": "code",
   "execution_count": 164,
   "id": "259c2963",
   "metadata": {},
   "outputs": [
    {
     "data": {
      "text/plain": [
       "val read_robots : Base.string -> robot list = <fun>\n"
      ]
     },
     "execution_count": 164,
     "metadata": {},
     "output_type": "execute_result"
    }
   ],
   "source": [
    "let read_robots filename =\n",
    "  let parse line =\n",
    "    let re = Re2.create_exn {|p=(\\d+),(\\d+) v=(-?\\d+),(-?\\d+)|} in\n",
    "    let m = Re2.first_match_exn re line in \n",
    "    let px = int_of_string @@ Re2.Match.get_exn m ~sub:(`Index 1) in\n",
    "    let py = int_of_string @@ Re2.Match.get_exn m ~sub:(`Index 2) in\n",
    "    let vx = int_of_string @@ Re2.Match.get_exn m ~sub:(`Index 3) in\n",
    "    let vy = int_of_string @@ Re2.Match.get_exn m ~sub:(`Index 4) in\n",
    "      {position=(px, py); velocity=(vx, vy)} in\n",
    "  In_channel.read_lines filename >>| parse"
   ]
  },
  {
   "cell_type": "code",
   "execution_count": 165,
   "id": "b20837e0",
   "metadata": {},
   "outputs": [
    {
     "data": {
      "text/plain": [
       "- : robot list =\n",
       "[{position = (0, 4); velocity = (3, -3)};\n",
       " {position = (6, 3); velocity = (-1, -3)};\n",
       " {position = (10, 3); velocity = (-1, 2)};\n",
       " {position = (2, 0); velocity = (2, -1)};\n",
       " {position = (0, 0); velocity = (1, 3)};\n",
       " {position = (3, 0); velocity = (-2, -2)};\n",
       " {position = (7, 6); velocity = (-1, -3)};\n",
       " {position = (3, 0); velocity = (-1, -2)};\n",
       " {position = (9, 3); velocity = (2, 3)};\n",
       " {position = (7, 3); velocity = (-1, 2)};\n",
       " {position = (2, 4); velocity = (2, -3)};\n",
       " {position = (9, 5); velocity = (-3, -3)}]\n"
      ]
     },
     "execution_count": 165,
     "metadata": {},
     "output_type": "execute_result"
    }
   ],
   "source": [
    "read_robots \"day14_example.txt\""
   ]
  },
  {
   "cell_type": "code",
   "execution_count": 166,
   "id": "4363ec33",
   "metadata": {},
   "outputs": [
    {
     "data": {
      "text/plain": [
       "val step_robot : robot -> int -> int -> robot = <fun>\n"
      ]
     },
     "execution_count": 166,
     "metadata": {},
     "output_type": "execute_result"
    }
   ],
   "source": [
    "let step_robot robot width height =\n",
    "  let {position; velocity} = robot in\n",
    "  let (px, py), (vx, vy) = position, velocity in\n",
    "  let rec wrap v m =\n",
    "    if v < 0 then wrap (v + m) m\n",
    "    else v mod m in\n",
    "  {position=(wrap (px + vx) width, wrap (py + vy) height);\n",
    "   velocity=velocity}"
   ]
  },
  {
   "cell_type": "code",
   "execution_count": 167,
   "id": "902df475",
   "metadata": {},
   "outputs": [
    {
     "data": {
      "text/plain": [
       "- : robot = {position = (1, 3); velocity = (2, -3)}\n"
      ]
     },
     "execution_count": 167,
     "metadata": {},
     "output_type": "execute_result"
    }
   ],
   "source": [
    "iterate 5 (fun r -> step_robot r 11 7) {position = (2, 4); velocity = (2, -3)}"
   ]
  },
  {
   "cell_type": "code",
   "execution_count": 168,
   "id": "c5420e80",
   "metadata": {},
   "outputs": [
    {
     "data": {
      "text/plain": [
       "val simulate_robots :\n",
       "  int -> int -> Core_kernel.Int.t -> robot list -> robot list = <fun>\n"
      ]
     },
     "execution_count": 168,
     "metadata": {},
     "output_type": "execute_result"
    }
   ],
   "source": [
    "let simulate_robots width height steps robots =\n",
    "  let simulate r = step_robot r width height in\n",
    "  robots >>| iterate steps simulate"
   ]
  },
  {
   "cell_type": "code",
   "execution_count": 169,
   "id": "e97361cc",
   "metadata": {},
   "outputs": [
    {
     "data": {
      "text/plain": [
       "val count_quadrants : int -> int -> robot list -> int = <fun>\n"
      ]
     },
     "execution_count": 169,
     "metadata": {},
     "output_type": "execute_result"
    }
   ],
   "source": [
    "let count_quadrants width height robots =\n",
    "  let quadrant {position=(px, py)} = (px < width / 2, py < height / 2) in\n",
    "  let not_in_middle {position=(px, py)} = px <> width / 2 && py <> height / 2 in\n",
    "  let quads = robots\n",
    "            |> filter ~f:not_in_middle\n",
    "            >>| quadrant\n",
    "            |> sort ~compare:Stdlib.compare\n",
    "            |> group ~break:Poly.(<>)\n",
    "            >>| length in\n",
    "  if length quads < 4 then 0\n",
    "  else fold quads ~init:1 ~f:( * )"
   ]
  },
  {
   "cell_type": "code",
   "execution_count": 170,
   "id": "91b3ca28",
   "metadata": {},
   "outputs": [
    {
     "data": {
      "text/plain": [
       "- : int = 12\n"
      ]
     },
     "execution_count": 170,
     "metadata": {},
     "output_type": "execute_result"
    }
   ],
   "source": [
    "read_robots \"day14_example.txt\" |> simulate_robots 11 7 100 |> count_quadrants 11 7"
   ]
  },
  {
   "cell_type": "code",
   "execution_count": 171,
   "id": "6c5a7253",
   "metadata": {},
   "outputs": [
    {
     "data": {
      "text/plain": [
       "- : int = 211773366\n"
      ]
     },
     "execution_count": 171,
     "metadata": {},
     "output_type": "execute_result"
    }
   ],
   "source": [
    "read_robots \"day14_input.txt\" |> simulate_robots 101 103 100 |> count_quadrants 101 103"
   ]
  },
  {
   "cell_type": "markdown",
   "id": "b66b8d31",
   "metadata": {},
   "source": [
    "### Part 2\n",
    "\n",
    "Ok this is extremely cool... apparently we need to plot these points and see when they look like a Christmas tree."
   ]
  },
  {
   "cell_type": "code",
   "execution_count": 172,
   "id": "fa1a9622",
   "metadata": {},
   "outputs": [
    {
     "data": {
      "text/plain": [
       "val plot : Core.Out_channel.t -> int -> int -> robot list -> unit = <fun>\n"
      ]
     },
     "execution_count": 172,
     "metadata": {},
     "output_type": "execute_result"
    }
   ],
   "source": [
    "let plot out width height robots =\n",
    "  for y=0 to height-1 do\n",
    "    for x=0 to width-1 do\n",
    "      let ch = if exists robots ~f:(fun {position=(px,py)} -> px = x && py = y) then '*' else '.' in\n",
    "        Out_channel.output_char out ch\n",
    "    done; Out_channel.output_char out '\\n'\n",
    "  done"
   ]
  },
  {
   "cell_type": "code",
   "execution_count": 173,
   "id": "c6c9da24",
   "metadata": {},
   "outputs": [
    {
     "data": {
      "text/plain": [
       "val simulate_and_plot :\n",
       "  Base.string ->\n",
       "  int -> int -> Core_kernel.Int.t -> int -> robot list -> Base.unit = <fun>\n"
      ]
     },
     "execution_count": 173,
     "metadata": {},
     "output_type": "execute_result"
    }
   ],
   "source": [
    "let simulate_and_plot filename width height plot_from steps robots =\n",
    "  let out = Out_channel.create filename in\n",
    "  let simulate r = step_robot r width height in\n",
    "  let robots = ref robots in\n",
    "  for i=0 to steps do\n",
    "    if i > plot_from then begin\n",
    "      Out_channel.output_string out (\"===== \" ^ (string_of_int i) ^ \" =====\\n\");\n",
    "      plot out width height !robots\n",
    "    end;\n",
    "    robots := !robots >>| simulate\n",
    "  done;\n",
    "  Out_channel.close out"
   ]
  },
  {
   "cell_type": "markdown",
   "id": "0f2d161e",
   "metadata": {},
   "source": [
    "Whatever I'm looking for doesn't seem to happen in the first 1200 or so generations of the example input, which is sort of annoying.  This notebook environment isn't really helping, since I can't easily page through... let's try writing it out to a file."
   ]
  },
  {
   "cell_type": "code",
   "execution_count": 174,
   "id": "9e804293",
   "metadata": {},
   "outputs": [],
   "source": [
    "(*read_robots \"day14_example.txt\" |> simulate_and_plot \"day14_example_plot.txt\" 11 7 (-1) 10000*)"
   ]
  },
  {
   "cell_type": "markdown",
   "id": "539c343a",
   "metadata": {},
   "source": [
    "Oh, that's embarrassing.  The example loops after 77 steps, and never _really_ seems to look like a tree.  Ok, I don't have a ton of hope here, but let's glance at the full data."
   ]
  },
  {
   "cell_type": "code",
   "execution_count": 175,
   "id": "b5ca3cfc",
   "metadata": {},
   "outputs": [],
   "source": [
    "(*read_robots \"day14_input.txt\" |> simulate_and_plot \"day14_example_plot.txt\" 101 103 (-1) 10000*)"
   ]
  },
  {
   "cell_type": "markdown",
   "id": "3b0873ce",
   "metadata": {},
   "source": [
    "Things look... clumpier sometimes?  Like at step 31, there's a horizontal clump.  At 72, there's a vertical clump.  Let's look at when clumps suddenly appear.\n",
    "\n",
    "| H Clump | V Clump |\n",
    "| ------- | ------- |\n",
    "|      31 |      72 |\n",
    "|     134 |     173 |\n",
    "|     237 |     274 |\n",
    "\n",
    "It looks like $step_h = 31 + 103n$ and $step_v = 72 + 101n$.  Let's predict and check a few more clumpy steps..."
   ]
  },
  {
   "cell_type": "code",
   "execution_count": 176,
   "id": "22b1fb7a",
   "metadata": {},
   "outputs": [
    {
     "data": {
      "text/plain": [
       "- : int list = [31; 134; 237; 340; 443; 546; 649; 752; 855; 958]\n"
      ]
     },
     "execution_count": 176,
     "metadata": {},
     "output_type": "execute_result"
    }
   ],
   "source": [
    "range 0 10 >>| fun n -> 31 + 103 * n"
   ]
  },
  {
   "cell_type": "code",
   "execution_count": 177,
   "id": "e9c12d02",
   "metadata": {},
   "outputs": [
    {
     "data": {
      "text/plain": [
       "- : int list = [72; 173; 274; 375; 476; 577; 678; 779; 880; 981]\n"
      ]
     },
     "execution_count": 177,
     "metadata": {},
     "output_type": "execute_result"
    }
   ],
   "source": [
    "range 0 10 >>| fun n -> 72 + 101 * n"
   ]
  },
  {
   "cell_type": "markdown",
   "id": "da99761a",
   "metadata": {},
   "source": [
    "The pattern seems to hold.  On what step should the h clumps and v clumps first coincide?"
   ]
  },
  {
   "cell_type": "code",
   "execution_count": 178,
   "id": "aa96da28",
   "metadata": {},
   "outputs": [
    {
     "data": {
      "text/plain": [
       "val overlap : Core_kernel.Int.t option = Some 7344\n"
      ]
     },
     "execution_count": 178,
     "metadata": {},
     "output_type": "execute_result"
    }
   ],
   "source": [
    "let overlap =\n",
    "  let h_clumps n = 31 + 103 * n in\n",
    "  let v_clumps n = 72 + 101 * n in\n",
    "  let hs = range 0 100 >>| h_clumps in\n",
    "  let vs = range 0 100 >>| v_clumps in\n",
    "  find hs ~f:(fun k -> exists vs ~f:((=) k))"
   ]
  },
  {
   "cell_type": "code",
   "execution_count": 179,
   "id": "c4cae000",
   "metadata": {},
   "outputs": [
    {
     "data": {
      "text/plain": [
       "- : Base.unit = ()\n"
      ]
     },
     "execution_count": 179,
     "metadata": {},
     "output_type": "execute_result"
    }
   ],
   "source": [
    "read_robots \"day14_input.txt\" |> simulate_and_plot \"day14_example_plot.txt\" 101 103 7343 7345"
   ]
  },
  {
   "cell_type": "markdown",
   "id": "129428cc",
   "metadata": {},
   "source": [
    "Ok yeah there's pretty definitively a Christmas tree hidden in here.  What a cool puzzle, best part 2 ever."
   ]
  },
  {
   "cell_type": "markdown",
   "id": "7629fcaa",
   "metadata": {},
   "source": [
    "## <a name=\"day15\">Day 15</a>\n",
    "\n",
    "### Part 1\n",
    "\n",
    "Today we have to play Sokoban.  Ok, this could be fun.  But first... we must read the input."
   ]
  },
  {
   "cell_type": "code",
   "execution_count": 180,
   "id": "54213bc7",
   "metadata": {},
   "outputs": [
    {
     "data": {
      "text/plain": [
       "type sokoban = {\n",
       "  grid : char Core.Array.t Core.Array.t;\n",
       "  robot : int * int;\n",
       "  moves : char list;\n",
       "}\n"
      ]
     },
     "execution_count": 180,
     "metadata": {},
     "output_type": "execute_result"
    }
   ],
   "source": [
    "type sokoban = {\n",
    "  grid: char Core.Array.t Core.Array.t;\n",
    "  robot: int * int;\n",
    "  moves: char list\n",
    "}"
   ]
  },
  {
   "cell_type": "code",
   "execution_count": 181,
   "id": "cbe3e94f",
   "metadata": {},
   "outputs": [
    {
     "data": {
      "text/plain": [
       "val read_sokoban : Base.string -> sokoban = <fun>\n"
      ]
     },
     "execution_count": 181,
     "metadata": {},
     "output_type": "execute_result"
    }
   ],
   "source": [
    "let read_sokoban filename =\n",
    "  let lines = In_channel.read_lines filename in\n",
    "  let size = String.length (hd_exn lines) in\n",
    "  let robot = ref (0, 0) in\n",
    "  let grid = Array.make_matrix size size '.' in\n",
    "  let () =\n",
    "    for i = 0 to size-1 do\n",
    "      for j = 0 to size-1 do\n",
    "        let here = String.get (nth_exn lines i) j in\n",
    "          if Char.(here = '@') then begin\n",
    "            robot := (i, j);\n",
    "            grid.(i).(j) <- '.'\n",
    "          end else\n",
    "            grid.(i).(j) <- here\n",
    "      done\n",
    "    done in\n",
    "  let moves = List.drop lines (size + 1)\n",
    "            |> fold ~init:\"\" ~f:String.(^)\n",
    "            |> String.to_list in\n",
    "  {grid = grid; robot = !robot; moves = moves}"
   ]
  },
  {
   "cell_type": "code",
   "execution_count": 182,
   "id": "13184343",
   "metadata": {},
   "outputs": [
    {
     "data": {
      "text/plain": [
       "- : sokoban =\n",
       "{grid =\n",
       "  [|[|'#'; '#'; '#'; '#'; '#'; '#'; '#'; '#'; '#'; '#'|];\n",
       "    [|'#'; '.'; '.'; 'O'; '.'; '.'; 'O'; '.'; 'O'; '#'|];\n",
       "    [|'#'; '.'; '.'; '.'; '.'; '.'; '.'; 'O'; '.'; '#'|];\n",
       "    [|'#'; '.'; 'O'; 'O'; '.'; '.'; 'O'; '.'; 'O'; '#'|];\n",
       "    [|'#'; '.'; '.'; 'O'; '.'; '.'; '.'; 'O'; '.'; '#'|];\n",
       "    [|'#'; 'O'; '#'; '.'; '.'; 'O'; '.'; '.'; '.'; '#'|];\n",
       "    [|'#'; 'O'; '.'; '.'; 'O'; '.'; '.'; 'O'; '.'; '#'|];\n",
       "    [|'#'; '.'; 'O'; 'O'; '.'; 'O'; '.'; 'O'; 'O'; '#'|];\n",
       "    [|'#'; '.'; '.'; '.'; '.'; 'O'; '.'; '.'; '.'; '#'|];\n",
       "    [|'#'; '#'; '#'; '#'; '#'; '#'; '#'; '#'; '#'; '#'|]|];\n",
       " robot = (4, 4);\n",
       " moves =\n",
       "  ['<'; 'v'; 'v'; '>'; '^'; '<'; 'v'; '^'; '>'; 'v'; '>'; '^'; 'v'; 'v'; '^';\n",
       "   'v'; '>'; 'v'; '<'; '>'; 'v'; '^'; 'v'; '<'; 'v'; '<'; '^'; 'v'; 'v'; '<';\n",
       "   '<'; '<'; '^'; '>'; '<'; '<'; '>'; '<'; '>'; '>'; 'v'; '<'; 'v'; 'v'; 'v';\n",
       "   '<'; '>'; '^'; 'v'; '^'; '>'; '^'; '<'; '<'; '<'; '>'; '<'; '<'; 'v'; '<';\n",
       "   '<'; '<'; 'v'; '^'; 'v'; 'v'; '^'; 'v'; '>'; '^'; 'v'; 'v'; 'v'; '<'; '<';\n",
       "   '^'; '>'; '^'; 'v'; '^'; '^'; '>'; '<'; '<'; '>'; '>'; '>'; '<'; '>'; '^';\n",
       "   '<'; '<'; '>'; '<'; '^'; 'v'; 'v'; '^'; '^'; '<'; '>'; 'v'; 'v'; 'v'; '<';\n",
       "   '>'; '>'; '<'; '^'; '^'; 'v'; '>'; '^'; '>'; 'v'; 'v'; '<'; '>'; 'v'; '<';\n",
       "   '<'; '<'; '<'; 'v'; '<'; '^'; 'v'; '>'; '^'; '<'; '^'; '^'; '>'; '>'; '>';\n",
       "   '^'; '<'; 'v'; '<'; 'v'; '>'; '<'; '>'; 'v'; 'v'; '>'; 'v'; '^'; 'v'; '^';\n",
       "   '<'; '>'; '>'; '<'; '>'; '>'; '>'; '>'; '<'; '^'; '^'; '>'; ...]}\n"
      ]
     },
     "execution_count": 182,
     "metadata": {},
     "output_type": "execute_result"
    }
   ],
   "source": [
    "read_sokoban \"day15_example.txt\""
   ]
  },
  {
   "cell_type": "markdown",
   "id": "c174d582",
   "metadata": {},
   "source": [
    "That seems plausible.  Now... we must play Sokoban, I guess."
   ]
  },
  {
   "cell_type": "code",
   "execution_count": 183,
   "id": "b67a7472",
   "metadata": {},
   "outputs": [
    {
     "data": {
      "text/plain": [
       "val do_sokoban_move : char -> char list -> sokoban -> sokoban = <fun>\n"
      ]
     },
     "execution_count": 183,
     "metadata": {},
     "output_type": "execute_result"
    }
   ],
   "source": [
    "let do_sokoban_move move next_moves sokoban =\n",
    "  let (di, dj) = match move with\n",
    "  | '^' -> (-1, 0)\n",
    "  | '>' -> (0, 1)\n",
    "  | 'v' -> (1, 0)\n",
    "  | '<' -> (0, -1)\n",
    "  | _ -> failwith \"bad move\" in\n",
    "  let (i, j) = sokoban.robot in\n",
    "  let (ni, nj) = (i + di, j + dj) in\n",
    "  let () = (* push boxes *)\n",
    "    let p = ref (ni, nj) in\n",
    "    while Char.(sokoban.grid.(fst !p).(snd !p) = 'O') do\n",
    "      p := (fst !p + di, snd !p + dj)\n",
    "    done;\n",
    "    if Char.(sokoban.grid.(fst !p).(snd !p) = '.') then begin\n",
    "      sokoban.grid.(fst !p).(snd !p) <- sokoban.grid.(ni).(nj);\n",
    "      sokoban.grid.(ni).(nj) <- '.';\n",
    "    end; in\n",
    "  let there = sokoban.grid.(ni).(nj) in\n",
    "  match there with\n",
    "  | '#' | 'O' -> {grid=sokoban.grid; robot=(i, j); moves=next_moves}\n",
    "  | '.' -> {grid=sokoban.grid; robot=(ni, nj); moves=next_moves}\n",
    "  | _ -> failwith (\"bad grid \" ^ (String.make 1 there))"
   ]
  },
  {
   "cell_type": "code",
   "execution_count": 184,
   "id": "33d3faa6",
   "metadata": {},
   "outputs": [
    {
     "data": {
      "text/plain": [
       "val play_sokoban : sokoban -> sokoban = <fun>\n"
      ]
     },
     "execution_count": 184,
     "metadata": {},
     "output_type": "execute_result"
    }
   ],
   "source": [
    "let rec play_sokoban sokoban =\n",
    "  match sokoban.moves with\n",
    "  | [] -> sokoban\n",
    "  | move :: next_moves -> play_sokoban (do_sokoban_move move next_moves sokoban)"
   ]
  },
  {
   "cell_type": "code",
   "execution_count": 185,
   "id": "32dc2d14",
   "metadata": {},
   "outputs": [
    {
     "data": {
      "text/plain": [
       "- : sokoban =\n",
       "{grid =\n",
       "  [|[|'#'; '#'; '#'; '#'; '#'; '#'; '#'; '#'|];\n",
       "    [|'#'; '.'; '.'; '.'; '.'; 'O'; 'O'; '#'|];\n",
       "    [|'#'; '#'; '.'; '.'; 'O'; '.'; '.'; '#'|];\n",
       "    [|'#'; '.'; '.'; '.'; 'O'; '.'; '.'; '#'|];\n",
       "    [|'#'; '.'; '#'; '.'; 'O'; '.'; '.'; '#'|];\n",
       "    [|'#'; '.'; '.'; '.'; 'O'; '.'; '.'; '#'|];\n",
       "    [|'#'; '.'; '.'; '.'; '.'; '.'; '.'; '#'|];\n",
       "    [|'#'; '#'; '#'; '#'; '#'; '#'; '#'; '#'|]|];\n",
       " robot = (1, 4); moves = []}\n"
      ]
     },
     "execution_count": 185,
     "metadata": {},
     "output_type": "execute_result"
    }
   ],
   "source": [
    "read_sokoban \"day15_small.txt\"\n",
    "|> do_sokoban_move '<' []\n",
    "|> do_sokoban_move '^' []\n",
    "|> do_sokoban_move '^' []\n",
    "|> do_sokoban_move '>' []\n",
    "|> do_sokoban_move '>' []"
   ]
  },
  {
   "cell_type": "code",
   "execution_count": 186,
   "id": "c331385c",
   "metadata": {},
   "outputs": [
    {
     "data": {
      "text/plain": [
       "- : sokoban =\n",
       "{grid =\n",
       "  [|[|'#'; '#'; '#'; '#'; '#'; '#'; '#'; '#'|];\n",
       "    [|'#'; '.'; '.'; '.'; '.'; 'O'; 'O'; '#'|];\n",
       "    [|'#'; '#'; '.'; '.'; '.'; '.'; '.'; '#'|];\n",
       "    [|'#'; '.'; '.'; '.'; '.'; '.'; 'O'; '#'|];\n",
       "    [|'#'; '.'; '#'; 'O'; '.'; '.'; '.'; '#'|];\n",
       "    [|'#'; '.'; '.'; '.'; 'O'; '.'; '.'; '#'|];\n",
       "    [|'#'; '.'; '.'; '.'; 'O'; '.'; '.'; '#'|];\n",
       "    [|'#'; '#'; '#'; '#'; '#'; '#'; '#'; '#'|]|];\n",
       " robot = (4, 4); moves = []}\n"
      ]
     },
     "execution_count": 186,
     "metadata": {},
     "output_type": "execute_result"
    }
   ],
   "source": [
    "read_sokoban \"day15_small.txt\" |> play_sokoban"
   ]
  },
  {
   "cell_type": "code",
   "execution_count": 187,
   "id": "f13eaeef",
   "metadata": {},
   "outputs": [
    {
     "data": {
      "text/plain": [
       "- : sokoban =\n",
       "{grid =\n",
       "  [|[|'#'; '#'; '#'; '#'; '#'; '#'; '#'; '#'; '#'; '#'|];\n",
       "    [|'#'; '.'; 'O'; '.'; 'O'; '.'; 'O'; 'O'; 'O'; '#'|];\n",
       "    [|'#'; '.'; '.'; '.'; '.'; '.'; '.'; '.'; '.'; '#'|];\n",
       "    [|'#'; 'O'; 'O'; '.'; '.'; '.'; '.'; '.'; '.'; '#'|];\n",
       "    [|'#'; 'O'; 'O'; '.'; '.'; '.'; '.'; '.'; '.'; '#'|];\n",
       "    [|'#'; 'O'; '#'; '.'; '.'; '.'; '.'; '.'; 'O'; '#'|];\n",
       "    [|'#'; 'O'; '.'; '.'; '.'; '.'; '.'; 'O'; 'O'; '#'|];\n",
       "    [|'#'; 'O'; '.'; '.'; '.'; '.'; '.'; 'O'; 'O'; '#'|];\n",
       "    [|'#'; 'O'; 'O'; '.'; '.'; '.'; '.'; 'O'; 'O'; '#'|];\n",
       "    [|'#'; '#'; '#'; '#'; '#'; '#'; '#'; '#'; '#'; '#'|]|];\n",
       " robot = (4, 3); moves = []}\n"
      ]
     },
     "execution_count": 187,
     "metadata": {},
     "output_type": "execute_result"
    }
   ],
   "source": [
    "read_sokoban \"day15_example.txt\" |> play_sokoban"
   ]
  },
  {
   "cell_type": "code",
   "execution_count": 188,
   "id": "02fd42b2",
   "metadata": {},
   "outputs": [
    {
     "data": {
      "text/plain": [
       "val checksum_boxes : sokoban -> int = <fun>\n"
      ]
     },
     "execution_count": 188,
     "metadata": {},
     "output_type": "execute_result"
    }
   ],
   "source": [
    "let checksum_boxes sokoban =\n",
    "  let rows = Array.length sokoban.grid in\n",
    "  let cols = Array.length sokoban.grid.(0) in\n",
    "  let sum = ref 0 in\n",
    "  for i=0 to rows-1 do\n",
    "    for j=0 to cols-1 do\n",
    "      if Char.(sokoban.grid.(i).(j) = 'O' || sokoban.grid.(i).(j) = '[') then\n",
    "        sum := !sum + 100 * i + j \n",
    "    done\n",
    "  done; !sum"
   ]
  },
  {
   "cell_type": "code",
   "execution_count": 189,
   "id": "6162b9c4",
   "metadata": {},
   "outputs": [
    {
     "data": {
      "text/plain": [
       "- : int = 10092\n"
      ]
     },
     "execution_count": 189,
     "metadata": {},
     "output_type": "execute_result"
    }
   ],
   "source": [
    "read_sokoban \"day15_example.txt\" |> play_sokoban |> checksum_boxes"
   ]
  },
  {
   "cell_type": "code",
   "execution_count": 190,
   "id": "bcdb1834",
   "metadata": {},
   "outputs": [
    {
     "data": {
      "text/plain": [
       "- : int = 1415498\n"
      ]
     },
     "execution_count": 190,
     "metadata": {},
     "output_type": "execute_result"
    }
   ],
   "source": [
    "read_sokoban \"day15_input.txt\" |> play_sokoban |> checksum_boxes"
   ]
  },
  {
   "cell_type": "markdown",
   "id": "03ec6f6e",
   "metadata": {},
   "source": [
    "### Part 2\n",
    "\n",
    "Now we get to play Big Sokoban!  It still probably makes sense to do things with grids, but the logic is somewhat more complicated for vertical moves."
   ]
  },
  {
   "cell_type": "code",
   "execution_count": 191,
   "id": "cc13ff8b",
   "metadata": {},
   "outputs": [
    {
     "data": {
      "text/plain": [
       "val inflate : sokoban -> sokoban = <fun>\n"
      ]
     },
     "execution_count": 191,
     "metadata": {},
     "output_type": "execute_result"
    }
   ],
   "source": [
    "let inflate sokoban =\n",
    "  let size = Array.length sokoban.grid in\n",
    "  let new_grid = Array.make_matrix size (2 * size) '.' in\n",
    "  let () =\n",
    "    for i = 0 to size-1 do\n",
    "      for j = 0 to size-1 do\n",
    "        match sokoban.grid.(i).(j) with\n",
    "        | '#' | '.' ->\n",
    "          new_grid.(i).(2 * j) <- sokoban.grid.(i).(j);\n",
    "          new_grid.(i).(2 * j + 1) <- sokoban.grid.(i).(j)\n",
    "        | 'O' ->\n",
    "          new_grid.(i).(2 * j) <- '[';\n",
    "          new_grid.(i).(2 * j + 1) <- ']'\n",
    "        | _ -> failwith \"bad grid\"\n",
    "      done\n",
    "    done in\n",
    "  let (i, j) = sokoban.robot in\n",
    "  {grid=new_grid; robot=(i, 2*j); moves=sokoban.moves}"
   ]
  },
  {
   "cell_type": "code",
   "execution_count": 192,
   "id": "456134bf",
   "metadata": {},
   "outputs": [
    {
     "data": {
      "text/plain": [
       "- : sokoban =\n",
       "{grid =\n",
       "  [|[|'#'; '#'; '#'; '#'; '#'; '#'; '#'; '#'; '#'; '#'; '#'; '#'; '#'; '#'|];\n",
       "    [|'#'; '#'; '.'; '.'; '.'; '.'; '.'; '.'; '#'; '#'; '.'; '.'; '#'; '#'|];\n",
       "    [|'#'; '#'; '.'; '.'; '.'; '.'; '.'; '.'; '.'; '.'; '.'; '.'; '#'; '#'|];\n",
       "    [|'#'; '#'; '.'; '.'; '.'; '.'; '['; ']'; '['; ']'; '.'; '.'; '#'; '#'|];\n",
       "    [|'#'; '#'; '.'; '.'; '.'; '.'; '['; ']'; '.'; '.'; '.'; '.'; '#'; '#'|];\n",
       "    [|'#'; '#'; '.'; '.'; '.'; '.'; '.'; '.'; '.'; '.'; '.'; '.'; '#'; '#'|];\n",
       "    [|'#'; '#'; '#'; '#'; '#'; '#'; '#'; '#'; '#'; '#'; '#'; '#'; '#'; '#'|]|];\n",
       " robot = (3, 10);\n",
       " moves = ['<'; 'v'; 'v'; '<'; '<'; '^'; '^'; '<'; '<'; '^'; '^']}\n"
      ]
     },
     "execution_count": 192,
     "metadata": {},
     "output_type": "execute_result"
    }
   ],
   "source": [
    "read_sokoban \"day15_small2.txt\" |> inflate"
   ]
  },
  {
   "cell_type": "markdown",
   "id": "3d6981c6",
   "metadata": {},
   "source": [
    "In Big Sokoban, we can push an arbitrary number of columns.  For example, say we push up in this grid. \n",
    "```\n",
    "  12345678\n",
    "1 ........\n",
    "2 [][][][]\n",
    "3 .[][][].\n",
    "4 .#[][]#.\n",
    "5 ..#[]#..\n",
    "6 ....@...\n",
    "```\n",
    "\n",
    "All the boxes should shift up by one row.  So, to push up, we scan up from the current row checking a set of columns.  If we see `]`, we add `column-1` to the set; if we see `[` we add `column+1`.  If we see '#', the move fails, and if we see '.' a column is ok.\n",
    "\n",
    "I guess we could write the program that way, but this seems a bit lame.\n",
    "\n",
    "A different way to think about this is that a push (from, to) either succeeds, or _depends on_ other pushes.  If all pushes in the tree succeed, we execute them in depth first order."
   ]
  },
  {
   "cell_type": "code",
   "execution_count": 193,
   "id": "f78a1ccb",
   "metadata": {},
   "outputs": [
    {
     "data": {
      "text/plain": [
       "type push = {\n",
       "  from_pos : int * int;\n",
       "  to_pos : int * int;\n",
       "  children : push list;\n",
       "}\n"
      ]
     },
     "execution_count": 193,
     "metadata": {},
     "output_type": "execute_result"
    }
   ],
   "source": [
    "type push = {\n",
    "  from_pos: int * int;\n",
    "  to_pos: int * int;\n",
    "  children: push list\n",
    "}"
   ]
  },
  {
   "cell_type": "markdown",
   "id": "b0860553",
   "metadata": {},
   "source": [
    "When checking pushes, we might visit dependent pushes multiple times.  For example, in this situation:\n",
    "```\n",
    "..\n",
    "[] ab\n",
    "[] cd\n",
    ".@\n",
    "```\n",
    "\n",
    "We will first check d, then b and a. Then we'll check c, which also depends on a and b. We'll just keep track of which pushes we've already checked and construct a tree like $c \\rightarrow (d \\rightarrow (a \\rightarrow b))$.  Because we short-circuit as soon as any push fails, already checked pushes must be valid - we just don't want to add them to the tree again."
   ]
  },
  {
   "cell_type": "code",
   "execution_count": 194,
   "id": "40dc0733",
   "metadata": {},
   "outputs": [
    {
     "data": {
      "text/plain": [
       "type push_check = Bad | AlreadyChecked | Push of push\n"
      ]
     },
     "execution_count": 194,
     "metadata": {},
     "output_type": "execute_result"
    }
   ],
   "source": [
    "type push_check = Bad | AlreadyChecked | Push of push"
   ]
  },
  {
   "cell_type": "code",
   "execution_count": 195,
   "id": "c24f66a4",
   "metadata": {},
   "outputs": [
    {
     "data": {
      "text/plain": [
       "val make_push :\n",
       "  int * int ->\n",
       "  Core_kernel.Int.t * int -> char Core.Array.t Core.Array.t -> push option =\n",
       "  <fun>\n"
      ]
     },
     "execution_count": 195,
     "metadata": {},
     "output_type": "execute_result"
    }
   ],
   "source": [
    "let make_push (fi, fj) (di, dj) grid =\n",
    "  let already_checked = Hash_set.Poly.of_list [(-1, -1)] in\n",
    "  let rec make_push' (fi, fj) (di, dj) add_adjacent =\n",
    "    let check_push (fi, fj) (di, dj) add_adjacent =\n",
    "      if Hash_set.mem already_checked (fi, fj) then\n",
    "        AlreadyChecked\n",
    "      else begin\n",
    "        (* we are only really checking vertical pushes if add_adjacent=false *)\n",
    "        if not add_adjacent then Hash_set.add already_checked (fi, fj);\n",
    "        make_push' (fi, fj) (di, dj) add_adjacent\n",
    "      end in\n",
    "    let (ti, tj) = (fi + di, fj + dj) in\n",
    "    if di = 0 || (not add_adjacent) then\n",
    "      (* horizontal push, or vertical push w/o adjacent push *)\n",
    "      match grid.(ti).(tj) with\n",
    "      | '#' -> Bad\n",
    "      | '.' -> Push {from_pos=(fi, fj); to_pos=(ti, tj); children=[]}\n",
    "      | '[' | ']' | 'O' ->\n",
    "        let child = check_push (ti, tj) (di, dj) true in\n",
    "          (match child with\n",
    "           | Bad -> Bad\n",
    "           | AlreadyChecked -> Push {from_pos=(fi, fj); to_pos=(ti, tj); children=[]}\n",
    "           | Push p -> Push {from_pos=(fi, fj); to_pos=(ti, tj); children=[p]})\n",
    "      | _ -> failwith \"bad grid\"\n",
    "    else\n",
    "      (* vertical push with adjacent push *)\n",
    "      (* first push this column, then dependent on that, push neighbor *)\n",
    "      match check_push (fi, fj) (di, dj) false with\n",
    "      | Bad -> Bad\n",
    "      | AlreadyChecked -> AlreadyChecked\n",
    "      | Push p ->\n",
    "        let push_neighbor neighbor =\n",
    "          match check_push neighbor (di, dj) false with\n",
    "          | Bad -> Bad\n",
    "          | AlreadyChecked -> Push p\n",
    "          | Push n -> Push {from_pos=n.from_pos; to_pos=n.to_pos; children=p::n.children} in \n",
    "        match grid.(fi).(fj) with\n",
    "        | ']' -> push_neighbor (fi, fj-1)\n",
    "        | '[' -> push_neighbor (fi, fj+1)\n",
    "        | 'O' -> Push p\n",
    "        | _ -> failwith \"bad grid\" in\n",
    "  match grid.(fi).(fj) with\n",
    "  | '.' | '#' -> None\n",
    "  | _ ->\n",
    "    match make_push' (fi, fj) (di, dj) true with\n",
    "    | Bad -> None\n",
    "    | AlreadyChecked -> failwith \"bug\"\n",
    "    | Push p -> Some p"
   ]
  },
  {
   "cell_type": "code",
   "execution_count": 196,
   "id": "6469660c",
   "metadata": {},
   "outputs": [
    {
     "data": {
      "text/plain": [
       "- : sokoban =\n",
       "{grid =\n",
       "  [|[|'#'; '#'; '#'; '#'; '#'; '#'; '#'; '#'; '#'; '#'; '#'; '#'; '#'; '#'|];\n",
       "    [|'#'; '#'; '.'; '.'; '.'; '.'; '.'; '.'; '#'; '#'; '.'; '.'; '#'; '#'|];\n",
       "    [|'#'; '#'; '.'; '.'; '.'; '.'; '.'; '.'; '.'; '.'; '.'; '.'; '#'; '#'|];\n",
       "    [|'#'; '#'; '.'; '.'; '.'; '.'; '['; ']'; '['; ']'; '.'; '.'; '#'; '#'|];\n",
       "    [|'#'; '#'; '.'; '.'; '.'; '.'; '['; ']'; '.'; '.'; '.'; '.'; '#'; '#'|];\n",
       "    [|'#'; '#'; '.'; '.'; '.'; '.'; '.'; '.'; '.'; '.'; '.'; '.'; '#'; '#'|];\n",
       "    [|'#'; '#'; '#'; '#'; '#'; '#'; '#'; '#'; '#'; '#'; '#'; '#'; '#'; '#'|]|];\n",
       " robot = (3, 10);\n",
       " moves = ['<'; 'v'; 'v'; '<'; '<'; '^'; '^'; '<'; '<'; '^'; '^']}\n"
      ]
     },
     "execution_count": 196,
     "metadata": {},
     "output_type": "execute_result"
    }
   ],
   "source": [
    "read_sokoban \"day15_small2.txt\" |> inflate"
   ]
  },
  {
   "cell_type": "code",
   "execution_count": 197,
   "id": "3136ffd4",
   "metadata": {},
   "outputs": [
    {
     "data": {
      "text/plain": [
       "- : push option =\n",
       "Some\n",
       " {from_pos = (4, 6); to_pos = (3, 6);\n",
       "  children =\n",
       "   [{from_pos = (4, 7); to_pos = (3, 7);\n",
       "     children =\n",
       "      [{from_pos = (3, 6); to_pos = (2, 6);\n",
       "        children = [{from_pos = (3, 7); to_pos = (2, 7); children = []}]}]}]}\n"
      ]
     },
     "execution_count": 197,
     "metadata": {},
     "output_type": "execute_result"
    }
   ],
   "source": [
    "read_sokoban \"day15_small2.txt\" |> inflate |> (fun s -> s.grid) |> make_push (4, 7) (-1, 0)"
   ]
  },
  {
   "cell_type": "code",
   "execution_count": 198,
   "id": "b0fa34cb",
   "metadata": {},
   "outputs": [
    {
     "data": {
      "text/plain": [
       "val do_push : push -> char Core.Array.t Core.Array.t -> unit = <fun>\n"
      ]
     },
     "execution_count": 198,
     "metadata": {},
     "output_type": "execute_result"
    }
   ],
   "source": [
    "let rec do_push p grid =\n",
    "  List.iter p.children (fun p' -> do_push p' grid);\n",
    "  grid.(fst p.to_pos).(snd p.to_pos) <- grid.(fst p.from_pos).(snd p.from_pos); \n",
    "  grid.(fst p.from_pos).(snd p.from_pos) <- '.'"
   ]
  },
  {
   "cell_type": "code",
   "execution_count": 199,
   "id": "b2d79f16",
   "metadata": {},
   "outputs": [
    {
     "data": {
      "text/plain": [
       "val do_sokoban_move : char -> char list -> sokoban -> sokoban = <fun>\n"
      ]
     },
     "execution_count": 199,
     "metadata": {},
     "output_type": "execute_result"
    }
   ],
   "source": [
    "let do_sokoban_move move next_moves sokoban =\n",
    "  let (di, dj) = match move with\n",
    "  | '^' -> (-1, 0)\n",
    "  | '>' -> (0, 1)\n",
    "  | 'v' -> (1, 0)\n",
    "  | '<' -> (0, -1)\n",
    "  | _ -> failwith \"bad move\" in\n",
    "  let (i, j) = sokoban.robot in\n",
    "  let (ni, nj) = (i + di, j + dj) in\n",
    "  let () =\n",
    "    match (make_push (ni, nj) (di, dj) sokoban.grid) with\n",
    "    | Some p -> do_push p sokoban.grid\n",
    "    | None -> () in\n",
    "  let there = sokoban.grid.(ni).(nj) in\n",
    "  match there with\n",
    "  | '#' | '[' | ']' | 'O' ->\n",
    "    {grid=sokoban.grid; robot=(i, j); moves=next_moves}\n",
    "  | '.' ->\n",
    "    {grid=sokoban.grid; robot=(ni, nj); moves=next_moves}\n",
    "  | _ -> failwith (\"bad grid \" ^ (String.make 1 there))"
   ]
  },
  {
   "cell_type": "code",
   "execution_count": 200,
   "id": "aed25f1a",
   "metadata": {},
   "outputs": [
    {
     "data": {
      "text/plain": [
       "- : sokoban =\n",
       "{grid =\n",
       "  [|[|'#'; '#'; '#'; '#'; '#'; '#'; '#'; '#'; '#'; '#'; '#'; '#'; '#'; '#'|];\n",
       "    [|'#'; '#'; '.'; '.'; '.'; '['; ']'; '.'; '#'; '#'; '.'; '.'; '#'; '#'|];\n",
       "    [|'#'; '#'; '.'; '.'; '.'; '.'; '.'; '['; ']'; '.'; '.'; '.'; '#'; '#'|];\n",
       "    [|'#'; '#'; '.'; '.'; '.'; '.'; '['; ']'; '.'; '.'; '.'; '.'; '#'; '#'|];\n",
       "    [|'#'; '#'; '.'; '.'; '.'; '.'; '.'; '.'; '.'; '.'; '.'; '.'; '#'; '#'|];\n",
       "    [|'#'; '#'; '.'; '.'; '.'; '.'; '.'; '.'; '.'; '.'; '.'; '.'; '#'; '#'|];\n",
       "    [|'#'; '#'; '#'; '#'; '#'; '#'; '#'; '#'; '#'; '#'; '#'; '#'; '#'; '#'|]|];\n",
       " robot = (2, 5); moves = []}\n"
      ]
     },
     "execution_count": 200,
     "metadata": {},
     "output_type": "execute_result"
    }
   ],
   "source": [
    "read_sokoban \"day15_small2.txt\" |> inflate\n",
    "|> do_sokoban_move '<' []\n",
    "|> do_sokoban_move 'v' []\n",
    "|> do_sokoban_move 'v' []\n",
    "|> do_sokoban_move '<' []\n",
    "|> do_sokoban_move '<' []\n",
    "|> do_sokoban_move '^' []\n",
    "|> do_sokoban_move '<' []\n",
    "|> do_sokoban_move '<' []\n",
    "|> do_sokoban_move '^' []\n",
    "|> do_sokoban_move '^' []"
   ]
  },
  {
   "cell_type": "code",
   "execution_count": 201,
   "id": "2c12a536",
   "metadata": {},
   "outputs": [
    {
     "data": {
      "text/plain": [
       "val play_sokoban : sokoban -> sokoban = <fun>\n"
      ]
     },
     "execution_count": 201,
     "metadata": {},
     "output_type": "execute_result"
    }
   ],
   "source": [
    "let rec play_sokoban sokoban =\n",
    "  match sokoban.moves with\n",
    "  | [] -> sokoban\n",
    "  | move :: next_moves -> play_sokoban (do_sokoban_move move next_moves sokoban)"
   ]
  },
  {
   "cell_type": "code",
   "execution_count": 202,
   "id": "f57f801f",
   "metadata": {},
   "outputs": [
    {
     "data": {
      "text/plain": [
       "- : sokoban =\n",
       "{grid =\n",
       "  [|[|'#'; '#'; '#'; '#'; '#'; '#'; '#'; '#'; '#'; '#'; '#'; '#'; '#'; '#'|];\n",
       "    [|'#'; '#'; '.'; '.'; '.'; '['; ']'; '.'; '#'; '#'; '.'; '.'; '#'; '#'|];\n",
       "    [|'#'; '#'; '.'; '.'; '.'; '.'; '.'; '['; ']'; '.'; '.'; '.'; '#'; '#'|];\n",
       "    [|'#'; '#'; '.'; '.'; '.'; '.'; '['; ']'; '.'; '.'; '.'; '.'; '#'; '#'|];\n",
       "    [|'#'; '#'; '.'; '.'; '.'; '.'; '.'; '.'; '.'; '.'; '.'; '.'; '#'; '#'|];\n",
       "    [|'#'; '#'; '.'; '.'; '.'; '.'; '.'; '.'; '.'; '.'; '.'; '.'; '#'; '#'|];\n",
       "    [|'#'; '#'; '#'; '#'; '#'; '#'; '#'; '#'; '#'; '#'; '#'; '#'; '#'; '#'|]|];\n",
       " robot = (2, 5); moves = []}\n"
      ]
     },
     "execution_count": 202,
     "metadata": {},
     "output_type": "execute_result"
    }
   ],
   "source": [
    "read_sokoban \"day15_small2.txt\" |> inflate |> play_sokoban"
   ]
  },
  {
   "cell_type": "code",
   "execution_count": 203,
   "id": "58abee07",
   "metadata": {},
   "outputs": [
    {
     "data": {
      "text/plain": [
       "- : sokoban =\n",
       "{grid =\n",
       "  [|[|'#'; '#'; '#'; '#'; '#'; '#'; '#'; '#'; '#'; '#'; '#'; '#'; '#'; '#';\n",
       "      '#'; '#'; '#'; '#'; '#'; '#'|];\n",
       "    [|'#'; '#'; '['; ']'; '.'; '.'; '.'; '.'; '.'; '.'; '.'; '['; ']'; '.';\n",
       "      '['; ']'; '['; ']'; '#'; '#'|];\n",
       "    [|'#'; '#'; '['; ']'; '.'; '.'; '.'; '.'; '.'; '.'; '.'; '.'; '.'; '.';\n",
       "      '.'; '['; ']'; '.'; '#'; '#'|];\n",
       "    [|'#'; '#'; '['; ']'; '.'; '.'; '.'; '.'; '.'; '.'; '.'; '.'; '['; ']';\n",
       "      '['; ']'; '['; ']'; '#'; '#'|];\n",
       "    [|'#'; '#'; '['; ']'; '.'; '.'; '.'; '.'; '.'; '.'; '['; ']'; '.'; '.';\n",
       "      '.'; '.'; '['; ']'; '#'; '#'|];\n",
       "    [|'#'; '#'; '.'; '.'; '#'; '#'; '.'; '.'; '.'; '.'; '.'; '.'; '['; ']';\n",
       "      '.'; '.'; '.'; '.'; '#'; '#'|];\n",
       "    [|'#'; '#'; '.'; '.'; '['; ']'; '.'; '.'; '.'; '.'; '.'; '.'; '.'; '.';\n",
       "      '.'; '.'; '.'; '.'; '#'; '#'|];\n",
       "    [|'#'; '#'; '.'; '.'; '.'; '.'; '.'; '.'; '.'; '.'; '.'; '['; ']'; '.';\n",
       "      '['; ']'; '['; ']'; '#'; '#'|];\n",
       "    [|'#'; '#'; '.'; '.'; '.'; '.'; '.'; '.'; '['; ']'; '['; ']'; '.'; '.';\n",
       "      '['; ']'; '.'; '.'; '#'; '#'|];\n",
       "    [|'#'; '#'; '#'; '#'; '#'; '#'; '#'; '#'; '#'; '#'; '#'; '#'; '#'; '#';\n",
       "      '#'; '#'; '#'; '#'; '#'; '#'|]|];\n",
       " robot = (7, 4); moves = []}\n"
      ]
     },
     "execution_count": 203,
     "metadata": {},
     "output_type": "execute_result"
    }
   ],
   "source": [
    "read_sokoban \"day15_example.txt\" |> inflate |> play_sokoban"
   ]
  },
  {
   "cell_type": "code",
   "execution_count": 204,
   "id": "dc220cf8",
   "metadata": {},
   "outputs": [
    {
     "data": {
      "text/plain": [
       "- : int = 9021\n"
      ]
     },
     "execution_count": 204,
     "metadata": {},
     "output_type": "execute_result"
    }
   ],
   "source": [
    "read_sokoban \"day15_example.txt\" |> inflate |> play_sokoban |> checksum_boxes"
   ]
  },
  {
   "cell_type": "code",
   "execution_count": 205,
   "id": "2b8fe9ea",
   "metadata": {},
   "outputs": [
    {
     "data": {
      "text/plain": [
       "- : int = 1432898\n"
      ]
     },
     "execution_count": 205,
     "metadata": {},
     "output_type": "execute_result"
    }
   ],
   "source": [
    "read_sokoban \"day15_input.txt\" |> inflate |> play_sokoban |> checksum_boxes"
   ]
  },
  {
   "cell_type": "markdown",
   "id": "3adde79b",
   "metadata": {},
   "source": [
    "## <a name=\"day16\">Day 16</a>\n",
    "\n",
    "### Part 1\n",
    "\n",
    "Another day, another grid.  Today we have to search for the lowest cost path through a maze."
   ]
  },
  {
   "cell_type": "code",
   "execution_count": 206,
   "id": "aba3c2a4",
   "metadata": {},
   "outputs": [
    {
     "data": {
      "text/plain": [
       "type day16_maze = {\n",
       "  grid : char Core.Array.t Core.Array.t;\n",
       "  start : int * int;\n",
       "  goal : int * int;\n",
       "}\n"
      ]
     },
     "execution_count": 206,
     "metadata": {},
     "output_type": "execute_result"
    }
   ],
   "source": [
    "type day16_maze = {\n",
    "  grid: char Core.Array.t Core.Array.t;\n",
    "  start: int * int;\n",
    "  goal: int * int;\n",
    "}"
   ]
  },
  {
   "cell_type": "code",
   "execution_count": 207,
   "id": "f0c22b5d",
   "metadata": {},
   "outputs": [
    {
     "data": {
      "text/plain": [
       "val read_maze : Base.string -> day16_maze = <fun>\n"
      ]
     },
     "execution_count": 207,
     "metadata": {},
     "output_type": "execute_result"
    }
   ],
   "source": [
    "let read_maze filename =\n",
    "  let grid = read_grid_from_file filename in\n",
    "  let start = find_in_grid (Char.(=) 'S') grid in\n",
    "  let goal = find_in_grid (Char.(=) 'E') grid in\n",
    "  {grid; start; goal}"
   ]
  },
  {
   "cell_type": "code",
   "execution_count": 208,
   "id": "4ee9b780",
   "metadata": {},
   "outputs": [
    {
     "data": {
      "text/plain": [
       "- : day16_maze =\n",
       "{grid =\n",
       "  [|[|'#'; '#'; '#'; '#'; '#'; '#'; '#'; '#'; '#'; '#'; '#'; '#'; '#'; '#';\n",
       "      '#'|];\n",
       "    [|'#'; '.'; '.'; '.'; '.'; '.'; '.'; '.'; '#'; '.'; '.'; '.'; '.'; 'E';\n",
       "      '#'|];\n",
       "    [|'#'; '.'; '#'; '.'; '#'; '#'; '#'; '.'; '#'; '.'; '#'; '#'; '#'; '.';\n",
       "      '#'|];\n",
       "    [|'#'; '.'; '.'; '.'; '.'; '.'; '#'; '.'; '#'; '.'; '.'; '.'; '#'; '.';\n",
       "      '#'|];\n",
       "    [|'#'; '.'; '#'; '#'; '#'; '.'; '#'; '#'; '#'; '#'; '#'; '.'; '#'; '.';\n",
       "      '#'|];\n",
       "    [|'#'; '.'; '#'; '.'; '#'; '.'; '.'; '.'; '.'; '.'; '.'; '.'; '#'; '.';\n",
       "      '#'|];\n",
       "    [|'#'; '.'; '#'; '.'; '#'; '#'; '#'; '#'; '#'; '.'; '#'; '#'; '#'; '.';\n",
       "      '#'|];\n",
       "    [|'#'; '.'; '.'; '.'; '.'; '.'; '.'; '.'; '.'; '.'; '.'; '.'; '#'; '.';\n",
       "      '#'|];\n",
       "    [|'#'; '#'; '#'; '.'; '#'; '.'; '#'; '#'; '#'; '#'; '#'; '.'; '#'; '.';\n",
       "      '#'|];\n",
       "    [|'#'; '.'; '.'; '.'; '#'; '.'; '.'; '.'; '.'; '.'; '#'; '.'; '#'; '.';\n",
       "      '#'|];\n",
       "    [|'#'; '.'; '#'; '.'; '#'; '.'; '#'; '#'; '#'; '.'; '#'; '.'; '#'; '.';\n",
       "      '#'|];\n",
       "    [|'#'; '.'; '.'; '.'; '.'; '.'; '#'; '.'; '.'; '.'; '#'; '.'; '#'; '.';\n",
       "      '#'|];\n",
       "    [|'#'; '.'; '#'; '#'; '#'; '.'; '#'; '.'; '#'; '.'; '#'; '.'; '#'; '.';\n",
       "      '#'|];\n",
       "    [|'#'; 'S'; '.'; '.'; '#'; '.'; '.'; '.'; '.'; '.'; '#'; '.'; '.'; '.';\n",
       "      '#'|];\n",
       "    [|'#'; '#'; '#'; '#'; '#'; '#'; '#'; '#'; '#'; '#'; '#'; '#'; '#'; '#';\n",
       "      '#'|]|];\n",
       " start = (13, 1); goal = (1, 13)}\n"
      ]
     },
     "execution_count": 208,
     "metadata": {},
     "output_type": "execute_result"
    }
   ],
   "source": [
    "read_maze \"day16_example.txt\""
   ]
  },
  {
   "cell_type": "markdown",
   "id": "528a072f",
   "metadata": {},
   "source": [
    "All right... do we have a heap of some sort?  There is `core_kernel.Pairing_heap`, but I'm not sure that `core_kernel` exists anymore.  According to a blog post, it was going to stop existing, but I don't know if that's happened or not in my version of ocaml."
   ]
  },
  {
   "cell_type": "code",
   "execution_count": 209,
   "id": "b0b9f376",
   "metadata": {},
   "outputs": [
    {
     "name": "stderr",
     "output_type": "stream",
     "text": [
      "/Users/jered/.opam/4.12.0/lib/core_kernel/tuple_pool: added to search path\n",
      "/Users/jered/.opam/4.12.0/lib/core_kernel/tuple_pool/tuple_pool.cma: loaded\n",
      "/Users/jered/.opam/4.12.0/lib/core_kernel/pairing_heap: added to search path\n",
      "/Users/jered/.opam/4.12.0/lib/core_kernel/pairing_heap/pairing_heap.cma: loaded\n"
     ]
    }
   ],
   "source": [
    "#require \"core_kernel\" ;;\n",
    "#require \"core_kernel.pairing_heap\" ;;"
   ]
  },
  {
   "cell_type": "code",
   "execution_count": 210,
   "id": "e90b68fa",
   "metadata": {},
   "outputs": [
    {
     "data": {
      "text/plain": [
       "- : ?min_size:int -> cmp:('a -> 'a -> int) -> unit -> 'a Pairing_heap.t =\n",
       "<fun>\n"
      ]
     },
     "execution_count": 210,
     "metadata": {},
     "output_type": "execute_result"
    }
   ],
   "source": [
    "Pairing_heap.create"
   ]
  },
  {
   "cell_type": "markdown",
   "id": "d7114d92",
   "metadata": {},
   "source": [
    "It's a Festivus miracle!"
   ]
  },
  {
   "cell_type": "code",
   "execution_count": 211,
   "id": "1e726afc",
   "metadata": {},
   "outputs": [
    {
     "data": {
      "text/plain": [
       "type day16_position = { pos : int * int; facing : int * int; }\n"
      ]
     },
     "execution_count": 211,
     "metadata": {},
     "output_type": "execute_result"
    }
   ],
   "source": [
    "type day16_position = {\n",
    "  pos: int * int;\n",
    "  facing: int * int;\n",
    "}"
   ]
  },
  {
   "cell_type": "code",
   "execution_count": 212,
   "id": "1b8780c7",
   "metadata": {},
   "outputs": [
    {
     "data": {
      "text/plain": [
       "val search_maze : day16_maze -> int = <fun>\n"
      ]
     },
     "execution_count": 212,
     "metadata": {},
     "output_type": "execute_result"
    }
   ],
   "source": [
    "let search_maze maze =\n",
    "  let size = Array.length maze.grid in\n",
    "  (* 0 1 -> 1 0 -> 0 -1 -> -1 0 *)\n",
    "  let turn_cw dir = (snd dir, - fst dir) in\n",
    "  (* 0 1 -> -1 0 -> 0 -1 -> 1 0 *)\n",
    "  let turn_ccw dir = (- snd dir, fst dir) in\n",
    "  let compare_paths (p_cost, _) (q_cost, _) = Stdlib.compare p_cost q_cost in\n",
    "  let start = {pos=maze.start; facing=(0, 1)} in\n",
    "  let queue = Pairing_heap.of_list ~cmp:compare_paths [(0, start)] in\n",
    "  let visited = Hash_set.Poly.of_list [start] in\n",
    "  let enqueue cost p =\n",
    "    if not (Hash_set.mem visited p) then begin\n",
    "      Pairing_heap.add queue (cost, p)\n",
    "    end in\n",
    "  let best_cost = ref (-1) in\n",
    "  while !best_cost < 0 && not (Pairing_heap.is_empty queue) do \n",
    "    let (cost, p) = Pairing_heap.pop_exn queue in\n",
    "    Hash_set.add visited p;\n",
    "    if Poly.(=) p.pos maze.goal then\n",
    "      best_cost := cost\n",
    "    else begin\n",
    "      let (i, j) = p.pos in\n",
    "      let (di, dj) = p.facing in\n",
    "      let (ni, nj) = (i + di, j + dj) in\n",
    "      if ni >= 0 && ni < size && nj >= 0 && nj < size && Char.(maze.grid.(ni).(nj) <> '#') then\n",
    "        enqueue (cost + 1) {pos=(ni, nj); facing=p.facing};\n",
    "      enqueue (cost + 1000) {pos=p.pos; facing=turn_cw p.facing};\n",
    "      enqueue (cost + 1000) {pos=p.pos; facing=turn_ccw p.facing};\n",
    "    end\n",
    "  done; !best_cost"
   ]
  },
  {
   "cell_type": "code",
   "execution_count": 213,
   "id": "4da37c5a",
   "metadata": {},
   "outputs": [
    {
     "data": {
      "text/plain": [
       "- : int = 7036\n"
      ]
     },
     "execution_count": 213,
     "metadata": {},
     "output_type": "execute_result"
    }
   ],
   "source": [
    "read_maze \"day16_example.txt\" |> search_maze"
   ]
  },
  {
   "cell_type": "code",
   "execution_count": 214,
   "id": "9e975113",
   "metadata": {},
   "outputs": [
    {
     "data": {
      "text/plain": [
       "- : int = 78428\n"
      ]
     },
     "execution_count": 214,
     "metadata": {},
     "output_type": "execute_result"
    }
   ],
   "source": [
    "read_maze \"day16_input.txt\" |> search_maze"
   ]
  },
  {
   "cell_type": "markdown",
   "id": "92922b60",
   "metadata": {},
   "source": [
    "### Part 2\n",
    "\n",
    "Now we have to count cells in best paths."
   ]
  },
  {
   "cell_type": "code",
   "execution_count": 215,
   "id": "7f93d5a0",
   "metadata": {},
   "outputs": [
    {
     "data": {
      "text/plain": [
       "val count_best_cells : day16_maze -> int = <fun>\n"
      ]
     },
     "execution_count": 215,
     "metadata": {},
     "output_type": "execute_result"
    }
   ],
   "source": [
    "let count_best_cells maze =\n",
    "  let size = Array.length maze.grid in\n",
    "  let turn_cw dir = (snd dir, - fst dir) in\n",
    "  let turn_ccw dir = (- snd dir, fst dir) in\n",
    "  let compare_paths (p_cost, _, _) (q_cost, _, _) = Stdlib.compare p_cost q_cost in\n",
    "  let start = {pos=maze.start; facing=(0, 1)} in\n",
    "  let queue = Pairing_heap.of_list ~cmp:compare_paths [(0, start, [maze.start])] in\n",
    "  let best_cells = Hash_set.Poly.of_list [maze.start] in\n",
    "  let visited = Hash_set.Poly.of_list [{pos=maze.start; facing=(0, 1)}] in\n",
    "  let enqueue cost p history =\n",
    "    if not (Hash_set.mem visited p) then begin\n",
    "      Pairing_heap.add queue (cost, p, p.pos::history)\n",
    "    end in\n",
    "  let is_done = ref false in\n",
    "  let best_cost = ref (-1) in\n",
    "  while not !is_done && not (Pairing_heap.is_empty queue) do \n",
    "    let (cost, p, history) = Pairing_heap.pop_exn queue in\n",
    "    Hash_set.add visited p;\n",
    "    if !best_cost > 0 && cost > !best_cost then\n",
    "      is_done := true\n",
    "    else if Poly.(=) p.pos maze.goal then begin\n",
    "      best_cost := cost;\n",
    "      List.iter history (Hash_set.add best_cells)\n",
    "    end else begin\n",
    "      let (i, j) = p.pos in\n",
    "      let (di, dj) = p.facing in\n",
    "      let (ni, nj) = (i + di, j + dj) in\n",
    "      if ni >= 0 && ni < size && nj >= 0 && nj < size && Char.(maze.grid.(ni).(nj) <> '#') then\n",
    "        enqueue (cost + 1) {pos=(ni, nj); facing=p.facing} history;\n",
    "      enqueue (cost + 1000) {pos=p.pos; facing=turn_cw p.facing} history;\n",
    "      enqueue (cost + 1000) {pos=p.pos; facing=turn_ccw p.facing} history;\n",
    "    end\n",
    "  done;\n",
    "  Hash_set.length best_cells"
   ]
  },
  {
   "cell_type": "code",
   "execution_count": 216,
   "id": "fba4427f",
   "metadata": {},
   "outputs": [
    {
     "data": {
      "text/plain": [
       "- : int = 45\n"
      ]
     },
     "execution_count": 216,
     "metadata": {},
     "output_type": "execute_result"
    }
   ],
   "source": [
    "read_maze \"day16_example.txt\" |> count_best_cells"
   ]
  },
  {
   "cell_type": "code",
   "execution_count": 217,
   "id": "5d9685a0",
   "metadata": {},
   "outputs": [
    {
     "data": {
      "text/plain": [
       "- : int = 64\n"
      ]
     },
     "execution_count": 217,
     "metadata": {},
     "output_type": "execute_result"
    }
   ],
   "source": [
    "read_maze \"day16_example2.txt\" |> count_best_cells"
   ]
  },
  {
   "cell_type": "code",
   "execution_count": 218,
   "id": "50766fee",
   "metadata": {},
   "outputs": [
    {
     "data": {
      "text/plain": [
       "- : int = 463\n"
      ]
     },
     "execution_count": 218,
     "metadata": {},
     "output_type": "execute_result"
    }
   ],
   "source": [
    "read_maze \"day16_input.txt\" |> count_best_cells"
   ]
  },
  {
   "cell_type": "markdown",
   "id": "d0a3400b",
   "metadata": {},
   "source": [
    "## <a name=\"day17\">Day 17</a>\n",
    "\n",
    "### Part 1\n",
    "\n",
    "Today we're emulating a 3-bit computer.  I love emulating computers."
   ]
  },
  {
   "cell_type": "code",
   "execution_count": 219,
   "id": "3fdb4355",
   "metadata": {},
   "outputs": [
    {
     "data": {
      "text/plain": [
       "type day17_operand = Literal of int | AReg | BReg | CReg\n"
      ]
     },
     "execution_count": 219,
     "metadata": {},
     "output_type": "execute_result"
    }
   ],
   "source": [
    "type day17_operand = Literal of int | AReg | BReg | CReg"
   ]
  },
  {
   "cell_type": "code",
   "execution_count": 220,
   "id": "6573a7c8",
   "metadata": {},
   "outputs": [
    {
     "data": {
      "text/plain": [
       "type day17_instruction =\n",
       "    Adv of day17_operand\n",
       "  | Bxl of day17_operand\n",
       "  | Bst of day17_operand\n",
       "  | Jnz of day17_operand\n",
       "  | Bxc of day17_operand\n",
       "  | Out of day17_operand\n",
       "  | Bdv of day17_operand\n",
       "  | Cdv of day17_operand\n"
      ]
     },
     "execution_count": 220,
     "metadata": {},
     "output_type": "execute_result"
    }
   ],
   "source": [
    "type day17_instruction =\n",
    "| Adv of day17_operand\n",
    "| Bxl of day17_operand\n",
    "| Bst of day17_operand\n",
    "| Jnz of day17_operand\n",
    "| Bxc of day17_operand\n",
    "| Out of day17_operand\n",
    "| Bdv of day17_operand\n",
    "| Cdv of day17_operand"
   ]
  },
  {
   "cell_type": "code",
   "execution_count": 221,
   "id": "458435b3",
   "metadata": {},
   "outputs": [
    {
     "data": {
      "text/plain": [
       "type day17_computer = {\n",
       "  mutable a : int;\n",
       "  mutable b : int;\n",
       "  mutable c : int;\n",
       "  mutable ip : int;\n",
       "  mutable output : int list;\n",
       "  program : day17_instruction Core.Array.t;\n",
       "  bytecode : int list;\n",
       "}\n"
      ]
     },
     "execution_count": 221,
     "metadata": {},
     "output_type": "execute_result"
    }
   ],
   "source": [
    "type day17_computer = {\n",
    "  mutable a: int;\n",
    "  mutable b: int;\n",
    "  mutable c: int;\n",
    "  mutable ip: int;\n",
    "  mutable output: int list;\n",
    "  program: day17_instruction Core.Array.t;\n",
    "  bytecode: int list;\n",
    "}"
   ]
  },
  {
   "cell_type": "code",
   "execution_count": 222,
   "id": "13d936e5",
   "metadata": {},
   "outputs": [
    {
     "data": {
      "text/plain": [
       "val disassemble : int list -> day17_instruction list = <fun>\n"
      ]
     },
     "execution_count": 222,
     "metadata": {},
     "output_type": "execute_result"
    }
   ],
   "source": [
    "let disassemble program =\n",
    "  let parse_combo operand =\n",
    "    match operand with\n",
    "    | 0 | 1 | 2 | 3 -> Literal operand\n",
    "    | 4 -> AReg\n",
    "    | 5 -> BReg\n",
    "    | 6 -> CReg\n",
    "    | _ -> failwith \"bad operand\" in\n",
    "  let parse opcode operand =\n",
    "    match opcode with\n",
    "    | 0 -> Adv (parse_combo operand)\n",
    "    | 1 -> Bxl (Literal operand)\n",
    "    | 2 -> Bst (parse_combo operand)\n",
    "    | 3 -> Jnz (Literal operand)\n",
    "    | 4 -> Bxc (Literal operand)\n",
    "    | 5 -> Out (parse_combo operand)\n",
    "    | 6 -> Bdv (parse_combo operand)\n",
    "    | 7 -> Cdv (parse_combo operand)\n",
    "    | _ -> failwith \"bad opcode\" in\n",
    "  let opcodes = filteri program ~f:(fun i _ -> i mod 2 = 0) in\n",
    "  let operands = filteri program ~f:(fun i _ -> i mod 2 = 1) in\n",
    "  map2_exn opcodes operands parse"
   ]
  },
  {
   "cell_type": "code",
   "execution_count": 223,
   "id": "fe2638ca",
   "metadata": {},
   "outputs": [
    {
     "data": {
      "text/plain": [
       "val read_day17_computer : Base.string -> day17_computer = <fun>\n"
      ]
     },
     "execution_count": 223,
     "metadata": {},
     "output_type": "execute_result"
    }
   ],
   "source": [
    "let read_day17_computer filename =\n",
    "  let lines = In_channel.read_lines filename in\n",
    "  let parse_register line =\n",
    "    String.split line ~on:':' |> last_exn |> String.strip |> int_of_string in\n",
    "  let (a, b, c) = match take lines 3 >>| parse_register with\n",
    "  | [a; b; c] -> (a, b, c)\n",
    "  | _ -> failwith \"missing regs\" in\n",
    "  let parse_program line =\n",
    "    String.split line ~on:' ' |> last_exn |> String.split ~on:',' >>| int_of_string in\n",
    "  let bytecode = parse_program (last_exn lines) in\n",
    "  let program = Array.of_list @@ disassemble bytecode in\n",
    "  {a; b; c; program; bytecode; ip=0; output=[]}"
   ]
  },
  {
   "cell_type": "code",
   "execution_count": 224,
   "id": "d8887e0d",
   "metadata": {},
   "outputs": [
    {
     "data": {
      "text/plain": [
       "- : day17_computer =\n",
       "{a = 729; b = 0; c = 0; ip = 0; output = [];\n",
       " program = [|Adv (Literal 1); Out AReg; Jnz (Literal 0)|];\n",
       " bytecode = [0; 1; 5; 4; 3; 0]}\n"
      ]
     },
     "execution_count": 224,
     "metadata": {},
     "output_type": "execute_result"
    }
   ],
   "source": [
    "read_day17_computer \"day17_example.txt\""
   ]
  },
  {
   "cell_type": "markdown",
   "id": "c358cc81",
   "metadata": {},
   "source": [
    "All right, now we can run the programs..."
   ]
  },
  {
   "cell_type": "code",
   "execution_count": 225,
   "id": "2552664d",
   "metadata": {},
   "outputs": [
    {
     "data": {
      "text/plain": [
       "val step_computer : day17_computer -> day17_computer = <fun>\n"
      ]
     },
     "execution_count": 225,
     "metadata": {},
     "output_type": "execute_result"
    }
   ],
   "source": [
    "let step_computer state =\n",
    "  let decode operand =\n",
    "    match operand with\n",
    "    | Literal n -> n\n",
    "    | AReg -> state.a\n",
    "    | BReg -> state.b\n",
    "    | CReg -> state.c in\n",
    "  let execute f = begin f; state.ip <- state.ip + 2 end in\n",
    "  let () = match state.program.(state.ip / 2) with\n",
    "  | Adv operand ->\n",
    "    execute (state.a <- state.a / (Int.shift_left 1 (decode operand)))\n",
    "  | Bxl operand ->\n",
    "    execute (state.b <- state.b lxor (decode operand))\n",
    "  | Bst operand ->\n",
    "    execute (state.b <- (decode operand) land 7)\n",
    "  | Jnz operand ->\n",
    "    if state.a <> 0 then\n",
    "      state.ip <- decode operand\n",
    "    else\n",
    "      state.ip <- state.ip + 2\n",
    "  | Bxc _ ->\n",
    "    execute (state.b <- state.b lxor state.c)\n",
    "  | Out operand ->\n",
    "    execute (state.output <- ((decode operand) land 7)::state.output)\n",
    "  | Bdv operand ->\n",
    "    execute (state.b <- state.a / (Int.shift_left 1 (decode operand)))\n",
    "  | Cdv operand ->\n",
    "    execute (state.c <- state.a / (Int.shift_left 1 (decode operand))) in\n",
    "  state"
   ]
  },
  {
   "cell_type": "code",
   "execution_count": 226,
   "id": "6038cf06",
   "metadata": {},
   "outputs": [
    {
     "data": {
      "text/plain": [
       "- : day17_computer =\n",
       "{a = 182; b = 0; c = 0; ip = 2; output = [4];\n",
       " program = [|Adv (Literal 1); Out AReg; Jnz (Literal 0)|];\n",
       " bytecode = [0; 1; 5; 4; 3; 0]}\n"
      ]
     },
     "execution_count": 226,
     "metadata": {},
     "output_type": "execute_result"
    }
   ],
   "source": [
    "read_day17_computer \"day17_example.txt\" |> iterate 4 step_computer"
   ]
  },
  {
   "cell_type": "code",
   "execution_count": 227,
   "id": "04a5eb41",
   "metadata": {},
   "outputs": [
    {
     "data": {
      "text/plain": [
       "val emulate : day17_computer -> int list = <fun>\n"
      ]
     },
     "execution_count": 227,
     "metadata": {},
     "output_type": "execute_result"
    }
   ],
   "source": [
    "let emulate state =\n",
    "  let size = Array.length state.program in\n",
    "  while state.ip >= 0 && state.ip < 2*size do\n",
    "    let _ = step_computer state in ()\n",
    "  done; rev state.output"
   ]
  },
  {
   "cell_type": "code",
   "execution_count": 228,
   "id": "8cae060c",
   "metadata": {},
   "outputs": [
    {
     "data": {
      "text/plain": [
       "- : string = \"4,6,3,5,6,3,5,2,1,0\"\n"
      ]
     },
     "execution_count": 228,
     "metadata": {},
     "output_type": "execute_result"
    }
   ],
   "source": [
    "read_day17_computer \"day17_example.txt\" |> emulate >>| string_of_int |> String.concat ~sep:\",\""
   ]
  },
  {
   "cell_type": "code",
   "execution_count": 229,
   "id": "e25a0c93",
   "metadata": {},
   "outputs": [
    {
     "data": {
      "text/plain": [
       "- : string = \"3,1,4,3,1,7,1,6,3\"\n"
      ]
     },
     "execution_count": 229,
     "metadata": {},
     "output_type": "execute_result"
    }
   ],
   "source": [
    "read_day17_computer \"day17_input.txt\" |> emulate >>| string_of_int |> String.concat ~sep:\",\""
   ]
  },
  {
   "cell_type": "markdown",
   "id": "87db0b63",
   "metadata": {},
   "source": [
    "### Part 2\n",
    "\n",
    "We have to find an initial value for the A register that makes the program function as a [quine](https://en.wikipedia.org/wiki/Quine_(computing)) - that's pretty cool actually!"
   ]
  },
  {
   "cell_type": "code",
   "execution_count": 230,
   "id": "94229077",
   "metadata": {},
   "outputs": [
    {
     "data": {
      "text/plain": [
       "- : int list = [0; 3; 5; 4; 3; 0]\n"
      ]
     },
     "execution_count": 230,
     "metadata": {},
     "output_type": "execute_result"
    }
   ],
   "source": [
    "read_day17_computer \"day17_quine.txt\" |> fun s -> s.a <- 117440; s |> emulate"
   ]
  },
  {
   "cell_type": "markdown",
   "id": "918f0e9a",
   "metadata": {},
   "source": [
    "Ok, what is the input program actually doing?"
   ]
  },
  {
   "cell_type": "code",
   "execution_count": 231,
   "id": "aba3f742",
   "metadata": {},
   "outputs": [
    {
     "data": {
      "text/plain": [
       "- : day17_computer =\n",
       "{a = 64751475; b = 0; c = 0; ip = 0; output = [];\n",
       " program =\n",
       "  [|Bst AReg; Bxl (Literal 2); Cdv BReg; Bxc (Literal 5); Bxl (Literal 3);\n",
       "    Out BReg; Adv (Literal 3); Jnz (Literal 0)|];\n",
       " bytecode = [2; 4; 1; 2; 7; 5; 4; 5; 1; 3; 5; 5; 0; 3; 3; 0]}\n"
      ]
     },
     "execution_count": 231,
     "metadata": {},
     "output_type": "execute_result"
    }
   ],
   "source": [
    "read_day17_computer \"day17_input.txt\""
   ]
  },
  {
   "cell_type": "markdown",
   "id": "341f7325",
   "metadata": {},
   "source": [
    "A loop examines 3 bits of A at a time, and outputs once per iteration.  So A must have 48 bits to get the right length output..."
   ]
  },
  {
   "cell_type": "code",
   "execution_count": 232,
   "id": "2dbbe2aa",
   "metadata": {},
   "outputs": [
    {
     "data": {
      "text/plain": [
       "- : int list = [1; 1; 1; 1; 1; 1; 1; 1; 1; 1; 1; 1; 1; 1; 1; 5]\n"
      ]
     },
     "execution_count": 232,
     "metadata": {},
     "output_type": "execute_result"
    }
   ],
   "source": [
    "read_day17_computer \"day17_input.txt\" |> fun s -> s.a <- (Int.shift_left 1 47); s |> emulate"
   ]
  },
  {
   "cell_type": "markdown",
   "id": "9974e1a8",
   "metadata": {},
   "source": [
    "In pseudo-code, the program is...\n",
    "```\n",
    "while True:\n",
    "  b = (a & 7) ^ 2\n",
    "  c = a / (1 << b)\n",
    "  b = (b ^ c) ^ 3\n",
    "  output(b & 7)\n",
    "  a = a >> 3\n",
    "  if a = 0: break\n",
    "```\n",
    "\n",
    "The output for each 3-bit group depends on that group, and on some group to the left.  But the _leftmost_ group - i.e. the last output - can only depend on itself.  So, we should be able to construct the bit string from left to right.\n",
    "\n",
    "Initially I tried taking the smallest group at each index, but that fails - there can still be a few options at each digit position so we still have to search.  But there are not many possibilities, and it is quick."
   ]
  },
  {
   "cell_type": "code",
   "execution_count": 233,
   "id": "6a1922ee",
   "metadata": {},
   "outputs": [
    {
     "data": {
      "text/plain": [
       "val find_quine : day17_computer -> int option = <fun>\n"
      ]
     },
     "execution_count": 233,
     "metadata": {},
     "output_type": "execute_result"
    }
   ],
   "source": [
    "let find_quine state =\n",
    "  let copy state =\n",
    "    {a=state.a; b=state.b; c=state.c; ip=state.ip;\n",
    "     program=state.program; bytecode=state.bytecode;\n",
    "     output=state.output} in\n",
    "  let size = List.length state.bytecode in\n",
    "  let rec search input_state acc i g =\n",
    "    if i = (-1) then\n",
    "      Some acc\n",
    "    else if g = 8 then\n",
    "      None\n",
    "    else begin\n",
    "      let trial = acc + (Int.shift_left g (3 * i)) in\n",
    "      let state = copy input_state in\n",
    "      let () = state.a <- trial in\n",
    "      let _ = emulate state in\n",
    "      let ith_output = List.nth_exn state.output ((size - 1) - i) in\n",
    "      let ith_bytecode = List.nth_exn state.bytecode i in\n",
    "      if ith_output = ith_bytecode then\n",
    "        match search input_state trial (i - 1) 0 with\n",
    "        | Some result -> Some result\n",
    "        | None -> search input_state acc i (g + 1)\n",
    "      else search input_state acc i (g + 1)\n",
    "    end in\n",
    "  search state 0 (size - 1) 1"
   ]
  },
  {
   "cell_type": "code",
   "execution_count": 234,
   "id": "04eb9d9c",
   "metadata": {},
   "outputs": [
    {
     "data": {
      "text/plain": [
       "- : int option = Some 37221270076916\n"
      ]
     },
     "execution_count": 234,
     "metadata": {},
     "output_type": "execute_result"
    }
   ],
   "source": [
    "read_day17_computer \"day17_input.txt\" |> find_quine"
   ]
  },
  {
   "cell_type": "code",
   "execution_count": 235,
   "id": "6e0a7315",
   "metadata": {},
   "outputs": [
    {
     "data": {
      "text/plain": [
       "- : int list = [2; 4; 1; 2; 7; 5; 4; 5; 1; 3; 5; 5; 0; 3; 3; 0]\n"
      ]
     },
     "execution_count": 235,
     "metadata": {},
     "output_type": "execute_result"
    }
   ],
   "source": [
    "read_day17_computer \"day17_input.txt\" |> fun s -> s.a <- 37221270076916; s |> emulate"
   ]
  },
  {
   "cell_type": "markdown",
   "id": "c69e727e",
   "metadata": {},
   "source": [
    "## <a name=day18>Day 18</a>\n",
    "\n",
    "### Part 1\n",
    "\n",
    "Today we have to find a path through a grid _but there is no grid_."
   ]
  },
  {
   "cell_type": "code",
   "execution_count": 236,
   "id": "a422b522",
   "metadata": {},
   "outputs": [
    {
     "data": {
      "text/plain": [
       "val read_points : Base.string -> (int * int) list = <fun>\n"
      ]
     },
     "execution_count": 236,
     "metadata": {},
     "output_type": "execute_result"
    }
   ],
   "source": [
    "let read_points filename =\n",
    "  let parse line =\n",
    "    String.split line ~on:',' >>| int_of_string |> pair_of_list in\n",
    "  In_channel.read_lines filename >>| parse"
   ]
  },
  {
   "cell_type": "code",
   "execution_count": 237,
   "id": "4676c49a",
   "metadata": {},
   "outputs": [
    {
     "data": {
      "text/plain": [
       "- : (int * int) list =\n",
       "[(5, 4); (4, 2); (4, 5); (3, 0); (2, 1); (6, 3); (2, 4); (1, 5); (0, 6);\n",
       " (3, 3); (2, 6); (5, 1); (1, 2); (5, 5); (2, 5); (6, 5); (1, 4); (0, 4);\n",
       " (6, 4); (1, 1); (6, 1); (1, 0); (0, 5); (1, 6); (2, 0)]\n"
      ]
     },
     "execution_count": 237,
     "metadata": {},
     "output_type": "execute_result"
    }
   ],
   "source": [
    "read_points \"day18_example.txt\""
   ]
  },
  {
   "cell_type": "markdown",
   "id": "9c450df2",
   "metadata": {},
   "source": [
    "Didn't I already write a best-first search thing?  Yeah, let's copy and paste that and tweak it.\n",
    "\n",
    "Hmm... there seem to be lots of paths here, I might need A*."
   ]
  },
  {
   "cell_type": "code",
   "execution_count": 238,
   "id": "b04e7a1a",
   "metadata": {},
   "outputs": [
    {
     "data": {
      "text/plain": [
       "val find_escape_route :\n",
       "  Core_kernel.Int.t * Core_kernel.Int.t ->\n",
       "  Core_kernel.Int.t * Core_kernel.Int.t ->\n",
       "  Core_kernel.Int.t ->\n",
       "  (Core_kernel.Int.t * Core_kernel.Int.t) Core.Hash_set.Poly.elt list -> int =\n",
       "  <fun>\n"
      ]
     },
     "execution_count": 238,
     "metadata": {},
     "output_type": "execute_result"
    }
   ],
   "source": [
    "let find_escape_route start goal size walls =\n",
    "  let wall_set = Hash_set.Poly.of_list walls in\n",
    "  let compare_paths (p_cost, _, _) (q_cost, _, _) = Stdlib.compare p_cost q_cost in\n",
    "  let estimate_cost steps (i, j) =\n",
    "    let (gi, gj) = goal in steps + abs(i - gi) + abs(j - gj) in\n",
    "  let queue = Pairing_heap.of_list ~cmp:compare_paths [(estimate_cost 0 start, 0, start)] in\n",
    "  let visited = Hash_set.Poly.of_list [start] in\n",
    "  let enqueue steps p =\n",
    "    if not (Hash_set.mem visited p) then begin\n",
    "      Pairing_heap.add queue (estimate_cost steps p, steps, p)\n",
    "    end in\n",
    "  let best_steps = ref (-1) in\n",
    "  while !best_steps < 0 && not (Pairing_heap.is_empty queue) do \n",
    "    let (_, steps, p) = Pairing_heap.pop_exn queue in\n",
    "    Hash_set.add visited p;\n",
    "    if Poly.(=) p goal then\n",
    "      best_steps := steps\n",
    "    else begin\n",
    "      let in_bounds (i, j) = i >= 0 && i <= size && j >= 0 && j <= size in\n",
    "      let (i, j) = p in\n",
    "      let neighbors = [(i + 1, j); (i - 1, j); (i, j - 1); (i, j + 1)] in\n",
    "      let check n =\n",
    "        if in_bounds n && (not @@ Hash_set.mem wall_set n) then\n",
    "          enqueue (steps + 1) n in\n",
    "      List.iter neighbors check\n",
    "    end\n",
    "  done; !best_steps"
   ]
  },
  {
   "cell_type": "code",
   "execution_count": 239,
   "id": "9f248beb",
   "metadata": {},
   "outputs": [
    {
     "data": {
      "text/plain": [
       "- : int = 22\n"
      ]
     },
     "execution_count": 239,
     "metadata": {},
     "output_type": "execute_result"
    }
   ],
   "source": [
    "take (read_points \"day18_example.txt\") 12 |> find_escape_route (0, 0) (6, 6) 6"
   ]
  },
  {
   "cell_type": "code",
   "execution_count": 240,
   "id": "8fa13f6f",
   "metadata": {},
   "outputs": [
    {
     "data": {
      "text/plain": [
       "- : int = 382\n"
      ]
     },
     "execution_count": 240,
     "metadata": {},
     "output_type": "execute_result"
    }
   ],
   "source": [
    "take (read_points \"day18_input.txt\") 1024 |> find_escape_route (0, 0) (70, 70) 70"
   ]
  },
  {
   "cell_type": "markdown",
   "id": "41ce7d91",
   "metadata": {},
   "source": [
    "### Part 2\n",
    "\n",
    "Now we are solving a different problem - we just need to know if there is any path through the point cloud, there is no need to find the best."
   ]
  },
  {
   "cell_type": "code",
   "execution_count": 241,
   "id": "f61dba5b",
   "metadata": {},
   "outputs": [
    {
     "data": {
      "text/plain": [
       "val can_escape :\n",
       "  (Core_kernel.Int.t * Core_kernel.Int.t) Core.Hash_set.Poly.elt ->\n",
       "  Core_kernel.Int.t * Core_kernel.Int.t ->\n",
       "  Core_kernel.Int.t ->\n",
       "  (Core_kernel.Int.t * Core_kernel.Int.t) Core.Hash_set.Poly.elt list -> bool =\n",
       "  <fun>\n"
      ]
     },
     "execution_count": 241,
     "metadata": {},
     "output_type": "execute_result"
    }
   ],
   "source": [
    "let can_escape start goal size walls =\n",
    "  let wall_set = Hash_set.Poly.of_list walls in\n",
    "  let queued = Hash_set.Poly.of_list [start] in\n",
    "  let rec search p =\n",
    "    if Poly.(=) p goal then\n",
    "      true\n",
    "    else\n",
    "      let in_bounds (i, j) = i >= 0 && i <= size && j >= 0 && j <= size in\n",
    "      let not_a_wall n = not @@ Hash_set.mem wall_set n in\n",
    "      let not_queued n = not @@ Hash_set.mem queued n in\n",
    "      let (i, j) = p in\n",
    "      let neighbors = [(i + 1, j); (i - 1, j); (i, j - 1); (i, j + 1)] in\n",
    "      let search_neighbor n =\n",
    "        if in_bounds n && not_a_wall n && not_queued n then begin\n",
    "          Hash_set.add queued n;\n",
    "          search n\n",
    "        end else false in\n",
    "      List.exists neighbors search_neighbor in\n",
    "  search start"
   ]
  },
  {
   "cell_type": "code",
   "execution_count": 242,
   "id": "efdd26fe",
   "metadata": {},
   "outputs": [
    {
     "data": {
      "text/plain": [
       "- : bool = true\n"
      ]
     },
     "execution_count": 242,
     "metadata": {},
     "output_type": "execute_result"
    }
   ],
   "source": [
    "take (read_points \"day18_example.txt\") 20 |> can_escape (0, 0) (6, 6) 6"
   ]
  },
  {
   "cell_type": "code",
   "execution_count": 243,
   "id": "e82f6570",
   "metadata": {},
   "outputs": [
    {
     "data": {
      "text/plain": [
       "- : bool = false\n"
      ]
     },
     "execution_count": 243,
     "metadata": {},
     "output_type": "execute_result"
    }
   ],
   "source": [
    "take (read_points \"day18_example.txt\") 21 |> can_escape (0, 0) (6, 6) 6"
   ]
  },
  {
   "cell_type": "markdown",
   "id": "fa44fa94",
   "metadata": {},
   "source": [
    "We could binary search if we must, but I'm going to try just using a for loop first."
   ]
  },
  {
   "cell_type": "code",
   "execution_count": 244,
   "id": "76ca71df",
   "metadata": {},
   "outputs": [
    {
     "data": {
      "text/plain": [
       "val find_blocker :\n",
       "  (Core_kernel.Int.t * Core_kernel.Int.t) Core.Hash_set.Poly.elt ->\n",
       "  Core_kernel.Int.t * Core_kernel.Int.t ->\n",
       "  Core_kernel.Int.t ->\n",
       "  (Core_kernel.Int.t * Core_kernel.Int.t) Core.Hash_set.Poly.elt list ->\n",
       "  (Core_kernel.Int.t * Core_kernel.Int.t) Core.Hash_set.Poly.elt = <fun>\n"
      ]
     },
     "execution_count": 244,
     "metadata": {},
     "output_type": "execute_result"
    }
   ],
   "source": [
    "let find_blocker start goal size walls =\n",
    "  let num_walls = List.length walls in\n",
    "  let j = ref 0 in\n",
    "  for i=0 to num_walls-1 do\n",
    "    if !j = 0 && not @@ can_escape start goal size (take walls (i + 1)) then\n",
    "      j := i\n",
    "  done; List.nth_exn walls !j"
   ]
  },
  {
   "cell_type": "code",
   "execution_count": 245,
   "id": "bdd796ca",
   "metadata": {},
   "outputs": [
    {
     "data": {
      "text/plain": [
       "- : (Core_kernel.Int.t * Core_kernel.Int.t) Core.Hash_set.Poly.elt = (6, 1)\n"
      ]
     },
     "execution_count": 245,
     "metadata": {},
     "output_type": "execute_result"
    }
   ],
   "source": [
    "read_points \"day18_example.txt\" |> find_blocker (0, 0) (6, 6) 6"
   ]
  },
  {
   "cell_type": "code",
   "execution_count": 246,
   "id": "68ecd235",
   "metadata": {},
   "outputs": [],
   "source": [
    "(*read_points \"day18_input.txt\" |> find_blocker (0, 0) (70, 70) 70 *)"
   ]
  },
  {
   "cell_type": "markdown",
   "id": "75efe809",
   "metadata": {},
   "source": [
    "That worked, but it was a little slow.  Let's write a janky busted binary search that should work well enough for this problem, but is otherwise riddled with bugs."
   ]
  },
  {
   "cell_type": "code",
   "execution_count": 247,
   "id": "3f5eaee2",
   "metadata": {},
   "outputs": [
    {
     "data": {
      "text/plain": [
       "val find_blocker :\n",
       "  (Core_kernel.Int.t * Core_kernel.Int.t) Core.Hash_set.Poly.elt ->\n",
       "  Core_kernel.Int.t * Core_kernel.Int.t ->\n",
       "  Core_kernel.Int.t ->\n",
       "  (Core_kernel.Int.t * Core_kernel.Int.t) Core.Hash_set.Poly.elt list ->\n",
       "  (Core_kernel.Int.t * Core_kernel.Int.t) Core.Hash_set.Poly.elt = <fun>\n"
      ]
     },
     "execution_count": 247,
     "metadata": {},
     "output_type": "execute_result"
    }
   ],
   "source": [
    "let find_blocker start goal size walls =\n",
    "  let num_walls = List.length walls in\n",
    "  let rec search lower upper =\n",
    "    if upper < lower then lower\n",
    "    else let mid = (lower + upper) / 2 in\n",
    "      match can_escape start goal size (take walls (mid + 1)) with\n",
    "      | false -> search lower (mid - 1)\n",
    "      | true -> search (mid + 1) upper in\n",
    "  List.nth_exn walls (search 0 num_walls)"
   ]
  },
  {
   "cell_type": "code",
   "execution_count": 248,
   "id": "3dc2b213",
   "metadata": {},
   "outputs": [
    {
     "data": {
      "text/plain": [
       "- : (Core_kernel.Int.t * Core_kernel.Int.t) Core.Hash_set.Poly.elt = (6, 1)\n"
      ]
     },
     "execution_count": 248,
     "metadata": {},
     "output_type": "execute_result"
    }
   ],
   "source": [
    "read_points \"day18_example.txt\" |> find_blocker (0, 0) (6, 6) 6"
   ]
  },
  {
   "cell_type": "code",
   "execution_count": 249,
   "id": "14cf2256",
   "metadata": {},
   "outputs": [
    {
     "data": {
      "text/plain": [
       "- : (Core_kernel.Int.t * Core_kernel.Int.t) Core.Hash_set.Poly.elt = (6, 36)\n"
      ]
     },
     "execution_count": 249,
     "metadata": {},
     "output_type": "execute_result"
    }
   ],
   "source": [
    "read_points \"day18_input.txt\" |> find_blocker (0, 0) (70, 70) 70"
   ]
  },
  {
   "cell_type": "markdown",
   "id": "c1b2d475",
   "metadata": {},
   "source": [
    "## <a name=day19>Day 19</a>\n",
    "\n",
    "### Part 1\n",
    "\n",
    "We have to see which strings we can make out of some substrings.  I'll just use a regex."
   ]
  },
  {
   "cell_type": "code",
   "execution_count": 250,
   "id": "5bf61ed0",
   "metadata": {},
   "outputs": [
    {
     "data": {
      "text/plain": [
       "type day19_problem = { atoms : string list; words : string list; }\n"
      ]
     },
     "execution_count": 250,
     "metadata": {},
     "output_type": "execute_result"
    }
   ],
   "source": [
    "type day19_problem = {\n",
    "  atoms: string list;\n",
    "  words: string list;\n",
    "}"
   ]
  },
  {
   "cell_type": "code",
   "execution_count": 251,
   "id": "57b97ad0",
   "metadata": {},
   "outputs": [
    {
     "data": {
      "text/plain": [
       "val read_day19_problem : Base.string -> day19_problem = <fun>\n"
      ]
     },
     "execution_count": 251,
     "metadata": {},
     "output_type": "execute_result"
    }
   ],
   "source": [
    "let read_day19_problem filename =\n",
    "  let lines = In_channel.read_lines filename in\n",
    "  let parse_atoms line = String.split line ~on:','\n",
    "    >>| String.strip ~drop:(fun c -> Char.(c = ' ')) in\n",
    "  let atoms = parse_atoms (hd_exn lines) in\n",
    "  let words = List.drop lines 2 in\n",
    "  {atoms; words}"
   ]
  },
  {
   "cell_type": "code",
   "execution_count": 252,
   "id": "67f14866",
   "metadata": {},
   "outputs": [
    {
     "data": {
      "text/plain": [
       "- : day19_problem =\n",
       "{atoms = [\"r\"; \"wr\"; \"b\"; \"g\"; \"bwu\"; \"rb\"; \"gb\"; \"br\"];\n",
       " words =\n",
       "  [\"brwrr\"; \"bggr\"; \"gbbr\"; \"rrbgbr\"; \"ubwu\"; \"bwurrg\"; \"brgr\"; \"bbrgwb\"]}\n"
      ]
     },
     "execution_count": 252,
     "metadata": {},
     "output_type": "execute_result"
    }
   ],
   "source": [
    "read_day19_problem \"day19_example.txt\""
   ]
  },
  {
   "cell_type": "code",
   "execution_count": 253,
   "id": "979ec59f",
   "metadata": {},
   "outputs": [
    {
     "data": {
      "text/plain": [
       "val day19_part1 : day19_problem -> int = <fun>\n"
      ]
     },
     "execution_count": 253,
     "metadata": {},
     "output_type": "execute_result"
    }
   ],
   "source": [
    "let day19_part1 problem =\n",
    "  let can_make word =\n",
    "    let pattern = \"^(\" ^ (String.concat ~sep:\"|\" problem.atoms) ^ \")+$\" in\n",
    "    let re = Re2.create_exn pattern in\n",
    "    Re2.matches re word in\n",
    "  problem.words |> List.count ~f:can_make"
   ]
  },
  {
   "cell_type": "code",
   "execution_count": 254,
   "id": "06be62d4",
   "metadata": {},
   "outputs": [
    {
     "data": {
      "text/plain": [
       "- : int = 6\n"
      ]
     },
     "execution_count": 254,
     "metadata": {},
     "output_type": "execute_result"
    }
   ],
   "source": [
    "read_day19_problem \"day19_example.txt\" |> day19_part1"
   ]
  },
  {
   "cell_type": "code",
   "execution_count": 255,
   "id": "1c4f48ed",
   "metadata": {},
   "outputs": [
    {
     "data": {
      "text/plain": [
       "- : int = 358\n"
      ]
     },
     "execution_count": 255,
     "metadata": {},
     "output_type": "execute_result"
    }
   ],
   "source": [
    "read_day19_problem \"day19_input.txt\" |> day19_part1"
   ]
  },
  {
   "cell_type": "markdown",
   "id": "3fb39b9d",
   "metadata": {},
   "source": [
    "### Part 2\n",
    "\n",
    "Now we have to count the ways we can make a string out of substrings.  Let's try writing this as a natural recursion and then memoize."
   ]
  },
  {
   "cell_type": "code",
   "execution_count": 256,
   "id": "a4b1d148",
   "metadata": {},
   "outputs": [
    {
     "data": {
      "text/plain": [
       "val count_substring_arrangements : day19_problem -> int = <fun>\n"
      ]
     },
     "execution_count": 256,
     "metadata": {},
     "output_type": "execute_result"
    }
   ],
   "source": [
    "let count_substring_arrangements problem =\n",
    "  let sum = fold ~init:0 ~f:(+) in\n",
    "  let memo = Hashtbl.Poly.of_alist_exn [(\"\", 1)] in\n",
    "  let rec count prefixes word =\n",
    "    match Hashtbl.find memo word with\n",
    "    | Some cached_result -> cached_result\n",
    "    | None ->\n",
    "      let count_with_prefix prefix = \n",
    "        match String.chop_prefix word ~prefix:prefix with\n",
    "        | Some rest -> count prefixes rest\n",
    "        | None -> 0 in\n",
    "      let result = prefixes >>| count_with_prefix |> sum in\n",
    "      Hashtbl.add_exn memo ~key:word ~data:result; result in\n",
    "  let count_word word = count problem.atoms word in\n",
    "  problem.words >>| count_word |> sum"
   ]
  },
  {
   "cell_type": "code",
   "execution_count": 257,
   "id": "099e1606",
   "metadata": {},
   "outputs": [
    {
     "data": {
      "text/plain": [
       "- : int = 16\n"
      ]
     },
     "execution_count": 257,
     "metadata": {},
     "output_type": "execute_result"
    }
   ],
   "source": [
    "read_day19_problem \"day19_example.txt\" |> count_substring_arrangements"
   ]
  },
  {
   "cell_type": "code",
   "execution_count": 258,
   "id": "0a6cadae",
   "metadata": {},
   "outputs": [
    {
     "data": {
      "text/plain": [
       "- : int = 600639829400603\n"
      ]
     },
     "execution_count": 258,
     "metadata": {},
     "output_type": "execute_result"
    }
   ],
   "source": [
    "read_day19_problem \"day19_input.txt\" |> count_substring_arrangements"
   ]
  },
  {
   "cell_type": "markdown",
   "id": "c4947670",
   "metadata": {},
   "source": [
    "## <a name=day20>Day 20</a>\n",
    "\n",
    "### Part 1\n",
    "\n",
    "We are once again traveling through a grid.  This time, we can cheat by ignoring any one wall."
   ]
  },
  {
   "cell_type": "code",
   "execution_count": 259,
   "id": "c7018684",
   "metadata": {},
   "outputs": [
    {
     "data": {
      "text/plain": [
       "type day20_problem = {\n",
       "  grid : char Core.Array.t Core.Array.t;\n",
       "  start : int * int;\n",
       "  goal : int * int;\n",
       "}\n"
      ]
     },
     "execution_count": 259,
     "metadata": {},
     "output_type": "execute_result"
    }
   ],
   "source": [
    "type day20_problem = {\n",
    "  grid: char Core.Array.t Core.Array.t;\n",
    "  start: int * int;\n",
    "  goal: int * int\n",
    "}"
   ]
  },
  {
   "cell_type": "code",
   "execution_count": 260,
   "id": "563fcdca",
   "metadata": {},
   "outputs": [
    {
     "data": {
      "text/plain": [
       "val read_day20_problem : Base.string -> day20_problem = <fun>\n"
      ]
     },
     "execution_count": 260,
     "metadata": {},
     "output_type": "execute_result"
    }
   ],
   "source": [
    "let read_day20_problem filename =\n",
    "  let grid = read_grid_from_file filename in\n",
    "  let start = find_in_grid (Char.(=) 'S') grid in\n",
    "  let goal = find_in_grid (Char.(=) 'E') grid in\n",
    "  {grid; start; goal}"
   ]
  },
  {
   "cell_type": "code",
   "execution_count": 261,
   "id": "9584687e",
   "metadata": {},
   "outputs": [
    {
     "data": {
      "text/plain": [
       "- : day20_problem =\n",
       "{grid =\n",
       "  [|[|'#'; '#'; '#'; '#'; '#'; '#'; '#'; '#'; '#'; '#'; '#'; '#'; '#'; '#';\n",
       "      '#'|];\n",
       "    [|'#'; '.'; '.'; '.'; '#'; '.'; '.'; '.'; '#'; '.'; '.'; '.'; '.'; '.';\n",
       "      '#'|];\n",
       "    [|'#'; '.'; '#'; '.'; '#'; '.'; '#'; '.'; '#'; '.'; '#'; '#'; '#'; '.';\n",
       "      '#'|];\n",
       "    [|'#'; 'S'; '#'; '.'; '.'; '.'; '#'; '.'; '#'; '.'; '#'; '.'; '.'; '.';\n",
       "      '#'|];\n",
       "    [|'#'; '#'; '#'; '#'; '#'; '#'; '#'; '.'; '#'; '.'; '#'; '.'; '#'; '#';\n",
       "      '#'|];\n",
       "    [|'#'; '#'; '#'; '#'; '#'; '#'; '#'; '.'; '#'; '.'; '#'; '.'; '.'; '.';\n",
       "      '#'|];\n",
       "    [|'#'; '#'; '#'; '#'; '#'; '#'; '#'; '.'; '#'; '.'; '#'; '#'; '#'; '.';\n",
       "      '#'|];\n",
       "    [|'#'; '#'; '#'; '.'; '.'; 'E'; '#'; '.'; '.'; '.'; '#'; '.'; '.'; '.';\n",
       "      '#'|];\n",
       "    [|'#'; '#'; '#'; '.'; '#'; '#'; '#'; '#'; '#'; '#'; '#'; '.'; '#'; '#';\n",
       "      '#'|];\n",
       "    [|'#'; '.'; '.'; '.'; '#'; '#'; '#'; '.'; '.'; '.'; '#'; '.'; '.'; '.';\n",
       "      '#'|];\n",
       "    [|'#'; '.'; '#'; '#'; '#'; '#'; '#'; '.'; '#'; '.'; '#'; '#'; '#'; '.';\n",
       "      '#'|];\n",
       "    [|'#'; '.'; '#'; '.'; '.'; '.'; '#'; '.'; '#'; '.'; '#'; '.'; '.'; '.';\n",
       "      '#'|];\n",
       "    [|'#'; '.'; '#'; '.'; '#'; '.'; '#'; '.'; '#'; '.'; '#'; '.'; '#'; '#';\n",
       "      '#'|];\n",
       "    [|'#'; '.'; '.'; '.'; '#'; '.'; '.'; '.'; '#'; '.'; '.'; '.'; '#'; '#';\n",
       "      '#'|];\n",
       "    [|'#'; '#'; '#'; '#'; '#'; '#'; '#'; '#'; '#'; '#'; '#'; '#'; '#'; '#';\n",
       "      '#'|]|];\n",
       " start = (3, 1); goal = (7, 5)}\n"
      ]
     },
     "execution_count": 261,
     "metadata": {},
     "output_type": "execute_result"
    }
   ],
   "source": [
    "read_day20_problem \"day20_example.txt\""
   ]
  },
  {
   "cell_type": "markdown",
   "id": "35fc9c7f",
   "metadata": {},
   "source": [
    "The problem says you can cheat for 2 time units, which I think means removing one wall, but I'm just not sure I understand the way the problem is written.  So I'll search for all the cheats and see if it matches the example."
   ]
  },
  {
   "cell_type": "code",
   "execution_count": 262,
   "id": "7b97dfca",
   "metadata": {},
   "outputs": [
    {
     "data": {
      "text/plain": [
       "val day20_search :\n",
       "  Core_kernel.Int.t * Core_kernel.Int.t -> day20_problem -> int = <fun>\n"
      ]
     },
     "execution_count": 262,
     "metadata": {},
     "output_type": "execute_result"
    }
   ],
   "source": [
    "let day20_search cheat_at track =\n",
    "  let size = Array.length track.grid in\n",
    "  let rec search p cost visited =\n",
    "    if Poly.(=) p track.goal then\n",
    "      cost\n",
    "    else\n",
    "      let in_bounds (i, j) = i >= 0 && i < size && j >= 0 && j < size in\n",
    "      let is_cheat_pos p = Poly.(=) cheat_at p in\n",
    "      let not_a_wall (i, j) = is_cheat_pos (i, j) || Char.(track.grid.(i).(j) <> '#') in\n",
    "      let not_visited n = not @@ Hash_set.mem visited n in\n",
    "      let (i, j) = p in\n",
    "      let neighbors = [(i + 1, j); (i - 1, j); (i, j - 1); (i, j + 1)] in\n",
    "      let can_visit n = in_bounds n && not_a_wall n && not_visited n in \n",
    "      let search_neighbor n =\n",
    "        let result = ref 0 in\n",
    "          Hash_set.add visited p;\n",
    "          result := search n (cost + 1) visited;\n",
    "          Hash_set.remove visited p;\n",
    "          !result in\n",
    "      let best_neighbor = filter neighbors ~f:can_visit\n",
    "        >>| search_neighbor\n",
    "        |> min_elt ~compare:Stdlib.compare in\n",
    "      match best_neighbor with\n",
    "      | Some min_cost -> min_cost\n",
    "      | None -> 100000000 in\n",
    "  search track.start 0 (Hash_set.Poly.of_list [track.start])"
   ]
  },
  {
   "cell_type": "code",
   "execution_count": 263,
   "id": "db19bd54",
   "metadata": {},
   "outputs": [
    {
     "data": {
      "text/plain": [
       "- : int = 72\n"
      ]
     },
     "execution_count": 263,
     "metadata": {},
     "output_type": "execute_result"
    }
   ],
   "source": [
    "read_day20_problem \"day20_example.txt\" |> day20_search (1, 8)"
   ]
  },
  {
   "cell_type": "code",
   "execution_count": 264,
   "id": "23e8b9ee",
   "metadata": {},
   "outputs": [
    {
     "data": {
      "text/plain": [
       "val enumerate_cheats : day20_problem -> int list = <fun>\n"
      ]
     },
     "execution_count": 264,
     "metadata": {},
     "output_type": "execute_result"
    }
   ],
   "source": [
    "let enumerate_cheats track =\n",
    "  let size = Array.length track.grid in\n",
    "  let cost = day20_search (-1, -1) track in\n",
    "  let savings = ref [] in\n",
    "  for i=1 to size-2 do\n",
    "    for j=1 to size-2 do\n",
    "      if Char.(track.grid.(i).(j) = '#') then\n",
    "        let cheat_cost = day20_search (i, j) track in\n",
    "          if cheat_cost < cost then\n",
    "            savings := (cost-cheat_cost)::!savings\n",
    "    done\n",
    "  done; !savings"
   ]
  },
  {
   "cell_type": "code",
   "execution_count": 265,
   "id": "3d15c571",
   "metadata": {},
   "outputs": [
    {
     "data": {
      "text/plain": [
       "- : int list =\n",
       "[8; 4; 2; 6; 2; 2; 2; 4; 4; 4; 4; 2; 4; 2; 8; 12; 4; 2; 36; 38; 40; 20; 64;\n",
       " 2; 4; 2; 12; 4; 4; 2; 10; 6; 8; 8; 4; 4; 2; 4; 10; 2; 2; 2; 12; 4]\n"
      ]
     },
     "execution_count": 265,
     "metadata": {},
     "output_type": "execute_result"
    }
   ],
   "source": [
    "read_day20_problem \"day20_example.txt\" |> enumerate_cheats"
   ]
  },
  {
   "cell_type": "markdown",
   "id": "e31951fa",
   "metadata": {},
   "source": [
    "Ok, that looks reasonable."
   ]
  },
  {
   "cell_type": "code",
   "execution_count": 266,
   "id": "5b9f77d2",
   "metadata": {},
   "outputs": [],
   "source": [
    "(* read_day20_problem \"day20_input.txt\" |> enumerate_cheats *)"
   ]
  },
  {
   "cell_type": "markdown",
   "id": "592c1e6d",
   "metadata": {},
   "source": [
    "That's way too slow.  Let's just store the cost at each point and subtract."
   ]
  },
  {
   "cell_type": "code",
   "execution_count": 267,
   "id": "b62e8ea0",
   "metadata": {},
   "outputs": [
    {
     "data": {
      "text/plain": [
       "val day20_cost : day20_problem -> int Core.Array.t Core.Array.t = <fun>\n"
      ]
     },
     "execution_count": 267,
     "metadata": {},
     "output_type": "execute_result"
    }
   ],
   "source": [
    "let day20_cost track =\n",
    "  let size = Array.length track.grid in\n",
    "  let cost = Array.make_matrix size size (-1) in\n",
    "  let rec fill p steps visited =\n",
    "    let (i, j) = p in\n",
    "    cost.(i).(j) <- steps;\n",
    "    if Poly.(<>) p track.goal then\n",
    "      let in_bounds (i, j) = i >= 0 && i < size && j >= 0 && j < size in\n",
    "      let not_a_wall (i, j) = Char.(track.grid.(i).(j) <> '#') in\n",
    "      let not_visited n = not @@ Hash_set.mem visited n in\n",
    "      let neighbors = [(i + 1, j); (i - 1, j); (i, j - 1); (i, j + 1)] in\n",
    "      let can_visit n = in_bounds n && not_a_wall n && not_visited n in \n",
    "      let fill_neighbor n =\n",
    "        Hash_set.add visited p;\n",
    "        fill n (steps + 1) visited;\n",
    "        Hash_set.remove visited p in\n",
    "      List.iter (filter neighbors ~f:can_visit) fill_neighbor in\n",
    "  fill track.start 0 (Hash_set.Poly.of_list [track.start]);\n",
    "  cost"
   ]
  },
  {
   "cell_type": "code",
   "execution_count": 268,
   "id": "f1c7a9b3",
   "metadata": {},
   "outputs": [
    {
     "data": {
      "text/plain": [
       "- : int Core.Array.t Core.Array.t =\n",
       "[|[|-1; -1; -1; -1; -1; -1; -1; -1; -1; -1; -1; -1; -1; -1; -1|];\n",
       "  [|-1; 2; 3; 4; -1; 10; 11; 12; -1; 26; 27; 28; 29; 30; -1|];\n",
       "  [|-1; 1; -1; 5; -1; 9; -1; 13; -1; 25; -1; -1; -1; 31; -1|];\n",
       "  [|-1; 0; -1; 6; 7; 8; -1; 14; -1; 24; -1; 34; 33; 32; -1|];\n",
       "  [|-1; -1; -1; -1; -1; -1; -1; 15; -1; 23; -1; 35; -1; -1; -1|];\n",
       "  [|-1; -1; -1; -1; -1; -1; -1; 16; -1; 22; -1; 36; 37; 38; -1|];\n",
       "  [|-1; -1; -1; -1; -1; -1; -1; 17; -1; 21; -1; -1; -1; 39; -1|];\n",
       "  [|-1; -1; -1; 82; 83; 84; -1; 18; 19; 20; -1; 42; 41; 40; -1|];\n",
       "  [|-1; -1; -1; 81; -1; -1; -1; -1; -1; -1; -1; 43; -1; -1; -1|];\n",
       "  [|-1; 78; 79; 80; -1; -1; -1; 60; 59; 58; -1; 44; 45; 46; -1|];\n",
       "  [|-1; 77; -1; -1; -1; -1; -1; 61; -1; 57; -1; -1; -1; 47; -1|];\n",
       "  [|-1; 76; -1; 70; 69; 68; -1; 62; -1; 56; -1; 50; 49; 48; -1|];\n",
       "  [|-1; 75; -1; 71; -1; 67; -1; 63; -1; 55; -1; 51; -1; -1; -1|];\n",
       "  [|-1; 74; 73; 72; -1; 66; 65; 64; -1; 54; 53; 52; -1; -1; -1|];\n",
       "  [|-1; -1; -1; -1; -1; -1; -1; -1; -1; -1; -1; -1; -1; -1; -1|]|]\n"
      ]
     },
     "execution_count": 268,
     "metadata": {},
     "output_type": "execute_result"
    }
   ],
   "source": [
    "read_day20_problem \"day20_example.txt\" |> day20_cost"
   ]
  },
  {
   "cell_type": "code",
   "execution_count": 269,
   "id": "1d1b1684",
   "metadata": {},
   "outputs": [
    {
     "data": {
      "text/plain": [
       "val enumerate_cheats2 : day20_problem -> Core_kernel.Int.t list = <fun>\n"
      ]
     },
     "execution_count": 269,
     "metadata": {},
     "output_type": "execute_result"
    }
   ],
   "source": [
    "let enumerate_cheats2 track =\n",
    "  let size = Array.length track.grid in\n",
    "  let cost = day20_cost track in\n",
    "  let savings = ref [] in\n",
    "  for i=1 to size-2 do\n",
    "    for j=1 to size-2 do\n",
    "      if Char.(track.grid.(i).(j) = '#') then\n",
    "        let neighbors = [(i + 1, j); (i - 1, j); (i, j - 1); (i, j + 1)] in\n",
    "        let savings_here = neighbors\n",
    "          >>| (fun (i, j) -> cost.(i).(j))\n",
    "          |> filter ~f:((<=) 0)\n",
    "          |> pairs\n",
    "          >>| (fun (ca, cb) -> abs(ca - cb) - 2)\n",
    "          |> filter ~f:((<>) 0) in\n",
    "        savings := savings_here @ !savings\n",
    "    done\n",
    "  done; !savings"
   ]
  },
  {
   "cell_type": "code",
   "execution_count": 270,
   "id": "0c61e4eb",
   "metadata": {},
   "outputs": [
    {
     "data": {
      "text/plain": [
       "- : Core_kernel.Int.t list =\n",
       "[8; 4; 2; 6; 2; 2; 2; 4; 4; 4; 4; 2; 4; 2; 8; 12; 4; 2; 36; 38; 40; 20; 64;\n",
       " 2; 4; 2; 12; 4; 4; 2; 10; 6; 8; 8; 4; 4; 2; 4; 10; 2; 2; 2; 12; 4]\n"
      ]
     },
     "execution_count": 270,
     "metadata": {},
     "output_type": "execute_result"
    }
   ],
   "source": [
    "read_day20_problem \"day20_example.txt\" |> enumerate_cheats2"
   ]
  },
  {
   "cell_type": "code",
   "execution_count": 271,
   "id": "51756376",
   "metadata": {},
   "outputs": [
    {
     "data": {
      "text/plain": [
       "- : bool = true\n"
      ]
     },
     "execution_count": 271,
     "metadata": {},
     "output_type": "execute_result"
    }
   ],
   "source": [
    "Poly.(=) (read_day20_problem \"day20_example.txt\" |> enumerate_cheats)\n",
    "         (read_day20_problem \"day20_example.txt\" |> enumerate_cheats2)"
   ]
  },
  {
   "cell_type": "code",
   "execution_count": 272,
   "id": "d30f3c1d",
   "metadata": {},
   "outputs": [
    {
     "data": {
      "text/plain": [
       "- : int = 5565\n"
      ]
     },
     "execution_count": 272,
     "metadata": {},
     "output_type": "execute_result"
    }
   ],
   "source": [
    "read_day20_problem \"day20_input.txt\" |> enumerate_cheats2 |> List.count ~f:((>=) 100)"
   ]
  },
  {
   "cell_type": "markdown",
   "id": "7e77c368",
   "metadata": {},
   "source": [
    "That is... actually wrong.  Because..."
   ]
  },
  {
   "cell_type": "code",
   "execution_count": 273,
   "id": "e0c3cab3",
   "metadata": {},
   "outputs": [
    {
     "data": {
      "text/plain": [
       "- : bool = false\n"
      ]
     },
     "execution_count": 273,
     "metadata": {},
     "output_type": "execute_result"
    }
   ],
   "source": [
    "((>=) 100) 101"
   ]
  },
  {
   "cell_type": "code",
   "execution_count": 274,
   "id": "a52c0d3d",
   "metadata": {},
   "outputs": [
    {
     "data": {
      "text/plain": [
       "- : bool = true\n"
      ]
     },
     "execution_count": 274,
     "metadata": {},
     "output_type": "execute_result"
    }
   ],
   "source": [
    "((>=) 100) 99"
   ]
  },
  {
   "cell_type": "markdown",
   "id": "bf26b31e",
   "metadata": {},
   "source": [
    "😠"
   ]
  },
  {
   "cell_type": "code",
   "execution_count": 275,
   "id": "a9fce64f",
   "metadata": {},
   "outputs": [
    {
     "data": {
      "text/plain": [
       "- : int = 1445\n"
      ]
     },
     "execution_count": 275,
     "metadata": {},
     "output_type": "execute_result"
    }
   ],
   "source": [
    "read_day20_problem \"day20_input.txt\" |> enumerate_cheats2 |> List.count ~f:((<=) 100)"
   ]
  },
  {
   "cell_type": "markdown",
   "id": "7d39b620",
   "metadata": {},
   "source": [
    "### Part 2"
   ]
  },
  {
   "cell_type": "markdown",
   "id": "7cd34c01",
   "metadata": {},
   "source": [
    "Now we can cheat for at most 20 time units.  We can think about the path as points $(i, j, t)$.  We may teleport to any other point subject to $d = |Ai - Bi| + |Aj - Bj| \\le C$ and save $|Bt - At| - d$."
   ]
  },
  {
   "cell_type": "code",
   "execution_count": 276,
   "id": "35eb7a9e",
   "metadata": {},
   "outputs": [
    {
     "data": {
      "text/plain": [
       "val cheat_better : Core_kernel.Int.t -> day20_problem -> int Core.Array.t =\n",
       "  <fun>\n"
      ]
     },
     "execution_count": 276,
     "metadata": {},
     "output_type": "execute_result"
    }
   ],
   "source": [
    "let cheat_better limit track =\n",
    "  let size = Array.length track.grid in\n",
    "  let cost = day20_cost track in\n",
    "  let max_step = day20_search (-1, -1) track in\n",
    "  let cheats = Array.create max_step 0 in\n",
    "  let i = ref (fst track.start) in\n",
    "  let j = ref (snd track.start) in\n",
    "  for s=0 to (max_step-1) do\n",
    "    for di=(-limit) to limit do\n",
    "      for dj=(-limit) to limit do\n",
    "        let d = abs(di) + abs(dj) in\n",
    "        if d > 1 && d <= limit then\n",
    "          let cost_here = cost.(!i).(!j) in\n",
    "          let (ni, nj) = (!i + di, !j + dj) in\n",
    "          if ni >= 0 && ni < size && nj >= 0 && nj < size then\n",
    "            if cost.(ni).(nj) > 0 && cost.(ni).(nj) > cost_here then\n",
    "              let cheat_by = cost.(ni).(nj) - cost_here - d in\n",
    "                cheats.(cheat_by) <- cheats.(cheat_by) + 1\n",
    "      done\n",
    "    done;\n",
    "    if cost.(!i - 1).(!j) = s + 1 then i := !i - 1\n",
    "    else if cost.(!i + 1).(!j) = s + 1 then i := !i + 1\n",
    "    else if cost.(!i).(!j - 1) = s + 1 then j := !j - 1\n",
    "    else if cost.(!i).(!j + 1) = s + 1 then j := !j + 1\n",
    "    else failwith \"bug\"\n",
    "  done;\n",
    "  cheats"
   ]
  },
  {
   "cell_type": "code",
   "execution_count": 277,
   "id": "409f99ec",
   "metadata": {},
   "outputs": [
    {
     "data": {
      "text/plain": [
       "- : int Core.Array.t =\n",
       "[|83; 0; 14; 0; 14; 0; 2; 0; 4; 0; 2; 0; 3; 0; 0; 0; 0; 0; 0; 0; 1; 0; 0; 0;\n",
       "  0; 0; 0; 0; 0; 0; 0; 0; 0; 0; 0; 0; 1; 0; 1; 0; 1; 0; 0; 0; 0; 0; 0; 0; 0;\n",
       "  0; 0; 0; 0; 0; 0; 0; 0; 0; 0; 0; 0; 0; 0; 0; 1; 0; 0; 0; 0; 0; 0; 0; 0; 0;\n",
       "  0; 0; 0; 0; 0; 0; 0; 0; 0; 0|]\n"
      ]
     },
     "execution_count": 277,
     "metadata": {},
     "output_type": "execute_result"
    }
   ],
   "source": [
    "read_day20_problem \"day20_example.txt\" |> cheat_better 2"
   ]
  },
  {
   "cell_type": "code",
   "execution_count": 278,
   "id": "ad0222c0",
   "metadata": {},
   "outputs": [
    {
     "data": {
      "text/plain": [
       "val sum_gte : int -> int Core.Array.t -> int = <fun>\n"
      ]
     },
     "execution_count": 278,
     "metadata": {},
     "output_type": "execute_result"
    }
   ],
   "source": [
    "let sum_gte n array =\n",
    "  let size = Array.length array in\n",
    "  let sum = ref 0 in\n",
    "  for i=n to size-1 do\n",
    "    sum := !sum + array.(i)\n",
    "  done; !sum"
   ]
  },
  {
   "cell_type": "code",
   "execution_count": 279,
   "id": "8b7e518f",
   "metadata": {},
   "outputs": [
    {
     "data": {
      "text/plain": [
       "- : int = 1445\n"
      ]
     },
     "execution_count": 279,
     "metadata": {},
     "output_type": "execute_result"
    }
   ],
   "source": [
    "read_day20_problem \"day20_input.txt\" |> cheat_better 2 |> sum_gte 100"
   ]
  },
  {
   "cell_type": "code",
   "execution_count": 280,
   "id": "f23a6641",
   "metadata": {},
   "outputs": [
    {
     "data": {
      "text/plain": [
       "- : int Core.Array.t =\n",
       "[|32; 0; 31; 0; 29; 0; 39; 0; 25; 0; 23; 0; 20; 0; 19; 0; 12; 0; 14; 0; 12;\n",
       "  0; 22; 0; 4; 0; 3; 0|]\n"
      ]
     },
     "execution_count": 280,
     "metadata": {},
     "output_type": "execute_result"
    }
   ],
   "source": [
    "read_day20_problem \"day20_example.txt\" |> cheat_better 20 |> Array.sub ~pos:50 ~len:28"
   ]
  },
  {
   "cell_type": "code",
   "execution_count": 281,
   "id": "195cd192",
   "metadata": {},
   "outputs": [
    {
     "data": {
      "text/plain": [
       "- : int = 1008040\n"
      ]
     },
     "execution_count": 281,
     "metadata": {},
     "output_type": "execute_result"
    }
   ],
   "source": [
    "read_day20_problem \"day20_input.txt\" |> cheat_better 20 |> sum_gte 100"
   ]
  },
  {
   "cell_type": "markdown",
   "id": "878d2f78",
   "metadata": {},
   "source": [
    "## <a name=day21>Day 21</a>\n",
    "\n",
    "### Part 1\n",
    "\n",
    "Today we have a strange chain of controllers controlling other controllers: $dpad \\rightarrow dpad \\rightarrow dpad \\rightarrow numpad$.\n",
    "\n",
    "```\n",
    "+---+---+---+\n",
    "| 7 | 8 | 9 |\n",
    "+---+---+---+\n",
    "| 4 | 5 | 6 |\n",
    "+---+---+---+\n",
    "| 1 | 2 | 3 |\n",
    "+---+---+---+\n",
    "    | 0 | A |\n",
    "    +---+---+\n",
    "    numpad\n",
    "```\n",
    "\n",
    "```\n",
    "    +---+---+\n",
    "    | ^ | A |\n",
    "+---+---+---+\n",
    "| < | v | > |\n",
    "+---+---+---+\n",
    "    dpad\n",
    "```"
   ]
  },
  {
   "cell_type": "markdown",
   "id": "c0e4c2de",
   "metadata": {},
   "source": [
    "On the numpad, any efficient path is optimal, so $dpad \\rightarrow numpad$ is easy.  For $dpad \\rightarrow dpad \\rightarrow numpad$ though, it's better not to change directions: to effect `>^>` we'd need to do `vA<^Av>A`, but `>>^` is just `vAA<^A`.\n",
    "\n",
    "For $dpad \\rightarrow dpad \\rightarrow dpad \\rightarrow numpad$, the order of directions also matters.  A move `<^A` from the start position takes 21 moves, but `^<A` takes 25 moves.\n",
    "\n",
    "Let's start just by enumerating moves."
   ]
  },
  {
   "cell_type": "markdown",
   "id": "c679eb25",
   "metadata": {},
   "source": [
    "**Update hours later**:  I skimmed over an important condition.  The missing square in each keypad is illegal and no moves may go through it!"
   ]
  },
  {
   "cell_type": "code",
   "execution_count": 282,
   "id": "6faec499",
   "metadata": {},
   "outputs": [
    {
     "data": {
      "text/plain": [
       "val numpad_bomb : int * int = (3, 0)\n"
      ]
     },
     "execution_count": 282,
     "metadata": {},
     "output_type": "execute_result"
    },
    {
     "data": {
      "text/plain": [
       "val dpad_bomb : int * int = (0, 0)\n"
      ]
     },
     "execution_count": 282,
     "metadata": {},
     "output_type": "execute_result"
    },
    {
     "data": {
      "text/plain": [
       "val numpad_start : int * int = (3, 2)\n"
      ]
     },
     "execution_count": 282,
     "metadata": {},
     "output_type": "execute_result"
    },
    {
     "data": {
      "text/plain": [
       "val dpad_start : int * int = (0, 2)\n"
      ]
     },
     "execution_count": 282,
     "metadata": {},
     "output_type": "execute_result"
    }
   ],
   "source": [
    "let numpad_bomb = (3, 0)\n",
    "let dpad_bomb = (0, 0)\n",
    "let numpad_start = (3, 2)\n",
    "let dpad_start = (0, 2)"
   ]
  },
  {
   "cell_type": "code",
   "execution_count": 283,
   "id": "70f23d87",
   "metadata": {},
   "outputs": [
    {
     "data": {
      "text/plain": [
       "type move = Left | Right | Up | Down | PushA\n"
      ]
     },
     "execution_count": 283,
     "metadata": {},
     "output_type": "execute_result"
    }
   ],
   "source": [
    "type move = Left | Right | Up | Down | PushA"
   ]
  },
  {
   "cell_type": "code",
   "execution_count": 284,
   "id": "ce739084",
   "metadata": {},
   "outputs": [
    {
     "data": {
      "text/plain": [
       "val point_of_char : char -> int * int = <fun>\n"
      ]
     },
     "execution_count": 284,
     "metadata": {},
     "output_type": "execute_result"
    }
   ],
   "source": [
    "let point_of_char c = match c with\n",
    "| '7' -> (0, 0)\n",
    "| '8' -> (0, 1)\n",
    "| '9' -> (0, 2)\n",
    "| '4' -> (1, 0)\n",
    "| '5' -> (1, 1)\n",
    "| '6' -> (1, 2)\n",
    "| '1' -> (2, 0)\n",
    "| '2' -> (2, 1)\n",
    "| '3' -> (2, 2)\n",
    "| '0' -> (3, 1)\n",
    "| 'A' -> (3, 2)\n",
    "| _ -> failwith \"bad numpad char\""
   ]
  },
  {
   "cell_type": "code",
   "execution_count": 285,
   "id": "cc042b88",
   "metadata": {},
   "outputs": [
    {
     "data": {
      "text/plain": [
       "val point_of_move : move -> int * int = <fun>\n"
      ]
     },
     "execution_count": 285,
     "metadata": {},
     "output_type": "execute_result"
    }
   ],
   "source": [
    "let point_of_move m = match m with\n",
    "| Up -> (0, 1)\n",
    "| PushA -> (0, 2)\n",
    "| Left -> (1, 0)\n",
    "| Down -> (1, 1)\n",
    "| Right -> (1, 2)"
   ]
  },
  {
   "cell_type": "code",
   "execution_count": 286,
   "id": "d24b9356",
   "metadata": {},
   "outputs": [
    {
     "data": {
      "text/plain": [
       "val enumerate_paths :\n",
       "  Core_kernel.Int.t * Core_kernel.Int.t ->\n",
       "  Core_kernel.Int.t * Core_kernel.Int.t ->\n",
       "  Core_kernel.Int.t * Core_kernel.Int.t -> move Base.List.t Base.List.t =\n",
       "  <fun>\n"
      ]
     },
     "execution_count": 286,
     "metadata": {},
     "output_type": "execute_result"
    }
   ],
   "source": [
    "let enumerate_paths start goal bomb =\n",
    "  let (gy, gx) = goal in\n",
    "  let (by, bx) = bomb in\n",
    "  let rec search partial_paths acc = match partial_paths with\n",
    "  | [] -> acc\n",
    "  | path::rest ->\n",
    "    let ((y, x), dirs) = path in\n",
    "    if y = by && x = bx then begin\n",
    "      [] (* no valid paths pass through bomb *)\n",
    "    end else if x = gx && y = gy then\n",
    "      search rest (dirs::acc)\n",
    "    else\n",
    "      let rs = if x < gx then search (((y, x + 1), dirs @ [Right])::rest) acc else [] in\n",
    "      let ls = if x > gx then search (((y, x - 1), dirs @ [Left])::rest) acc else [] in\n",
    "      let us = if y < gy then search (((y + 1, x), dirs @ [Down])::rest) acc else [] in\n",
    "      let ds = if y > gy then search (((y - 1, x), dirs @ [Up])::rest) acc else [] in\n",
    "      rs @ ls @ us @ ds in\n",
    "  search [(start, [])] []"
   ]
  },
  {
   "cell_type": "code",
   "execution_count": 287,
   "id": "2347e83b",
   "metadata": {},
   "outputs": [
    {
     "data": {
      "text/plain": [
       "- : move Base.List.t Base.List.t =\n",
       "[[Left; Up; Left; Up; Up]; [Left; Up; Up; Left; Up];\n",
       " [Left; Up; Up; Up; Left]; [Up; Left; Left; Up; Up];\n",
       " [Up; Left; Up; Left; Up]; [Up; Left; Up; Up; Left];\n",
       " [Up; Up; Left; Left; Up]; [Up; Up; Left; Up; Left];\n",
       " [Up; Up; Up; Left; Left]]\n"
      ]
     },
     "execution_count": 287,
     "metadata": {},
     "output_type": "execute_result"
    }
   ],
   "source": [
    "enumerate_paths numpad_start (0, 0) numpad_bomb"
   ]
  },
  {
   "cell_type": "code",
   "execution_count": 288,
   "id": "c06e1380",
   "metadata": {},
   "outputs": [
    {
     "data": {
      "text/plain": [
       "- : move Base.List.t Base.List.t = [[Left; Up; Left]; [Up; Left; Left]]\n"
      ]
     },
     "execution_count": 288,
     "metadata": {},
     "output_type": "execute_result"
    }
   ],
   "source": [
    "enumerate_paths numpad_start (2, 0) numpad_bomb"
   ]
  },
  {
   "cell_type": "code",
   "execution_count": 289,
   "id": "345607a1",
   "metadata": {},
   "outputs": [
    {
     "data": {
      "text/plain": [
       "val add_a_push : move Base.List.t -> move Base.List.t = <fun>\n"
      ]
     },
     "execution_count": 289,
     "metadata": {},
     "output_type": "execute_result"
    }
   ],
   "source": [
    "let add_a_push path = path @ [PushA]"
   ]
  },
  {
   "cell_type": "code",
   "execution_count": 290,
   "id": "cfb58223",
   "metadata": {},
   "outputs": [
    {
     "data": {
      "text/plain": [
       "val enumerate_pad_paths :\n",
       "  Core_kernel.Int.t * Core_kernel.Int.t ->\n",
       "  Core_kernel.Int.t * Core_kernel.Int.t ->\n",
       "  (Core_kernel.Int.t * Core_kernel.Int.t) list -> move Base.List.t list =\n",
       "  <fun>\n"
      ]
     },
     "execution_count": 290,
     "metadata": {},
     "output_type": "execute_result"
    }
   ],
   "source": [
    "let enumerate_pad_paths start bomb points =\n",
    "  let extend choices path = choices >>| fun next -> path @ next in\n",
    "  let extend_all choices paths =\n",
    "    (List.concat (paths >>| extend choices)) >>| add_a_push in\n",
    "  let rec paths p points acc =\n",
    "    match points with\n",
    "    | [] -> acc\n",
    "    | q::rest -> paths q rest (extend_all (enumerate_paths p q bomb) acc) in\n",
    "  paths start points [[]]"
   ]
  },
  {
   "cell_type": "code",
   "execution_count": 291,
   "id": "b2e168ac",
   "metadata": {},
   "outputs": [
    {
     "data": {
      "text/plain": [
       "val enumerate_numpad_paths : string -> move Base.List.t list = <fun>\n"
      ]
     },
     "execution_count": 291,
     "metadata": {},
     "output_type": "execute_result"
    }
   ],
   "source": [
    "let enumerate_numpad_paths str =\n",
    "  let explode str = List.init (String.length str) (String.get str) in\n",
    "  let points = explode str >>| point_of_char in\n",
    "  enumerate_pad_paths (3, 2) numpad_bomb points"
   ]
  },
  {
   "cell_type": "code",
   "execution_count": 292,
   "id": "faaedf7d",
   "metadata": {},
   "outputs": [
    {
     "data": {
      "text/plain": [
       "- : move Base.List.t list =\n",
       "[[Left; PushA; Up; PushA; Right; Up; Up; PushA; Down; Down; Down; PushA];\n",
       " [Left; PushA; Up; PushA; Up; Right; Up; PushA; Down; Down; Down; PushA];\n",
       " [Left; PushA; Up; PushA; Up; Up; Right; PushA; Down; Down; Down; PushA]]\n"
      ]
     },
     "execution_count": 292,
     "metadata": {},
     "output_type": "execute_result"
    }
   ],
   "source": [
    "enumerate_numpad_paths \"029A\""
   ]
  },
  {
   "cell_type": "code",
   "execution_count": 293,
   "id": "3ce8a523",
   "metadata": {},
   "outputs": [
    {
     "data": {
      "text/plain": [
       "- : move Base.List.t list =\n",
       "[[Left; Up; Left; PushA; Up; Up; PushA; Right; Right; PushA; Down; Down;\n",
       "  Down; PushA];\n",
       " [Up; Left; Left; PushA; Up; Up; PushA; Right; Right; PushA; Down; Down;\n",
       "  Down; PushA]]\n"
      ]
     },
     "execution_count": 293,
     "metadata": {},
     "output_type": "execute_result"
    }
   ],
   "source": [
    "enumerate_numpad_paths \"179A\""
   ]
  },
  {
   "cell_type": "code",
   "execution_count": 294,
   "id": "40d4a3d3",
   "metadata": {},
   "outputs": [
    {
     "data": {
      "text/plain": [
       "val enumerate_dpad_paths : move list -> move Base.List.t list = <fun>\n"
      ]
     },
     "execution_count": 294,
     "metadata": {},
     "output_type": "execute_result"
    }
   ],
   "source": [
    "let enumerate_dpad_paths moves =\n",
    "  let points = moves >>| point_of_move in\n",
    "  enumerate_pad_paths (0, 2) dpad_bomb points"
   ]
  },
  {
   "cell_type": "code",
   "execution_count": 295,
   "id": "37e4b40e",
   "metadata": {},
   "outputs": [
    {
     "data": {
      "text/plain": [
       "- : int = 128\n"
      ]
     },
     "execution_count": 295,
     "metadata": {},
     "output_type": "execute_result"
    }
   ],
   "source": [
    "List.concat (enumerate_numpad_paths \"029A\" >>| enumerate_dpad_paths) |> List.length"
   ]
  },
  {
   "cell_type": "code",
   "execution_count": 296,
   "id": "5704eeba",
   "metadata": {},
   "outputs": [
    {
     "data": {
      "text/plain": [
       "- : int = 2048\n"
      ]
     },
     "execution_count": 296,
     "metadata": {},
     "output_type": "execute_result"
    }
   ],
   "source": [
    "List.hd_exn (List.concat (enumerate_numpad_paths \"029A\" >>| enumerate_dpad_paths)) |> enumerate_dpad_paths |> List.length"
   ]
  },
  {
   "cell_type": "code",
   "execution_count": 297,
   "id": "69fa54bf",
   "metadata": {},
   "outputs": [
    {
     "data": {
      "text/plain": [
       "- : int = 262144\n"
      ]
     },
     "execution_count": 297,
     "metadata": {},
     "output_type": "execute_result"
    }
   ],
   "source": [
    "128*2048"
   ]
  },
  {
   "cell_type": "markdown",
   "id": "6bc45478",
   "metadata": {},
   "source": [
    "This isn't that many moves, but we're doing way more work than we need to, and it's slow.\n",
    "\n",
    "We always push \"A\" on each dpad to end each numpad entry, so we reset to the same dpad start position for each number.  There is some optimal sequence of moves on the initial dpad to move from $(y_1,x_1)$ to $(y_2, x_2)$ and push the button there.  So we can tabulate these costs and sum."
   ]
  },
  {
   "cell_type": "code",
   "execution_count": 298,
   "id": "257fa007",
   "metadata": {},
   "outputs": [],
   "source": [
    "open Bigarray"
   ]
  },
  {
   "cell_type": "code",
   "execution_count": 299,
   "id": "e7715fd0",
   "metadata": {},
   "outputs": [
    {
     "data": {
      "text/plain": [
       "val day21_move_costs :\n",
       "  (int, Bigarray.int_elt, Bigarray.c_layout) Bigarray.Genarray.t = <abstr>\n"
      ]
     },
     "execution_count": 299,
     "metadata": {},
     "output_type": "execute_result"
    }
   ],
   "source": [
    "let day21_move_costs =\n",
    "  let (nh, nw) = (3, 2) in\n",
    "  let cost = Genarray.create int c_layout [|nh + 1; nw + 1; nh + 1; nw + 1|] in\n",
    "  let min_cost (fi, fj) (ti, tj) =\n",
    "    if fi = ti && fj = tj then\n",
    "      1 (* just push A *)\n",
    "    else\n",
    "      let ps = enumerate_paths (fi, fj) (ti, tj) numpad_bomb >>| add_a_push in\n",
    "      let d1s = List.concat (ps >>| enumerate_dpad_paths) in\n",
    "      let d2s = List.concat (d1s >>| enumerate_dpad_paths) in\n",
    "      match (d2s >>| List.length |> min_elt ~compare:Stdlib.compare) with\n",
    "      | Some min -> min\n",
    "      | None -> failwith \"bug\" in\n",
    "  let is_bomb (i, j) =\n",
    "    let (bi, bj) = numpad_bomb in i = bi && j = bj in\n",
    "  for fi=0 to nh do\n",
    "    for fj=0 to nw do\n",
    "      for ti=0 to nh do\n",
    "        for tj=0 to nw do\n",
    "          if not @@ is_bomb (fi, fj) && not @@ is_bomb (ti, tj) then begin\n",
    "            let min = min_cost (fi, fj) (ti, tj) in\n",
    "              cost.{fi, fj, ti, tj} <- min\n",
    "          end\n",
    "        done\n",
    "      done\n",
    "    done\n",
    "  done; cost"
   ]
  },
  {
   "cell_type": "code",
   "execution_count": 300,
   "id": "b5266bff",
   "metadata": {},
   "outputs": [
    {
     "data": {
      "text/plain": [
       "- : int = 18\n"
      ]
     },
     "execution_count": 300,
     "metadata": {},
     "output_type": "execute_result"
    }
   ],
   "source": [
    "day21_move_costs.{3,2,3,1}"
   ]
  },
  {
   "cell_type": "code",
   "execution_count": 301,
   "id": "93c70ac7",
   "metadata": {},
   "outputs": [
    {
     "data": {
      "text/plain": [
       "val calculate_sequence_length :\n",
       "  (int, 'a, 'b) Bigarray.Genarray.t -> string -> int = <fun>\n"
      ]
     },
     "execution_count": 301,
     "metadata": {},
     "output_type": "execute_result"
    }
   ],
   "source": [
    "let calculate_sequence_length table str =\n",
    "  let explode str = List.init (String.length str) (String.get str) in\n",
    "  let points = explode str >>| point_of_char in\n",
    "  let rec path_cost (fi, fj) path acc = match path with\n",
    "  | [] -> acc\n",
    "  | (ti, tj)::rest ->\n",
    "    path_cost (ti, tj) rest (acc + table.{fi, fj, ti, tj}) in\n",
    "  path_cost numpad_start points 0"
   ]
  },
  {
   "cell_type": "code",
   "execution_count": 302,
   "id": "7af5df21",
   "metadata": {},
   "outputs": [
    {
     "data": {
      "text/plain": [
       "- : int = 68\n"
      ]
     },
     "execution_count": 302,
     "metadata": {},
     "output_type": "execute_result"
    }
   ],
   "source": [
    "calculate_sequence_length day21_move_costs \"029A\""
   ]
  },
  {
   "cell_type": "code",
   "execution_count": 303,
   "id": "bda78fb2",
   "metadata": {},
   "outputs": [
    {
     "data": {
      "text/plain": [
       "- : int = 68\n"
      ]
     },
     "execution_count": 303,
     "metadata": {},
     "output_type": "execute_result"
    }
   ],
   "source": [
    "calculate_sequence_length day21_move_costs \"179A\""
   ]
  },
  {
   "cell_type": "code",
   "execution_count": 304,
   "id": "6973a7f6",
   "metadata": {},
   "outputs": [
    {
     "data": {
      "text/plain": [
       "val complexity : (int, 'a, 'b) Bigarray.Genarray.t -> string -> int = <fun>\n"
      ]
     },
     "execution_count": 304,
     "metadata": {},
     "output_type": "execute_result"
    }
   ],
   "source": [
    "let complexity table str =\n",
    "  let prefix = String.sub str ~pos:0 ~len:((String.length str) - 1) in\n",
    "  let code = int_of_string prefix in\n",
    "  let sequence_length = calculate_sequence_length table str in\n",
    "  code * sequence_length"
   ]
  },
  {
   "cell_type": "code",
   "execution_count": 305,
   "id": "b1a1ee36",
   "metadata": {},
   "outputs": [
    {
     "data": {
      "text/plain": [
       "val read_seqs : Base.string -> Base.string Base.list = <fun>\n"
      ]
     },
     "execution_count": 305,
     "metadata": {},
     "output_type": "execute_result"
    }
   ],
   "source": [
    "let read_seqs filename =\n",
    "  In_channel.read_lines filename"
   ]
  },
  {
   "cell_type": "code",
   "execution_count": 306,
   "id": "60253547",
   "metadata": {},
   "outputs": [
    {
     "data": {
      "text/plain": [
       "- : int = 126384\n"
      ]
     },
     "execution_count": 306,
     "metadata": {},
     "output_type": "execute_result"
    }
   ],
   "source": [
    "read_seqs \"day21_example.txt\" >>| complexity day21_move_costs |> sum"
   ]
  },
  {
   "cell_type": "code",
   "execution_count": 307,
   "id": "b1c2af0d",
   "metadata": {},
   "outputs": [
    {
     "data": {
      "text/plain": [
       "- : int = 203814\n"
      ]
     },
     "execution_count": 307,
     "metadata": {},
     "output_type": "execute_result"
    }
   ],
   "source": [
    "read_seqs \"day21_input.txt\" >>| complexity day21_move_costs |> sum"
   ]
  },
  {
   "cell_type": "markdown",
   "id": "65cf3f1d",
   "metadata": {},
   "source": [
    "### Part 2\n",
    "\n",
    "Now there are 25 intermediate robots instead of just 2.  This might make tabulating somewhat more complicated... let's see."
   ]
  },
  {
   "cell_type": "code",
   "execution_count": 308,
   "id": "77c91584",
   "metadata": {},
   "outputs": [
    {
     "data": {
      "text/plain": [
       "val dpadify : move list list -> move Base.List.t list = <fun>\n"
      ]
     },
     "execution_count": 308,
     "metadata": {},
     "output_type": "execute_result"
    }
   ],
   "source": [
    "let dpadify paths =\n",
    "  List.concat (paths >>| enumerate_dpad_paths)"
   ]
  },
  {
   "cell_type": "code",
   "execution_count": 309,
   "id": "ea3c61ac",
   "metadata": {},
   "outputs": [
    {
     "data": {
      "text/plain": [
       "- : move Base.List.t list = [[Left; PushA]]\n"
      ]
     },
     "execution_count": 309,
     "metadata": {},
     "output_type": "execute_result"
    }
   ],
   "source": [
    "(enumerate_paths (3, 2) (3, 1) numpad_bomb >>| add_a_push)"
   ]
  },
  {
   "cell_type": "code",
   "execution_count": 310,
   "id": "4673495b",
   "metadata": {},
   "outputs": [
    {
     "data": {
      "text/plain": [
       "- : move Base.List.t list =\n",
       "[[Left; Down; Left; PushA; Right; Right; Up; PushA];\n",
       " [Left; Down; Left; PushA; Right; Up; Right; PushA];\n",
       " [Down; Left; Left; PushA; Right; Right; Up; PushA];\n",
       " [Down; Left; Left; PushA; Right; Up; Right; PushA]]\n"
      ]
     },
     "execution_count": 310,
     "metadata": {},
     "output_type": "execute_result"
    }
   ],
   "source": [
    "dpadify (enumerate_paths (3, 2) (3, 1) numpad_bomb >>| add_a_push)"
   ]
  },
  {
   "cell_type": "code",
   "execution_count": 311,
   "id": "b4c07ceb",
   "metadata": {},
   "outputs": [],
   "source": [
    "(* List.length (iterate 4 dpadify (enumerate_paths (3, 2) (3, 1) numpad_bomb >>| add_a_push)) *)"
   ]
  },
  {
   "cell_type": "markdown",
   "id": "78e51fbf",
   "metadata": {},
   "source": [
    "Yeah, of course this grows exponentially.\n",
    "\n",
    "It should also be possible to tabulate the cost (in level+1 dpad moves) to move from $(y_1, x_1)$ to $(y_2, x_2)$ on a dpad and press the button there.  The level+1 dpad robot starts and ends over the A button, so the exact path it takes does not matter."
   ]
  },
  {
   "cell_type": "code",
   "execution_count": 312,
   "id": "87866eac",
   "metadata": {},
   "outputs": [
    {
     "data": {
      "text/plain": [
       "- : move Base.List.t list =\n",
       "[[Left; Down; Left; PushA]; [Down; Left; Left; PushA]]\n"
      ]
     },
     "execution_count": 312,
     "metadata": {},
     "output_type": "execute_result"
    }
   ],
   "source": [
    "enumerate_paths (0, 2) (1, 0) dpad_bomb >>| add_a_push"
   ]
  },
  {
   "cell_type": "code",
   "execution_count": 313,
   "id": "71875950",
   "metadata": {},
   "outputs": [
    {
     "data": {
      "text/plain": [
       "val day21_dpad_move_costs :\n",
       "  (int, Bigarray.int_elt, Bigarray.c_layout) Bigarray.Genarray.t = <abstr>\n"
      ]
     },
     "execution_count": 313,
     "metadata": {},
     "output_type": "execute_result"
    }
   ],
   "source": [
    "let day21_dpad_move_costs =\n",
    "  let (dh, dw) = (1, 2) in\n",
    "  let cost = Genarray.create int c_layout [|dh + 1; dw + 1; dh + 1; dw + 1|] in\n",
    "  let min_cost (fi, fj) (ti, tj) =\n",
    "    if fi = ti && fj = tj then\n",
    "      1 (* just push A *)\n",
    "    else\n",
    "      let paths = enumerate_paths (fi, fj) (ti, tj) dpad_bomb >>| add_a_push in\n",
    "      match (paths >>| List.length |> min_elt ~compare:Stdlib.compare) with\n",
    "      | Some min -> min\n",
    "      | None -> failwith \"bug\" in\n",
    "  let is_bomb (i, j) =\n",
    "    let (bi, bj) = dpad_bomb in i = bi && j = bj in\n",
    "  for fi=0 to dh do\n",
    "    for fj=0 to dw do\n",
    "      for ti=0 to dh do\n",
    "        for tj=0 to dw do\n",
    "          if not @@ is_bomb (fi, fj) && not @@ is_bomb (ti, tj) then begin\n",
    "            let min = min_cost (fi, fj) (ti, tj) in\n",
    "              cost.{fi, fj, ti, tj} <- min\n",
    "          end\n",
    "        done\n",
    "      done\n",
    "    done\n",
    "  done; cost"
   ]
  },
  {
   "cell_type": "code",
   "execution_count": 314,
   "id": "cc147d03",
   "metadata": {},
   "outputs": [
    {
     "data": {
      "text/plain": [
       "- : int = 4\n"
      ]
     },
     "execution_count": 314,
     "metadata": {},
     "output_type": "execute_result"
    }
   ],
   "source": [
    "day21_dpad_move_costs.{0,2,1,0}"
   ]
  },
  {
   "cell_type": "markdown",
   "id": "5fe08464",
   "metadata": {},
   "source": [
    "Now, what is the cost in level+2 dpad moves to move from $(y_1, x_1)$ to $(y_2, x_2)$ on a dpad and push the button?\n",
    "\n",
    "The level+2 robot must execute each of the level+1 button pushes, so we enumerate paths at level+1.  To find the level+2 cost, we can sum level+1 costs (which we have previously tabulated) for each path.  The level+2 cost is the min sum.\n",
    "\n",
    "The level+3 cost is the min sum of level+2 costs for level+1 pushes... etc"
   ]
  },
  {
   "cell_type": "code",
   "execution_count": 315,
   "id": "1fa34fed",
   "metadata": {},
   "outputs": [
    {
     "data": {
      "text/plain": [
       "val day21_dpad_move_costs :\n",
       "  (int, Bigarray.int_elt, Bigarray.c_layout) Bigarray.Genarray.t = <abstr>\n"
      ]
     },
     "execution_count": 315,
     "metadata": {},
     "output_type": "execute_result"
    }
   ],
   "source": [
    "let day21_dpad_move_costs =\n",
    "  let (dh, dw) = (1, 2) in\n",
    "  let cost = Genarray.create int c_layout [|26; dh + 1; dw + 1; dh + 1; dw + 1|] in\n",
    "  let next_level_cost level path =\n",
    "    if level = 0 then\n",
    "      List.length path\n",
    "    else\n",
    "      let rec sum_costs f path acc = match path with\n",
    "      | [] -> acc\n",
    "      | t::rest ->\n",
    "        let (fi, fj) = point_of_move f in\n",
    "        let (ti, tj) = point_of_move t in\n",
    "        sum_costs t rest (acc + cost.{level - 1, fi, fj, ti, tj}) in\n",
    "      sum_costs PushA path 0 in\n",
    "  let min_cost level (fi, fj) (ti, tj) =\n",
    "    if fi = ti && fj = tj then\n",
    "      1 (* just push A *)\n",
    "    else\n",
    "      let paths = enumerate_paths (fi, fj) (ti, tj) dpad_bomb >>| add_a_push in\n",
    "      let best_cost = paths >>| next_level_cost level |> min_elt ~compare:Stdlib.compare in\n",
    "      match best_cost with\n",
    "      | Some min -> min\n",
    "      | None -> failwith \"bug\"\n",
    "    in\n",
    "  let is_bomb (i, j) =\n",
    "    let (bi, bj) = dpad_bomb in i = bi && j = bj in\n",
    "  for level=0 to 25 do\n",
    "    for fi=0 to dh do\n",
    "      for fj=0 to dw do\n",
    "        for ti=0 to dh do\n",
    "          for tj=0 to dw do\n",
    "            if not @@ is_bomb (fi, fj) && not @@ is_bomb (ti, tj) then begin\n",
    "              let min = min_cost level (fi, fj) (ti, tj) in\n",
    "                cost.{level, fi, fj, ti, tj} <- min\n",
    "            end\n",
    "          done\n",
    "        done\n",
    "      done\n",
    "    done\n",
    "  done; cost"
   ]
  },
  {
   "cell_type": "code",
   "execution_count": 316,
   "id": "def4af0c",
   "metadata": {},
   "outputs": [
    {
     "data": {
      "text/plain": [
       "- : int = 4\n"
      ]
     },
     "execution_count": 316,
     "metadata": {},
     "output_type": "execute_result"
    }
   ],
   "source": [
    "day21_dpad_move_costs.{0,0,2,1,0}"
   ]
  },
  {
   "cell_type": "code",
   "execution_count": 317,
   "id": "f643e6dd",
   "metadata": {},
   "outputs": [
    {
     "data": {
      "text/plain": [
       "- : int = 10\n"
      ]
     },
     "execution_count": 317,
     "metadata": {},
     "output_type": "execute_result"
    }
   ],
   "source": [
    "day21_dpad_move_costs.{1,0,2,1,0}"
   ]
  },
  {
   "cell_type": "code",
   "execution_count": 318,
   "id": "9a6ecddc",
   "metadata": {},
   "outputs": [
    {
     "data": {
      "text/plain": [
       "- : int = 26\n"
      ]
     },
     "execution_count": 318,
     "metadata": {},
     "output_type": "execute_result"
    }
   ],
   "source": [
    "day21_dpad_move_costs.{2,0,2,1,0}"
   ]
  },
  {
   "cell_type": "code",
   "execution_count": 319,
   "id": "ab582a81",
   "metadata": {},
   "outputs": [
    {
     "data": {
      "text/plain": [
       "- : int option = Some 4\n"
      ]
     },
     "execution_count": 319,
     "metadata": {},
     "output_type": "execute_result"
    }
   ],
   "source": [
    "enumerate_paths (0, 2) (1, 0) dpad_bomb >>| add_a_push >>| List.length |> min_elt ~compare:Stdlib.compare"
   ]
  },
  {
   "cell_type": "code",
   "execution_count": 320,
   "id": "946c3cfe",
   "metadata": {},
   "outputs": [
    {
     "data": {
      "text/plain": [
       "- : int option = Some 10\n"
      ]
     },
     "execution_count": 320,
     "metadata": {},
     "output_type": "execute_result"
    }
   ],
   "source": [
    "enumerate_paths (0, 2) (1, 0) dpad_bomb >>| add_a_push |> dpadify >>| List.length |> min_elt ~compare:Stdlib.compare"
   ]
  },
  {
   "cell_type": "code",
   "execution_count": 321,
   "id": "69e25025",
   "metadata": {},
   "outputs": [
    {
     "data": {
      "text/plain": [
       "- : int option = Some 26\n"
      ]
     },
     "execution_count": 321,
     "metadata": {},
     "output_type": "execute_result"
    }
   ],
   "source": [
    "enumerate_paths (0, 2) (1, 0) dpad_bomb >>| add_a_push |> iterate 2 dpadify >>| List.length |> min_elt ~compare:Stdlib.compare"
   ]
  },
  {
   "cell_type": "code",
   "execution_count": 322,
   "id": "25d89fc3",
   "metadata": {},
   "outputs": [
    {
     "ename": "error",
     "evalue": "compile_error",
     "output_type": "error",
     "traceback": [
      "File \"[322]\", line 10, characters 30-51:\n10 |       sum_costs t rest (acc + day20_dpad_move_costs.{1, fi, fj, ti, tj}) in\n                                   ^^^^^^^^^^^^^^^^^^^^^\nError: Unbound value day20_dpad_move_costs\nHint: Did you mean day21_dpad_move_costs?\n"
     ]
    }
   ],
   "source": [
    "let day21_move_costs' =\n",
    "  let (nh, nw) = (3, 2) in\n",
    "  let cost = Genarray.create int c_layout [|nh + 1; nw + 1; nh + 1; nw + 1|] in\n",
    "  let dpad_cost path =\n",
    "    let rec sum_costs f path acc = match path with\n",
    "    | [] -> acc\n",
    "    | t::rest ->\n",
    "      let (fi, fj) = point_of_move f in\n",
    "      let (ti, tj) = point_of_move t in\n",
    "      sum_costs t rest (acc + day20_dpad_move_costs.{1, fi, fj, ti, tj}) in\n",
    "        sum_costs PushA path 0 in\n",
    "  let min_cost (fi, fj) (ti, tj) =\n",
    "    if fi = ti && fj = tj then\n",
    "      1 (* just push A *)\n",
    "    else\n",
    "      let paths = enumerate_paths (fi, fj) (ti, tj) numpad_bomb >>| add_a_push in\n",
    "      match (paths >>| dpad_cost |> min_elt ~compare:Stdlib.compare) with\n",
    "      | Some min -> min\n",
    "      | None -> failwith \"bug\" in\n",
    "  let is_bomb (i, j) =\n",
    "    let (bi, bj) = numpad_bomb in i = bi && j = bj in\n",
    "  for fi=0 to nh do\n",
    "    for fj=0 to nw do\n",
    "      for ti=0 to nh do\n",
    "        for tj=0 to nw do\n",
    "          if not @@ is_bomb (fi, fj) && not @@ is_bomb (ti, tj) then begin\n",
    "            let min = min_cost (fi, fj) (ti, tj) in\n",
    "              cost.{fi, fj, ti, tj} <- min\n",
    "          end\n",
    "        done\n",
    "      done\n",
    "    done\n",
    "  done; cost"
   ]
  },
  {
   "cell_type": "code",
   "execution_count": 323,
   "id": "5da9750a",
   "metadata": {},
   "outputs": [
    {
     "ename": "error",
     "evalue": "compile_error",
     "output_type": "error",
     "traceback": [
      "File \"[323]\", line 1, characters 26-43:\n1 | calculate_sequence_length day21_move_costs' \"029A\"\n                              ^^^^^^^^^^^^^^^^^\nError: Unbound value day21_move_costs'\nHint: Did you mean day21_move_costs?\n"
     ]
    }
   ],
   "source": [
    "calculate_sequence_length day21_move_costs' \"029A\""
   ]
  },
  {
   "cell_type": "code",
   "execution_count": 324,
   "id": "35211fb9",
   "metadata": {},
   "outputs": [
    {
     "ename": "error",
     "evalue": "compile_error",
     "output_type": "error",
     "traceback": [
      "File \"[324]\", line 1, characters 26-43:\n1 | calculate_sequence_length day21_move_costs' \"179A\"\n                              ^^^^^^^^^^^^^^^^^\nError: Unbound value day21_move_costs'\nHint: Did you mean day21_move_costs?\n"
     ]
    }
   ],
   "source": [
    "calculate_sequence_length day21_move_costs' \"179A\""
   ]
  },
  {
   "cell_type": "code",
   "execution_count": 325,
   "id": "78d261f7",
   "metadata": {},
   "outputs": [
    {
     "ename": "error",
     "evalue": "compile_error",
     "output_type": "error",
     "traceback": [
      "File \"[325]\", line 1, characters 45-62:\n1 | read_seqs \"day21_example.txt\" >>| complexity day21_move_costs' |> sum\n                                                 ^^^^^^^^^^^^^^^^^\nError: Unbound value day21_move_costs'\nHint: Did you mean day21_move_costs?\n"
     ]
    }
   ],
   "source": [
    "read_seqs \"day21_example.txt\" >>| complexity day21_move_costs' |> sum"
   ]
  },
  {
   "cell_type": "code",
   "execution_count": 326,
   "id": "04535a71",
   "metadata": {},
   "outputs": [
    {
     "ename": "error",
     "evalue": "compile_error",
     "output_type": "error",
     "traceback": [
      "File \"[326]\", line 1, characters 43-60:\n1 | read_seqs \"day21_input.txt\" >>| complexity day21_move_costs' |> sum\n                                               ^^^^^^^^^^^^^^^^^\nError: Unbound value day21_move_costs'\nHint: Did you mean day21_move_costs?\n"
     ]
    }
   ],
   "source": [
    "read_seqs \"day21_input.txt\" >>| complexity day21_move_costs' |> sum"
   ]
  },
  {
   "cell_type": "code",
   "execution_count": 327,
   "id": "bfb5383c",
   "metadata": {},
   "outputs": [
    {
     "ename": "error",
     "evalue": "compile_error",
     "output_type": "error",
     "traceback": [
      "File \"[327]\", line 10, characters 30-51:\n10 |       sum_costs t rest (acc + day20_dpad_move_costs.{24, fi, fj, ti, tj}) in\n                                   ^^^^^^^^^^^^^^^^^^^^^\nError: Unbound value day20_dpad_move_costs\nHint: Did you mean day21_dpad_move_costs?\n"
     ]
    }
   ],
   "source": [
    "let day21_move_costs' =\n",
    "  let (nh, nw) = (3, 2) in\n",
    "  let cost = Genarray.create int c_layout [|nh + 1; nw + 1; nh + 1; nw + 1|] in\n",
    "  let dpad_cost path =\n",
    "    let rec sum_costs f path acc = match path with\n",
    "    | [] -> acc\n",
    "    | t::rest ->\n",
    "      let (fi, fj) = point_of_move f in\n",
    "      let (ti, tj) = point_of_move t in\n",
    "      sum_costs t rest (acc + day20_dpad_move_costs.{24, fi, fj, ti, tj}) in\n",
    "        sum_costs PushA path 0 in\n",
    "  let min_cost (fi, fj) (ti, tj) =\n",
    "    if fi = ti && fj = tj then\n",
    "      1 (* just push A *)\n",
    "    else\n",
    "      let paths = enumerate_paths (fi, fj) (ti, tj) numpad_bomb >>| add_a_push in\n",
    "      match (paths >>| dpad_cost |> min_elt ~compare:Stdlib.compare) with\n",
    "      | Some min -> min\n",
    "      | None -> failwith \"bug\" in\n",
    "  let is_bomb (i, j) =\n",
    "    let (bi, bj) = numpad_bomb in i = bi && j = bj in\n",
    "  for fi=0 to nh do\n",
    "    for fj=0 to nw do\n",
    "      for ti=0 to nh do\n",
    "        for tj=0 to nw do\n",
    "          if not @@ is_bomb (fi, fj) && not @@ is_bomb (ti, tj) then begin\n",
    "            let min = min_cost (fi, fj) (ti, tj) in\n",
    "              cost.{fi, fj, ti, tj} <- min\n",
    "          end\n",
    "        done\n",
    "      done\n",
    "    done\n",
    "  done; cost"
   ]
  },
  {
   "cell_type": "code",
   "execution_count": 328,
   "id": "ae6800f4",
   "metadata": {},
   "outputs": [
    {
     "ename": "error",
     "evalue": "compile_error",
     "output_type": "error",
     "traceback": [
      "File \"[328]\", line 1, characters 43-60:\n1 | read_seqs \"day21_input.txt\" >>| complexity day21_move_costs' |> sum\n                                               ^^^^^^^^^^^^^^^^^\nError: Unbound value day21_move_costs'\nHint: Did you mean day21_move_costs?\n"
     ]
    }
   ],
   "source": [
    "read_seqs \"day21_input.txt\" >>| complexity day21_move_costs' |> sum"
   ]
  },
  {
   "cell_type": "markdown",
   "id": "26ac120a",
   "metadata": {},
   "source": [
    "## <a name=day22>Day 22</a>\n",
    "\n",
    "### Part 1\n",
    "\n",
    "Something to do with pseudo-random number generators today?  No grids or dynamic programming in evidence, yet..."
   ]
  },
  {
   "cell_type": "code",
   "execution_count": 329,
   "id": "efabe38b",
   "metadata": {},
   "outputs": [
    {
     "data": {
      "text/plain": [
       "val next_random : Core.Int.t -> int = <fun>\n"
      ]
     },
     "execution_count": 329,
     "metadata": {},
     "output_type": "execute_result"
    }
   ],
   "source": [
    "let next_random x =\n",
    "  let mix x k = x lxor k in\n",
    "  let prune x = x land 0xffffff in\n",
    "  let step1 x = prune @@ mix x (Int.shift_left x 6) in\n",
    "  let step2 x = prune @@ mix x (Int.shift_right x 5) in\n",
    "  let step3 x = prune @@ mix x (Int.shift_left x 11) in\n",
    "  x |> step1 |> step2 |> step3"
   ]
  },
  {
   "cell_type": "code",
   "execution_count": 330,
   "id": "7864ce6a",
   "metadata": {},
   "outputs": [
    {
     "data": {
      "text/plain": [
       "- : Core.Int.t = 16495136\n"
      ]
     },
     "execution_count": 330,
     "metadata": {},
     "output_type": "execute_result"
    }
   ],
   "source": [
    "iterate 2 next_random 123"
   ]
  },
  {
   "cell_type": "code",
   "execution_count": 331,
   "id": "23da7552",
   "metadata": {},
   "outputs": [
    {
     "data": {
      "text/plain": [
       "val read_secrets : Base.string -> int list = <fun>\n"
      ]
     },
     "execution_count": 331,
     "metadata": {},
     "output_type": "execute_result"
    }
   ],
   "source": [
    "let read_secrets filename =\n",
    "  In_channel.read_lines filename >>| int_of_string"
   ]
  },
  {
   "cell_type": "code",
   "execution_count": 332,
   "id": "3ef3d4d1",
   "metadata": {},
   "outputs": [
    {
     "data": {
      "text/plain": [
       "- : int = 37327623\n"
      ]
     },
     "execution_count": 332,
     "metadata": {},
     "output_type": "execute_result"
    }
   ],
   "source": [
    "read_secrets \"day22_example.txt\" >>| iterate 2000 next_random |> sum"
   ]
  },
  {
   "cell_type": "code",
   "execution_count": 333,
   "id": "c46b3794",
   "metadata": {},
   "outputs": [
    {
     "data": {
      "text/plain": [
       "- : int = 17577894908\n"
      ]
     },
     "execution_count": 333,
     "metadata": {},
     "output_type": "execute_result"
    }
   ],
   "source": [
    "read_secrets \"day22_input.txt\" >>| iterate 2000 next_random |> sum"
   ]
  },
  {
   "cell_type": "markdown",
   "id": "a9f2bb8c",
   "metadata": {},
   "source": [
    "### Part 2\n",
    "\n",
    "Now we need to look things up in hash tables."
   ]
  },
  {
   "cell_type": "code",
   "execution_count": 334,
   "id": "84109371",
   "metadata": {},
   "outputs": [
    {
     "data": {
      "text/plain": [
       "val prices : Core.Int.t -> (int * int * int * int, int) Core.Hashtbl.Poly.t =\n",
       "  <fun>\n"
      ]
     },
     "execution_count": 334,
     "metadata": {},
     "output_type": "execute_result"
    }
   ],
   "source": [
    "let prices seed =\n",
    "  let h = Hashtbl.Poly.create () in\n",
    "  let rec deltas n x4 x3 x2 x1 x0 =\n",
    "    let dx0 = (x1 mod 10) - (x0 mod 10) in\n",
    "    let dx1 = (x2 mod 10) - (x1 mod 10) in\n",
    "    let dx2 = (x3 mod 10) - (x2 mod 10) in\n",
    "    let dx3 = (x4 mod 10) - (x3 mod 10) in\n",
    "    let () = if not @@ Hashtbl.mem h (dx0, dx1, dx2, dx3) then\n",
    "      Hashtbl.add_exn h (dx0, dx1, dx2, dx3) (x4 mod 10) in\n",
    "    if n < 2000 then\n",
    "      deltas (n + 1) (next_random x4) x4 x3 x2 x1 in\n",
    "  let x0 = seed in\n",
    "  let x1 = next_random x0 in\n",
    "  let x2 = next_random x1 in\n",
    "  let x3 = next_random x2 in\n",
    "  let x4 = next_random x3 in\n",
    "  let () = deltas 4 x4 x3 x2 x1 x0 in\n",
    "  h"
   ]
  },
  {
   "cell_type": "code",
   "execution_count": 335,
   "id": "3ad5a27f",
   "metadata": {},
   "outputs": [
    {
     "data": {
      "text/plain": [
       "- : int option = Some 4\n"
      ]
     },
     "execution_count": 335,
     "metadata": {},
     "output_type": "execute_result"
    },
    {
     "data": {
      "text/plain": [
       "- : int option = Some 6\n"
      ]
     },
     "execution_count": 335,
     "metadata": {},
     "output_type": "execute_result"
    }
   ],
   "source": [
    "Hashtbl.find (prices 123) (-3, 6, -1, -1);;\n",
    "Hashtbl.find (prices 123) (-1, -1, 0, 2)"
   ]
  },
  {
   "cell_type": "code",
   "execution_count": 336,
   "id": "d50adee6",
   "metadata": {},
   "outputs": [
    {
     "data": {
      "text/plain": [
       "val best_price_seq :\n",
       "  ('a Core.Hashtbl.key, int) Core.Hashtbl.t list -> int option = <fun>\n"
      ]
     },
     "execution_count": 336,
     "metadata": {},
     "output_type": "execute_result"
    }
   ],
   "source": [
    "let best_price_seq hs =\n",
    "  let totals = Hashtbl.Poly.create () in\n",
    "  let merge h =\n",
    "    Hashtbl.iteri h (fun ~key:k ~data:v -> Hashtbl.update totals k\n",
    "      (fun tv -> match tv with\n",
    "      | Some v0 -> v0 + v\n",
    "      | None -> v)) in\n",
    "  let () = List.iter hs merge in\n",
    "  Hashtbl.data totals |> max_elt ~compare:Stdlib.compare"
   ]
  },
  {
   "cell_type": "code",
   "execution_count": 337,
   "id": "b0636d67",
   "metadata": {},
   "outputs": [
    {
     "data": {
      "text/plain": [
       "- : int option = Some 23\n"
      ]
     },
     "execution_count": 337,
     "metadata": {},
     "output_type": "execute_result"
    }
   ],
   "source": [
    "read_secrets \"day22_example2.txt\" >>| prices |> best_price_seq"
   ]
  },
  {
   "cell_type": "code",
   "execution_count": 338,
   "id": "ba26d2f7",
   "metadata": {},
   "outputs": [
    {
     "data": {
      "text/plain": [
       "- : int option = Some 1931\n"
      ]
     },
     "execution_count": 338,
     "metadata": {},
     "output_type": "execute_result"
    }
   ],
   "source": [
    "read_secrets \"day22_input.txt\" >>| prices |> best_price_seq"
   ]
  },
  {
   "cell_type": "markdown",
   "id": "f812d0e1",
   "metadata": {},
   "source": [
    "## <a name=day23>Day 23</a>\n",
    "\n",
    "### Part 1"
   ]
  },
  {
   "cell_type": "code",
   "execution_count": 339,
   "id": "a8f3d4b8",
   "metadata": {},
   "outputs": [
    {
     "data": {
      "text/plain": [
       "val read_network :\n",
       "  Base.string ->\n",
       "  (Base.string, Base.string Core.Hashtbl.key list) Core.Hashtbl.Poly.t =\n",
       "  <fun>\n"
      ]
     },
     "execution_count": 339,
     "metadata": {},
     "output_type": "execute_result"
    }
   ],
   "source": [
    "let read_network filename =\n",
    "  let network = Hashtbl.Poly.create () in\n",
    "  let parse line = match line with\n",
    "  | [a; b] ->\n",
    "    Hashtbl.add_multi network ~key:a ~data:b;\n",
    "    Hashtbl.add_multi network ~key:b ~data:a\n",
    "  | _ -> failwith \"bad line\" in \n",
    "  let _ = In_channel.read_lines filename\n",
    "  >>| String.split ~on:'-'\n",
    "  >>| parse in\n",
    "  network"
   ]
  },
  {
   "cell_type": "code",
   "execution_count": 340,
   "id": "d136bea4",
   "metadata": {},
   "outputs": [
    {
     "data": {
      "text/plain": [
       "- : (Base.string Core.Hashtbl.key * Base.string Core.Hashtbl.key list) list =\n",
       "[(\"tc\", [\"co\"; \"td\"; \"wh\"; \"kh\"]); (\"td\", [\"yn\"; \"qp\"; \"wh\"; \"tc\"]);\n",
       " (\"ta\", [\"kh\"; \"de\"; \"ka\"; \"co\"]); (\"ka\", [\"de\"; \"ta\"; \"tb\"; \"co\"]);\n",
       " (\"cg\", [\"aq\"; \"yn\"; \"tb\"; \"de\"]); (\"kh\", [\"ta\"; \"ub\"; \"qp\"; \"tc\"]);\n",
       " (\"tb\", [\"vc\"; \"wq\"; \"ka\"; \"cg\"]); (\"wh\", [\"qp\"; \"yn\"; \"td\"; \"tc\"]);\n",
       " (\"ub\", [\"vc\"; \"wq\"; \"kh\"; \"qp\"]); (\"yn\", [\"td\"; \"wh\"; \"cg\"; \"aq\"]);\n",
       " (\"qp\", [\"wh\"; \"td\"; \"ub\"; \"kh\"]); (\"co\", [\"tc\"; \"de\"; \"ta\"; \"ka\"]);\n",
       " (\"wq\", [\"vc\"; \"aq\"; \"ub\"; \"tb\"]); (\"aq\", [\"wq\"; ...]); ...]\n"
      ]
     },
     "execution_count": 340,
     "metadata": {},
     "output_type": "execute_result"
    }
   ],
   "source": [
    "read_network \"day23_example.txt\" |> Hashtbl.to_alist"
   ]
  },
  {
   "cell_type": "code",
   "execution_count": 341,
   "id": "90d648b2",
   "metadata": {},
   "outputs": [
    {
     "data": {
      "text/plain": [
       "val find_t_cliques :\n",
       "  (string, string Core.Hashtbl.key list) Core.Hashtbl.t ->\n",
       "  (string Core.Hashtbl.key * string Core.Hashtbl.key *\n",
       "   string Core.Hashtbl.key)\n",
       "  Core.Hash_set.Poly.t = <fun>\n"
      ]
     },
     "execution_count": 341,
     "metadata": {},
     "output_type": "execute_result"
    }
   ],
   "source": [
    "let find_t_cliques network =\n",
    "  let cliques = Hash_set.Poly.create () in\n",
    "  let () = Hashtbl.iteri network (fun ~key:vertex ~data:neighbors ->\n",
    "    if String.is_prefix vertex ~prefix:\"t\" then\n",
    "      let adjacent = pairs neighbors |> filter ~f:(fun (a, b) ->\n",
    "        let a_neighbors = Hashtbl.find_exn network a in\n",
    "        let b_neighbors = Hashtbl.find_exn network b in\n",
    "        List.exists a_neighbors ~f:(Poly.(=) b) &&\n",
    "        List.exists b_neighbors ~f:(Poly.(=) a)\n",
    "      ) in\n",
    "      let clique a b c =\n",
    "        let xs = List.sort [a; b; c] ~compare:Stdlib.compare in\n",
    "        match xs with\n",
    "        | [x;y;z] -> (x, y, z)\n",
    "        | _ -> failwith \"bug\" in\n",
    "      List.iter adjacent (fun (a, b) ->\n",
    "        Hash_set.add cliques (clique vertex a b)\n",
    "      )\n",
    "  ) in\n",
    "  cliques"
   ]
  },
  {
   "cell_type": "code",
   "execution_count": 342,
   "id": "044ce597",
   "metadata": {},
   "outputs": [
    {
     "data": {
      "text/plain": [
       "- : int = 7\n"
      ]
     },
     "execution_count": 342,
     "metadata": {},
     "output_type": "execute_result"
    }
   ],
   "source": [
    "read_network \"day23_example.txt\" |> find_t_cliques |> Hash_set.length"
   ]
  },
  {
   "cell_type": "code",
   "execution_count": 343,
   "id": "fae291ca",
   "metadata": {},
   "outputs": [
    {
     "data": {
      "text/plain": [
       "- : int = 1227\n"
      ]
     },
     "execution_count": 343,
     "metadata": {},
     "output_type": "execute_result"
    }
   ],
   "source": [
    "read_network \"day23_input.txt\" |> find_t_cliques |> Hash_set.length"
   ]
  },
  {
   "cell_type": "markdown",
   "id": "4fb35e72",
   "metadata": {},
   "source": [
    "### Part 2\n",
    "\n",
    "Now we need to solve the \"maximal clique problem\", which is NP-hard.  We'll use the Bron-Kerbosch Algorithm."
   ]
  },
  {
   "cell_type": "code",
   "execution_count": 344,
   "id": "0b217128",
   "metadata": {},
   "outputs": [
    {
     "data": {
      "text/plain": [
       "val find_maximal_clique :\n",
       "  ('a Core.Hash_set.Poly.elt,\n",
       "   'a Core.Hash_set.Poly.elt Core.Hashtbl.key Core.Hash_set.Poly.elt list)\n",
       "  Core.Hashtbl.t ->\n",
       "  'a Core.Hash_set.Poly.elt Core.Hashtbl.key Core_kernel__.Hash_set_intf.elt\n",
       "  Core_kernel__.Hash_set_intf.elt list = <fun>\n"
      ]
     },
     "execution_count": 344,
     "metadata": {},
     "output_type": "execute_result"
    }
   ],
   "source": [
    "let find_maximal_clique network =\n",
    "  let neighbor_set v =\n",
    "    Hashtbl.find_exn network v |>\n",
    "    Hash_set.Poly.of_list in\n",
    "  let augment xs v =\n",
    "    let xs' = Hash_set.copy xs in\n",
    "    let () = Hash_set.add xs' v in\n",
    "    xs' in\n",
    "  let rec bron_kerbosch r p x acc =\n",
    "    if Hash_set.is_empty p && Hash_set.is_empty x then\n",
    "      r::acc\n",
    "    else\n",
    "      let acc' = ref acc in\n",
    "      while not @@ Hash_set.is_empty p do\n",
    "        let v = hd_exn @@ Hash_set.to_list p in\n",
    "        Hash_set.remove p v;\n",
    "        let r' = augment r v in\n",
    "        let p' = Hash_set.inter p (neighbor_set v) in\n",
    "        let x' = Hash_set.inter x (neighbor_set v) in\n",
    "        acc' := bron_kerbosch r' p' x' (!acc');\n",
    "        Hash_set.add x v\n",
    "      done; !acc' in\n",
    "  let cliques = bron_kerbosch\n",
    "    (Hash_set.Poly.create ())\n",
    "    (Hash_set.Poly.of_list @@ Hashtbl.keys network)\n",
    "    (Hash_set.Poly.create ())\n",
    "    [] in\n",
    "  let max_clique = cliques >>| Hash_set.to_list\n",
    "  |> max_elt ~compare:(fun x y -> Stdlib.compare (length x) (length y)) in\n",
    "  match max_clique with\n",
    "  | Some result -> sort result ~compare:Stdlib.compare\n",
    "  | None -> failwith \"bug\""
   ]
  },
  {
   "cell_type": "code",
   "execution_count": 345,
   "id": "0f09a8e2",
   "metadata": {},
   "outputs": [
    {
     "data": {
      "text/plain": [
       "- : Base.string Core.Hash_set.Poly.elt Core.Hashtbl.key\n",
       "    Core_kernel__.Hash_set_intf.elt Core_kernel__.Hash_set_intf.elt list\n",
       "= [\"co\"; \"de\"; \"ka\"; \"ta\"]\n"
      ]
     },
     "execution_count": 345,
     "metadata": {},
     "output_type": "execute_result"
    }
   ],
   "source": [
    "read_network \"day23_example.txt\" |> find_maximal_clique"
   ]
  },
  {
   "cell_type": "code",
   "execution_count": 346,
   "id": "6e0f3d83",
   "metadata": {},
   "outputs": [
    {
     "data": {
      "text/plain": [
       "- : Base.string Core.Hash_set.Poly.elt Core.Hashtbl.key\n",
       "    Core_kernel__.Hash_set_intf.elt Core_kernel__.Hash_set_intf.elt\n",
       "= \"cl,df,ft,ir,iy,ny,qp,rb,sh,sl,sw,wm,wy\"\n"
      ]
     },
     "execution_count": 346,
     "metadata": {},
     "output_type": "execute_result"
    }
   ],
   "source": [
    "read_network \"day23_input.txt\" |> find_maximal_clique |> String.concat ~sep:\",\""
   ]
  },
  {
   "cell_type": "markdown",
   "id": "276a9caf",
   "metadata": {},
   "source": [
    "## <a name=\"day24\">Day 24</a>\n",
    "\n",
    "### Part 1\n",
    "\n",
    "We're simulating logic circuits..."
   ]
  },
  {
   "cell_type": "code",
   "execution_count": 347,
   "id": "e22100d0",
   "metadata": {},
   "outputs": [
    {
     "data": {
      "text/plain": [
       "type gate =\n",
       "    And of string * string * string\n",
       "  | Or of string * string * string\n",
       "  | Xor of string * string * string\n"
      ]
     },
     "execution_count": 347,
     "metadata": {},
     "output_type": "execute_result"
    },
    {
     "data": {
      "text/plain": [
       "type circuit = {\n",
       "  wires : (string, int) Core.Hashtbl.t;\n",
       "  gates : (string, gate) Core.Hashtbl.t;\n",
       "}\n"
      ]
     },
     "execution_count": 347,
     "metadata": {},
     "output_type": "execute_result"
    }
   ],
   "source": [
    "type gate =\n",
    "| And of string * string * string\n",
    "| Or  of string * string * string\n",
    "| Xor of string * string * string\n",
    "\n",
    "type circuit = {\n",
    "  wires: (string, int) Core.Hashtbl.t;\n",
    "  gates: (string, gate) Core.Hashtbl.t\n",
    "}"
   ]
  },
  {
   "cell_type": "code",
   "execution_count": 348,
   "id": "1c3a05b0",
   "metadata": {},
   "outputs": [
    {
     "data": {
      "text/plain": [
       "val read_circuit : Base.string -> circuit = <fun>\n"
      ]
     },
     "execution_count": 348,
     "metadata": {},
     "output_type": "execute_result"
    }
   ],
   "source": [
    "let read_circuit filename =\n",
    "  let lines = In_channel.read_lines filename in\n",
    "  let parse_gate line =\n",
    "    let re = Re2.create_exn {|(\\w+) (AND|XOR|OR) (\\w+) -> (\\w+)|} in\n",
    "    match Re2.first_match re line with\n",
    "    | Error _ -> None\n",
    "    | Ok m ->\n",
    "      let a = Re2.Match.get_exn m ~sub:(`Index 1) in\n",
    "      let op = Re2.Match.get_exn m ~sub:(`Index 2) in\n",
    "      let b = Re2.Match.get_exn m ~sub:(`Index 3) in\n",
    "      let c = Re2.Match.get_exn m ~sub:(`Index 4) in\n",
    "      match op with\n",
    "      | \"AND\" -> Some (c, And (a, b, c))\n",
    "      | \"OR\"  -> Some (c, Or (a, b, c))\n",
    "      | \"XOR\" -> Some (c, Xor (a, b, c))\n",
    "      | _ -> failwith \"bug\" in\n",
    "  let parse_wire line =\n",
    "    let re = Re2.create_exn {|(\\w+): (0|1)|} in\n",
    "    match Re2.first_match re line with\n",
    "    | Error _ -> None\n",
    "    | Ok m ->\n",
    "      let a = Re2.Match.get_exn m ~sub:(`Index 1) in\n",
    "      let v = Re2.Match.get_exn m ~sub:(`Index 2) in\n",
    "      match v with\n",
    "      | \"0\" -> Some (a, 0)\n",
    "      | \"1\" -> Some (a, 1)\n",
    "      | _ -> failwith \"bug\" in\n",
    "  let parse fn = lines >>| fn |> filter_opt |> Hashtbl.Poly.of_alist_exn in\n",
    "  let gates = parse parse_gate in\n",
    "  let wires = parse parse_wire in\n",
    "  {wires; gates}"
   ]
  },
  {
   "cell_type": "code",
   "execution_count": 349,
   "id": "8a0ea58e",
   "metadata": {},
   "outputs": [
    {
     "data": {
      "text/plain": [
       "- : (string Core.Hashtbl.key * gate) list =\n",
       "[(\"z01\", Xor (\"x01\", \"y01\", \"z01\")); (\"z02\", Or (\"x02\", \"y02\", \"z02\"));\n",
       " (\"z00\", And (\"x00\", \"y00\", \"z00\"))]\n"
      ]
     },
     "execution_count": 349,
     "metadata": {},
     "output_type": "execute_result"
    }
   ],
   "source": [
    "(read_circuit \"day24_example.txt\").gates |> Hashtbl.to_alist"
   ]
  },
  {
   "cell_type": "code",
   "execution_count": 350,
   "id": "34e3d9bd",
   "metadata": {},
   "outputs": [
    {
     "data": {
      "text/plain": [
       "val simulate : circuit -> circuit = <fun>\n"
      ]
     },
     "execution_count": 350,
     "metadata": {},
     "output_type": "execute_result"
    }
   ],
   "source": [
    "let simulate circuit =\n",
    "  let rec eval gate =\n",
    "    let eval_wire x = match Hashtbl.find circuit.wires x with\n",
    "    | Some v -> v\n",
    "    | None ->\n",
    "      let () = eval (Hashtbl.find_exn circuit.gates x) in\n",
    "      Hashtbl.find_exn circuit.wires x in\n",
    "    let do_gate fn a b c =\n",
    "      if not (Hashtbl.mem circuit.wires c) then\n",
    "        let va = eval_wire a in\n",
    "        let vb = eval_wire b in\n",
    "        Hashtbl.set circuit.wires ~key:c ~data:(fn va vb) in\n",
    "    match gate with\n",
    "    | And (a, b, c) -> do_gate (fun x y -> x land y) a b c\n",
    "    | Xor (a, b, c) -> do_gate (fun x y -> x lxor y) a b c\n",
    "    | Or (a, b, c)  -> do_gate (fun x y -> x lor y) a b c\n",
    "    in\n",
    "  let () = Hashtbl.iter circuit.gates ~f:eval in\n",
    "  circuit"
   ]
  },
  {
   "cell_type": "code",
   "execution_count": 351,
   "id": "86d78505",
   "metadata": {},
   "outputs": [
    {
     "data": {
      "text/plain": [
       "val prefix_wires : string Core.Hashtbl.key -> circuit -> int = <fun>\n"
      ]
     },
     "execution_count": 351,
     "metadata": {},
     "output_type": "execute_result"
    }
   ],
   "source": [
    "let prefix_wires prefix circuit =\n",
    "  let zs = Hashtbl.to_alist (\n",
    "    Hashtbl.filter_keys circuit.wires ~f:(fun x ->\n",
    "      String.is_prefix x ~prefix:prefix\n",
    "    )) in\n",
    "  let index_of_wire zxx =\n",
    "    String.chop_prefix_exn zxx ~prefix:prefix\n",
    "    |> int_of_string in\n",
    "  let sorted_zs = zs |>\n",
    "    List.sort ~compare:(fun (zxx, _) (zyy, _) ->\n",
    "      Stdlib.compare (index_of_wire zyy) (index_of_wire zxx)) in\n",
    "  sorted_zs |> fold ~init:0 ~f:(fun acc (_, z) -> 2 * acc + z)"
   ]
  },
  {
   "cell_type": "code",
   "execution_count": 352,
   "id": "26adc034",
   "metadata": {},
   "outputs": [
    {
     "data": {
      "text/plain": [
       "- : int = 4\n"
      ]
     },
     "execution_count": 352,
     "metadata": {},
     "output_type": "execute_result"
    }
   ],
   "source": [
    "read_circuit \"day24_example.txt\" |> simulate |> prefix_wires \"z\""
   ]
  },
  {
   "cell_type": "code",
   "execution_count": 353,
   "id": "daff2cec",
   "metadata": {},
   "outputs": [
    {
     "data": {
      "text/plain": [
       "- : int = 2024\n"
      ]
     },
     "execution_count": 353,
     "metadata": {},
     "output_type": "execute_result"
    }
   ],
   "source": [
    "read_circuit \"day24_example2.txt\" |> simulate |> prefix_wires \"z\""
   ]
  },
  {
   "cell_type": "code",
   "execution_count": 354,
   "id": "73157d57",
   "metadata": {},
   "outputs": [
    {
     "data": {
      "text/plain": [
       "- : int = 45213383376616\n"
      ]
     },
     "execution_count": 354,
     "metadata": {},
     "output_type": "execute_result"
    }
   ],
   "source": [
    "read_circuit \"day24_input.txt\" |> simulate |> prefix_wires \"z\""
   ]
  },
  {
   "cell_type": "markdown",
   "id": "e09e06e7",
   "metadata": {},
   "source": [
    "### Part 2\n",
    "\n",
    "It turns out this is a busted adder circuit where eight gates have had their outputs swapped.\n",
    "\n",
    "X and Y are 45-bit numbers and Z is a 46-bit output.  There are 89 XORs, 89 ANDs and 44 ORs.  A half adder has 1 XOR and 1 AND, and a full adder has 2 XORs, 2 ANDs, and 1 OR.  So this is probably a ripple carry adder with 1 half adder feeding 44 full adders.\n",
    "\n",
    "I'll just stare at this for a while.\n",
    "\n",
    "- `z14`, `z27`, and `z39` are miswired, since they don't leave XORs.\n",
    "  - `z14 <-> vhm` since `vhm = ... ^ (x14 ^ y14)`\n",
    "  - `z27 <-> mps` since `mps = ... ^ (x27 ^ y27)`\n",
    "  - `z39 <-> msq` since `msq = ... ^ (x39 ^ y39)`\n",
    "- `cnk` is miswired, since `z9 = ... ^ (x9 & y9)`\n",
    "  - `cnk <-> qwf` is correct since qwf is `x9 ^ y9`"
   ]
  },
  {
   "cell_type": "code",
   "execution_count": 355,
   "id": "32319122",
   "metadata": {},
   "outputs": [
    {
     "data": {
      "text/plain": [
       "- : string = \"cnk,mps,msq,qwf,vhm,z14,z27,z39\"\n"
      ]
     },
     "execution_count": 355,
     "metadata": {},
     "output_type": "execute_result"
    }
   ],
   "source": [
    "[\"z14\"; \"vhm\"; \"z27\"; \"mps\"; \"z39\"; \"msq\"; \"cnk\"; \"qwf\"] |> sort ~compare:Stdlib.compare |> String.concat ~sep:\",\""
   ]
  },
  {
   "cell_type": "markdown",
   "id": "3eac3042",
   "metadata": {},
   "source": [
    "## <a name=day25>Day 25</a>\n",
    "\n",
    "### Part 1\n",
    "\n",
    "We have to read many grids from a file."
   ]
  },
  {
   "cell_type": "code",
   "execution_count": 356,
   "id": "e6fc81a8",
   "metadata": {},
   "outputs": [
    {
     "data": {
      "text/plain": [
       "val read_templates : Base.string -> int list list * int list list = <fun>\n"
      ]
     },
     "execution_count": 356,
     "metadata": {},
     "output_type": "execute_result"
    }
   ],
   "source": [
    "let read_templates filename =\n",
    "  let lines = In_channel.read_lines filename in\n",
    "  let grids = List.group lines ~break:(fun a _ -> String.is_empty a)\n",
    "    >>| filter ~f:(fun s -> not @@ String.is_empty s) in\n",
    "  let int_of_bitmap ch = if Char.(ch = '#') then 1 else 0 in\n",
    "  let count_column rows n =\n",
    "    rows >>| (fun row -> int_of_bitmap row.[n])\n",
    "    |> fold ~init:(-1) ~f:(+) in\n",
    "  let column_counts rows =\n",
    "    let width = String.length @@ hd_exn rows in\n",
    "    List.init width ~f:(count_column rows) in\n",
    "  let count_lock rows = match (hd_exn rows).[0] with \n",
    "  | '#' -> Some (column_counts rows)\n",
    "  | _ -> None in\n",
    "  let count_key rows = match (hd_exn rows).[0] with \n",
    "  | '.' -> Some (column_counts rows)\n",
    "  | _ -> None in\n",
    "  let locks = grids >>| count_lock |> filter_opt in\n",
    "  let keys = grids >>| count_key |> filter_opt in\n",
    "  (locks, keys)"
   ]
  },
  {
   "cell_type": "code",
   "execution_count": 357,
   "id": "6dcecb7b",
   "metadata": {},
   "outputs": [
    {
     "data": {
      "text/plain": [
       "- : int list list * int list list =\n",
       "([[0; 5; 3; 4; 3]; [1; 2; 0; 5; 3]],\n",
       " [[5; 0; 2; 1; 3]; [4; 3; 4; 0; 2]; [3; 0; 2; 0; 1]])\n"
      ]
     },
     "execution_count": 357,
     "metadata": {},
     "output_type": "execute_result"
    }
   ],
   "source": [
    "read_templates \"day25_example.txt\""
   ]
  },
  {
   "cell_type": "code",
   "execution_count": 358,
   "id": "8c6fdf12",
   "metadata": {},
   "outputs": [
    {
     "data": {
      "text/plain": [
       "val count_fit : int list list * int list list -> int = <fun>\n"
      ]
     },
     "execution_count": 358,
     "metadata": {},
     "output_type": "execute_result"
    }
   ],
   "source": [
    "let count_fit (locks, keys) =\n",
    "  let overlap lock key =\n",
    "    map2_exn lock key (+)\n",
    "      |> exists ~f:(fun x -> x > 5)\n",
    "      |> (fun b -> if b then 0 else 1) in\n",
    "  let rec count_pairs xs ys all_ys acc =\n",
    "    match xs with\n",
    "    | [] -> acc\n",
    "    | x::rest_xs ->\n",
    "      match ys with\n",
    "      | [] -> count_pairs rest_xs all_ys all_ys acc\n",
    "      | y::rest_ys -> count_pairs xs rest_ys all_ys ((overlap x y) + acc) in\n",
    "  count_pairs keys locks locks 0"
   ]
  },
  {
   "cell_type": "code",
   "execution_count": 361,
   "id": "cc33593d",
   "metadata": {},
   "outputs": [
    {
     "data": {
      "text/plain": [
       "- : int = 3\n"
      ]
     },
     "execution_count": 361,
     "metadata": {},
     "output_type": "execute_result"
    }
   ],
   "source": [
    "read_templates \"day25_example.txt\" |> count_fit"
   ]
  },
  {
   "cell_type": "code",
   "execution_count": 362,
   "id": "5d240953",
   "metadata": {},
   "outputs": [
    {
     "data": {
      "text/plain": [
       "- : int = 2840\n"
      ]
     },
     "execution_count": 362,
     "metadata": {},
     "output_type": "execute_result"
    }
   ],
   "source": [
    "read_templates \"day25_input.txt\" |> count_fit"
   ]
  }
 ],
 "metadata": {
  "kernelspec": {
   "display_name": "OCaml 4.12.0",
   "language": "OCaml",
   "name": "ocaml-jupyter"
  },
  "language_info": {
   "codemirror_mode": "text/x-ocaml",
   "file_extension": ".ml",
   "mimetype": "text/x-ocaml",
   "name": "OCaml",
   "nbconverter_exporter": null,
   "pygments_lexer": "OCaml",
   "version": "4.12.0"
  }
 },
 "nbformat": 4,
 "nbformat_minor": 5
}
